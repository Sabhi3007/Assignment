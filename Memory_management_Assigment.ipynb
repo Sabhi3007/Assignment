{
  "nbformat": 4,
  "nbformat_minor": 0,
  "metadata": {
    "colab": {
      "provenance": []
    },
    "kernelspec": {
      "name": "python3",
      "display_name": "Python 3"
    },
    "language_info": {
      "name": "python"
    }
  },
  "cells": [
    {
      "cell_type": "code",
      "execution_count": null,
      "metadata": {
        "id": "rK1uGHpli-wT"
      },
      "outputs": [],
      "source": [
        "# What is the difference between interpreted and compiled languages?\n",
        "\n",
        "- Use **compiled languages** when speed is important.\n",
        "- Use **interpreted languages** for easier testing and development.\n",
        "\n",
        "## Compiled Languages\n",
        "\n",
        "- Code is translated into machine code **before** running.\n",
        "- This is done by a program called a **compiler**.\n",
        "- After compiling, the program runs **faster**.\n",
        "- You need to **compile first, then run**.\n",
        "\n",
        "### Examples:\n",
        "- C\n",
        "- C++\n",
        "- Java (partially compiled)\n",
        "\n",
        "## Interpreted Languages\n",
        "\n",
        "- Code is read and executed **line by line**.\n",
        "- This is done by an **interpreter**.\n",
        "- The program runs **slower** than compiled ones.\n",
        "- You can **run the code directly** without compiling.\n",
        "\n",
        "### Examples:\n",
        "- Python\n",
        "- JavaScript\n",
        "- Ruby\n",
        "\n",
        "##  Main Differences\n",
        "\n",
        "| Point                | Compiled Language        | Interpreted Language      |\n",
        "|---------------------|--------------------------|---------------------------|\n",
        "| Execution            | Compiled first, then run | Runs line by line         |\n",
        "| Speed                | Faster                   | Slower                    |\n",
        "| Error Checking       | Before running           | While running             |\n",
        "| Examples             | C, C++                   | Python, JavaScript        |"
      ]
    },
    {
      "cell_type": "code",
      "source": [],
      "metadata": {
        "id": "eXEnd_XujuBi"
      },
      "execution_count": null,
      "outputs": []
    },
    {
      "cell_type": "code",
      "source": [],
      "metadata": {
        "id": "qJLwIb0pjt_t"
      },
      "execution_count": null,
      "outputs": []
    },
    {
      "cell_type": "code",
      "source": [
        "# What is exception handling in Python?\n",
        "\n",
        "- **Exception handling** means writing code to **catch and manage errors**.\n",
        "- This helps prevent the program from crashing.\n",
        "- In Python, we use the `try`, `except` blocks to handle exceptions."
      ],
      "metadata": {
        "id": "ZDpmJskZjt8o"
      },
      "execution_count": null,
      "outputs": []
    },
    {
      "cell_type": "code",
      "source": [],
      "metadata": {
        "id": "LP73bItyj69G"
      },
      "execution_count": null,
      "outputs": []
    },
    {
      "cell_type": "code",
      "source": [],
      "metadata": {
        "id": "pmOzgxYpj6ur"
      },
      "execution_count": null,
      "outputs": []
    },
    {
      "cell_type": "code",
      "source": [
        "# What is the purpose of the finally block in exception handling?\n",
        "\n",
        "- The `finally` block is used in exception handling to define **cleanup actions**.\n",
        "- It always runs, **no matter what happens** in the `try` or `except` blocks.\n",
        "- It is used to close files, release resources, or print a final message.\n",
        "\n",
        "## Key Points\n",
        "\n",
        "- The code in `finally` will **always execute**:\n",
        "  - If there is an exception\n",
        "  - If there is no exception\n",
        "  - Even if there is a `return` statement in the `try` or `except` blocks"
      ],
      "metadata": {
        "id": "xgvonNOUj6sZ"
      },
      "execution_count": null,
      "outputs": []
    },
    {
      "cell_type": "code",
      "source": [],
      "metadata": {
        "id": "tz52p2SvkH-f"
      },
      "execution_count": null,
      "outputs": []
    },
    {
      "cell_type": "code",
      "source": [],
      "metadata": {
        "id": "uSXP2x_SkH8R"
      },
      "execution_count": null,
      "outputs": []
    },
    {
      "cell_type": "code",
      "source": [
        "# What is logging in Python?\n",
        "\n",
        "- **Logging** is a way to **track events** that happen when a program runs.\n",
        "- It helps you understand what your code is doing and find problems (bugs).\n",
        "- Instead of using `print()` statements, Python provides a **logging module**.\n",
        "\n",
        "- To record **information**, **warnings**, or **errors**.\n",
        "- To help with **debugging** and **monitoring** your program.\n",
        "- Logs can be saved in a **file** or shown in the **console**."
      ],
      "metadata": {
        "id": "MfU5koQ4kH5V"
      },
      "execution_count": null,
      "outputs": []
    },
    {
      "cell_type": "code",
      "source": [],
      "metadata": {
        "id": "uiy8J9KskS_M"
      },
      "execution_count": null,
      "outputs": []
    },
    {
      "cell_type": "code",
      "source": [],
      "metadata": {
        "id": "djhSka3qkS9T"
      },
      "execution_count": null,
      "outputs": []
    },
    {
      "cell_type": "code",
      "source": [
        "# What is the significance of the __del__ method in Python?\n",
        "\n",
        "- The `__del__` method is a **special method** in Python.\n",
        "- It is called **automatically** when an object is **about to be deleted** (destroyed).\n",
        "- It is also called the **destructor** method.\n",
        "\n",
        "- To **clean up resources** when an object is no longer needed.\n",
        "- Useful for:\n",
        "  - Closing files\n",
        "  - Releasing memory or network connections\n",
        "  - Printing a message before the object is deleted"
      ],
      "metadata": {
        "id": "oJV38BfikS7V"
      },
      "execution_count": null,
      "outputs": []
    },
    {
      "cell_type": "code",
      "source": [],
      "metadata": {
        "id": "0UIpupwMkd1A"
      },
      "execution_count": null,
      "outputs": []
    },
    {
      "cell_type": "code",
      "source": [],
      "metadata": {
        "id": "6Rb0j19jkdud"
      },
      "execution_count": null,
      "outputs": []
    },
    {
      "cell_type": "code",
      "source": [
        "# What is the difference between import and from ... import in Python?\n",
        "\n",
        "- Used to **import the whole module**.\n",
        "- You need to use the **module name** to access its functions or variables."
      ],
      "metadata": {
        "id": "Hj8_7gjhkfZl"
      },
      "execution_count": null,
      "outputs": []
    },
    {
      "cell_type": "code",
      "source": [],
      "metadata": {
        "id": "VgleigiGkq8o"
      },
      "execution_count": null,
      "outputs": []
    },
    {
      "cell_type": "code",
      "source": [],
      "metadata": {
        "id": "ZtufO4c6kq6a"
      },
      "execution_count": null,
      "outputs": []
    },
    {
      "cell_type": "code",
      "source": [
        "#  How can you handle multiple exceptions in Python?\n",
        "\n",
        "- Sometimes, more than one type of error can happen in a program.\n",
        "- You can handle **multiple exceptions** using multiple `except` blocks or by grouping them together."
      ],
      "metadata": {
        "id": "AdKPZ_GPkq3_"
      },
      "execution_count": null,
      "outputs": []
    },
    {
      "cell_type": "code",
      "source": [],
      "metadata": {
        "id": "siaePJ-Rkz4w"
      },
      "execution_count": null,
      "outputs": []
    },
    {
      "cell_type": "code",
      "source": [],
      "metadata": {
        "id": "s9H9wb8tkz1P"
      },
      "execution_count": null,
      "outputs": []
    },
    {
      "cell_type": "code",
      "source": [
        "# What is the purpose of the with statement when handling files in Python?\n",
        "\n",
        "- The `with` statement is used to **open files safely and easily**.\n",
        "- It makes sure that the file is **automatically closed**, even if there is an error.\n",
        "- It is also called a **context manager**.\n",
        "\n",
        "- No need to write `file.close()`\n",
        "- It’s cleaner and safer\n",
        "- Helps avoid file-related bugs"
      ],
      "metadata": {
        "id": "xyFqKXztkzsN"
      },
      "execution_count": null,
      "outputs": []
    },
    {
      "cell_type": "code",
      "source": [],
      "metadata": {
        "id": "oAb2XtqLk_lK"
      },
      "execution_count": null,
      "outputs": []
    },
    {
      "cell_type": "code",
      "source": [],
      "metadata": {
        "id": "nDYQXsBAk_jD"
      },
      "execution_count": null,
      "outputs": []
    },
    {
      "cell_type": "code",
      "source": [
        "# What is the difference between multithreading and multiprocessing?\n",
        "\n",
        "## 🔹 Multithreading\n",
        "\n",
        "- Runs **multiple threads** (small tasks) **within the same process**.\n",
        "- Threads share the **same memory space**.\n",
        "- Good for **I/O-bound tasks** (like reading files, network operations).\n",
        "- Can be limited by Python’s **Global Interpreter Lock (GIL)** — only one thread runs Python code at a time.\n",
        "\n",
        "### Example Use Case:\n",
        "- Handling multiple user inputs or web requests simultaneously.\n",
        "\n",
        "\n",
        "- Runs **multiple processes**, each with its **own memory space**.\n",
        "- Processes run **independently** and can fully use multiple CPU cores.\n",
        "- Good for **CPU-bound tasks** (heavy computations).\n",
        "- No GIL limitation, so truly parallel execution.\n",
        "\n",
        "\n",
        "| Feature             | Multithreading                   | Multiprocessing                 |\n",
        "|---------------------|--------------------------------|--------------------------------|\n",
        "| Memory              | Shared among threads            | Separate for each process       |\n",
        "| Performance         | Good for I/O-bound tasks        | Good for CPU-bound tasks        |\n",
        "| Parallelism         | Limited by GIL (in Python)     | True parallelism                |\n",
        "| Overhead            | Lower (threads are lighter)    | Higher (processes are heavier)  |\n",
        "\n",
        "\n",
        "- Use **multithreading** for tasks waiting on I/O.\n",
        "- Use **multiprocessing** for CPU-heavy tasks that need real parallelism."
      ],
      "metadata": {
        "id": "8myOsXWsk_hG"
      },
      "execution_count": null,
      "outputs": []
    },
    {
      "cell_type": "code",
      "source": [],
      "metadata": {
        "id": "leeQ9Nj6lP5E"
      },
      "execution_count": null,
      "outputs": []
    },
    {
      "cell_type": "code",
      "source": [],
      "metadata": {
        "id": "gjpfwMAalP3M"
      },
      "execution_count": null,
      "outputs": []
    },
    {
      "cell_type": "code",
      "source": [],
      "metadata": {
        "id": "oWi_JoB3lP1Q"
      },
      "execution_count": null,
      "outputs": []
    },
    {
      "cell_type": "code",
      "source": [
        "#   What are the advantages of using logging in a program?\n",
        "\n",
        "Logging helps you **keep track of what your program is doing** while it runs.\n",
        "\n",
        "1. **Helps Debugging**\n",
        "   - Logs give information about errors or issues, making it easier to find and fix bugs.\n",
        "\n",
        "2. **Records Program Activity**\n",
        "   - Logs show how the program behaved, which is useful for understanding its flow and performance.\n",
        "\n",
        "3. **Improves Monitoring**\n",
        "   - You can monitor your program’s health and spot problems early by checking logs.\n",
        "\n",
        "4. **Supports Maintenance**\n",
        "   - When updating or maintaining code, logs help you understand past behavior and changes.\n",
        "\n",
        "5. **Works in Production**\n",
        "   - Unlike `print()`, logs can be saved to files, filtered by importance (e.g., only errors), and managed better.\n",
        "\n",
        "6. **Helps with Auditing and Security**\n",
        "   - Logs can keep records of important actions, which is useful for audits or detecting security issues."
      ],
      "metadata": {
        "id": "fVjhQwZUlPzM"
      },
      "execution_count": null,
      "outputs": []
    },
    {
      "cell_type": "code",
      "source": [],
      "metadata": {
        "id": "vBcv0h6clahn"
      },
      "execution_count": null,
      "outputs": []
    },
    {
      "cell_type": "code",
      "source": [],
      "metadata": {
        "id": "C9OHbc00lafl"
      },
      "execution_count": null,
      "outputs": []
    },
    {
      "cell_type": "code",
      "source": [
        "#   What is memory management in Python?\n",
        "\n",
        "- Memory management means **handling how a program uses the computer’s memory**.\n",
        "- It includes **allocating memory** for new objects and **freeing memory** when objects are no longer needed.\n",
        "\n",
        "\n",
        "1. **Automatic Memory Management**\n",
        "   - Python automatically handles memory allocation and deallocation.\n",
        "   - You don’t need to manually free memory.\n",
        "\n",
        "2. **Reference Counting**\n",
        "   - Python keeps track of how many references (variables) point to an object.\n",
        "   - When no references remain, the memory is freed.\n",
        "\n",
        "3. **Garbage Collection**\n",
        "   - Python has a garbage collector that cleans up unused objects, especially those involved in **circular references** (objects referencing each other).\n",
        "\n",
        "- To avoid **memory leaks** (memory that is never freed).\n",
        "- To ensure your program runs efficiently without using too much memory."
      ],
      "metadata": {
        "id": "GeIw-bEVladX"
      },
      "execution_count": null,
      "outputs": []
    },
    {
      "cell_type": "code",
      "source": [],
      "metadata": {
        "id": "WEP83nPNloA9"
      },
      "execution_count": null,
      "outputs": []
    },
    {
      "cell_type": "code",
      "source": [],
      "metadata": {
        "id": "g5ZVqJVgln-u"
      },
      "execution_count": null,
      "outputs": []
    },
    {
      "cell_type": "code",
      "source": [
        "#  What are the basic steps involved in exception handling in Python?\n",
        "\n",
        "1. **Write risky code inside `try` block:**\n",
        "   Put the code that might cause an error here.\n",
        "\n",
        "2. **Handle exceptions with `except` block:**\n",
        "   Catch and manage specific errors to prevent crashes.\n",
        "\n",
        "3. **(Optional) Use `else` block:**\n",
        "   Run this code only if no exceptions occurred.\n",
        "\n",
        "4. **(Optional) Use `finally` block:**\n",
        "   This code runs no matter what, used for cleanup (like closing files)."
      ],
      "metadata": {
        "id": "fOOJfw3xlo1r"
      },
      "execution_count": null,
      "outputs": []
    },
    {
      "cell_type": "code",
      "source": [],
      "metadata": {
        "id": "bbfZd_Gcl5O2"
      },
      "execution_count": null,
      "outputs": []
    },
    {
      "cell_type": "code",
      "source": [],
      "metadata": {
        "id": "0zWWvmGcl5NE"
      },
      "execution_count": null,
      "outputs": []
    },
    {
      "cell_type": "code",
      "source": [
        "# Why is memory management important in Python?\n",
        "\n",
        "- **Prevents Memory Leaks:**\n",
        "  Proper memory management frees memory that is no longer needed, avoiding the program from using too much memory over time.\n",
        "\n",
        "- **Improves Performance:**\n",
        "  Efficient memory use helps programs run faster and more smoothly.\n",
        "\n",
        "- **Ensures Stability:**\n",
        "  Avoids crashes or slowdowns caused by running out of memory.\n",
        "\n",
        "- **Simplifies Programming:**\n",
        "  Python’s automatic memory management lets programmers focus on writing code without worrying about manual memory allocation and deallocation."
      ],
      "metadata": {
        "id": "hTSQ355Vl5K1"
      },
      "execution_count": null,
      "outputs": []
    },
    {
      "cell_type": "code",
      "source": [],
      "metadata": {
        "id": "kNELN_AvmBb7"
      },
      "execution_count": null,
      "outputs": []
    },
    {
      "cell_type": "code",
      "source": [],
      "metadata": {
        "id": "h0ukSzBmmBaD"
      },
      "execution_count": null,
      "outputs": []
    },
    {
      "cell_type": "code",
      "source": [
        "#  What is the role of try and except in exception handling?\n",
        "\n",
        "## `try` Block\n",
        "\n",
        "- Contains the code that **might cause an error** (exception).\n",
        "- Python runs this code and watches for exceptions.\n",
        "\n",
        "## `except` Block\n",
        "\n",
        "- Defines what to do **if an exception occurs** in the `try` block.\n",
        "- Catches the error and lets the program continue running without crashing.\n",
        "- You can specify the type of exception to catch or catch all exceptions."
      ],
      "metadata": {
        "id": "3czIFEGOmB9c"
      },
      "execution_count": null,
      "outputs": []
    },
    {
      "cell_type": "code",
      "source": [],
      "metadata": {
        "id": "i4re1TaImLi2"
      },
      "execution_count": null,
      "outputs": []
    },
    {
      "cell_type": "code",
      "source": [],
      "metadata": {
        "id": "qM1ec1hMmLhE"
      },
      "execution_count": null,
      "outputs": []
    },
    {
      "cell_type": "code",
      "source": [
        "#   How does Python's garbage collection system work?\n",
        "\n",
        "- Garbage collection (GC) is the process of **automatically freeing memory** that is no longer in use.\n",
        "- It helps prevent **memory leaks** by cleaning up unused objects.\n",
        "\n",
        "## How Python’s Garbage Collector Works\n",
        "\n",
        "1. **Reference Counting**\n",
        "   - Every object keeps track of how many references point to it.\n",
        "   - When the reference count drops to zero, Python immediately frees the memory.\n",
        "\n",
        "2. **Handling Circular References**\n",
        "   - Sometimes objects reference each other, creating a cycle.\n",
        "   - Reference counting alone can’t clean these cycles.\n",
        "   - Python’s GC uses a **cyclic garbage collector** to detect and clean such cycles.\n",
        "\n",
        "3. **Generational Garbage Collection**\n",
        "   - Objects are grouped into **generations** based on their lifespan.\n",
        "   - Younger generations are collected more often, which improves efficiency.\n",
        "\n",
        "- Python uses **reference counting** for quick memory cleanup.\n",
        "- It has a **cyclic garbage collector** to detect and remove reference cycles.\n",
        "- This combination helps manage memory automatically and efficiently.\n",
        "- You don’t need to manually free memory in Python.\n",
        "- Understanding GC helps write better code and avoid memory issues."
      ],
      "metadata": {
        "id": "Fumz0J19mLe9"
      },
      "execution_count": null,
      "outputs": []
    },
    {
      "cell_type": "code",
      "source": [],
      "metadata": {
        "id": "tDXRxp4amb8S"
      },
      "execution_count": null,
      "outputs": []
    },
    {
      "cell_type": "code",
      "source": [],
      "metadata": {
        "id": "4AYGHlFKmb6m"
      },
      "execution_count": null,
      "outputs": []
    },
    {
      "cell_type": "code",
      "source": [
        "# What is the purpose of the else block in exception handling?\n",
        "\n",
        "- The `else` block is an **optional part** of a `try-except` statement.\n",
        "- It runs **only if no exception occurs** in the `try` block.\n",
        "\n",
        "## Why Use `else`?\n",
        "\n",
        "- To separate the code that should run **only when no errors happen**.\n",
        "- Keeps the `try` block clean and focused on code that might raise exceptions.\n",
        "- Helps avoid accidentally catching exceptions from code that shouldn't raise errors."
      ],
      "metadata": {
        "id": "FtYYa2_zmb4c"
      },
      "execution_count": null,
      "outputs": []
    },
    {
      "cell_type": "code",
      "source": [],
      "metadata": {
        "id": "Xp3jtbUwmmzk"
      },
      "execution_count": null,
      "outputs": []
    },
    {
      "cell_type": "code",
      "source": [],
      "metadata": {
        "id": "XOcp_hZVmmxk"
      },
      "execution_count": null,
      "outputs": []
    },
    {
      "cell_type": "code",
      "source": [
        "# What is the difference between os.fork() and multiprocessing in Python?\n",
        "\n",
        "- Creates a **new child process** by duplicating the current process.\n",
        "- Only available on **Unix/Linux systems** (not Windows).\n",
        "- The child process is an exact copy of the parent.\n",
        "- Low-level system call, gives more control but requires careful management.\n",
        "- Both processes run independently, but share no memory (copy-on-write).\n",
        "- You have to manually manage communication between processes (e.g., using pipes)."
      ],
      "metadata": {
        "id": "SPWo231HmmvX"
      },
      "execution_count": null,
      "outputs": []
    },
    {
      "cell_type": "code",
      "source": [],
      "metadata": {
        "id": "QJy2KxpJmv4q"
      },
      "execution_count": null,
      "outputs": []
    },
    {
      "cell_type": "code",
      "source": [],
      "metadata": {
        "id": "myJr-VXNmv12"
      },
      "execution_count": null,
      "outputs": []
    },
    {
      "cell_type": "code",
      "source": [
        "# What is the importance of closing a file in Python?\n",
        "\n",
        "1. **Free Up System Resources**\n",
        "   - Open files use system resources (like memory and file handles).\n",
        "   - Closing a file releases these resources so other programs can use them.\n",
        "\n",
        "2. **Ensure Data is Written (Flush Buffers)**\n",
        "   - When writing to a file, data may be temporarily stored (buffered).\n",
        "   - Closing the file ensures all data is properly saved (written) to disk.\n",
        "\n",
        "3. **Avoid Data Corruption**\n",
        "   - Not closing a file properly can cause incomplete writes or corrupted files.\n",
        "\n",
        "4. **Prevent Limits on Open Files**\n",
        "   - Operating systems limit how many files can be open at once.\n",
        "   - Closing files prevents hitting these limits, avoiding errors."
      ],
      "metadata": {
        "id": "Od5njyCVmxUv"
      },
      "execution_count": null,
      "outputs": []
    },
    {
      "cell_type": "code",
      "source": [],
      "metadata": {
        "id": "PI0hIxf_m5Cx"
      },
      "execution_count": null,
      "outputs": []
    },
    {
      "cell_type": "code",
      "source": [],
      "metadata": {
        "id": "7h2ECF-Am4ur"
      },
      "execution_count": null,
      "outputs": []
    },
    {
      "cell_type": "code",
      "source": [
        "# What is the difference between file.read() and file.readline() in Python?\n",
        "\n",
        "- Reads the **entire content** of the file as a single string.\n",
        "- Useful when you want to process the whole file at once.\n",
        "- Can take an optional argument to read a specific number of characters.\n",
        "\n",
        "# Example\n",
        "with open(\"example.txt\", \"r\") as file:\n",
        "    content = file.read()\n",
        "    print(content)"
      ],
      "metadata": {
        "id": "Om3j00ytm4sd"
      },
      "execution_count": null,
      "outputs": []
    },
    {
      "cell_type": "code",
      "source": [],
      "metadata": {
        "id": "I7AKFam9nCCf"
      },
      "execution_count": null,
      "outputs": []
    },
    {
      "cell_type": "code",
      "source": [],
      "metadata": {
        "id": "-tWm5nW2nCAr"
      },
      "execution_count": null,
      "outputs": []
    },
    {
      "cell_type": "code",
      "source": [
        "# What is the logging module in Python used for?\n",
        "\n",
        "- The `logging` module is used to **record messages about a program's execution**.\n",
        "- Helps developers **track events**, **debug problems**, and **monitor software behavior**.\n",
        "\n",
        "- Allows writing messages with different **severity levels** like DEBUG, INFO, WARNING, ERROR, and CRITICAL.\n",
        "- Can send logs to different places: console, files, or even remote servers.\n",
        "- Supports formatting of log messages for clarity.\n",
        "- Helps maintain logs in production environments without using print statements.\n",
        "\n",
        "- Logs can be easily **turned on/off or filtered** by severity.\n",
        "- Logs can be saved to files for later review.\n",
        "- More flexible and professional than simple print debugging."
      ],
      "metadata": {
        "id": "tVnnphYinB-o"
      },
      "execution_count": null,
      "outputs": []
    },
    {
      "cell_type": "code",
      "source": [],
      "metadata": {
        "id": "YL_9w4CJnMSv"
      },
      "execution_count": null,
      "outputs": []
    },
    {
      "cell_type": "code",
      "source": [],
      "metadata": {
        "id": "03BgwWfMnMQp"
      },
      "execution_count": null,
      "outputs": []
    },
    {
      "cell_type": "code",
      "source": [
        "#  What is the os module in Python used for in file handling?\n",
        "\n",
        "- The `os` module provides **functions to interact with the operating system**.\n",
        "- It helps in handling files and directories beyond basic reading and writing.\n",
        "\n",
        "## Common File Handling Uses of `os` Module\n",
        "\n",
        "1. **Check if a file or directory exists:**\n",
        "\n",
        "import os\n",
        "os.path.exists('example.txt')  # Returns True if the file exists"
      ],
      "metadata": {
        "id": "w__KZUilnMOa"
      },
      "execution_count": null,
      "outputs": []
    },
    {
      "cell_type": "code",
      "source": [],
      "metadata": {
        "id": "RiNxJNDSnXP8"
      },
      "execution_count": null,
      "outputs": []
    },
    {
      "cell_type": "code",
      "source": [],
      "metadata": {
        "id": "CIzGMOc9nXMn"
      },
      "execution_count": null,
      "outputs": []
    },
    {
      "cell_type": "code",
      "source": [
        "# What are the challenges associated with memory management in Python?\n",
        "\n",
        "## 1. **Memory Leaks**\n",
        "\n",
        "- Sometimes memory is not freed properly due to lingering references.\n",
        "- Can happen when objects reference each other (circular references) that the garbage collector might miss.\n",
        "\n",
        "## 2. **Handling Circular References**\n",
        "\n",
        "- Reference counting alone can’t clean up circular references.\n",
        "- Although Python has a cyclic garbage collector, it might not catch all cycles immediately.\n",
        "\n",
        "## 3. **Large Memory Usage**\n",
        "\n",
        "- Python objects often use more memory than similar objects in lower-level languages because of extra metadata.\n",
        "- This can be a problem for memory-intensive applications.\n",
        "\n",
        "## 4. **Fragmentation**\n",
        "\n",
        "- Memory allocation/deallocation can cause fragmentation, making it harder to use memory efficiently.\n",
        "\n",
        "## 5. **Performance Overhead**\n",
        "\n",
        "- Garbage collection and reference counting add some overhead, which can impact performance.\n",
        "\n",
        "## 6. **Non-Deterministic Garbage Collection**\n",
        "\n",
        "- Garbage collection timing is unpredictable, which might cause pauses or delays at unexpected times."
      ],
      "metadata": {
        "id": "XQ60GkoEnXKO"
      },
      "execution_count": null,
      "outputs": []
    },
    {
      "cell_type": "code",
      "source": [],
      "metadata": {
        "id": "cnDxR9lcng9z"
      },
      "execution_count": null,
      "outputs": []
    },
    {
      "cell_type": "code",
      "source": [],
      "metadata": {
        "id": "5s4wz44Jng7m"
      },
      "execution_count": null,
      "outputs": []
    },
    {
      "cell_type": "code",
      "source": [
        "#  How do you raise an exception manually in Python?\n",
        "\n",
        "- You can create and raise your own exceptions using the `raise` keyword.\n",
        "- This is useful when you want to signal an error in your code intentionally."
      ],
      "metadata": {
        "id": "_RuUl-3_ng5j"
      },
      "execution_count": null,
      "outputs": []
    },
    {
      "cell_type": "code",
      "source": [],
      "metadata": {
        "id": "b3qwZy5anviB"
      },
      "execution_count": null,
      "outputs": []
    },
    {
      "cell_type": "code",
      "source": [],
      "metadata": {
        "id": "4eZp4L5envgL"
      },
      "execution_count": null,
      "outputs": []
    },
    {
      "cell_type": "code",
      "source": [
        "#  Why is it important to use multithreading in certain applications?\n",
        "\n",
        "## 1. **Improves Performance**\n",
        "\n",
        "- Multithreading allows a program to run multiple threads **at the same time** (concurrently).\n",
        "- This can make programs faster, especially when tasks involve waiting (like I/O operations).\n",
        "\n",
        "## 2. **Better Resource Utilization**\n",
        "\n",
        "- Threads share the same memory space, so they use system resources more efficiently than creating new processes.\n",
        "\n",
        "## 3. **Responsiveness**\n",
        "\n",
        "- In user interfaces or network applications, multithreading keeps the program **responsive**.\n",
        "- For example, one thread can handle user input while another performs background tasks.\n",
        "\n",
        "## 4. **Simplifies Program Structure**\n",
        "\n",
        "- Instead of managing complex asynchronous code, multithreading lets you write simpler, more readable concurrent code.\n",
        "\n",
        "## 5. **Useful for I/O-bound Tasks**\n",
        "\n",
        "- Tasks that spend time waiting for input/output (disk, network) benefit most from multithreading, as CPU can switch between threads during waits."
      ],
      "metadata": {
        "id": "BOqZaaPUnveF"
      },
      "execution_count": null,
      "outputs": []
    },
    {
      "cell_type": "code",
      "source": [],
      "metadata": {
        "id": "i_1MvXJMn7MI"
      },
      "execution_count": null,
      "outputs": []
    },
    {
      "cell_type": "code",
      "source": [],
      "metadata": {
        "id": "lTG9eYdcn7Jw"
      },
      "execution_count": null,
      "outputs": []
    },
    {
      "cell_type": "code",
      "source": [
        "## Practical Question ##"
      ],
      "metadata": {
        "id": "EQGzJfw4n7Gq"
      },
      "execution_count": null,
      "outputs": []
    },
    {
      "cell_type": "code",
      "source": [],
      "metadata": {
        "id": "8dYXUmcnn_GK"
      },
      "execution_count": null,
      "outputs": []
    },
    {
      "cell_type": "code",
      "source": [],
      "metadata": {
        "id": "KEuGVLL4n_Dm"
      },
      "execution_count": null,
      "outputs": []
    },
    {
      "cell_type": "code",
      "source": [],
      "metadata": {
        "id": "oVrPEDqfn_Bd"
      },
      "execution_count": null,
      "outputs": []
    },
    {
      "cell_type": "code",
      "source": [
        "# How can you open a file for writing in Python and write a string to it?\n",
        "\n",
        "\n",
        "with open(\"example.txt\", \"w\") as file:\n",
        "    file.write(\"Hello, this is a sample string!\")\n",
        "\n",
        "# The file is automatically closed after the with block"
      ],
      "metadata": {
        "id": "TIWj2EMdn-_M"
      },
      "execution_count": null,
      "outputs": []
    },
    {
      "cell_type": "code",
      "source": [],
      "metadata": {
        "id": "B2LZpjWOoRXk"
      },
      "execution_count": null,
      "outputs": []
    },
    {
      "cell_type": "code",
      "source": [],
      "metadata": {
        "id": "xNq39IthoRH4"
      },
      "execution_count": null,
      "outputs": []
    },
    {
      "cell_type": "code",
      "source": [
        "#   Write a Python program to read the contents of a file and print each line.\n",
        "\n",
        "filename = \"example.txt\"\n",
        "\n",
        "with open(filename, \"r\") as file:\n",
        "    for line in file:\n",
        "        print(line.strip())"
      ],
      "metadata": {
        "id": "d7zEIoCMoRFr"
      },
      "execution_count": null,
      "outputs": []
    },
    {
      "cell_type": "code",
      "source": [],
      "metadata": {
        "id": "RQcZNAHsoa2-"
      },
      "execution_count": null,
      "outputs": []
    },
    {
      "cell_type": "code",
      "source": [],
      "metadata": {
        "id": "VOyDp9Y6oa0C"
      },
      "execution_count": null,
      "outputs": []
    },
    {
      "cell_type": "code",
      "source": [
        " #  How would you handle a case where the file doesn't exist while trying to open it for reading?\n",
        "\n",
        "filename = \"nonexistent_file.txt\"\n",
        "\n",
        "try:\n",
        "    with open(filename, \"r\") as file:\n",
        "        for line in file:\n",
        "            print(line.strip())\n",
        "except FileNotFoundError:\n",
        "    print(f\"Error: The file '{filename}' does not exist.\")"
      ],
      "metadata": {
        "id": "irB351N2oaxm"
      },
      "execution_count": 1,
      "outputs": []
    },
    {
      "cell_type": "code",
      "source": [],
      "metadata": {
        "id": "ilgKGynrofWt"
      },
      "execution_count": null,
      "outputs": []
    },
    {
      "cell_type": "code",
      "source": [],
      "metadata": {
        "id": "Yulh2fsIokAv"
      },
      "execution_count": null,
      "outputs": []
    },
    {
      "cell_type": "code",
      "source": [
        "# Write a Python script that reads from one file and writes its content to another file.\n",
        "\n",
        "source_file = \"source.txt\"\n",
        "destination_file = \"dest.txt\"\n",
        "\n",
        "try:\n",
        "    with open(source_file, \"r\") as src:\n",
        "        content = src.read()\n",
        "\n",
        "    with open(destination_file, \"w\") as dest:\n",
        "        dest.write(content)\n",
        "\n",
        "    print(f\"Content copied from '{source_file}' to '{destination_file}'.\")\n",
        "except FileNotFoundError:\n",
        "    print(f\"Error: The file '{source_file}' does not exist.\")"
      ],
      "metadata": {
        "id": "guMDr9wAoj-e"
      },
      "execution_count": null,
      "outputs": []
    },
    {
      "cell_type": "code",
      "source": [],
      "metadata": {
        "id": "dB98xAh3oxvD"
      },
      "execution_count": null,
      "outputs": []
    },
    {
      "cell_type": "code",
      "source": [],
      "metadata": {
        "id": "YpYnZtGqoxsz"
      },
      "execution_count": null,
      "outputs": []
    },
    {
      "cell_type": "code",
      "source": [
        "# How would you catch and handle division by zero error in Python?\n",
        "\n",
        "try:\n",
        "    numerator = 10\n",
        "    denominator = 0\n",
        "    result = numerator / denominator\n",
        "except ZeroDivisionError:\n",
        "    print(\"Error: You cannot divide by zero!\")\n",
        "else:\n",
        "    print(\"Result is:\", result)"
      ],
      "metadata": {
        "id": "6O5nlHgso-GE"
      },
      "execution_count": null,
      "outputs": []
    },
    {
      "cell_type": "code",
      "source": [],
      "metadata": {
        "id": "CRG0WdwMpM0C"
      },
      "execution_count": null,
      "outputs": []
    },
    {
      "cell_type": "code",
      "source": [],
      "metadata": {
        "id": "KXZ-LoZrpMxp"
      },
      "execution_count": null,
      "outputs": []
    },
    {
      "cell_type": "code",
      "source": [
        "# Write a Python program that logs an error message to a log file when a division by zero exception occurs?\n",
        "\n",
        "import logging\n",
        "\n",
        "logging.basicConfig(filename='error.log', level=logging.ERROR,\n",
        "                    format='%(asctime)s - %(levelname)s - %(message)s')\n",
        "\n",
        "try:\n",
        "    numerator = 10\n",
        "    denominator = 0\n",
        "    result = numerator / denominator\n",
        "except ZeroDivisionError as e:\n",
        "    logging.error(\"Division by zero error occurred: %s\", e)\n",
        "    print(\"An error occurred and was logged.\")\n",
        "else:\n",
        "    print(\"Result is:\", result)"
      ],
      "metadata": {
        "id": "50jstv7HpMvp"
      },
      "execution_count": null,
      "outputs": []
    },
    {
      "cell_type": "code",
      "source": [],
      "metadata": {
        "id": "u7ePQwR2paNj"
      },
      "execution_count": null,
      "outputs": []
    },
    {
      "cell_type": "code",
      "source": [],
      "metadata": {
        "id": "XoA9zQVLpaLT"
      },
      "execution_count": null,
      "outputs": []
    },
    {
      "cell_type": "code",
      "source": [
        "# How do you log information at different levels (INFO, ERROR, WARNING) in Python using the logging module?\n",
        "\n",
        "import logging\n",
        "\n",
        "# Configure basic logging to console with level DEBUG to show all messages\n",
        "logging.basicConfig(level=logging.DEBUG,\n",
        "                    format='%(asctime)s - %(levelname)s - %(message)s')\n",
        "\n",
        "\n",
        "logging.info(\"This is an informational message.\")\n",
        "logging.warning(\"This is a warning message.\")\n",
        "logging.error(\"This is an error message.\")\n",
        "logging.debug(\"This is a debug message.\")  # Extra: DEBUG level message\n",
        "logging.critical(\"This is a critical message.\")  # Extra: CRITICAL level"
      ],
      "metadata": {
        "id": "-UlrddzbpaI7"
      },
      "execution_count": null,
      "outputs": []
    },
    {
      "cell_type": "code",
      "source": [],
      "metadata": {
        "id": "AW4fX14kpljo"
      },
      "execution_count": null,
      "outputs": []
    },
    {
      "cell_type": "code",
      "source": [],
      "metadata": {
        "id": "zZLCDsdaplh9"
      },
      "execution_count": null,
      "outputs": []
    },
    {
      "cell_type": "code",
      "source": [],
      "metadata": {
        "id": "aldE38ncplgB"
      },
      "execution_count": null,
      "outputs": []
    },
    {
      "cell_type": "code",
      "source": [
        "# Write a program to handle a file opening error using exception handling.\n",
        "\n",
        "filename = \"somefile.txt\"\n",
        "\n",
        "try:\n",
        "    with open(filename, \"r\") as file:\n",
        "        content = file.read()\n",
        "        print(content)\n",
        "except FileNotFoundError:\n",
        "    print(f\"Error: The file '{filename}' was not found.\")\n",
        "except IOError:\n",
        "    print(f\"Error: An I/O error occurred while opening '{filename}'.\")"
      ],
      "metadata": {
        "id": "wukV38rSpldx"
      },
      "execution_count": null,
      "outputs": []
    },
    {
      "cell_type": "code",
      "source": [],
      "metadata": {
        "id": "a-JWH97gpvX8"
      },
      "execution_count": null,
      "outputs": []
    },
    {
      "cell_type": "code",
      "source": [],
      "metadata": {
        "id": "pxCLkRnKpvWa"
      },
      "execution_count": null,
      "outputs": []
    },
    {
      "cell_type": "code",
      "source": [
        "# How can you append data to an existing file in Python?\n",
        "\n",
        "\n",
        "with open(\"example.txt\", \"a\") as file:  # 'a' mode opens the file for appending\n",
        "    file.write(\"\\nThis line will be added at the end of the file.\")\n",
        "\n",
        "print(\"Data appended successfully!\")"
      ],
      "metadata": {
        "id": "eVVPCkCqpvTj"
      },
      "execution_count": null,
      "outputs": []
    },
    {
      "cell_type": "code",
      "source": [],
      "metadata": {
        "id": "VZARb7l9p1zd"
      },
      "execution_count": null,
      "outputs": []
    },
    {
      "cell_type": "code",
      "source": [],
      "metadata": {
        "id": "Cl2nHWFXp2cq"
      },
      "execution_count": null,
      "outputs": []
    },
    {
      "cell_type": "code",
      "source": [
        "#  Write a Python program that uses a try-except block to handle an error when attempting to access a dictionary key that doesn't exist.\n",
        "\n",
        "# Example dictionary\n",
        "my_dict = {\"name\": \"Alice\", \"age\": 25}\n",
        "\n",
        "try:\n",
        "    # Attempt to access a key that may not exist\n",
        "    value = my_dict[\"address\"]\n",
        "    print(\"Address:\", value)\n",
        "except KeyError:\n",
        "    print(\"Error: The key 'address' does not exist in the dictionary.\")"
      ],
      "metadata": {
        "id": "VV6knoJMp2aW"
      },
      "execution_count": null,
      "outputs": []
    },
    {
      "cell_type": "code",
      "source": [],
      "metadata": {
        "id": "UB52srDBqApX"
      },
      "execution_count": null,
      "outputs": []
    },
    {
      "cell_type": "code",
      "source": [],
      "metadata": {
        "id": "9Oljvbg5qAmx"
      },
      "execution_count": null,
      "outputs": []
    },
    {
      "cell_type": "code",
      "source": [],
      "metadata": {
        "id": "6Epko1B0qAkS"
      },
      "execution_count": null,
      "outputs": []
    },
    {
      "cell_type": "code",
      "source": [
        "#  Write a program that demonstrates using multiple except blocks to handle different types of exceptions.\n",
        "\n",
        "try:\n",
        "    num1 = int(input(\"Enter numerator: \"))\n",
        "    num2 = int(input(\"Enter denominator: \"))\n",
        "    result = num1 / num2\n",
        "    print(\"Result:\", result)\n",
        "\n",
        "except ZeroDivisionError:\n",
        "    print(\"Error: Cannot divide by zero!\")\n",
        "\n",
        "except ValueError:\n",
        "    print(\"Error: Please enter valid integers!\")\n",
        "\n",
        "except Exception as e:\n",
        "    print(f\"An unexpected error occurred: {e}\")"
      ],
      "metadata": {
        "id": "vl16oVSNp_4r"
      },
      "execution_count": null,
      "outputs": []
    },
    {
      "cell_type": "code",
      "source": [],
      "metadata": {
        "id": "HyJkGlQJqOmw"
      },
      "execution_count": null,
      "outputs": []
    },
    {
      "cell_type": "code",
      "source": [],
      "metadata": {
        "id": "XnzkT0EQqOk9"
      },
      "execution_count": null,
      "outputs": []
    },
    {
      "cell_type": "code",
      "source": [
        "#  How would you check if a file exists before attempting to read it in Python?\n",
        "\n",
        "import os\n",
        "\n",
        "filename = \"example.txt\"\n",
        "\n",
        "if os.path.exists(filename):\n",
        "    with open(filename, \"r\") as file:\n",
        "        content = file.read()\n",
        "        print(content)\n",
        "else:\n",
        "    print(f\"The file '{filename}' does not exist.\")"
      ],
      "metadata": {
        "id": "taOf9yELqOik"
      },
      "execution_count": null,
      "outputs": []
    },
    {
      "cell_type": "code",
      "source": [],
      "metadata": {
        "id": "4bR0cXEaqU-S"
      },
      "execution_count": null,
      "outputs": []
    },
    {
      "cell_type": "code",
      "source": [],
      "metadata": {
        "id": "NdnmNsJBqU8U"
      },
      "execution_count": null,
      "outputs": []
    },
    {
      "cell_type": "code",
      "source": [
        "#  Write a program that uses the logging module to log both informational and error messages.\n",
        "\n",
        "import logging\n",
        "\n",
        "# Configure logging: log messages to console with timestamp and level info\n",
        "logging.basicConfig(level=logging.DEBUG,\n",
        "                    format='%(asctime)s - %(levelname)s - %(message)s')\n",
        "\n",
        "logging.info(\"This is an informational message.\")\n",
        "logging.error(\"This is an error message.\")"
      ],
      "metadata": {
        "id": "eSv9knqgqU6A"
      },
      "execution_count": null,
      "outputs": []
    },
    {
      "cell_type": "code",
      "source": [],
      "metadata": {
        "id": "w4Ze6BlGqaty"
      },
      "execution_count": null,
      "outputs": []
    },
    {
      "cell_type": "code",
      "source": [],
      "metadata": {
        "id": "xiHEXtEmqaxv"
      },
      "execution_count": null,
      "outputs": []
    },
    {
      "cell_type": "code",
      "source": [
        "# Write a Python program that prints the content of a file and handles the case when the file is empty.\n",
        "\n",
        "filename = \"example.txt\"\n",
        "\n",
        "try:\n",
        "    with open(filename, \"r\") as file:\n",
        "        content = file.read()\n",
        "        if content:\n",
        "            print(content)\n",
        "        else:\n",
        "            print(f\"The file '{filename}' is empty.\")\n",
        "except FileNotFoundError:\n",
        "    print(f\"Error: The file '{filename}' does not exist.\")"
      ],
      "metadata": {
        "colab": {
          "base_uri": "https://localhost:8080/"
        },
        "collapsed": true,
        "id": "zu7KDh1bqbc4",
        "outputId": "45ffad21-c3d5-4125-8509-b280e4179778"
      },
      "execution_count": 3,
      "outputs": [
        {
          "output_type": "stream",
          "name": "stdout",
          "text": [
            "Error: The file 'example.txt' does not exist.\n"
          ]
        }
      ]
    },
    {
      "cell_type": "code",
      "source": [],
      "metadata": {
        "id": "IT78-UWbqi5p"
      },
      "execution_count": null,
      "outputs": []
    },
    {
      "cell_type": "code",
      "source": [],
      "metadata": {
        "id": "PVU4Qzn8qi3s"
      },
      "execution_count": null,
      "outputs": []
    },
    {
      "cell_type": "code",
      "source": [
        "# Demonstrate how to use memory profiling to check the memory usage of a small program.\n",
        "\n",
        "!pip install memory-profiler\n",
        "\n",
        "from memory_profiler import profile\n",
        "\n",
        "@profile\n",
        "def my_function():\n",
        "    a = [i for i in range(10000)]  # Create a large list\n",
        "    b = [x * 2 for x in a]\n",
        "    return b\n",
        "\n",
        "if __name__ == \"__main__\":\n",
        "    my_function()"
      ],
      "metadata": {
        "colab": {
          "base_uri": "https://localhost:8080/"
        },
        "collapsed": true,
        "id": "aVqIXdPpqi1b",
        "outputId": "a34d3a2f-5997-4dda-d93b-522ef2204674"
      },
      "execution_count": 2,
      "outputs": [
        {
          "output_type": "stream",
          "name": "stdout",
          "text": [
            "Collecting memory-profiler\n",
            "  Downloading memory_profiler-0.61.0-py3-none-any.whl.metadata (20 kB)\n",
            "Requirement already satisfied: psutil in /usr/local/lib/python3.11/dist-packages (from memory-profiler) (5.9.5)\n",
            "Downloading memory_profiler-0.61.0-py3-none-any.whl (31 kB)\n",
            "Installing collected packages: memory-profiler\n",
            "Successfully installed memory-profiler-0.61.0\n"
          ]
        },
        {
          "output_type": "stream",
          "name": "stderr",
          "text": [
            "\n",
            "PYDEV DEBUGGER WARNING:\n",
            "sys.settrace() should not be used when the debugger is being used.\n",
            "This may cause the debugger to stop working correctly.\n",
            "If this is needed, please check: \n",
            "http://pydev.blogspot.com/2007/06/why-cant-pydev-debugger-work-with.html\n",
            "to see how to restore the debug tracing back correctly.\n",
            "Call Location:\n",
            "  File \"/usr/local/lib/python3.11/dist-packages/memory_profiler.py\", line 847, in enable\n",
            "    sys.settrace(self.trace_memory_usage)\n",
            "\n",
            "\n",
            "PYDEV DEBUGGER WARNING:\n",
            "sys.settrace() should not be used when the debugger is being used.\n",
            "This may cause the debugger to stop working correctly.\n",
            "If this is needed, please check: \n",
            "http://pydev.blogspot.com/2007/06/why-cant-pydev-debugger-work-with.html\n",
            "to see how to restore the debug tracing back correctly.\n",
            "Call Location:\n",
            "  File \"/usr/local/lib/python3.11/dist-packages/memory_profiler.py\", line 850, in disable\n",
            "    sys.settrace(self._original_trace_function)\n",
            "\n"
          ]
        },
        {
          "output_type": "stream",
          "name": "stdout",
          "text": [
            "ERROR: Could not find file <ipython-input-2-d74bb10b02ab>\n",
            "NOTE: %mprun can only be used on functions defined in physical files, and not in the IPython environment.\n"
          ]
        }
      ]
    },
    {
      "cell_type": "code",
      "source": [],
      "metadata": {
        "id": "6DI03KNVq1mT"
      },
      "execution_count": null,
      "outputs": []
    },
    {
      "cell_type": "code",
      "source": [],
      "metadata": {
        "id": "7lyUP5PPq1ki"
      },
      "execution_count": null,
      "outputs": []
    },
    {
      "cell_type": "code",
      "source": [
        "# Write a Python program to create and write a list of numbers to a file, one number per line.\n",
        "\n",
        "numbers = [1, 2, 3, 4, 5, 6, 7, 8, 9, 10]\n",
        "\n",
        "with open(\"numbers.txt\", \"w\") as file:\n",
        "    for number in numbers:\n",
        "        file.write(str(number) + \"\\n\")\n",
        "\n",
        "print(\"Numbers written to 'numbers.txt' successfully!\")"
      ],
      "metadata": {
        "colab": {
          "base_uri": "https://localhost:8080/"
        },
        "id": "wkAC6TVqq1iQ",
        "outputId": "9501bc3a-8ef8-46a7-836c-28f7d0915911"
      },
      "execution_count": 4,
      "outputs": [
        {
          "output_type": "stream",
          "name": "stdout",
          "text": [
            "Numbers written to 'numbers.txt' successfully!\n"
          ]
        }
      ]
    },
    {
      "cell_type": "code",
      "source": [],
      "metadata": {
        "id": "HMKmgjoDrPxw"
      },
      "execution_count": null,
      "outputs": []
    },
    {
      "cell_type": "code",
      "source": [],
      "metadata": {
        "id": "qChL9cxorPvg"
      },
      "execution_count": null,
      "outputs": []
    },
    {
      "cell_type": "code",
      "source": [
        "# How would you implement a basic logging setup that logs to a file with rotation after 1MB?\n",
        "\n",
        "import logging\n",
        "from logging.handlers import RotatingFileHandler\n",
        "\n",
        "# Create logger\n",
        "logger = logging.getLogger(\"MyLogger\")\n",
        "logger.setLevel(logging.DEBUG)\n",
        "\n",
        "handler = RotatingFileHandler(\"app.log\", maxBytes=1_000_000, backupCount=3)\n",
        "handler.setLevel(logging.DEBUG)\n",
        "\n",
        "formatter = logging.Formatter('%(asctime)s - %(levelname)s - %(message)s')\n",
        "handler.setFormatter(formatter)\n",
        "\n",
        "logger.addHandler(handler)\n",
        "\n",
        "logger.info(\"This is an info message.\")\n",
        "logger.error(\"This is an error message.\")\n",
        "logger.debug(\"Debugging details here.\")"
      ],
      "metadata": {
        "id": "5BGCkGv4rQMP"
      },
      "execution_count": null,
      "outputs": []
    },
    {
      "cell_type": "code",
      "source": [],
      "metadata": {
        "id": "W8CKRHpBrcda"
      },
      "execution_count": null,
      "outputs": []
    },
    {
      "cell_type": "code",
      "source": [],
      "metadata": {
        "id": "j961-jlJrcbY"
      },
      "execution_count": null,
      "outputs": []
    },
    {
      "cell_type": "code",
      "source": [
        "#  Write a program that handles both IndexError and KeyError using a try-except block.\n",
        "\n",
        "my_list = [10, 20, 30]\n",
        "my_dict = {\"name\": \"Alice\", \"age\": 25}\n",
        "\n",
        "try:\n",
        "    # Accessing an invalid list index\n",
        "    print(my_list[5])\n",
        "\n",
        "    # Accessing a missing dictionary key\n",
        "    print(my_dict[\"address\"])\n",
        "\n",
        "except IndexError:\n",
        "    print(\"Error: List index is out of range.\")\n",
        "\n",
        "except KeyError:\n",
        "    print(\"Error: Dictionary key does not exist.\")"
      ],
      "metadata": {
        "colab": {
          "base_uri": "https://localhost:8080/"
        },
        "collapsed": true,
        "id": "2xVVGTVZrcZK",
        "outputId": "378bfb8b-38e1-4d44-d5ae-179479f068b0"
      },
      "execution_count": 5,
      "outputs": [
        {
          "output_type": "stream",
          "name": "stdout",
          "text": [
            "Error: List index is out of range.\n"
          ]
        }
      ]
    },
    {
      "cell_type": "code",
      "source": [],
      "metadata": {
        "id": "OHSgw_xaruuv"
      },
      "execution_count": null,
      "outputs": []
    },
    {
      "cell_type": "code",
      "source": [],
      "metadata": {
        "id": "OzNy-DAQrus-"
      },
      "execution_count": null,
      "outputs": []
    },
    {
      "cell_type": "code",
      "source": [],
      "metadata": {
        "id": "Mk5_rU_sruq5"
      },
      "execution_count": null,
      "outputs": []
    },
    {
      "cell_type": "code",
      "source": [
        "# How would you open a file and read its contents using a context manager in Python?\n",
        "\n",
        "filename = \"example.txt\"\n",
        "\n",
        "with open(filename, \"r\") as file:\n",
        "    content = file.read()\n",
        "\n",
        "print(content)"
      ],
      "metadata": {
        "id": "YosAJsbRruo4"
      },
      "execution_count": null,
      "outputs": []
    },
    {
      "cell_type": "code",
      "source": [],
      "metadata": {
        "id": "n2T_5zpNr0GT"
      },
      "execution_count": null,
      "outputs": []
    },
    {
      "cell_type": "code",
      "source": [],
      "metadata": {
        "id": "mCkMjxter0Ei"
      },
      "execution_count": null,
      "outputs": []
    },
    {
      "cell_type": "code",
      "source": [
        "#  Write a Python program that reads a file and prints the number of occurrences of a specific word.\n",
        "\n",
        "filename = \"example.txt\"\n",
        "word_to_count = \"python\"\n",
        "\n",
        "try:\n",
        "    with open(filename, \"r\") as file:\n",
        "        content = file.read().lower()\n",
        "        count = content.count(word_to_count.lower())\n",
        "    print(f\"The word '{word_to_count}' occurs {count} times in the file.\")\n",
        "except FileNotFoundError:\n",
        "    print(f\"Error: The file '{filename}' does not exist.\")"
      ],
      "metadata": {
        "id": "qoYOVVNxr0B8"
      },
      "execution_count": null,
      "outputs": []
    },
    {
      "cell_type": "code",
      "source": [],
      "metadata": {
        "id": "rx2r0C1dr9sL"
      },
      "execution_count": null,
      "outputs": []
    },
    {
      "cell_type": "code",
      "source": [],
      "metadata": {
        "id": "YsGwGcSsr-i7"
      },
      "execution_count": null,
      "outputs": []
    },
    {
      "cell_type": "code",
      "source": [
        "# Write a Python program that writes to a log file when an error occurs during file handling.\n",
        "\n",
        "import logging\n",
        "\n",
        "# Configure logging to write errors to 'file_errors.log'\n",
        "logging.basicConfig(filename='file_errors.log', level=logging.ERROR,\n",
        "                    format='%(asctime)s - %(levelname)s - %(message)s')\n",
        "\n",
        "filename = \"nonexistent_file.txt\"\n",
        "\n",
        "try:\n",
        "    with open(filename, \"r\") as file:\n",
        "        content = file.read()\n",
        "        print(content)\n",
        "except Exception as e:\n",
        "    logging.error(f\"An error occurred while handling the file: {e}\")\n",
        "    print(\"An error occurred. Check 'file_errors.log' for details.\")"
      ],
      "metadata": {
        "id": "tmLezX8hr-gj"
      },
      "execution_count": null,
      "outputs": []
    }
  ]
}