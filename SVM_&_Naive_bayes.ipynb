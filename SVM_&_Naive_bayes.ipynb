{
  "nbformat": 4,
  "nbformat_minor": 0,
  "metadata": {
    "colab": {
      "provenance": []
    },
    "kernelspec": {
      "name": "python3",
      "display_name": "Python 3"
    },
    "language_info": {
      "name": "python"
    }
  },
  "cells": [
    {
      "cell_type": "code",
      "execution_count": null,
      "metadata": {
        "id": "iWbKJ8jX4mlP"
      },
      "outputs": [],
      "source": [
        "# What is a Support Vector Machine (SVM)?\n",
        "\n",
        "Support Vector Machine (SVM) is a powerful supervised machine learning algorithm used for classification and regression tasks. It works by finding the optimal hyperplane that best separates the data into different classes.\n",
        "\n",
        "### Key Concepts:\n",
        "- **Hyperplane**: A decision boundary that separates different classes.\n",
        "- **Support Vectors**: Data points that are closest to the hyperplane. These points influence the position and orientation of the hyperplane.\n",
        "- **Margin**: The distance between the hyperplane and the nearest data points from either class. SVM aims to maximize this margin.\n",
        "\n",
        "### Types of SVM:\n",
        "- **Linear SVM**: Used when the data is linearly separable.\n",
        "- **Non-Linear SVM**: Uses kernel tricks (like RBF, polynomial) to separate data that is not linearly separable.\n",
        "\n",
        "### Advantages:\n",
        "- Effective in high-dimensional spaces.\n",
        "- Works well with a clear margin of separation.\n",
        "- Versatile with different kernel functions.\n",
        "\n",
        "### Disadvantages:\n",
        "- Not suitable for very large datasets due to high training time.\n",
        "- Less effective when classes overlap significantly.\n",
        "\n",
        "### Applications:\n",
        "- Image classification\n",
        "- Text categorization\n",
        "- Handwriting recognition\n",
        "- Bioinformatics"
      ]
    },
    {
      "cell_type": "code",
      "source": [],
      "metadata": {
        "id": "QkPGLRd95Yvb"
      },
      "execution_count": null,
      "outputs": []
    },
    {
      "cell_type": "code",
      "source": [],
      "metadata": {
        "id": "tVU0oFCr5YtW"
      },
      "execution_count": null,
      "outputs": []
    },
    {
      "cell_type": "code",
      "source": [
        "#  What is the difference between Hard Margin and Soft Margin SVM?\n",
        "\n",
        "Support Vector Machines (SVMs) can be implemented using either a **Hard Margin** or a **Soft Margin**, depending on the type of data (linearly separable or not).\n",
        "\n",
        "### Hard Margin SVM\n",
        "- Assumes the data is **perfectly linearly separable**.\n",
        "- Finds a hyperplane that separates the classes **without any misclassification**.\n",
        "- Maximizes the **margin** between the classes.\n",
        "- Very **sensitive to outliers** — even a single noisy data point can make it impossible to find a separating hyperplane.\n",
        "\n",
        "#### Pros:\n",
        "- Simple and fast when data is clean and linearly separable.\n",
        "\n",
        "#### Cons:\n",
        "- Not robust to noise or overlapping classes.\n",
        "\n",
        "### Soft Margin SVM\n",
        "- Used when data is **not perfectly separable**.\n",
        "- Allows **some misclassification** by introducing a penalty using **slack variables**.\n",
        "- Controls the trade-off between maximizing the margin and minimizing classification error using a **regularization parameter C**.\n",
        "\n",
        "#### Pros:\n",
        "- **Robust to noise and outliers**.\n",
        "- Works better in real-world scenarios where perfect separation is rare.\n",
        "\n",
        "#### Cons:\n",
        "- Requires tuning of the parameter **C** to balance margin size and error rate."
      ],
      "metadata": {
        "id": "4CZ3oWQ05YrL"
      },
      "execution_count": null,
      "outputs": []
    },
    {
      "cell_type": "code",
      "source": [],
      "metadata": {
        "id": "O93D2HRB5q0p"
      },
      "execution_count": null,
      "outputs": []
    },
    {
      "cell_type": "code",
      "source": [],
      "metadata": {
        "id": "ywPxjSgC5qyN"
      },
      "execution_count": null,
      "outputs": []
    },
    {
      "cell_type": "code",
      "source": [
        "#   What is the mathematical intuition behind SVM?\n",
        "\n",
        "Support Vector Machine (SVM) is based on the concept of **maximizing the margin** between two classes in a dataset. It finds the best decision boundary (called a hyperplane) that separates the classes with the **maximum possible margin**.\n",
        "\n",
        "###  Linear SVM\n",
        "\n",
        "Given training data:\n",
        "\\[\n",
        "(x_1, y_1), (x_2, y_2), ..., (x_n, y_n)\n",
        "\\]\n",
        "Where:\n",
        "- \\( x_i \\in \\mathbb{R}^n \\)\n",
        "- \\( y_i \\in \\{-1, +1\\} \\)\n",
        "\n",
        "SVM aims to find a hyperplane:\n",
        "\\[\n",
        "w^T x + b = 0\n",
        "\\]\n",
        "Where:\n",
        "- \\( w \\) is the weight vector (normal to the hyperplane)\n",
        "- \\( b \\) is the bias (offset from the origin)\n",
        "\n",
        "### Classification Constraint\n",
        "\n",
        "To correctly classify the data points:\n",
        "\\[\n",
        "y_i(w^T x_i + b) \\geq 1 \\quad \\forall i\n",
        "\\]\n",
        "\n",
        "### 🎯 Optimization Objective\n",
        "\n",
        "The margin (distance between the hyperplane and the closest data point) is given by:\n",
        "\\[\n",
        "\\text{Margin} = \\frac{2}{\\|w\\|}\n",
        "\\]\n",
        "\n",
        "To **maximize the margin**, we **minimize**:\n",
        "\\[\n",
        "\\min_{w, b} \\frac{1}{2} \\|w\\|^2 \\quad \\text{subject to } y_i(w^T x_i + b) \\geq 1\n",
        "\\]\n",
        "\n",
        "\n",
        "### Soft Margin SVM (for noisy data)\n",
        "\n",
        "In real-world data, perfect separation may not be possible. To allow some misclassification, **slack variables** \\( \\xi_i \\geq 0 \\) are introduced:\n",
        "\\[\n",
        "y_i(w^T x_i + b) \\geq 1 - \\xi_i\n",
        "\\]\n",
        "\n",
        "New objective:\n",
        "\\[\n",
        "\\min_{w, b, \\xi} \\frac{1}{2} \\|w\\|^2 + C \\sum_{i=1}^n \\xi_i\n",
        "\\]\n",
        "Where \\( C \\) is a regularization parameter that controls the trade-off between margin width and classification error.\n",
        "\n",
        "### Non-Linear SVM: Kernel Trick\n",
        "\n",
        "For non-linearly separable data, SVM uses a **kernel function** to map data into a higher-dimensional space.\n",
        "\n",
        "Popular kernels:\n",
        "- Linear: \\( K(x, x') = x^T x' \\)\n",
        "- Polynomial: \\( K(x, x') = (x^T x' + c)^d \\)\n",
        "- RBF: \\( K(x, x') = \\exp(-\\gamma \\|x - x'\\|^2) \\)\n",
        "\n",
        "This makes it possible to find a linear separator in the transformed space."
      ],
      "metadata": {
        "id": "gqnkpOUg5rLl"
      },
      "execution_count": null,
      "outputs": []
    },
    {
      "cell_type": "code",
      "source": [],
      "metadata": {
        "id": "65rUFh-P6EBW"
      },
      "execution_count": null,
      "outputs": []
    },
    {
      "cell_type": "code",
      "source": [],
      "metadata": {
        "id": "dk8URgEd6D_-"
      },
      "execution_count": null,
      "outputs": []
    },
    {
      "cell_type": "code",
      "source": [],
      "metadata": {
        "id": "ZPwawqSD6D9o"
      },
      "execution_count": null,
      "outputs": []
    },
    {
      "cell_type": "code",
      "source": [
        "#   What is the role of Lagrange Multipliers in SVM?\n",
        "\n",
        "Lagrange multipliers are used in SVM to solve the optimization problem that involves constraints.\n",
        "\n",
        "## Background: Constrained Optimization\n",
        "\n",
        "Support Vector Machine (SVM) tries to solve the following primal optimization problem:\n",
        "\n",
        "minimize (1/2) * ||w||^2\n",
        "subject to: y_i (w^T x_i + b) ≥ 1 for all i\n",
        "\n",
        "This is a convex optimization problem with inequality constraints. To solve it, we use the method of Lagrange multipliers.\n",
        "\n",
        "## Constructing the Lagrangian\n",
        "\n",
        "Introduce a Lagrange multiplier alpha_i ≥ 0 for each constraint:\n",
        "\n",
        "L(w, b, alpha) = (1/2) * ||w||^2 - sum over i [alpha_i * (y_i(w^T x_i + b) - 1)]\n",
        "\n",
        "## Dual Formulation\n",
        "\n",
        "To simplify the solution, we move to the dual formulation by:\n",
        "\n",
        "- Minimizing the Lagrangian with respect to w and b\n",
        "- Maximizing it with respect to alpha\n",
        "\n",
        "This gives the dual optimization problem:\n",
        "\n",
        "maximize:\n",
        "sum over i (alpha_i) - (1/2) * sum over i,j (alpha_i * alpha_j * y_i * y_j * x_i^T * x_j)\n",
        "\n",
        "subject to:\n",
        "alpha_i ≥ 0\n",
        "sum over i (alpha_i * y_i) = 0\n",
        "\n",
        "## Why Use the Dual Problem\n",
        "\n",
        "- It simplifies computation when the number of features is high\n",
        "- It allows the use of kernel functions for non-linear classification\n",
        "\n",
        "\n",
        "## Role of Lagrange Multipliers (alpha_i)\n",
        "\n",
        "- Only a few alpha_i will be non-zero. These correspond to the support vectors\n",
        "- Support vectors are the critical data points that define the decision boundary\n",
        "- Once alpha_i are known, the optimal hyperplane can be computed as:\n",
        "\n",
        "w = sum over i (alpha_i * y_i * x_i)\n",
        "\n",
        "The decision function becomes:\n",
        "\n",
        "f(x) = sum over i (alpha_i * y_i * K(x_i, x)) + b"
      ],
      "metadata": {
        "id": "DMHa_fmn6D7h"
      },
      "execution_count": null,
      "outputs": []
    },
    {
      "cell_type": "code",
      "source": [],
      "metadata": {
        "id": "kR2SIZ5Z6X-P"
      },
      "execution_count": null,
      "outputs": []
    },
    {
      "cell_type": "code",
      "source": [],
      "metadata": {
        "id": "ounxL8iu6X8F"
      },
      "execution_count": null,
      "outputs": []
    },
    {
      "cell_type": "code",
      "source": [
        "# What are Support Vectors in SVM?\n",
        "\n",
        "Support vectors are the data points that lie closest to the decision boundary (hyperplane) in a Support Vector Machine (SVM) model. These points are the most important elements of the training set because they directly influence the position and orientation of the hyperplane.\n",
        "\n",
        "\n",
        "## Explanation\n",
        "\n",
        "In SVM, the goal is to find the optimal hyperplane that separates the data into different classes with the maximum margin. The margin is the distance between the hyperplane and the nearest data points from each class. The data points that lie exactly on the edge of this margin are called support vectors.\n",
        "\n",
        "Only these points are used in defining the hyperplane, and any other data points that lie outside the margin do not affect the final model.\n",
        "\n",
        "## Characteristics of Support Vectors\n",
        "\n",
        "- They are the **critical elements** of the training dataset\n",
        "- They lie on or inside the margin boundaries\n",
        "- They are the only points that have non-zero Lagrange multipliers (alpha > 0)\n",
        "- Removing a support vector can change the decision boundary\n",
        "- The model complexity depends on the number of support vectors, not the total number of data points\n",
        "\n",
        "## Role in Decision Function\n",
        "\n",
        "Once the SVM model is trained, the decision function is defined using only the support vectors:\n",
        "\n",
        "f(x) = sum over i (alpha_i * y_i * K(x_i, x)) + b\n",
        "\n",
        "Where:\n",
        "- alpha_i are Lagrange multipliers\n",
        "- y_i are class labels\n",
        "- x_i are support vectors\n",
        "- K(x_i, x) is the kernel function\n",
        "- b is the bias term"
      ],
      "metadata": {
        "id": "iDpcEg6S6YdD"
      },
      "execution_count": null,
      "outputs": []
    },
    {
      "cell_type": "code",
      "source": [],
      "metadata": {
        "id": "fsT2G7NF6jgt"
      },
      "execution_count": null,
      "outputs": []
    },
    {
      "cell_type": "code",
      "source": [],
      "metadata": {
        "id": "Brtl4Jkg6jfR"
      },
      "execution_count": null,
      "outputs": []
    },
    {
      "cell_type": "code",
      "source": [
        "# What is a Support Vector Regressor (SVR)?\n",
        "\n",
        "Support Vector Regressor (SVR) is an extension of Support Vector Machine (SVM) for regression problems. Unlike classification SVM, which finds a hyperplane to separate classes, SVR tries to fit a function that approximates the target values as accurately as possible within a specified error margin.\n",
        "\n",
        "## Goal of SVR\n",
        "\n",
        "SVR aims to find a function f(x) that has at most epsilon (ε) deviation from the actual target values for all training data, and at the same time, is as flat as possible.\n",
        "\n",
        "## Mathematical Formulation\n",
        "\n",
        "Given training data:\n",
        "(x1, y1), (x2, y2), ..., (xn, yn)\n",
        "\n",
        "SVR tries to find a function of the form:\n",
        "\n",
        "f(x) = w^T x + b\n",
        "\n",
        "Subject to the condition:\n",
        "\n",
        "|y_i - f(x_i)| ≤ ε for all i\n",
        "\n",
        "To allow for errors beyond ε (in case the data is noisy), slack variables ξ_i and ξ_i* are introduced.\n",
        "\n",
        "## Optimization Objective\n",
        "\n",
        "Minimize:\n",
        "\n",
        "(1/2) * ||w||^2 + C * sum over i (ξ_i + ξ_i*)\n",
        "\n",
        "Subject to:\n",
        "\n",
        "y_i - w^T x_i - b ≤ ε + ξ_i\n",
        "w^T x_i + b - y_i ≤ ε + ξ_i*\n",
        "ξ_i, ξ_i* ≥ 0\n",
        "\n",
        "Here:\n",
        "- ||w||^2 is used to keep the function flat\n",
        "- C is the regularization parameter\n",
        "- ε defines the margin of tolerance\n",
        "- ξ_i and ξ_i* are slack variables for deviations above and below ε\n",
        "\n",
        "\n",
        "## Kernel Trick\n",
        "\n",
        "Like SVM, SVR can also use the kernel trick to handle non-linear regression. Common kernels include:\n",
        "- Linear kernel\n",
        "- Polynomial kernel\n",
        "- Radial Basis Function (RBF) kernel\n",
        "\n",
        "This allows SVR to model complex non-linear relationships between input and output."
      ],
      "metadata": {
        "id": "Zg1yAg8w6jdF"
      },
      "execution_count": null,
      "outputs": []
    },
    {
      "cell_type": "code",
      "source": [],
      "metadata": {
        "id": "4B-scejd6vqG"
      },
      "execution_count": null,
      "outputs": []
    },
    {
      "cell_type": "code",
      "source": [],
      "metadata": {
        "id": "l_cDS2jK6voz"
      },
      "execution_count": null,
      "outputs": []
    },
    {
      "cell_type": "code",
      "source": [
        "#  What is the effect of the C parameter in SVM?\n",
        "\n",
        "The parameter **C** in Support Vector Machine (SVM) controls the trade-off between achieving a low training error and maintaining a large margin (model simplicity).\n",
        "\n",
        "## Role of C\n",
        "\n",
        "- **C** is a regularization parameter that penalizes misclassification or errors on the training data.\n",
        "- A **small value** of C makes the margin **wider** but allows more misclassifications (soft margin). This encourages a simpler model that may generalize better.\n",
        "- A **large value** of C tries to classify all training points correctly by giving higher penalty to misclassification. This results in a **narrower margin** and may cause overfitting.\n",
        "\n",
        "## Intuition\n",
        "\n",
        "- When **C is large**:\n",
        "  The model tries to minimize classification errors strictly. It will fit the training data very closely, potentially leading to overfitting.\n",
        "\n",
        "- When **C is small**:\n",
        "  The model allows some misclassifications but focuses on maximizing the margin. This can improve generalization on unseen data."
      ],
      "metadata": {
        "id": "f1U7UF6E6vm4"
      },
      "execution_count": null,
      "outputs": []
    },
    {
      "cell_type": "code",
      "source": [],
      "metadata": {
        "id": "aXdqu38165jo"
      },
      "execution_count": null,
      "outputs": []
    },
    {
      "cell_type": "code",
      "source": [],
      "metadata": {
        "id": "A9naFuT965W-"
      },
      "execution_count": null,
      "outputs": []
    },
    {
      "cell_type": "code",
      "source": [
        "# What is the Naïve Bayes classifier, and why is it called \"Naïve\"?\n",
        "\n",
        "Naïve Bayes is a probabilistic classification algorithm based on **Bayes’ theorem**. It predicts the class of a data point by calculating the posterior probability of each class given the features and selecting the class with the highest probability.\n",
        "\n",
        "Bayes’ theorem states:\n",
        "\n",
        "P(C | X) = (P(X | C) * P(C)) / P(X)\n",
        "\n",
        "Where:\n",
        "- P(C | X) is the posterior probability of class C given features X\n",
        "- P(X | C) is the likelihood of features X given class C\n",
        "- P(C) is the prior probability of class C\n",
        "- P(X) is the prior probability of features X\n",
        "\n",
        "### Why is it Called \"Naïve\"?\n",
        "\n",
        "The \"naïve\" assumption refers to the algorithm assuming **feature independence** — it treats all features as if they are independent of each other given the class label.\n",
        "\n",
        "In real-world data, this assumption is often not true because features can be correlated. Despite this, Naïve Bayes often performs well in practice, especially for high-dimensional data."
      ],
      "metadata": {
        "id": "8bAjZ6bb65Uo"
      },
      "execution_count": null,
      "outputs": []
    },
    {
      "cell_type": "code",
      "source": [],
      "metadata": {
        "id": "Dfg9B0ZT7EgO"
      },
      "execution_count": null,
      "outputs": []
    },
    {
      "cell_type": "code",
      "source": [],
      "metadata": {
        "id": "kVMZnsB97Een"
      },
      "execution_count": null,
      "outputs": []
    },
    {
      "cell_type": "code",
      "source": [
        "# What is Bayes’ Theorem?\n",
        "\n",
        "Bayes’ Theorem is a fundamental rule in probability theory that describes how to update the probability of a hypothesis based on new evidence.\n",
        "\n",
        "It is expressed as:\n",
        "\n",
        "P(A | B) = (P(B | A) * P(A)) / P(B)\n",
        "\n",
        "Where:\n",
        "- P(A | B) is the **posterior probability**: the probability of event A occurring given that B is true\n",
        "- P(B | A) is the **likelihood**: the probability of event B occurring given that A is true\n",
        "- P(A) is the **prior probability**: the initial probability of event A occurring\n",
        "- P(B) is the **marginal probability**: the total probability of event B occurring\n",
        "\n",
        "### Explanation\n",
        "\n",
        "Bayes’ theorem helps to revise the probability estimate for an event as more evidence or information becomes available.\n",
        "\n",
        "### Example\n",
        "\n",
        "If you want to find the probability of a disease (A) given a positive test result (B), Bayes’ theorem allows you to combine the probability of testing positive given the disease, the overall probability of having the disease, and the probability of testing positive."
      ],
      "metadata": {
        "id": "E0KmAB147EcP"
      },
      "execution_count": null,
      "outputs": []
    },
    {
      "cell_type": "code",
      "source": [],
      "metadata": {
        "id": "BkyHahAB7QqK"
      },
      "execution_count": null,
      "outputs": []
    },
    {
      "cell_type": "code",
      "source": [],
      "metadata": {
        "id": "ml6Qlbt57QoW"
      },
      "execution_count": null,
      "outputs": []
    },
    {
      "cell_type": "code",
      "source": [
        "# When should you use Gaussian Naïve Bayes over other variants?\n",
        "\n",
        "Gaussian Naïve Bayes is a variant of the Naïve Bayes classifier designed to work with **continuous features** that are assumed to follow a **normal (Gaussian) distribution**.\n",
        "\n",
        "## Use Gaussian Naïve Bayes When:\n",
        "\n",
        "- Your dataset contains **continuous numeric features** (e.g., height, weight, temperature).\n",
        "- You can reasonably assume that the features for each class are distributed according to a Gaussian (normal) distribution.\n",
        "- You want a simple and efficient classifier for continuous data without needing to discretize the features.\n",
        "\n",
        "## Other Naïve Bayes Variants\n",
        "\n",
        "- **Multinomial Naïve Bayes:** Best suited for discrete count data, such as word counts in text classification.\n",
        "- **Bernoulli Naïve Bayes:** Used for binary/boolean features (e.g., presence or absence of a word in text)."
      ],
      "metadata": {
        "id": "A9Cj9kT17QmU"
      },
      "execution_count": null,
      "outputs": []
    },
    {
      "cell_type": "code",
      "source": [],
      "metadata": {
        "id": "f6t0q3wh7bC1"
      },
      "execution_count": null,
      "outputs": []
    },
    {
      "cell_type": "code",
      "source": [],
      "metadata": {
        "id": "7XT1YPCF7bA_"
      },
      "execution_count": null,
      "outputs": []
    },
    {
      "cell_type": "code",
      "source": [],
      "metadata": {
        "id": "IYo3vH1e7a_E"
      },
      "execution_count": null,
      "outputs": []
    },
    {
      "cell_type": "code",
      "source": [
        "#   What are the key assumptions made by Naïve Bayes?\n",
        "\n",
        "Naïve Bayes classifier is based on the following key assumptions:\n",
        "\n",
        "## 1. Feature Independence\n",
        "\n",
        "- All features (predictors) are assumed to be **conditionally independent** of each other given the class label.\n",
        "- This means the presence or value of one feature does not affect or depend on another feature when the class is known.\n",
        "\n",
        "## 2. Equal Importance of Features\n",
        "\n",
        "- Each feature contributes **equally and independently** to the final classification decision.\n",
        "- No feature is considered more important than others.\n",
        "\n",
        "\n",
        "## 3. Correct Specification of Feature Distributions\n",
        "\n",
        "- The model assumes that the features follow specific probability distributions depending on the variant of Naïve Bayes used.\n",
        "- For example, Gaussian Naïve Bayes assumes continuous features are normally distributed."
      ],
      "metadata": {
        "id": "vQ3JRrX17a9B"
      },
      "execution_count": null,
      "outputs": []
    },
    {
      "cell_type": "code",
      "source": [],
      "metadata": {
        "id": "HXVjpiCq7jD4"
      },
      "execution_count": null,
      "outputs": []
    },
    {
      "cell_type": "code",
      "source": [],
      "metadata": {
        "id": "69R79cB97jBI"
      },
      "execution_count": null,
      "outputs": []
    },
    {
      "cell_type": "code",
      "source": [
        "# What are the advantages and disadvantages of Naïve Bayes?\n",
        "\n",
        "1. **Simple and Fast**\n",
        "   Naïve Bayes is easy to implement and computationally efficient, making it suitable for large datasets.\n",
        "\n",
        "2. **Works Well with High-Dimensional Data**\n",
        "   Performs well even when the number of features is large.\n",
        "\n",
        "3. **Requires Less Training Data**\n",
        "   Due to the independence assumption, it needs fewer data points to estimate parameters.\n",
        "\n",
        "4. **Handles Both Binary and Multi-class Classification**\n",
        "   Can be applied to problems with two or more classes.\n",
        "\n",
        "5. **Performs Well with Text Classification**\n",
        "   Especially effective in spam filtering and document categorization.\n",
        "\n",
        "### Disadvantages\n",
        "\n",
        "1. **Strong Independence Assumption**\n",
        "   The assumption that all features are independent given the class is often unrealistic and can reduce accuracy.\n",
        "\n",
        "2. **Poor Performance with Correlated Features**\n",
        "   When features are highly correlated, Naïve Bayes may not perform well.\n",
        "\n",
        "3. **Zero Probability Problem**\n",
        "   If a category or feature value never appears in the training data, it may assign zero probability to unseen instances unless smoothing is applied.\n",
        "\n",
        "4. **Not Good for Complex Relationships**\n",
        "   Unable to model interactions between features or complex decision boundaries."
      ],
      "metadata": {
        "id": "qWFDlRdF7jkV"
      },
      "execution_count": null,
      "outputs": []
    },
    {
      "cell_type": "code",
      "source": [],
      "metadata": {
        "id": "r2HQxGCN7r8V"
      },
      "execution_count": null,
      "outputs": []
    },
    {
      "cell_type": "code",
      "source": [],
      "metadata": {
        "id": "CPZaQ7mk7rsO"
      },
      "execution_count": null,
      "outputs": []
    },
    {
      "cell_type": "code",
      "source": [
        "# Compare SVM and Naïve Bayes for classification tasks.\n",
        "\n",
        "| Aspect                | Support Vector Machine (SVM)                                    | Naïve Bayes                                  |\n",
        "|-----------------------|----------------------------------------------------------------|----------------------------------------------|\n",
        "| **Type**              | Discriminative classifier that finds a decision boundary      | Probabilistic generative classifier          |\n",
        "| **Principle**         | Finds the optimal hyperplane maximizing the margin between classes | Uses Bayes’ theorem with the assumption of feature independence |\n",
        "| **Assumptions**        | No assumption on feature independence                          | Assumes features are conditionally independent |\n",
        "| **Handling Non-linearity** | Uses kernel trick to handle non-linear decision boundaries     | Assumes distribution of features; limited handling of complex patterns |\n",
        "| **Training Complexity**| Generally computationally intensive, especially with large datasets | Fast and efficient even with large datasets  |\n",
        "| **Performance with High-Dimensional Data** | Performs well, especially with sparse data like text     | Also performs well, particularly in text classification |\n",
        "| **Robustness to Noise**| Can be sensitive to noise and overlapping classes              | Generally more robust to noise due to probabilistic nature |\n",
        "| **Interpretability**  | Model parameters (support vectors) can be complex to interpret | Probabilistic outputs are easy to interpret   |\n",
        "| **Handling Multi-class Problems** | Can handle multi-class classification with extensions    | Naturally supports multi-class classification |\n",
        "| **Handling Missing Data** | Usually requires preprocessing for missing data             | Can handle missing data more naturally        |\n",
        "| **Use Cases**          | Image classification, bioinformatics, complex pattern recognition | Spam filtering, document classification, medical diagnosis |"
      ],
      "metadata": {
        "id": "9o0ZJs3P7rof"
      },
      "execution_count": null,
      "outputs": []
    },
    {
      "cell_type": "code",
      "source": [],
      "metadata": {
        "id": "BkBT-hOp71eC"
      },
      "execution_count": null,
      "outputs": []
    },
    {
      "cell_type": "code",
      "source": [],
      "metadata": {
        "id": "D-mM8AuT71cE"
      },
      "execution_count": null,
      "outputs": []
    },
    {
      "cell_type": "code",
      "source": [
        "#  How does Laplace Smoothing help in Naïve Bayes?\n",
        "\n",
        "- In Naïve Bayes, probabilities are estimated from the frequency of feature values in the training data.\n",
        "- If a particular feature value never appears with a given class in the training set, the probability estimate for that feature-class combination becomes zero.\n",
        "- This zero probability can cause the entire posterior probability for that class to become zero, effectively ruling out that class.\n",
        "\n",
        "### What is Laplace Smoothing?\n",
        "\n",
        "- Laplace smoothing (also called add-one smoothing) adds a small positive value (usually 1) to all feature counts.\n",
        "- This ensures that no probability estimate is ever zero.\n",
        "\n",
        "Mathematically, if count(feature = x, class = c) is the frequency, Laplace smoothing estimates:\n",
        "\n",
        "P(feature = x | class = c) =\n",
        " (count(feature = x, class = c) + 1) / (count(class = c) + number of possible feature values)\n",
        "\n",
        "### Benefits of Laplace Smoothing\n",
        "\n",
        "- Prevents zero probabilities that can disrupt classification.\n",
        "- Makes the model more robust to unseen feature values in test data.\n",
        "- Helps improve generalization when the training data is limited."
      ],
      "metadata": {
        "id": "6QwDzh7B71Z4"
      },
      "execution_count": null,
      "outputs": []
    },
    {
      "cell_type": "code",
      "source": [],
      "metadata": {
        "id": "ghaN6PIU7_Qq"
      },
      "execution_count": null,
      "outputs": []
    },
    {
      "cell_type": "code",
      "source": [],
      "metadata": {
        "id": "qgUeTem07_Ol"
      },
      "execution_count": null,
      "outputs": []
    },
    {
      "cell_type": "code",
      "source": [
        "# Write a Python program to train an SVM Classifier on the Iris dataset and evaluate accuracy.\n",
        "\n",
        "from sklearn import datasets\n",
        "from sklearn.model_selection import train_test_split\n",
        "from sklearn.svm import SVC\n",
        "from sklearn.metrics import accuracy_score\n",
        "\n",
        "iris = datasets.load_iris()\n",
        "X = iris.data\n",
        "y = iris.target\n",
        "\n",
        "X_train, X_test, y_train, y_test = train_test_split(X, y, test_size=0.2, random_state=42)\n",
        "\n",
        "svm_classifier = SVC()\n",
        "svm_classifier.fit(X_train, y_train)\n",
        "\n",
        "y_pred = svm_classifier.predict(X_test)\n",
        "\n",
        "accuracy = accuracy_score(y_test, y_pred)\n",
        "print(f\"Accuracy of SVM classifier on Iris dataset: {accuracy:.2f}\")"
      ],
      "metadata": {
        "colab": {
          "base_uri": "https://localhost:8080/"
        },
        "id": "gBUknVEu7_Ml",
        "outputId": "8994e693-69c3-4a40-a9d8-6b669149a5d9"
      },
      "execution_count": 1,
      "outputs": [
        {
          "output_type": "stream",
          "name": "stdout",
          "text": [
            "Accuracy of SVM classifier on Iris dataset: 1.00\n"
          ]
        }
      ]
    },
    {
      "cell_type": "code",
      "source": [],
      "metadata": {
        "id": "v9w2M5_S8O6-"
      },
      "execution_count": null,
      "outputs": []
    },
    {
      "cell_type": "code",
      "source": [],
      "metadata": {
        "id": "O_X7b4cz8Oxg"
      },
      "execution_count": null,
      "outputs": []
    },
    {
      "cell_type": "code",
      "source": [
        "# Write a Python program to train two SVM classifiers with Linear and RBF kernels on the Wine dataset, then compare their accuracies.\n",
        "\n",
        "from sklearn import datasets\n",
        "from sklearn.model_selection import train_test_split\n",
        "from sklearn.svm import SVC\n",
        "from sklearn.metrics import accuracy_score\n",
        "\n",
        "wine = datasets.load_wine()\n",
        "X = wine.data\n",
        "y = wine.target\n",
        "\n",
        "X_train, X_test, y_train, y_test = train_test_split(X, y, test_size=0.2, random_state=42)\n",
        "\n",
        "svm_linear = SVC(kernel='linear')\n",
        "svm_rbf = SVC(kernel='rbf')\n",
        "\n",
        "svm_linear.fit(X_train, y_train)\n",
        "svm_rbf.fit(X_train, y_train)\n",
        "\n",
        "y_pred_linear = svm_linear.predict(X_test)\n",
        "y_pred_rbf = svm_rbf.predict(X_test)\n",
        "\n",
        "accuracy_linear = accuracy_score(y_test, y_pred_linear)\n",
        "accuracy_rbf = accuracy_score(y_test, y_pred_rbf)\n",
        "\n",
        "print(f\"Accuracy of Linear Kernel SVM: {accuracy_linear:.2f}\")\n",
        "print(f\"Accuracy of RBF Kernel SVM: {accuracy_rbf:.2f}\")"
      ],
      "metadata": {
        "colab": {
          "base_uri": "https://localhost:8080/"
        },
        "id": "JNpRIFaq8OtE",
        "outputId": "97900898-cc1f-4a9c-d897-36f0179a0c4f"
      },
      "execution_count": 2,
      "outputs": [
        {
          "output_type": "stream",
          "name": "stdout",
          "text": [
            "Accuracy of Linear Kernel SVM: 1.00\n",
            "Accuracy of RBF Kernel SVM: 0.81\n"
          ]
        }
      ]
    },
    {
      "cell_type": "code",
      "source": [],
      "metadata": {
        "id": "fDnfBhul8WbU"
      },
      "execution_count": null,
      "outputs": []
    },
    {
      "cell_type": "code",
      "source": [],
      "metadata": {
        "id": "SZD9pRnm8WZS"
      },
      "execution_count": null,
      "outputs": []
    },
    {
      "cell_type": "code",
      "source": [
        "# Write a Python program to train an SVM Classifier with a Polynomial Kernel and visualize the decision boundary.\n",
        "\n",
        "import numpy as np\n",
        "import matplotlib.pyplot as plt\n",
        "from sklearn import datasets\n",
        "from sklearn.svm import SVC\n",
        "from sklearn.model_selection import train_test_split\n",
        "\n",
        "iris = datasets.load_iris()\n",
        "X = iris.data[:, :2]\n",
        "y = iris.target\n",
        "\n",
        "idx = y != 2\n",
        "X = X[idx]\n",
        "y = y[idx]\n",
        "\n",
        "X_train, X_test, y_train, y_test = train_test_split(X, y, test_size=0.2, random_state=42)\n",
        "\n",
        "svm_poly = SVC(kernel='poly', degree=3, coef0=1, C=1.0)\n",
        "svm_poly.fit(X_train, y_train)\n",
        "\n",
        "x_min, x_max = X[:, 0].min() - 1, X[:, 0].max() + 1\n",
        "y_min, y_max = X[:, 1].min() - 1, X[:, 1].max() + 1\n",
        "xx, yy = np.meshgrid(np.linspace(x_min, x_max, 500),\n",
        "                     np.linspace(y_min, y_max, 500))\n",
        "\n",
        "Z = svm_poly.predict(np.c_[xx.ravel(), yy.ravel()])\n",
        "Z = Z.reshape(xx.shape)\n",
        "\n",
        "plt.contourf(xx, yy, Z, alpha=0.3, cmap=plt.cm.coolwarm)\n",
        "plt.scatter(X_train[:, 0], X_train[:, 1], c=y_train, edgecolors='k', cmap=plt.cm.coolwarm)\n",
        "plt.xlabel(iris.feature_names[0])\n",
        "plt.ylabel(iris.feature_names[1])\n",
        "plt.title(\"SVM with Polynomial Kernel (degree=3)\")\n",
        "plt.show()"
      ],
      "metadata": {
        "colab": {
          "base_uri": "https://localhost:8080/",
          "height": 472
        },
        "id": "CAkJBxb18WXN",
        "outputId": "87f67836-a517-4606-bd59-1ca777de7daa"
      },
      "execution_count": 3,
      "outputs": [
        {
          "output_type": "display_data",
          "data": {
            "text/plain": [
              "<Figure size 640x480 with 1 Axes>"
            ],
            "image/png": "[encoded data removed]"
          },
          "metadata": {}
        }
      ]
    },
    {
      "cell_type": "code",
      "source": [],
      "metadata": {
        "id": "5LdNNJSk8m91"
      },
      "execution_count": null,
      "outputs": []
    },
    {
      "cell_type": "code",
      "source": [],
      "metadata": {
        "id": "mG2SAU_D8m7h"
      },
      "execution_count": null,
      "outputs": []
    },
    {
      "cell_type": "code",
      "source": [
        "#  Write a Python program to train a Multinomial Naïve Bayes classifier for text classification using the 20 Newsgroups dataset.\n",
        "\n",
        "from sklearn.datasets import fetch_20newsgroups\n",
        "from sklearn.feature_extraction.text import CountVectorizer\n",
        "from sklearn.naive_bayes import MultinomialNB\n",
        "from sklearn.model_selection import train_test_split\n",
        "from sklearn.metrics import accuracy_score\n",
        "\n",
        "newsgroups = fetch_20newsgroups(subset='all', shuffle=True, random_state=42)\n",
        "X = newsgroups.data\n",
        "y = newsgroups.target\n",
        "\n",
        "X_train, X_test, y_train, y_test = train_test_split(X, y, test_size=0.2, random_state=42)\n",
        "\n",
        "vectorizer = CountVectorizer()\n",
        "X_train_vec = vectorizer.fit_transform(X_train)\n",
        "X_test_vec = vectorizer.transform(X_test)\n",
        "\n",
        "clf = MultinomialNB()\n",
        "clf.fit(X_train_vec, y_train)\n",
        "\n",
        "y_pred = clf.predict(X_test_vec)\n",
        "accuracy = accuracy_score(y_test, y_pred)\n",
        "print(f\"Accuracy of Multinomial Naïve Bayes on 20 Newsgroups: {accuracy:.2f}\")"
      ],
      "metadata": {
        "colab": {
          "base_uri": "https://localhost:8080/"
        },
        "id": "JdKyWatv8m46",
        "outputId": "a55ad0c1-be9c-4d5c-8057-3845ea2c70af"
      },
      "execution_count": 4,
      "outputs": [
        {
          "output_type": "stream",
          "name": "stdout",
          "text": [
            "Accuracy of Multinomial Naïve Bayes on 20 Newsgroups: 0.85\n"
          ]
        }
      ]
    },
    {
      "cell_type": "code",
      "source": [],
      "metadata": {
        "id": "kmdfKa6H8uqb"
      },
      "execution_count": null,
      "outputs": []
    },
    {
      "cell_type": "code",
      "source": [],
      "metadata": {
        "id": "Of2Hy1418ue2"
      },
      "execution_count": null,
      "outputs": []
    },
    {
      "cell_type": "code",
      "source": [
        "# Write a Python program to train an SVM Classifier with different C values and compare the decision boundaries visually.\n",
        "\n",
        "import numpy as np\n",
        "import matplotlib.pyplot as plt\n",
        "from sklearn import datasets\n",
        "from sklearn.svm import SVC\n",
        "from sklearn.model_selection import train_test_split\n",
        "\n",
        "iris = datasets.load_iris()\n",
        "X = iris.data[:, :2]\n",
        "y = iris.target\n",
        "\n",
        "idx = y != 2\n",
        "X = X[idx]\n",
        "y = y[idx]\n",
        "\n",
        "X_train, X_test, y_train, y_test = train_test_split(X, y, test_size=0.2, random_state=42)\n",
        "\n",
        "C_values = [0.01, 1, 100]\n",
        "fig, axes = plt.subplots(1, 3, figsize=(18, 5))\n",
        "\n",
        "x_min, x_max = X[:, 0].min() - 1, X[:, 0].max() + 1\n",
        "y_min, y_max = X[:, 1].min() - 1, X[:, 1].max() + 1\n",
        "xx, yy = np.meshgrid(np.linspace(x_min, x_max, 500),\n",
        "                     np.linspace(y_min, y_max, 500))\n",
        "\n",
        "for ax, C in zip(axes, C_values):\n",
        "    svm = SVC(C=C, kernel='linear')\n",
        "    svm.fit(X_train, y_train)\n",
        "    Z = svm.predict(np.c_[xx.ravel(), yy.ravel()])\n",
        "    Z = Z.reshape(xx.shape)\n",
        "    ax.contourf(xx, yy, Z, alpha=0.3, cmap=plt.cm.coolwarm)\n",
        "    ax.scatter(X_train[:, 0], X_train[:, 1], c=y_train, edgecolors='k', cmap=plt.cm.coolwarm)\n",
        "    ax.set_title(f\"SVM with C={C}\")\n",
        "    ax.set_xlabel(iris.feature_names[0])\n",
        "    ax.set_ylabel(iris.feature_names[1])\n",
        "\n",
        "plt.tight_layout()\n",
        "plt.show()"
      ],
      "metadata": {
        "colab": {
          "base_uri": "https://localhost:8080/",
          "height": 334
        },
        "id": "9G30TNu_8ucP",
        "outputId": "f780b136-64c7-4573-9766-e0d6463466be"
      },
      "execution_count": 5,
      "outputs": [
        {
          "output_type": "display_data",
          "data": {
            "text/plain": [
              "<Figure size 1800x500 with 3 Axes>"
            ],
            "image/png": "[encoded data removed]"
          },
          "metadata": {}
        }
      ]
    },
    {
      "cell_type": "code",
      "source": [],
      "metadata": {
        "id": "KQspDY_R89wE"
      },
      "execution_count": null,
      "outputs": []
    },
    {
      "cell_type": "code",
      "source": [],
      "metadata": {
        "id": "we3c-Jck89t9"
      },
      "execution_count": null,
      "outputs": []
    },
    {
      "cell_type": "code",
      "source": [
        "# Write a Python program to train an SVM Classifier and use GridSearchCV to tune the hyperparameters (C, gamma, kernel)\n",
        "\n",
        "from sklearn import datasets\n",
        "from sklearn.model_selection import train_test_split, GridSearchCV\n",
        "from sklearn.svm import SVC\n",
        "from sklearn.metrics import accuracy_score\n",
        "\n",
        "iris = datasets.load_iris()\n",
        "X = iris.data\n",
        "y = iris.target\n",
        "\n",
        "X_train, X_test, y_train, y_test = train_test_split(X, y, test_size=0.2, random_state=42)\n",
        "\n",
        "param_grid = {\n",
        "    'C': [0.1, 1, 10],\n",
        "    'gamma': ['scale', 'auto'],\n",
        "    'kernel': ['linear', 'rbf', 'poly']\n",
        "}\n",
        "\n",
        "svm = SVC()\n",
        "grid_search = GridSearchCV(svm, param_grid, cv=5, n_jobs=-1)\n",
        "grid_search.fit(X_train, y_train)\n",
        "\n",
        "best_model = grid_search.best_estimator_\n",
        "y_pred = best_model.predict(X_test)\n",
        "\n",
        "accuracy = accuracy_score(y_test, y_pred)\n",
        "print(f\"Best parameters: {grid_search.best_params_}\")\n",
        "print(f\"Accuracy of best SVM model: {accuracy:.2f}\")"
      ],
      "metadata": {
        "colab": {
          "base_uri": "https://localhost:8080/"
        },
        "id": "TuKe_5Ym89r3",
        "outputId": "67d27f45-5ceb-4a80-d846-6da41e7588cd"
      },
      "execution_count": 6,
      "outputs": [
        {
          "output_type": "stream",
          "name": "stdout",
          "text": [
            "Best parameters: {'C': 1, 'gamma': 'scale', 'kernel': 'linear'}\n",
            "Accuracy of best SVM model: 1.00\n"
          ]
        }
      ]
    },
    {
      "cell_type": "code",
      "source": [],
      "metadata": {
        "id": "FPztWYSp9W8p"
      },
      "execution_count": null,
      "outputs": []
    },
    {
      "cell_type": "code",
      "source": [],
      "metadata": {
        "id": "67WPAnxo9W6l"
      },
      "execution_count": null,
      "outputs": []
    },
    {
      "cell_type": "code",
      "source": [
        "# Write a Python program to train an SVM Classifier on an imbalanced dataset and apply class weighting and check it improve accuracy.\n",
        "\n",
        "from sklearn.datasets import make_classification\n",
        "from sklearn.model_selection import train_test_split\n",
        "from sklearn.svm import SVC\n",
        "from sklearn.metrics import accuracy_score, classification_report\n",
        "\n",
        "X, y = make_classification(n_samples=1000, n_features=20, n_classes=2,\n",
        "                           weights=[0.9, 0.1], flip_y=0, random_state=42)\n",
        "\n",
        "X_train, X_test, y_train, y_test = train_test_split(X, y, test_size=0.2, random_state=42)\n",
        "\n",
        "svm_default = SVC()\n",
        "svm_default.fit(X_train, y_train)\n",
        "y_pred_default = svm_default.predict(X_test)\n",
        "acc_default = accuracy_score(y_test, y_pred_default)\n",
        "\n",
        "svm_weighted = SVC(class_weight='balanced')\n",
        "svm_weighted.fit(X_train, y_train)\n",
        "y_pred_weighted = svm_weighted.predict(X_test)\n",
        "acc_weighted = accuracy_score(y_test, y_pred_weighted)\n",
        "\n",
        "print(f\"Accuracy without class weighting: {acc_default:.2f}\")\n",
        "print(f\"Accuracy with class weighting: {acc_weighted:.2f}\")\n",
        "\n",
        "print(\"\\nClassification report without class weighting:\")\n",
        "print(classification_report(y_test, y_pred_default))\n",
        "\n",
        "print(\"Classification report with class weighting:\")\n",
        "print(classification_report(y_test, y_pred_weighted))"
      ],
      "metadata": {
        "colab": {
          "base_uri": "https://localhost:8080/"
        },
        "id": "y_6-5RhM9W4a",
        "outputId": "67cb9fe3-17b7-48cf-84ad-c797e0ac61d6"
      },
      "execution_count": 7,
      "outputs": [
        {
          "output_type": "stream",
          "name": "stdout",
          "text": [
            "Accuracy without class weighting: 0.94\n",
            "Accuracy with class weighting: 0.92\n",
            "\n",
            "Classification report without class weighting:\n",
            "              precision    recall  f1-score   support\n",
            "\n",
            "           0       0.96      0.98      0.97       185\n",
            "           1       0.67      0.53      0.59        15\n",
            "\n",
            "    accuracy                           0.94       200\n",
            "   macro avg       0.81      0.76      0.78       200\n",
            "weighted avg       0.94      0.94      0.94       200\n",
            "\n",
            "Classification report with class weighting:\n",
            "              precision    recall  f1-score   support\n",
            "\n",
            "           0       0.97      0.94      0.95       185\n",
            "           1       0.45      0.60      0.51        15\n",
            "\n",
            "    accuracy                           0.92       200\n",
            "   macro avg       0.71      0.77      0.73       200\n",
            "weighted avg       0.93      0.92      0.92       200\n",
            "\n"
          ]
        }
      ]
    },
    {
      "cell_type": "code",
      "source": [],
      "metadata": {
        "id": "eQEQYtih9fEs"
      },
      "execution_count": null,
      "outputs": []
    },
    {
      "cell_type": "code",
      "source": [],
      "metadata": {
        "id": "GOWLtfU09fCl"
      },
      "execution_count": null,
      "outputs": []
    },
    {
      "cell_type": "code",
      "source": [
        "# Write a Python program to implement a Naïve Bayes classifier for spam detection using email data.\n",
        "\n",
        "from sklearn.datasets import fetch_20newsgroups\n",
        "from sklearn.feature_extraction.text import CountVectorizer, TfidfTransformer\n",
        "from sklearn.naive_bayes import MultinomialNB\n",
        "from sklearn.model_selection import train_test_split\n",
        "from sklearn.metrics import accuracy_score, classification_report\n",
        "\n",
        "# For demonstration: Use 2 categories as spam and ham proxies\n",
        "categories = ['rec.autos', 'talk.politics.misc']  # pretend 'talk.politics.misc' is spam\n",
        "\n",
        "data = fetch_20newsgroups(subset='all', categories=categories, shuffle=True, random_state=42)\n",
        "X = data.data\n",
        "y = data.target\n",
        "\n",
        "X_train, X_test, y_train, y_test = train_test_split(X, y, test_size=0.2, random_state=42)\n",
        "\n",
        "count_vect = CountVectorizer()\n",
        "X_train_counts = count_vect.fit_transform(X_train)\n",
        "tfidf_transformer = TfidfTransformer()\n",
        "X_train_tfidf = tfidf_transformer.fit_transform(X_train_counts)\n",
        "\n",
        "clf = MultinomialNB()\n",
        "clf.fit(X_train_tfidf, y_train)\n",
        "\n",
        "X_test_counts = count_vect.transform(X_test)\n",
        "X_test_tfidf = tfidf_transformer.transform(X_test_counts)\n",
        "y_pred = clf.predict(X_test_tfidf)\n",
        "\n",
        "print(f\"Accuracy: {accuracy_score(y_test, y_pred):.2f}\")\n",
        "print(classification_report(y_test, y_pred, target_names=categories))"
      ],
      "metadata": {
        "colab": {
          "base_uri": "https://localhost:8080/"
        },
        "id": "9AGehbkE9fAj",
        "outputId": "75568a39-6192-47ba-b0f8-47cf023a8dbb"
      },
      "execution_count": 8,
      "outputs": [
        {
          "output_type": "stream",
          "name": "stdout",
          "text": [
            "Accuracy: 0.98\n",
            "                    precision    recall  f1-score   support\n",
            "\n",
            "         rec.autos       0.97      1.00      0.99       198\n",
            "talk.politics.misc       1.00      0.96      0.98       155\n",
            "\n",
            "          accuracy                           0.98       353\n",
            "         macro avg       0.99      0.98      0.98       353\n",
            "      weighted avg       0.98      0.98      0.98       353\n",
            "\n"
          ]
        }
      ]
    },
    {
      "cell_type": "code",
      "source": [],
      "metadata": {
        "id": "QEW-R5Bq9mom"
      },
      "execution_count": null,
      "outputs": []
    },
    {
      "cell_type": "code",
      "source": [],
      "metadata": {
        "id": "R_V3m6l49mm7"
      },
      "execution_count": null,
      "outputs": []
    },
    {
      "cell_type": "code",
      "source": [],
      "metadata": {
        "id": "fRCzCKv19mk9"
      },
      "execution_count": null,
      "outputs": []
    },
    {
      "cell_type": "code",
      "source": [
        "# Write a Python program to train an SVM Classifier and a Naïve Bayes Classifier on the same dataset and compare their accuracy\n",
        "\n",
        "from sklearn import datasets\n",
        "from sklearn.model_selection import train_test_split\n",
        "from sklearn.svm import SVC\n",
        "from sklearn.naive_bayes import GaussianNB\n",
        "from sklearn.metrics import accuracy_score\n",
        "\n",
        "iris = datasets.load_iris()\n",
        "X = iris.data\n",
        "y = iris.target\n",
        "\n",
        "X_train, X_test, y_train, y_test = train_test_split(X, y, test_size=0.2, random_state=42)\n",
        "\n",
        "svm = SVC()\n",
        "svm.fit(X_train, y_train)\n",
        "y_pred_svm = svm.predict(X_test)\n",
        "acc_svm = accuracy_score(y_test, y_pred_svm)\n",
        "\n",
        "nb = GaussianNB()\n",
        "nb.fit(X_train, y_train)\n",
        "y_pred_nb = nb.predict(X_test)\n",
        "acc_nb = accuracy_score(y_test, y_pred_nb)\n",
        "\n",
        "print(f\"SVM Accuracy: {acc_svm:.2f}\")\n",
        "print(f\"Naïve Bayes Accuracy: {acc_nb:.2f}\")"
      ],
      "metadata": {
        "colab": {
          "base_uri": "https://localhost:8080/"
        },
        "id": "NRnNA3LQ9mjG",
        "outputId": "6487f2d4-a0fe-4361-984f-8c003ca42150"
      },
      "execution_count": 9,
      "outputs": [
        {
          "output_type": "stream",
          "name": "stdout",
          "text": [
            "SVM Accuracy: 1.00\n",
            "Naïve Bayes Accuracy: 1.00\n"
          ]
        }
      ]
    },
    {
      "cell_type": "code",
      "source": [],
      "metadata": {
        "id": "9Vk3Xmb49ubT"
      },
      "execution_count": null,
      "outputs": []
    },
    {
      "cell_type": "code",
      "source": [],
      "metadata": {
        "id": "sbjGw4OQ9uZD"
      },
      "execution_count": null,
      "outputs": []
    },
    {
      "cell_type": "code",
      "source": [
        "#  Write a Python program to perform feature selection before training a Naïve Bayes classifier and compare results.\n",
        "\n",
        "from sklearn import datasets\n",
        "from sklearn.model_selection import train_test_split\n",
        "from sklearn.naive_bayes import GaussianNB\n",
        "from sklearn.feature_selection import SelectKBest, chi2\n",
        "from sklearn.metrics import accuracy_score\n",
        "\n",
        "iris = datasets.load_iris()\n",
        "X = iris.data\n",
        "y = iris.target\n",
        "\n",
        "X_train, X_test, y_train, y_test = train_test_split(X, y, test_size=0.2, random_state=42)\n",
        "\n",
        "nb = GaussianNB()\n",
        "nb.fit(X_train, y_train)\n",
        "y_pred = nb.predict(X_test)\n",
        "acc_without_fs = accuracy_score(y_test, y_pred)\n",
        "\n",
        "selector = SelectKBest(score_func=chi2, k=2)\n",
        "X_train_selected = selector.fit_transform(X_train, y_train)\n",
        "X_test_selected = selector.transform(X_test)\n",
        "\n",
        "nb_fs = GaussianNB()\n",
        "nb_fs.fit(X_train_selected, y_train)\n",
        "y_pred_fs = nb_fs.predict(X_test_selected)\n",
        "acc_with_fs = accuracy_score(y_test, y_pred_fs)\n",
        "\n",
        "print(f\"Accuracy without feature selection: {acc_without_fs:.2f}\")\n",
        "print(f\"Accuracy with feature selection: {acc_with_fs:.2f}\")"
      ],
      "metadata": {
        "colab": {
          "base_uri": "https://localhost:8080/"
        },
        "id": "3p5YS7ML9uW-",
        "outputId": "8c63598f-5974-4fee-c368-76d87e162e97"
      },
      "execution_count": 10,
      "outputs": [
        {
          "output_type": "stream",
          "name": "stdout",
          "text": [
            "Accuracy without feature selection: 1.00\n",
            "Accuracy with feature selection: 1.00\n"
          ]
        }
      ]
    },
    {
      "cell_type": "code",
      "source": [],
      "metadata": {
        "id": "mYe4RKlP91Lk"
      },
      "execution_count": null,
      "outputs": []
    },
    {
      "cell_type": "code",
      "source": [],
      "metadata": {
        "id": "U-MQwkYK91Iu"
      },
      "execution_count": null,
      "outputs": []
    },
    {
      "cell_type": "code",
      "source": [
        "#  Write a Python program to train an SVM Classifier using Stratified K-Fold Cross-Validation and compute the average accuracy.\n",
        "\n",
        "from sklearn import datasets\n",
        "from sklearn.svm import SVC\n",
        "from sklearn.model_selection import StratifiedKFold\n",
        "from sklearn.metrics import accuracy_score\n",
        "import numpy as np\n",
        "\n",
        "iris = datasets.load_iris()\n",
        "X = iris.data\n",
        "y = iris.target\n",
        "\n",
        "skf = StratifiedKFold(n_splits=5, shuffle=True, random_state=42)\n",
        "accuracies = []\n",
        "\n",
        "for train_index, test_index in skf.split(X, y):\n",
        "    X_train, X_test = X[train_index], X[test_index]\n",
        "    y_train, y_test = y[train_index], y[test_index]\n",
        "\n",
        "    svm = SVC()\n",
        "    svm.fit(X_train, y_train)\n",
        "    y_pred = svm.predict(X_test)\n",
        "    acc = accuracy_score(y_test, y_pred)\n",
        "    accuracies.append(acc)\n",
        "\n",
        "average_accuracy = np.mean(accuracies)\n",
        "print(f\"Average accuracy with Stratified K-Fold CV: {average_accuracy:.2f}\")"
      ],
      "metadata": {
        "colab": {
          "base_uri": "https://localhost:8080/"
        },
        "id": "kimbclZD91Gl",
        "outputId": "d5a5fc96-066e-4544-81f4-7a4aafc5294e"
      },
      "execution_count": 11,
      "outputs": [
        {
          "output_type": "stream",
          "name": "stdout",
          "text": [
            "Average accuracy with Stratified K-Fold CV: 0.97\n"
          ]
        }
      ]
    },
    {
      "cell_type": "code",
      "source": [],
      "metadata": {
        "id": "F07PjqU998mK"
      },
      "execution_count": null,
      "outputs": []
    },
    {
      "cell_type": "code",
      "source": [],
      "metadata": {
        "id": "tlA4dGOV98kD"
      },
      "execution_count": null,
      "outputs": []
    },
    {
      "cell_type": "code",
      "source": [
        "# Write a Python program to train a Naïve Bayes classifier using different prior probabilities and compare performance\n",
        "\n",
        "from sklearn import datasets\n",
        "from sklearn.naive_bayes import GaussianNB\n",
        "from sklearn.model_selection import train_test_split\n",
        "from sklearn.metrics import accuracy_score\n",
        "\n",
        "iris = datasets.load_iris()\n",
        "X = iris.data\n",
        "y = iris.target\n",
        "\n",
        "X_train, X_test, y_train, y_test = train_test_split(X, y, test_size=0.2, random_state=42)\n",
        "\n",
        "priors_list = [\n",
        "    None,\n",
        "    [0.2, 0.5, 0.3],\n",
        "    [0.5, 0.3, 0.2]\n",
        "]\n",
        "\n",
        "for priors in priors_list:\n",
        "    clf = GaussianNB(priors=priors)\n",
        "    clf.fit(X_train, y_train)\n",
        "    y_pred = clf.predict(X_test)\n",
        "    acc = accuracy_score(y_test, y_pred)\n",
        "    print(f\"Priors: {priors} -> Accuracy: {acc:.2f}\")"
      ],
      "metadata": {
        "colab": {
          "base_uri": "https://localhost:8080/"
        },
        "id": "vRR-i55-98h3",
        "outputId": "d072e6e5-79ad-4d32-e1df-ea5377e9cc7b"
      },
      "execution_count": 12,
      "outputs": [
        {
          "output_type": "stream",
          "name": "stdout",
          "text": [
            "Priors: None -> Accuracy: 1.00\n",
            "Priors: [0.2, 0.5, 0.3] -> Accuracy: 1.00\n",
            "Priors: [0.5, 0.3, 0.2] -> Accuracy: 1.00\n"
          ]
        }
      ]
    },
    {
      "cell_type": "code",
      "source": [],
      "metadata": {
        "id": "RriojzD0-EcV"
      },
      "execution_count": null,
      "outputs": []
    },
    {
      "cell_type": "code",
      "source": [],
      "metadata": {
        "id": "teMHXmUW-Eaa"
      },
      "execution_count": null,
      "outputs": []
    },
    {
      "cell_type": "code",
      "source": [
        "# Write a Python program to train an SVM Classifier and evaluate its performance using Precision, Recall, and F1-Score instead of accuracy\n",
        "\n",
        "from sklearn import datasets\n",
        "from sklearn.svm import SVC\n",
        "from sklearn.model_selection import train_test_split\n",
        "from sklearn.metrics import precision_score, recall_score, f1_score\n",
        "\n",
        "iris = datasets.load_iris()\n",
        "X = iris.data\n",
        "y = iris.target\n",
        "\n",
        "X_train, X_test, y_train, y_test = train_test_split(X, y, test_size=0.2, random_state=42)\n",
        "\n",
        "svm = SVC()\n",
        "svm.fit(X_train, y_train)\n",
        "y_pred = svm.predict(X_test)\n",
        "\n",
        "precision = precision_score(y_test, y_pred, average='macro')\n",
        "recall = recall_score(y_test, y_pred, average='macro')\n",
        "f1 = f1_score(y_test, y_pred, average='macro')\n",
        "\n",
        "print(f\"Precision: {precision:.2f}\")\n",
        "print(f\"Recall: {recall:.2f}\")\n",
        "print(f\"F1-Score: {f1:.2f}\")"
      ],
      "metadata": {
        "colab": {
          "base_uri": "https://localhost:8080/"
        },
        "id": "aTvBDKFS-EYS",
        "outputId": "69062389-68f9-49cf-90a2-e4b5f350ad26"
      },
      "execution_count": 13,
      "outputs": [
        {
          "output_type": "stream",
          "name": "stdout",
          "text": [
            "Precision: 1.00\n",
            "Recall: 1.00\n",
            "F1-Score: 1.00\n"
          ]
        }
      ]
    },
    {
      "cell_type": "code",
      "source": [],
      "metadata": {
        "id": "_db_io4e-K7j"
      },
      "execution_count": null,
      "outputs": []
    },
    {
      "cell_type": "code",
      "source": [],
      "metadata": {
        "id": "e-EKNamw-K5K"
      },
      "execution_count": null,
      "outputs": []
    },
    {
      "cell_type": "code",
      "source": [
        "# Write a Python program to train a Naïve Bayes Classifier and evaluate its performance using Log Loss (Cross-Entropy Loss)\n",
        "\n",
        "from sklearn import datasets\n",
        "from sklearn.naive_bayes import GaussianNB\n",
        "from sklearn.model_selection import train_test_split\n",
        "from sklearn.metrics import log_loss\n",
        "\n",
        "iris = datasets.load_iris()\n",
        "X = iris.data\n",
        "y = iris.target\n",
        "\n",
        "X_train, X_test, y_train, y_test = train_test_split(X, y, test_size=0.2, random_state=42)\n",
        "\n",
        "nb = GaussianNB()\n",
        "nb.fit(X_train, y_train)\n",
        "\n",
        "y_prob = nb.predict_proba(X_test)\n",
        "\n",
        "loss = log_loss(y_test, y_prob)\n",
        "print(f\"Log Loss: {loss:.4f}\")"
      ],
      "metadata": {
        "colab": {
          "base_uri": "https://localhost:8080/"
        },
        "id": "vGq8UWx7-K23",
        "outputId": "96bf7b6b-1b56-4aac-b8da-4b26307e4d8c"
      },
      "execution_count": 14,
      "outputs": [
        {
          "output_type": "stream",
          "name": "stdout",
          "text": [
            "Log Loss: 0.0263\n"
          ]
        }
      ]
    },
    {
      "cell_type": "code",
      "source": [],
      "metadata": {
        "id": "pHygO27x-RdE"
      },
      "execution_count": null,
      "outputs": []
    },
    {
      "cell_type": "code",
      "source": [],
      "metadata": {
        "id": "Om6P45A4-Ra2"
      },
      "execution_count": null,
      "outputs": []
    },
    {
      "cell_type": "code",
      "source": [
        "#  Write a Python program to train an SVM Regressor (SVR) and evaluate its performance using Mean Absolute Error (MAE) instead of MSE.\n",
        "\n",
        "from sklearn.datasets import fetch_california_housing\n",
        "from sklearn.svm import SVR\n",
        "from sklearn.model_selection import train_test_split\n",
        "from sklearn.metrics import mean_absolute_error\n",
        "\n",
        "data = fetch_california_housing()\n",
        "X = data.data\n",
        "y = data.target\n",
        "\n",
        "X_train, X_test, y_train, y_test = train_test_split(X, y, test_size=0.2, random_state=42)\n",
        "\n",
        "svr = SVR()\n",
        "svr.fit(X_train, y_train)\n",
        "\n",
        "y_pred = svr.predict(X_test)\n",
        "\n",
        "mae = mean_absolute_error(y_test, y_pred)\n",
        "print(f\"Mean Absolute Error: {mae:.3f}\")"
      ],
      "metadata": {
        "colab": {
          "base_uri": "https://localhost:8080/"
        },
        "id": "PAysjt9P-RYo",
        "outputId": "8611ab3f-61ab-42fd-c004-e73f7774dea6"
      },
      "execution_count": 16,
      "outputs": [
        {
          "output_type": "stream",
          "name": "stdout",
          "text": [
            "Mean Absolute Error: 0.860\n"
          ]
        }
      ]
    },
    {
      "cell_type": "code",
      "source": [],
      "metadata": {
        "id": "2dNtwsUZ-k-y"
      },
      "execution_count": null,
      "outputs": []
    },
    {
      "cell_type": "code",
      "source": [],
      "metadata": {
        "id": "va3UfJCV-mPP"
      },
      "execution_count": null,
      "outputs": []
    },
    {
      "cell_type": "code",
      "source": [
        "# Write a Python program to train a Naïve Bayes classifier and evaluate its performance using the ROC-AUC score.\n",
        "\n",
        "from sklearn.datasets import make_classification\n",
        "from sklearn.naive_bayes import GaussianNB\n",
        "from sklearn.model_selection import train_test_split\n",
        "from sklearn.metrics import roc_auc_score\n",
        "\n",
        "X, y = make_classification(n_samples=1000, n_features=20, n_classes=2,\n",
        "                           random_state=42, weights=[0.7, 0.3])\n",
        "\n",
        "X_train, X_test, y_train, y_test = train_test_split(X, y, test_size=0.2, random_state=42)\n",
        "\n",
        "nb = GaussianNB()\n",
        "nb.fit(X_train, y_train)\n",
        "\n",
        "y_prob = nb.predict_proba(X_test)[:, 1]\n",
        "\n",
        "roc_auc = roc_auc_score(y_test, y_prob)\n",
        "print(f\"ROC-AUC Score: {roc_auc:.3f}\")"
      ],
      "metadata": {
        "colab": {
          "base_uri": "https://localhost:8080/"
        },
        "id": "A-IHqoxO-mMy",
        "outputId": "d3e8be90-2df4-4dcc-b777-1db3b107b3bd"
      },
      "execution_count": 17,
      "outputs": [
        {
          "output_type": "stream",
          "name": "stdout",
          "text": [
            "ROC-AUC Score: 0.874\n"
          ]
        }
      ]
    },
    {
      "cell_type": "code",
      "source": [],
      "metadata": {
        "id": "xKT_rsq2-r0q"
      },
      "execution_count": null,
      "outputs": []
    },
    {
      "cell_type": "code",
      "source": [],
      "metadata": {
        "id": "jAEAgBui-ry-"
      },
      "execution_count": null,
      "outputs": []
    },
    {
      "cell_type": "code",
      "source": [
        "#  Write a Python program to train an SVM Classifier and visualize the Precision-Recall Curve.\n",
        "\n",
        "import numpy as np\n",
        "import matplotlib.pyplot as plt\n",
        "from sklearn.datasets import make_classification\n",
        "from sklearn.svm import SVC\n",
        "from sklearn.model_selection import train_test_split\n",
        "from sklearn.metrics import precision_recall_curve, average_precision_score\n",
        "\n",
        "X, y = make_classification(n_samples=1000, n_features=20, n_classes=2,\n",
        "                           random_state=42, weights=[0.6, 0.4])\n",
        "\n",
        "X_train, X_test, y_train, y_test = train_test_split(X, y, test_size=0.2, random_state=42)\n",
        "\n",
        "svm = SVC(probability=True)\n",
        "svm.fit(X_train, y_train)\n",
        "\n",
        "y_scores = svm.predict_proba(X_test)[:, 1]\n",
        "\n",
        "precision, recall, _ = precision_recall_curve(y_test, y_scores)\n",
        "avg_precision = average_precision_score(y_test, y_scores)\n",
        "\n",
        "plt.plot(recall, precision, label=f'AP={avg_precision:.2f}')\n",
        "plt.xlabel('Recall')\n",
        "plt.ylabel('Precision')\n",
        "plt.title('Precision-Recall Curve')\n",
        "plt.legend()\n",
        "plt.show()"
      ],
      "metadata": {
        "colab": {
          "base_uri": "https://localhost:8080/",
          "height": 472
        },
        "id": "EBjAK34j-rwn",
        "outputId": "d72ff71c-c095-4269-dca1-88de277a9149"
      },
      "execution_count": 18,
      "outputs": [
        {
          "output_type": "display_data",
          "data": {
            "text/plain": [
              "<Figure size 640x480 with 1 Axes>"
            ],
            "image/png": "[encoded data removed]"
          },
          "metadata": {}
        }
      ]
    }
  ]
}