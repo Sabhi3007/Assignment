{
  "nbformat": 4,
  "nbformat_minor": 0,
  "metadata": {
    "colab": {
      "provenance": []
    },
    "kernelspec": {
      "name": "python3",
      "display_name": "Python 3"
    },
    "language_info": {
      "name": "python"
    }
  },
  "cells": [
    {
      "cell_type": "code",
      "execution_count": null,
      "metadata": {
        "id": "HzhIrmNH5Qbt"
      },
      "outputs": [],
      "source": [
        "# What does R-squared represent in a regression model?\n",
        "\n",
        "- R-squared (R²), also called the coefficient of determination, measures how well the regression model fits the data.\n",
        "\n",
        "- It represents the proportion of the variance in the dependent variable (Y) that is explained by the independent variable(s) (X).\n",
        "\n",
        "- Value Range: 0 to 1\n",
        "  - R² = 0 means the model explains none of the variability.\n",
        "  - R² = 1 means the model explains all the variability in the data.\n",
        "\n",
        "- Interpretation:\n",
        "  - Higher R² indicates a better fit of the model to the data.\n",
        "  - For example, R² = 0.8 means 80% of the variance in Y is explained by X.\n",
        "\n",
        "- Limitation:\n",
        "  - R² alone does not indicate whether the model is appropriate.\n",
        "  - It can increase with more variables, even if they are not meaningful."
      ]
    },
    {
      "cell_type": "code",
      "source": [],
      "metadata": {
        "id": "4OTmGXIQ5m06"
      },
      "execution_count": null,
      "outputs": []
    },
    {
      "cell_type": "code",
      "source": [],
      "metadata": {
        "id": "qeaHMbFb5mzf"
      },
      "execution_count": null,
      "outputs": []
    },
    {
      "cell_type": "code",
      "source": [
        "# What are the assumptions of linear regression?\n",
        "\n",
        "1. **Linearity**:\n",
        "   - The relationship between independent and dependent variables is linear.\n",
        "\n",
        "2. **Independence**:\n",
        "   - Observations are independent of each other (no autocorrelation).\n",
        "\n",
        "3. **Homoscedasticity**:\n",
        "   - Constant variance of residuals/errors across all levels of independent variables.\n",
        "\n",
        "4. **Normality of Residuals**:\n",
        "   - The residuals (differences between observed and predicted values) are normally distributed.\n",
        "\n",
        "5. **No Multicollinearity**:\n",
        "   - Independent variables are not highly correlated with each other (only for multiple regression).\n",
        "\n",
        "6. **No Measurement Error**:\n",
        "   - Variables are measured accurately without errors."
      ],
      "metadata": {
        "id": "hpXaWhYQ5mxH"
      },
      "execution_count": null,
      "outputs": []
    },
    {
      "cell_type": "code",
      "source": [],
      "metadata": {
        "id": "UCBkbfpn5vOO"
      },
      "execution_count": null,
      "outputs": []
    },
    {
      "cell_type": "code",
      "source": [],
      "metadata": {
        "id": "C2TvIYCA5vMC"
      },
      "execution_count": null,
      "outputs": []
    },
    {
      "cell_type": "code",
      "source": [
        "# What is the difference between R-squared and Adjusted R-squared?\n",
        "\n",
        "1. **R-squared (R²)**:\n",
        "   - Measures the proportion of variance in the dependent variable explained by the independent variables.\n",
        "   - Always increases or stays the same when more predictors are added to the model.\n",
        "   - Can be misleading if many irrelevant variables are included, leading to overfitting.\n",
        "\n",
        "2. **Adjusted R-squared**:\n",
        "   - Adjusts the R² value by penalizing the addition of unnecessary predictors.\n",
        "   - Can decrease if added variables do not improve the model.\n",
        "   - Provides a more accurate measure of model fit when comparing models with different numbers of predictors."
      ],
      "metadata": {
        "id": "POoFHAp65vwj"
      },
      "execution_count": null,
      "outputs": []
    },
    {
      "cell_type": "code",
      "source": [],
      "metadata": {
        "id": "8GgNT3Iq54B8"
      },
      "execution_count": null,
      "outputs": []
    },
    {
      "cell_type": "code",
      "source": [],
      "metadata": {
        "id": "9vtOYwYe537h"
      },
      "execution_count": null,
      "outputs": []
    },
    {
      "cell_type": "code",
      "source": [
        "# Why do we use Mean Squared Error (MSE)?\n",
        "\n",
        "- MSE measures the average squared difference between the actual values and the predicted values in a regression model.\n",
        "\n",
        "- It quantifies how well the model’s predictions match the true data.\n",
        "\n",
        "Key Reasons to Use MSE:\n",
        "\n",
        "1. **Penalizes Larger Errors More**:\n",
        "   - Squaring the errors means larger errors contribute more, encouraging models to avoid big mistakes.\n",
        "\n",
        "2. **Mathematically Convenient**:\n",
        "   - MSE is differentiable, which helps optimization algorithms (like gradient descent) to find the best model parameters.\n",
        "\n",
        "3. **Common Performance Metric**:\n",
        "   - Widely used in regression tasks to compare and evaluate models.\n",
        "\n",
        "4. **Unit Consistency**:\n",
        "   - Though squared units can be unintuitive, MSE gives a clear numerical score for error magnitude."
      ],
      "metadata": {
        "id": "twJPjYr053yx"
      },
      "execution_count": null,
      "outputs": []
    },
    {
      "cell_type": "code",
      "source": [],
      "metadata": {
        "id": "pBaxXNLS5_Kr"
      },
      "execution_count": null,
      "outputs": []
    },
    {
      "cell_type": "code",
      "source": [],
      "metadata": {
        "id": "X8PlkZBL5_H1"
      },
      "execution_count": null,
      "outputs": []
    },
    {
      "cell_type": "code",
      "source": [
        "# What does an Adjusted R-squared value of 0.85 indicate?\n",
        "\n",
        "\n",
        "- An Adjusted R-squared value of 0.85 means that 85% of the variability in the dependent variable\n",
        "  is explained by the independent variables in the regression model,\n",
        "  after adjusting for the number of predictors.\n",
        "\n",
        "- It suggests the model fits the data very well,\n",
        "  while accounting for model complexity to avoid overfitting.\n",
        "\n",
        "- Higher Adjusted R-squared values indicate better explanatory power,\n",
        "  but it should be considered along with other metrics and assumptions."
      ],
      "metadata": {
        "id": "5-TjGMfV5--7"
      },
      "execution_count": null,
      "outputs": []
    },
    {
      "cell_type": "code",
      "source": [],
      "metadata": {
        "id": "_Oe3iA6C6Gj_"
      },
      "execution_count": null,
      "outputs": []
    },
    {
      "cell_type": "code",
      "source": [],
      "metadata": {
        "id": "eJneytFG6Giy"
      },
      "execution_count": null,
      "outputs": []
    },
    {
      "cell_type": "code",
      "source": [
        "# How do we check for normality of residuals in linear regression?\n",
        "\n",
        "1. **Visual Methods**:\n",
        "   - **Histogram**: Plot a histogram of residuals to see if they roughly follow a bell-shaped curve.\n",
        "   - **Q-Q Plot (Quantile-Quantile Plot)**: Compare residual quantiles against a normal distribution.\n",
        "     If points lie close to the diagonal line, residuals are approximately normal.\n",
        "\n",
        "2. **Statistical Tests**:\n",
        "   - **Shapiro-Wilk Test**: Tests the null hypothesis that residuals are normally distributed.\n",
        "   - **Kolmogorov-Smirnov Test** or **Anderson-Darling Test**: Other options for normality testing.\n",
        "\n",
        "3. **Residual Plots**:\n",
        "   - Plot residuals vs. fitted values to check for randomness; non-random patterns may indicate non-normality."
      ],
      "metadata": {
        "id": "VqB5kBxK6GgX"
      },
      "execution_count": null,
      "outputs": []
    },
    {
      "cell_type": "code",
      "source": [],
      "metadata": {
        "id": "MSJlbBcN6Nwf"
      },
      "execution_count": null,
      "outputs": []
    },
    {
      "cell_type": "code",
      "source": [],
      "metadata": {
        "id": "LhTtJFDz6Nt4"
      },
      "execution_count": null,
      "outputs": []
    },
    {
      "cell_type": "code",
      "source": [
        "# What is multicollinearity, and how does it impact regression?\n",
        "\n",
        "- Multicollinearity occurs when two or more independent variables in a regression model are highly correlated.\n",
        "\n",
        "Impact on Regression:\n",
        "\n",
        "1. **Unstable Coefficients**:\n",
        "   - Coefficient estimates become sensitive to small changes in the data.\n",
        "   - Makes it difficult to determine the individual effect of each predictor.\n",
        "\n",
        "2. **Inflated Standard Errors**:\n",
        "   - Increases the standard errors of coefficients, reducing their statistical significance.\n",
        "\n",
        "3. **Reduced Model Interpretability**:\n",
        "   - Hard to interpret the influence of correlated predictors.\n",
        "\n",
        "4. **Possible Overfitting**:\n",
        "   - Model may fit training data well but perform poorly on new data."
      ],
      "metadata": {
        "id": "hrGp16Wm6Nrr"
      },
      "execution_count": null,
      "outputs": []
    },
    {
      "cell_type": "code",
      "source": [],
      "metadata": {
        "id": "v2C3dhA36WYP"
      },
      "execution_count": null,
      "outputs": []
    },
    {
      "cell_type": "code",
      "source": [],
      "metadata": {
        "id": "KEosVyyC6WWf"
      },
      "execution_count": null,
      "outputs": []
    },
    {
      "cell_type": "code",
      "source": [
        "#  What is Mean Absolute Error (MAE)?\n",
        "\n",
        "- MAE measures the average absolute difference between the actual values and the predicted values in a regression model.\n",
        "\n",
        "- It calculates the average magnitude of errors without considering their direction (ignores positive or negative sign).\n",
        "\n",
        "- Formula: MAE = (1/n) * Σ |actual - predicted|, where n is the number of observations.\n",
        "\n",
        "Key Points:\n",
        "- MAE is easy to interpret because it is in the same units as the target variable.\n",
        "- Unlike Mean Squared Error (MSE), it does not penalize larger errors more heavily.\n",
        "- Useful when all errors are equally important."
      ],
      "metadata": {
        "id": "jPeAkr686WUL"
      },
      "execution_count": null,
      "outputs": []
    },
    {
      "cell_type": "code",
      "source": [],
      "metadata": {
        "id": "NrfHCTyX6fxR"
      },
      "execution_count": null,
      "outputs": []
    },
    {
      "cell_type": "code",
      "source": [],
      "metadata": {
        "id": "mTK4PAry6fvP"
      },
      "execution_count": null,
      "outputs": []
    },
    {
      "cell_type": "code",
      "source": [
        "# What are the benefits of using an ML pipeline?\n",
        "\n",
        "1. **Automation**:\n",
        "   - Automates the workflow from data preprocessing to model training and evaluation.\n",
        "   - Saves time and reduces manual errors.\n",
        "\n",
        "2. **Reproducibility**:\n",
        "   - Ensures consistent and repeatable results by standardizing steps.\n",
        "   - Makes it easier to share and collaborate on projects.\n",
        "\n",
        "3. **Modularity**:\n",
        "   - Breaks complex processes into smaller, manageable components.\n",
        "   - Allows easy updates or replacements of individual steps.\n",
        "\n",
        "4. **Scalability**:\n",
        "   - Facilitates scaling workflows to larger datasets or more complex models.\n",
        "\n",
        "5. **Maintenance**:\n",
        "   - Simplifies debugging and maintenance due to organized structure.\n",
        "\n",
        "6. **Improved Experimentation**:\n",
        "   - Enables quick testing of different preprocessing or modeling techniques."
      ],
      "metadata": {
        "id": "qbHA2gC-6fs4"
      },
      "execution_count": null,
      "outputs": []
    },
    {
      "cell_type": "code",
      "source": [],
      "metadata": {
        "id": "6yIC1p9C6ny4"
      },
      "execution_count": null,
      "outputs": []
    },
    {
      "cell_type": "code",
      "source": [],
      "metadata": {
        "id": "45fkLAiM6nxM"
      },
      "execution_count": null,
      "outputs": []
    },
    {
      "cell_type": "code",
      "source": [
        "# Why is RMSE considered more interpretable than MSE?\n",
        "\n",
        "- RMSE (Root Mean Squared Error) is the square root of MSE (Mean Squared Error).\n",
        "\n",
        "- While MSE measures the average squared errors, its units are the square of the target variable’s units,\n",
        "  which can be hard to interpret.\n",
        "\n",
        "- RMSE converts this back to the original units by taking the square root,\n",
        "  making it easier to understand how far predictions deviate from actual values on average.\n",
        "\n",
        "- Example:\n",
        "  - If predicting house prices in dollars, RMSE is also in dollars, but MSE is in dollars squared."
      ],
      "metadata": {
        "id": "EzD9ql646nt1"
      },
      "execution_count": null,
      "outputs": []
    },
    {
      "cell_type": "code",
      "source": [],
      "metadata": {
        "id": "aU4U4uOT6wUw"
      },
      "execution_count": null,
      "outputs": []
    },
    {
      "cell_type": "code",
      "source": [],
      "metadata": {
        "id": "hLXVa3B46wTH"
      },
      "execution_count": null,
      "outputs": []
    },
    {
      "cell_type": "code",
      "source": [
        "# What is pickling in Python, and how is it useful in ML?\n",
        "\n",
        "- Pickling is the process of converting a Python object into a byte stream (serialization),\n",
        "  so it can be saved to a file or transferred over a network.\n",
        "\n",
        "- Unpickling is the reverse process, converting the byte stream back into a Python object.\n",
        "\n",
        "Usefulness in Machine Learning:\n",
        "\n",
        "1. **Model Persistence**:\n",
        "   - Save trained ML models to disk for later use without retraining.\n",
        "   - Allows sharing models between systems or deployment environments.\n",
        "\n",
        "2. **Saving Preprocessing Objects**:\n",
        "   - Store scalers, encoders, or other transformers for consistent data processing.\n",
        "\n",
        "3. **Efficient Workflow**:\n",
        "   - Load pre-trained models quickly to make predictions or continue training."
      ],
      "metadata": {
        "id": "mY7fpIZ36wRC"
      },
      "execution_count": null,
      "outputs": []
    },
    {
      "cell_type": "code",
      "source": [],
      "metadata": {
        "id": "1r8nVxKA64Hw"
      },
      "execution_count": null,
      "outputs": []
    },
    {
      "cell_type": "code",
      "source": [],
      "metadata": {
        "id": "7FdnZMH764Fj"
      },
      "execution_count": null,
      "outputs": []
    },
    {
      "cell_type": "code",
      "source": [
        "# What does a high R-squared value mean?\n",
        "\n",
        "- A high R-squared value (close to 1) means the regression model explains a large portion of the variance in the dependent variable.\n",
        "\n",
        "- It indicates a strong relationship between the independent variable(s) and the dependent variable.\n",
        "\n",
        "- The model fits the data well and predicts the outcome accurately for the data used.\n",
        "\n",
        "- However, a high R-squared does NOT guarantee:\n",
        "  - The model is the best or correct model.\n",
        "  - The model will perform well on new/unseen data.\n",
        "  - That there is causation, only correlation."
      ],
      "metadata": {
        "id": "DUITXGny64Db"
      },
      "execution_count": null,
      "outputs": []
    },
    {
      "cell_type": "code",
      "source": [],
      "metadata": {
        "id": "ieZObUpY7Acx"
      },
      "execution_count": null,
      "outputs": []
    },
    {
      "cell_type": "code",
      "source": [],
      "metadata": {
        "id": "wveEh5Xa7AbG"
      },
      "execution_count": null,
      "outputs": []
    },
    {
      "cell_type": "code",
      "source": [
        "# What happens if linear regression assumptions are violated?\n",
        "\n",
        "1. **Linearity Violation**:\n",
        "   - The model may fail to capture the true relationship, leading to biased or inaccurate predictions.\n",
        "\n",
        "2. **Independence Violation**:\n",
        "   - Correlated errors (e.g., autocorrelation) can cause underestimated standard errors, making tests unreliable.\n",
        "\n",
        "3. **Homoscedasticity Violation** (Heteroscedasticity):\n",
        "   - Unequal error variances can lead to inefficient estimates and invalid hypothesis tests.\n",
        "\n",
        "4. **Normality Violation**:\n",
        "   - Affects the validity of confidence intervals and hypothesis tests, especially in small samples.\n",
        "\n",
        "5. **Multicollinearity**:\n",
        "   - Inflates standard errors of coefficients, making it hard to assess the effect of individual predictors.\n",
        "\n",
        "6. **Measurement Error**:\n",
        "   - Leads to biased and inconsistent estimates."
      ],
      "metadata": {
        "id": "djU5SlpX7AY-"
      },
      "execution_count": null,
      "outputs": []
    },
    {
      "cell_type": "code",
      "source": [],
      "metadata": {
        "id": "BiD0uDvX7Ieq"
      },
      "execution_count": null,
      "outputs": []
    },
    {
      "cell_type": "code",
      "source": [],
      "metadata": {
        "id": "kFLVAKyl7IdP"
      },
      "execution_count": null,
      "outputs": []
    },
    {
      "cell_type": "code",
      "source": [
        "#  How is Adjusted R-squared calculated?\n",
        "\n",
        "- Adjusted R-squared adjusts the R-squared value to account for the number of predictors in the model,\n",
        "  penalizing the addition of variables that do not improve the model.\n",
        "\n",
        "- Formula:\n",
        "\n",
        "    Adjusted R² = 1 - [(1 - R²) * (n - 1) / (n - p - 1)]\n",
        "\n",
        "  where:\n",
        "    - R² = Coefficient of determination (R-squared)\n",
        "    - n = Number of observations (data points)\n",
        "    - p = Number of independent variables (predictors)\n",
        "\n",
        "- This formula decreases the R² value if added variables do not improve the model fit enough."
      ],
      "metadata": {
        "id": "5nN4K81M7Ia_"
      },
      "execution_count": null,
      "outputs": []
    },
    {
      "cell_type": "code",
      "source": [],
      "metadata": {
        "id": "A3-SMr3c7QDu"
      },
      "execution_count": null,
      "outputs": []
    },
    {
      "cell_type": "code",
      "source": [],
      "metadata": {
        "id": "BGY9qO8_7QBt"
      },
      "execution_count": null,
      "outputs": []
    },
    {
      "cell_type": "code",
      "source": [
        "#  Why is MSE sensitive to outliers?\n",
        "\n",
        "- MSE calculates the average of the squared differences between actual and predicted values.\n",
        "\n",
        "- Squaring the errors amplifies the effect of large errors (outliers) much more than small errors.\n",
        "\n",
        "- Even a single large outlier can significantly increase the MSE value, skewing the measure of overall error.\n",
        "\n",
        "- This sensitivity means MSE heavily penalizes big mistakes, which can be useful or problematic depending on the context."
      ],
      "metadata": {
        "id": "TnAxgcfC7P_X"
      },
      "execution_count": null,
      "outputs": []
    },
    {
      "cell_type": "code",
      "source": [],
      "metadata": {
        "id": "HVELRCx17Xra"
      },
      "execution_count": null,
      "outputs": []
    },
    {
      "cell_type": "code",
      "source": [],
      "metadata": {
        "id": "tcTF6WiN7Xpe"
      },
      "execution_count": null,
      "outputs": []
    },
    {
      "cell_type": "code",
      "source": [
        "# What is the role of homoscedasticity in linear regression?\n",
        "\n",
        "- Homoscedasticity means that the variance of the residuals (errors) is constant across all levels of the independent variables.\n",
        "\n",
        "- It is a key assumption in linear regression ensuring that the spread of errors is uniform.\n",
        "\n",
        "- Why is it important?\n",
        "  1. Guarantees that the Ordinary Least Squares (OLS) estimators are the Best Linear Unbiased Estimators (BLUE).\n",
        "  2. Ensures valid standard errors, confidence intervals, and hypothesis tests.\n",
        "  3. If violated (heteroscedasticity), it can lead to inefficient estimates and misleading statistical inferences."
      ],
      "metadata": {
        "id": "jbRNjvqs7XnX"
      },
      "execution_count": null,
      "outputs": []
    },
    {
      "cell_type": "code",
      "source": [],
      "metadata": {
        "id": "I13sbHsg7fW7"
      },
      "execution_count": null,
      "outputs": []
    },
    {
      "cell_type": "code",
      "source": [],
      "metadata": {
        "id": "vMswo_JN7fVX"
      },
      "execution_count": null,
      "outputs": []
    },
    {
      "cell_type": "code",
      "source": [
        "# What is Root Mean Squared Error (RMSE)?\n",
        "\n",
        "- RMSE is a metric that measures the average magnitude of the errors between predicted and actual values in a regression model.\n",
        "\n",
        "- It is the square root of the Mean Squared Error (MSE).\n",
        "\n",
        "- Formula:\n",
        "  RMSE = sqrt( (1/n) * Σ(actual - predicted)² )\n",
        "\n",
        "- RMSE is expressed in the same units as the target variable, making it easier to interpret.\n",
        "\n",
        "- It penalizes larger errors more than smaller ones because of the squaring step."
      ],
      "metadata": {
        "id": "9wHJb3D67fSY"
      },
      "execution_count": null,
      "outputs": []
    },
    {
      "cell_type": "code",
      "source": [],
      "metadata": {
        "id": "B8PRTGUz7oAh"
      },
      "execution_count": null,
      "outputs": []
    },
    {
      "cell_type": "code",
      "source": [],
      "metadata": {
        "id": "CZkPOMm_7n-e"
      },
      "execution_count": null,
      "outputs": []
    },
    {
      "cell_type": "code",
      "source": [
        "# What alternatives exist to pickling for saving ML models?\n",
        "\n",
        "1. **Joblib**:\n",
        "   - Efficient for storing large numpy arrays inside models.\n",
        "   - Faster and more reliable than pickle for large data.\n",
        "\n",
        "2. **ONNX (Open Neural Network Exchange)**:\n",
        "   - A standardized format to save and share models across different frameworks.\n",
        "   - Useful for interoperability between tools like PyTorch, TensorFlow, etc.\n",
        "\n",
        "3. **HDF5 (Hierarchical Data Format)**:\n",
        "   - Often used with Keras/TensorFlow models via `.h5` files.\n",
        "   - Supports large datasets and model weights storage.\n",
        "\n",
        "4. **SavedModel (TensorFlow)**:\n",
        "   - TensorFlow’s native format for saving models including architecture, weights, and optimizer state.\n",
        "\n",
        "5. **PMML (Predictive Model Markup Language)**:\n",
        "   - XML-based standard for representing models, enabling deployment across platforms.\n",
        "\n",
        "6. **ONNX Runtime & TorchScript**:\n",
        "   - Formats designed for efficient model deployment and inference in production."
      ],
      "metadata": {
        "id": "ZWpq3kL27n8X"
      },
      "execution_count": null,
      "outputs": []
    },
    {
      "cell_type": "code",
      "source": [],
      "metadata": {
        "id": "JbStvGcx7wF6"
      },
      "execution_count": null,
      "outputs": []
    },
    {
      "cell_type": "code",
      "source": [],
      "metadata": {
        "id": "rQHyK0fR7wD_"
      },
      "execution_count": null,
      "outputs": []
    },
    {
      "cell_type": "code",
      "source": [
        "# What is heteroscedasticity, and why is it a problem?\n",
        "\n",
        "- Heteroscedasticity means the variance of the errors (residuals) in a regression model is not constant across all levels of the independent variables.\n",
        "\n",
        "- In other words, the spread of residuals changes—some parts of the data have more variability than others.\n",
        "\n",
        "Why is it a problem?\n",
        "\n",
        "1. Violates a key assumption of linear regression (homoscedasticity).\n",
        "2. Leads to inefficient and biased estimates of regression coefficients.\n",
        "3. Causes standard errors to be incorrect, making hypothesis tests (like t-tests) unreliable.\n",
        "4. Affects confidence intervals and p-values, potentially leading to wrong conclusions."
      ],
      "metadata": {
        "id": "NkKPu-cC7wBd"
      },
      "execution_count": null,
      "outputs": []
    },
    {
      "cell_type": "code",
      "source": [],
      "metadata": {
        "id": "nTvTLmtF75hl"
      },
      "execution_count": null,
      "outputs": []
    },
    {
      "cell_type": "code",
      "source": [],
      "metadata": {
        "id": "FokU7HDT75fk"
      },
      "execution_count": null,
      "outputs": []
    },
    {
      "cell_type": "code",
      "source": [
        "#  How can interaction terms enhance a regression model's predictive power?\n",
        "\n",
        "- Interaction terms represent the combined effect of two or more independent variables on the dependent variable.\n",
        "\n",
        "- They allow the model to capture situations where the effect of one predictor depends on the level of another predictor.\n",
        "\n",
        "- By including interaction terms, the model can better fit complex, real-world relationships that aren’t purely additive.\n",
        "\n",
        "- This often improves model accuracy and interpretability when variables influence each other.\n",
        "\n",
        "Example:\n",
        "- In predicting sales, the effect of advertising spend might depend on the season (interaction between advertising and season)."
      ],
      "metadata": {
        "id": "L2ueRGxS75dY"
      },
      "execution_count": null,
      "outputs": []
    },
    {
      "cell_type": "code",
      "source": [],
      "metadata": {
        "id": "pTUe4z_68Bmx"
      },
      "execution_count": null,
      "outputs": []
    },
    {
      "cell_type": "code",
      "source": [],
      "metadata": {
        "id": "NR-6kp7F8Bkl"
      },
      "execution_count": null,
      "outputs": []
    },
    {
      "cell_type": "code",
      "source": [
        "# Pratical Questions"
      ],
      "metadata": {
        "id": "MD7iEXdS8Bic"
      },
      "execution_count": null,
      "outputs": []
    },
    {
      "cell_type": "code",
      "source": [],
      "metadata": {
        "id": "DFAox93D8FFh"
      },
      "execution_count": null,
      "outputs": []
    },
    {
      "cell_type": "code",
      "source": [],
      "metadata": {
        "id": "dhRy3vsi8FDR"
      },
      "execution_count": null,
      "outputs": []
    },
    {
      "cell_type": "code",
      "source": [],
      "metadata": {
        "id": "INRkTy6V8FBL"
      },
      "execution_count": null,
      "outputs": []
    },
    {
      "cell_type": "code",
      "source": [
        "# Write a Python script to visualize the distribution of errors (residuals) for a multiple linear regression model using Seaborn's \"diamonds\" dataset\n",
        "\n",
        "# Import necessary libraries\n",
        "import seaborn as sns\n",
        "import matplotlib.pyplot as plt\n",
        "import statsmodels.api as sm\n",
        "import numpy as np\n",
        "import pandas as pd\n",
        "\n",
        "diamonds = sns.load_dataset('diamonds')\n",
        "\n",
        "X = diamonds[['carat', 'depth', 'table']]\n",
        "y = diamonds['price']\n",
        "\n",
        "X = sm.add_constant(X)\n",
        "\n",
        "model = sm.OLS(y, X).fit()\n",
        "\n",
        "\n",
        "y_pred = model.predict(X)\n",
        "\n",
        "residuals = y - y_pred\n",
        "\n",
        "sns.histplot(residuals, kde=True, bins=50, color='skyblue')\n",
        "plt.title('Distribution of Residuals for Multiple Linear Regression Model')\n",
        "plt.xlabel('Residuals')\n",
        "plt.ylabel('Frequency')\n",
        "plt.show()"
      ],
      "metadata": {
        "colab": {
          "base_uri": "https://localhost:8080/",
          "height": 472
        },
        "id": "bQ5lpya18E-9",
        "outputId": "c4a0d6fe-2ea0-4cd3-ba7a-3a661eeb58ad"
      },
      "execution_count": null,
      "outputs": [
        {
          "output_type": "display_data",
          "data": {
            "text/plain": [
              "<Figure size 640x480 with 1 Axes>"
            ],
            "image/png": "[encoded data removed]"
          },
          "metadata": {}
        }
      ]
    },
    {
      "cell_type": "code",
      "source": [],
      "metadata": {
        "id": "flwAC6-88X6r"
      },
      "execution_count": null,
      "outputs": []
    },
    {
      "cell_type": "code",
      "source": [],
      "metadata": {
        "id": "R6Crfw0T8X5E"
      },
      "execution_count": null,
      "outputs": []
    },
    {
      "cell_type": "code",
      "source": [
        "# Write a Python script to calculate and print Mean Squared Error (MSE), Mean Absolute Error (MAE), and Root Mean Squared Error (RMSE) for a linear regression model.\n",
        "\n",
        "from sklearn.datasets import make_regression\n",
        "from sklearn.linear_model import LinearRegression\n",
        "from sklearn.metrics import mean_squared_error, mean_absolute_error\n",
        "import numpy as np\n",
        "\n",
        "X, y = make_regression(n_samples=100, n_features=1, noise=10, random_state=42)\n",
        "\n",
        "model = LinearRegression()\n",
        "model.fit(X, y)\n",
        "\n",
        "y_pred = model.predict(X)\n",
        "\n",
        "mse = mean_squared_error(y, y_pred)\n",
        "mae = mean_absolute_error(y, y_pred)\n",
        "rmse = np.sqrt(mse)\n",
        "\n",
        "print(f\"Mean Squared Error (MSE): {mse:.4f}\")\n",
        "print(f\"Mean Absolute Error (MAE): {mae:.4f}\")\n",
        "print(f\"Root Mean Squared Error (RMSE): {rmse:.4f}\")"
      ],
      "metadata": {
        "colab": {
          "base_uri": "https://localhost:8080/"
        },
        "id": "KqmKGgvi8X3D",
        "outputId": "e5e38f65-df75-45a2-af48-9bb980cace53"
      },
      "execution_count": null,
      "outputs": [
        {
          "output_type": "stream",
          "name": "stdout",
          "text": [
            "Mean Squared Error (MSE): 78.0543\n",
            "Mean Absolute Error (MAE): 7.1045\n",
            "Root Mean Squared Error (RMSE): 8.8348\n"
          ]
        }
      ]
    },
    {
      "cell_type": "code",
      "source": [],
      "metadata": {
        "id": "rbzFj0DT8kRV"
      },
      "execution_count": null,
      "outputs": []
    },
    {
      "cell_type": "code",
      "source": [],
      "metadata": {
        "id": "RLWpXzco8kPe"
      },
      "execution_count": null,
      "outputs": []
    },
    {
      "cell_type": "code",
      "source": [
        "#  Write a Python script to check if the assumptions of linear regression are met. Use a scatter plot to check linearity, residuals plot for homoscedasticity, and correlation matrix for multicollinearity\n",
        "\n",
        "import seaborn as sns\n",
        "import matplotlib.pyplot as plt\n",
        "import statsmodels.api as sm\n",
        "import pandas as pd\n",
        "import numpy as np\n",
        "\n",
        "diamonds = sns.load_dataset('diamonds')\n",
        "X = diamonds[['carat', 'depth', 'table']]\n",
        "y = diamonds['price']\n",
        "X = sm.add_constant(X)\n",
        "model = sm.OLS(y, X).fit()\n",
        "y_pred = model.predict(X)\n",
        "residuals = y - y_pred\n",
        "\n",
        "plt.figure(figsize=(12, 4))\n",
        "plt.subplot(1, 3, 1)\n",
        "plt.scatter(diamonds['carat'], y)\n",
        "plt.title('Scatter Plot (Linearity)')\n",
        "plt.xlabel('Carat')\n",
        "plt.ylabel('Price')\n",
        "\n",
        "plt.subplot(1, 3, 2)\n",
        "plt.scatter(y_pred, residuals)\n",
        "plt.axhline(0, color='red', linestyle='--')\n",
        "plt.title('Residuals vs Fitted (Homoscedasticity)')\n",
        "plt.xlabel('Fitted values')\n",
        "plt.ylabel('Residuals')\n",
        "\n",
        "plt.subplot(1, 3, 3)\n",
        "sns.heatmap(X.drop(columns='const').corr(), annot=True, cmap='coolwarm')\n",
        "plt.title('Correlation Matrix (Multicollinearity)')\n",
        "\n",
        "plt.tight_layout()\n",
        "plt.show()"
      ],
      "metadata": {
        "colab": {
          "base_uri": "https://localhost:8080/",
          "height": 397
        },
        "id": "IsCFXf6L8kNZ",
        "outputId": "ed6f29ac-3a95-40da-8b42-da0ccef60c7e"
      },
      "execution_count": null,
      "outputs": [
        {
          "output_type": "display_data",
          "data": {
            "text/plain": [
              "<Figure size 1200x400 with 4 Axes>"
            ],
            "image/png": "[encoded data removed]"
          },
          "metadata": {}
        }
      ]
    },
    {
      "cell_type": "code",
      "source": [],
      "metadata": {
        "id": "VtcHROzn8xXv"
      },
      "execution_count": null,
      "outputs": []
    },
    {
      "cell_type": "code",
      "source": [],
      "metadata": {
        "id": "gV1pnzeC8xVg"
      },
      "execution_count": null,
      "outputs": []
    },
    {
      "cell_type": "code",
      "source": [],
      "metadata": {
        "id": "XfEW-qlW8xT7"
      },
      "execution_count": null,
      "outputs": []
    },
    {
      "cell_type": "code",
      "source": [
        "#  Write a Python script that creates a machine learning pipeline with feature scaling and evaluates the performance of different regression models.\n",
        "\n",
        "from sklearn.datasets import fetch_california_housing\n",
        "from sklearn.model_selection import train_test_split\n",
        "from sklearn.preprocessing import StandardScaler\n",
        "from sklearn.pipeline import Pipeline\n",
        "from sklearn.linear_model import LinearRegression, Ridge, Lasso\n",
        "from sklearn.metrics import mean_squared_error\n",
        "\n",
        "data = fetch_california_housing()\n",
        "X, y = data.data, data.target\n",
        "X_train, X_test, y_train, y_test = train_test_split(X, y, test_size=0.2, random_state=42)\n",
        "\n",
        "models = {\n",
        "    'Linear Regression': LinearRegression(),\n",
        "    'Ridge Regression': Ridge(alpha=1.0),\n",
        "    'Lasso Regression': Lasso(alpha=0.1)\n",
        "}\n",
        "\n",
        "for name, model in models.items():\n",
        "    pipeline = Pipeline([\n",
        "        ('scaler', StandardScaler()),\n",
        "        ('regressor', model)\n",
        "    ])\n",
        "    pipeline.fit(X_train, y_train)\n",
        "    y_pred = pipeline.predict(X_test)\n",
        "    mse = mean_squared_error(y_test, y_pred)\n",
        "    print(f\"{name} MSE: {mse:.4f}\")\n"
      ],
      "metadata": {
        "colab": {
          "base_uri": "https://localhost:8080/"
        },
        "id": "rsp5ofMB8xRj",
        "outputId": "0a8f0251-ee9e-4a1f-a618-215b2003474b"
      },
      "execution_count": null,
      "outputs": [
        {
          "output_type": "stream",
          "name": "stdout",
          "text": [
            "Linear Regression MSE: 0.5559\n",
            "Ridge Regression MSE: 0.5559\n",
            "Lasso Regression MSE: 0.6796\n"
          ]
        }
      ]
    },
    {
      "cell_type": "code",
      "source": [],
      "metadata": {
        "id": "YeZXnnPJ9NEg"
      },
      "execution_count": null,
      "outputs": []
    },
    {
      "cell_type": "code",
      "source": [],
      "metadata": {
        "id": "uO8NOP0l9NCi"
      },
      "execution_count": null,
      "outputs": []
    },
    {
      "cell_type": "code",
      "source": [
        "#  Write a Python script that fits a linear regression model to a synthetic dataset with one feature. Use the model to predict new values and plot the data points along with the regression line.\n",
        "\n",
        "import numpy as np\n",
        "import matplotlib.pyplot as plt\n",
        "from sklearn.linear_model import LinearRegression\n",
        "\n",
        "np.random.seed(42)\n",
        "X = 2 * np.random.rand(100, 1)\n",
        "y = 4 + 3 * X + np.random.randn(100, 1)\n",
        "\n",
        "model = LinearRegression()\n",
        "model.fit(X, y)\n",
        "y_pred = model.predict(X)\n",
        "\n",
        "plt.scatter(X, y, color='blue', label='Data points')\n",
        "plt.plot(X, y_pred, color='red', label='Regression line')\n",
        "plt.xlabel('Feature X')\n",
        "plt.ylabel('Target y')\n",
        "plt.title('Linear Regression Fit')\n",
        "plt.legend()\n",
        "plt.show()"
      ],
      "metadata": {
        "colab": {
          "base_uri": "https://localhost:8080/",
          "height": 472
        },
        "id": "Shcge4Hc9M_z",
        "outputId": "cc5dc3de-0829-44ff-8963-ecc43e14ede7"
      },
      "execution_count": null,
      "outputs": [
        {
          "output_type": "display_data",
          "data": {
            "text/plain": [
              "<Figure size 640x480 with 1 Axes>"
            ],
            "image/png": "[encoded data removed]"
          },
          "metadata": {}
        }
      ]
    },
    {
      "cell_type": "code",
      "source": [],
      "metadata": {
        "id": "l4p0r40p9XA3"
      },
      "execution_count": null,
      "outputs": []
    },
    {
      "cell_type": "code",
      "source": [],
      "metadata": {
        "id": "eeOoDWq09W_P"
      },
      "execution_count": null,
      "outputs": []
    },
    {
      "cell_type": "code",
      "source": [],
      "metadata": {
        "id": "5c-hvIRD9W9K"
      },
      "execution_count": null,
      "outputs": []
    },
    {
      "cell_type": "code",
      "source": [
        "# Write a Python script that pickles a trained linear regression model and saves it to a file.\n",
        "\n",
        "import pickle\n",
        "from sklearn.linear_model import LinearRegression\n",
        "from sklearn.datasets import make_regression\n",
        "\n",
        "X, y = make_regression(n_samples=100, n_features=1, noise=10, random_state=42)\n",
        "model = LinearRegression()\n",
        "model.fit(X, y)\n",
        "\n",
        "with open('linear_regression_model.pkl', 'wb') as f:\n",
        "    pickle.dump(model, f)"
      ],
      "metadata": {
        "id": "puaVgVki9W7E"
      },
      "execution_count": null,
      "outputs": []
    },
    {
      "cell_type": "code",
      "source": [],
      "metadata": {
        "id": "k8DIde3L9g0K"
      },
      "execution_count": null,
      "outputs": []
    },
    {
      "cell_type": "code",
      "source": [],
      "metadata": {
        "id": "usw39vLD9gxx"
      },
      "execution_count": null,
      "outputs": []
    },
    {
      "cell_type": "code",
      "source": [
        "#  Generate synthetic data for simple linear regression (use random values for X and y) and fit a linear regression model to the data. Print the model's coefficient and intercept.\n",
        "\n",
        "import numpy as np\n",
        "from sklearn.linear_model import LinearRegression\n",
        "\n",
        "np.random.seed(42)\n",
        "X = 2 * np.random.rand(100, 1)\n",
        "y = 5 + 4 * X + np.random.randn(100, 1)\n",
        "\n",
        "model = LinearRegression()\n",
        "model.fit(X, y)\n",
        "\n",
        "print(f\"Coefficient (slope): {model.coef_[0][0]:.4f}\")\n",
        "print(f\"Intercept: {model.intercept_[0]:.4f}\")"
      ],
      "metadata": {
        "colab": {
          "base_uri": "https://localhost:8080/"
        },
        "id": "Bj94c-mt9gvN",
        "outputId": "a81fa330-1f27-4233-d94e-f2b89e34fe7e"
      },
      "execution_count": null,
      "outputs": [
        {
          "output_type": "stream",
          "name": "stdout",
          "text": [
            "Coefficient (slope): 3.7701\n",
            "Intercept: 5.2151\n"
          ]
        }
      ]
    },
    {
      "cell_type": "code",
      "source": [],
      "metadata": {
        "id": "N6uJh0WW9pi-"
      },
      "execution_count": null,
      "outputs": []
    },
    {
      "cell_type": "code",
      "source": [],
      "metadata": {
        "id": "0afNwJF19phU"
      },
      "execution_count": null,
      "outputs": []
    },
    {
      "cell_type": "code",
      "source": [
        "# Write a Python script that fits a simple linear regression model with two features and prints the model's coefficients, intercept, and R-squared score\n",
        "\n",
        "\n",
        "import numpy as np\n",
        "from sklearn.linear_model import LinearRegression\n",
        "from sklearn.datasets import make_regression\n",
        "from sklearn.model_selection import train_test_split\n",
        "\n",
        "X, y = make_regression(n_samples=100, n_features=2, noise=10, random_state=42)\n",
        "model = LinearRegression()\n",
        "model.fit(X, y)\n",
        "\n",
        "r_squared = model.score(X, y)\n",
        "\n",
        "print(f\"Coefficients: {model.coef_}\")\n",
        "print(f\"Intercept: {model.intercept_:.4f}\")\n",
        "print(f\"R-squared: {r_squared:.4f}\")"
      ],
      "metadata": {
        "colab": {
          "base_uri": "https://localhost:8080/"
        },
        "id": "pOfVKmUe9pfD",
        "outputId": "8664f759-ea16-477d-9f8e-a6fb3c19fafc"
      },
      "execution_count": null,
      "outputs": [
        {
          "output_type": "stream",
          "name": "stdout",
          "text": [
            "Coefficients: [86.00258028 74.11675411]\n",
            "Intercept: 0.2164\n",
            "R-squared: 0.9898\n"
          ]
        }
      ]
    },
    {
      "cell_type": "code",
      "source": [],
      "metadata": {
        "id": "35UB6Pvy9xj-"
      },
      "execution_count": null,
      "outputs": []
    },
    {
      "cell_type": "code",
      "source": [],
      "metadata": {
        "id": "Xjl7Fkkg9xh5"
      },
      "execution_count": null,
      "outputs": []
    },
    {
      "cell_type": "code",
      "source": [
        "# Write a Python script that uses the Variance Inflation Factor (VIF) to check for multicollinearity in a dataset with multiple features.\n",
        "\n",
        "import pandas as pd\n",
        "from statsmodels.stats.outliers_influence import variance_inflation_factor\n",
        "from sklearn.datasets import make_regression\n",
        "\n",
        "X, _ = make_regression(n_samples=100, n_features=5, noise=10, random_state=42)\n",
        "df = pd.DataFrame(X, columns=[f'Feature_{i}' for i in range(1, 6)])\n",
        "\n",
        "vif_data = pd.DataFrame()\n",
        "vif_data['Feature'] = df.columns\n",
        "vif_data['VIF'] = [variance_inflation_factor(df.values, i) for i in range(df.shape[1])]\n",
        "\n",
        "print(vif_data)"
      ],
      "metadata": {
        "colab": {
          "base_uri": "https://localhost:8080/"
        },
        "id": "BrITHfP79xfx",
        "outputId": "2628156b-6e45-4d8c-cfc9-bce0e78bcad2"
      },
      "execution_count": null,
      "outputs": [
        {
          "output_type": "stream",
          "name": "stdout",
          "text": [
            "     Feature       VIF\n",
            "0  Feature_1  1.019320\n",
            "1  Feature_2  1.012651\n",
            "2  Feature_3  1.059337\n",
            "3  Feature_4  1.046592\n",
            "4  Feature_5  1.020596\n"
          ]
        }
      ]
    },
    {
      "cell_type": "code",
      "source": [],
      "metadata": {
        "id": "hnCNho3L97N4"
      },
      "execution_count": null,
      "outputs": []
    },
    {
      "cell_type": "code",
      "source": [],
      "metadata": {
        "id": "qiBlafc997L1"
      },
      "execution_count": null,
      "outputs": []
    },
    {
      "cell_type": "code",
      "source": [
        "# Write a Python script that creates a machine learning pipeline with data standardization and a multiple linear regression model, and prints the R-squared score.\n",
        "\n",
        "\n",
        "from sklearn.datasets import fetch_california_housing\n",
        "from sklearn.model_selection import train_test_split\n",
        "from sklearn.preprocessing import StandardScaler\n",
        "from sklearn.pipeline import Pipeline\n",
        "from sklearn.linear_model import LinearRegression\n",
        "\n",
        "data = fetch_california_housing()\n",
        "X, y = data.data, data.target\n",
        "X_train, X_test, y_train, y_test = train_test_split(X, y, test_size=0.2, random_state=42)\n",
        "\n",
        "pipeline = Pipeline([\n",
        "    ('scaler', StandardScaler()),\n",
        "    ('regressor', LinearRegression())\n",
        "])\n",
        "\n",
        "pipeline.fit(X_train, y_train)\n",
        "r_squared = pipeline.score(X_test, y_test)\n",
        "\n",
        "print(f\"R-squared score: {r_squared:.4f}\")"
      ],
      "metadata": {
        "colab": {
          "base_uri": "https://localhost:8080/"
        },
        "id": "LZS77sj597Jk",
        "outputId": "5b11c30f-0df6-418f-eb15-f5885fba6143"
      },
      "execution_count": null,
      "outputs": [
        {
          "output_type": "stream",
          "name": "stdout",
          "text": [
            "R-squared score: 0.5758\n"
          ]
        }
      ]
    },
    {
      "cell_type": "code",
      "source": [],
      "metadata": {
        "id": "QQUlO0qi-GTX"
      },
      "execution_count": null,
      "outputs": []
    },
    {
      "cell_type": "code",
      "source": [],
      "metadata": {
        "id": "ZjhkXFEd-GRS"
      },
      "execution_count": null,
      "outputs": []
    },
    {
      "cell_type": "code",
      "source": [
        "#  Write a Python script that performs multiple linear regression on a synthetic dataset with 5 features. Print the R-squared score and model coefficients\n",
        "\n",
        "import numpy as np\n",
        "from sklearn.linear_model import LinearRegression\n",
        "from sklearn.datasets import make_regression\n",
        "\n",
        "X, y = make_regression(n_samples=100, n_features=5, noise=10, random_state=42)\n",
        "model = LinearRegression()\n",
        "model.fit(X, y)\n",
        "\n",
        "r_squared = model.score(X, y)\n",
        "\n",
        "print(f\"R-squared score: {r_squared:.4f}\")\n",
        "print(f\"Coefficients: {model.coef_}\")"
      ],
      "metadata": {
        "id": "sADpENOu-GPT",
        "colab": {
          "base_uri": "https://localhost:8080/"
        },
        "outputId": "5b8a61df-e324-448d-c4af-399df1087e46"
      },
      "execution_count": 13,
      "outputs": [
        {
          "output_type": "stream",
          "name": "stdout",
          "text": [
            "R-squared score: 0.9955\n",
            "Coefficients: [61.83002653 98.93196386 61.31053663 54.99112667 35.59006051]\n"
          ]
        }
      ]
    },
    {
      "cell_type": "code",
      "source": [],
      "metadata": {
        "id": "TSedSEJL-Rvf"
      },
      "execution_count": null,
      "outputs": []
    },
    {
      "cell_type": "code",
      "source": [],
      "metadata": {
        "id": "jLvqCMZ0-Rtf"
      },
      "execution_count": null,
      "outputs": []
    },
    {
      "cell_type": "code",
      "source": [
        "# Create a synthetic dataset with 3 features and perform multiple linear regression. Print the model's Rsquared score and coefficients.\n",
        "\n",
        "import numpy as np\n",
        "from sklearn.linear_model import LinearRegression\n",
        "from sklearn.datasets import make_regression\n",
        "\n",
        "X, y = make_regression(n_samples=100, n_features=3, noise=10, random_state=42)\n",
        "model = LinearRegression()\n",
        "model.fit(X, y)\n",
        "\n",
        "r_squared = model.score(X, y)\n",
        "\n",
        "print(f\"R-squared score: {r_squared:.4f}\")\n",
        "print(f\"Coefficients: {model.coef_}\")"
      ],
      "metadata": {
        "colab": {
          "base_uri": "https://localhost:8080/"
        },
        "id": "gtujEp3e-SoJ",
        "outputId": "edbe7925-e1dd-4b36-c881-a676b958c177"
      },
      "execution_count": 14,
      "outputs": [
        {
          "output_type": "stream",
          "name": "stdout",
          "text": [
            "R-squared score: 0.9855\n",
            "Coefficients: [28.3172211  73.99152663 18.79832083]\n"
          ]
        }
      ]
    },
    {
      "cell_type": "code",
      "source": [],
      "metadata": {
        "id": "4YBWQP4j-aSK"
      },
      "execution_count": null,
      "outputs": []
    },
    {
      "cell_type": "code",
      "source": [],
      "metadata": {
        "id": "RNdrINp0-aQh"
      },
      "execution_count": null,
      "outputs": []
    },
    {
      "cell_type": "code",
      "source": [],
      "metadata": {
        "id": "Knj6u0v1-aOS"
      },
      "execution_count": null,
      "outputs": []
    },
    {
      "cell_type": "code",
      "source": [
        "#   Compare Ridge Regression with Linear Regression on a synthetic dataset and print the coefficients and Rsquared score.\n",
        "\n",
        "\n",
        "import numpy as np\n",
        "from sklearn.linear_model import LinearRegression, Ridge\n",
        "from sklearn.datasets import make_regression\n",
        "from sklearn.model_selection import train_test_split\n",
        "\n",
        "X, y = make_regression(n_samples=100, n_features=3, noise=20, random_state=42)\n",
        "X_train, X_test, y_train, y_test = train_test_split(X, y, test_size=0.2, random_state=42)\n",
        "\n",
        "lr = LinearRegression()\n",
        "ridge = Ridge(alpha=1.0)\n",
        "\n",
        "lr.fit(X_train, y_train)\n",
        "ridge.fit(X_train, y_train)\n",
        "\n",
        "lr_r2 = lr.score(X_test, y_test)\n",
        "ridge_r2 = ridge.score(X_test, y_test)\n",
        "\n",
        "print(\"Linear Regression:\")\n",
        "print(f\"Coefficients: {lr.coef_}\")\n",
        "print(f\"R-squared: {lr_r2:.4f}\\n\")\n",
        "\n",
        "print(\"Ridge Regression:\")\n",
        "print(f\"Coefficients: {ridge.coef_}\")\n",
        "print(f\"R-squared: {ridge_r2:.4f}\")"
      ],
      "metadata": {
        "colab": {
          "base_uri": "https://localhost:8080/"
        },
        "id": "Pdtdc_E5-aL_",
        "outputId": "6606256f-4dcf-4db8-9243-70aae303cc1d"
      },
      "execution_count": 15,
      "outputs": [
        {
          "output_type": "stream",
          "name": "stdout",
          "text": [
            "Linear Regression:\n",
            "Coefficients: [28.78604546 73.72922413 19.81869365]\n",
            "R-squared: 0.9275\n",
            "\n",
            "Ridge Regression:\n",
            "Coefficients: [28.11945848 72.87135666 19.3485277 ]\n",
            "R-squared: 0.9286\n"
          ]
        }
      ]
    },
    {
      "cell_type": "code",
      "source": [],
      "metadata": {
        "id": "aIOCiyW9-kBT"
      },
      "execution_count": null,
      "outputs": []
    },
    {
      "cell_type": "code",
      "source": [],
      "metadata": {
        "id": "WKF0rqcr-j-S"
      },
      "execution_count": null,
      "outputs": []
    },
    {
      "cell_type": "code",
      "source": [
        "# Write a Python script that uses cross-validation to evaluate a Linear Regression model on a synthetic dataset\n",
        "\n",
        "from sklearn.datasets import make_regression\n",
        "from sklearn.linear_model import LinearRegression\n",
        "from sklearn.model_selection import cross_val_score\n",
        "import numpy as np\n",
        "\n",
        "X, y = make_regression(n_samples=100, n_features=3, noise=10, random_state=42)\n",
        "model = LinearRegression()\n",
        "\n",
        "scores = cross_val_score(model, X, y, cv=5, scoring='r2')\n",
        "\n",
        "print(f\"Cross-validated R-squared scores: {scores}\")\n",
        "print(f\"Mean R-squared score: {np.mean(scores):.4f}\")"
      ],
      "metadata": {
        "colab": {
          "base_uri": "https://localhost:8080/"
        },
        "id": "UJtXqUSd-j8A",
        "outputId": "a7ec194b-25a5-41e5-d2e6-baf5006a603f"
      },
      "execution_count": 16,
      "outputs": [
        {
          "output_type": "stream",
          "name": "stdout",
          "text": [
            "Cross-validated R-squared scores: [0.98012075 0.9844046  0.98981268 0.98405405 0.97718464]\n",
            "Mean R-squared score: 0.9831\n"
          ]
        }
      ]
    },
    {
      "cell_type": "code",
      "source": [],
      "metadata": {
        "id": "C01IG2Kr-5pv"
      },
      "execution_count": null,
      "outputs": []
    },
    {
      "cell_type": "code",
      "source": [],
      "metadata": {
        "id": "fsLdZkgL-5nc"
      },
      "execution_count": null,
      "outputs": []
    },
    {
      "cell_type": "code",
      "source": [],
      "metadata": {
        "id": "KGWVqW3y-5l9"
      },
      "execution_count": null,
      "outputs": []
    },
    {
      "cell_type": "code",
      "source": [
        "# Write a Python script that compares polynomial regression models of different degrees and prints the Rsquared score for each.\n",
        "\n",
        "import numpy as np\n",
        "import matplotlib.pyplot as plt\n",
        "from sklearn.linear_model import LinearRegression\n",
        "from sklearn.preprocessing import PolynomialFeatures\n",
        "from sklearn.metrics import r2_score\n",
        "from sklearn.model_selection import train_test_split\n",
        "\n",
        "np.random.seed(42)\n",
        "X = 2 * np.random.rand(100, 1)\n",
        "y = 4 + 3 * X[:, 0]**2 + np.random.randn(100)\n",
        "\n",
        "X = X.reshape(-1, 1)\n",
        "X_train, X_test, y_train, y_test = train_test_split(X, y, test_size=0.2, random_state=42)\n",
        "\n",
        "for degree in range(1, 6):\n",
        "    poly = PolynomialFeatures(degree=degree)\n",
        "    X_poly_train = poly.fit_transform(X_train)\n",
        "    X_poly_test = poly.transform(X_test)\n",
        "\n",
        "    model = LinearRegression()\n",
        "    model.fit(X_poly_train, y_train)\n",
        "    y_pred = model.predict(X_poly_test)\n",
        "    r2 = r2_score(y_test, y_pred)\n",
        "    print(f\"Degree {degree} Polynomial Regression R-squared: {r2:.4f}\")"
      ],
      "metadata": {
        "colab": {
          "base_uri": "https://localhost:8080/"
        },
        "id": "SIGJIJxK-5jo",
        "outputId": "8fe76e85-6b84-474c-cc89-359c43b414aa"
      },
      "execution_count": 17,
      "outputs": [
        {
          "output_type": "stream",
          "name": "stdout",
          "text": [
            "Degree 1 Polynomial Regression R-squared: 0.8805\n",
            "Degree 2 Polynomial Regression R-squared: 0.9515\n",
            "Degree 3 Polynomial Regression R-squared: 0.9510\n",
            "Degree 4 Polynomial Regression R-squared: 0.9474\n",
            "Degree 5 Polynomial Regression R-squared: 0.9476\n"
          ]
        }
      ]
    }
  ]
}