{
  "nbformat": 4,
  "nbformat_minor": 0,
  "metadata": {
    "colab": {
      "provenance": []
    },
    "kernelspec": {
      "name": "python3",
      "display_name": "Python 3"
    },
    "language_info": {
      "name": "python"
    }
  },
  "cells": [
    {
      "cell_type": "code",
      "execution_count": null,
      "metadata": {
        "id": "wiFpFFq0y5jo"
      },
      "outputs": [],
      "source": [
        "# 1. Explain the different types of data (qualitative and quantitative) and provide examples of each. Discuss nominal, ordinal, interval, and ratio scales.\n",
        "\n",
        "# There are mainly to type of data\n",
        "\n",
        "# A. Qualitative Data (Categorical Data)\n",
        "Qualitative data describes qualities or characteristics and is usually non-numeric. It categorizes items based on some attribute or quality.\n",
        "\n",
        "Types of Qualitative Data:\n",
        "Nominal Scale (Name only – no order)\n",
        "\n",
        "Data is categorized without any order or priority.\n",
        "\n",
        "Examples: Gender (Male, Female), Hair color (Black, Brown, Blonde), Nationality (Indian, American)\n",
        "\n",
        "Ordinal Scale (Ordered categories)\n",
        "\n",
        "Categories have a meaningful order, but the intervals between them are not necessarily equal.\n",
        "\n",
        "Examples: Customer satisfaction (Poor, Fair, Good, Excellent), Education level (High School, Bachelor's, Master's, PhD)\n",
        "\n",
        "\n",
        "# B. Quantitative Data (Numerical Data)\n",
        "Quantitative data represents numeric values and is measurable. It answers questions like \"how many?\" or \"how much?\"\n",
        "\n",
        "Types of Quantitative Data:\n",
        "Interval Scale\n",
        "\n",
        "Numeric data with equal intervals between values, but no true zero.\n",
        "\n",
        "Examples: Temperature in Celsius or Fahrenheit, Dates (e.g., year 2000, 2010). A temperature of 0°C does not mean 'no temperature'.\n",
        "\n",
        "Ratio Scale\n",
        "\n",
        "Has all the features of an interval scale plus a true zero point. You can perform all arithmetic operations.\n",
        "\n",
        "Examples: Height, Weight, Age, Income, Sales. A weight of 0 kg means \"no weight.\""
      ]
    },
    {
      "cell_type": "code",
      "source": [],
      "metadata": {
        "id": "sc78Vv0lzlce"
      },
      "execution_count": null,
      "outputs": []
    },
    {
      "cell_type": "code",
      "source": [],
      "metadata": {
        "id": "99mgHAlCzlZ8"
      },
      "execution_count": null,
      "outputs": []
    },
    {
      "cell_type": "code",
      "source": [
        "# 2. What are the measures of central tendency, and when should you use each? Discuss the mean, median, and mode with examples and situations where each is appropriate.\n",
        "\n",
        "# Measures of Central Tendency\n",
        "Measures of central tendency are statistical tools used to describe the center or average of a data set. The three main measures are mean, median, and mode.\n",
        "\n",
        "1. Mean (Arithmetic Average)\n",
        "Definition: The sum of all data values divided by the number of values.\n",
        "\n",
        "Formula:\n",
        "\n",
        "Mean\n",
        "=\n",
        "Sum of all values /Number of values\n",
        "Mean=\n",
        "Number of values / Sum of all values\n",
        "​\n",
        "Example:\n",
        "If test scores are: 80, 85, 90, 95, 100\n",
        "\n",
        "Mean = (80+85+90+95+100)/5 = 90\n",
        "Mean=  5\n",
        "80+85+90+95+100\n",
        "​\n",
        " =90\n",
        "When to Use:\n",
        "\n",
        "When data is normally distributed (no extreme outliers)\n",
        "\n",
        "Best for interval or ratio data\n",
        "\n",
        "Not suitable when:\n",
        "\n",
        "There are outliers (e.g., income data where a few people earn extremely high salaries)\n",
        "\n",
        "# 2. Median (Middle Value)\n",
        "Definition: The middle value when data is sorted in ascending order. If there is an even number of values, the median is the average of the two middle values.\n",
        "\n",
        "Example:\n",
        "Data: 40, 50, 60, 70, 100\n",
        "Median = 60\n",
        "Data: 10, 20, 30, 40\n",
        "Median = (20+30)/2 = 25\n",
        "\n",
        "When to Use:\n",
        "\n",
        "When data contains outliers or is skewed\n",
        "\n",
        "Appropriate for ordinal, interval, or ratio data\n",
        "\n",
        "Use case:\n",
        "\n",
        "Income or real estate prices where a few high values skew the mean\n",
        "\n",
        "# 3. Mode (Most Frequent Value)\n",
        "Definition: The value that appears most often in a data set.\n",
        "\n",
        "A data set can have no mode, one mode (unimodal), or multiple modes (bimodal/multimodal).\n",
        "\n",
        "Example:\n",
        "Data: 4, 5, 6, 6, 7, 8, 9\n",
        "Mode = 6\n",
        "\n",
        "When to Use:\n",
        "\n",
        "For categorical or nominal data\n",
        "\n",
        "When identifying the most common category or item\n",
        "\n",
        "Use case:\n",
        "\n",
        "Finding the most preferred product size, color, or brand in a survey"
      ],
      "metadata": {
        "id": "l3ZqQmfHzlYI"
      },
      "execution_count": null,
      "outputs": []
    },
    {
      "cell_type": "code",
      "source": [],
      "metadata": {
        "id": "2RnC205Q0lRh"
      },
      "execution_count": null,
      "outputs": []
    },
    {
      "cell_type": "code",
      "source": [],
      "metadata": {
        "id": "PnN6Qm0_0lOU"
      },
      "execution_count": null,
      "outputs": []
    },
    {
      "cell_type": "code",
      "source": [
        "# 3. Explain the concept of dispersion. How do variance and standard deviation measure the spread of data?\n",
        "\n",
        "# Concept of Dispersion\n",
        "Dispersion refers to the extent to which data values vary or spread out around a central value (like the mean). It helps us understand the variability or consistency in a dataset.\n",
        "Two datasets may have the same mean, but very different spreads.\n",
        "Dispersion tells us how tightly or loosely the data is clustered.\n",
        "Helps in comparing risk or volatility in areas like finance, quality control, and research.\n",
        "\n",
        "\n",
        "\n"
      ],
      "metadata": {
        "id": "vXjxjKmy0lLJ"
      },
      "execution_count": null,
      "outputs": []
    },
    {
      "cell_type": "code",
      "source": [],
      "metadata": {
        "id": "woUA_iKf09Yi"
      },
      "execution_count": null,
      "outputs": []
    },
    {
      "cell_type": "code",
      "source": [],
      "metadata": {
        "id": "Scn6_5Rr09WP"
      },
      "execution_count": null,
      "outputs": []
    },
    {
      "cell_type": "code",
      "source": [
        "  # 4.What is a box plot, and what can it tell you about the distribution of data?\n",
        "\n",
        "  # A box plot (also called a box-and-whisker plot) is a visual representation of the distribution, central tendency, and spread of a dataset. It summarizes key statistical values and highlights outliers.\n",
        "\n",
        "     |-----|=========|-----|\n",
        "   min   Q1   median   Q3   max\n",
        "\n",
        "\n",
        " # Minimum (Lower Whisker) – Smallest data point excluding outliers\n",
        "\n",
        "Q1 (First Quartile) – 25% of the data lies below this point\n",
        "\n",
        "Median (Q2) – Middle value (50th percentile)\n",
        "\n",
        "Q3 (Third Quartile) – 75% of the data lies below this point\n",
        "\n",
        "Maximum (Upper Whisker) – Largest data point excluding outliers\n",
        "\n",
        "Outliers – Points that lie significantly outside the whiskers (typically 1.5×IQR beyond Q1 or Q3)\n",
        "\n",
        "\n",
        "# Advantages of a Box Plot:\n",
        "\n",
        "Great for comparing distributions between groups\n",
        "\n",
        "Shows skewness, central tendency, and variability\n",
        "\n",
        "Useful for identifying outliers\n"
      ],
      "metadata": {
        "id": "pYdRNVfb0-dG"
      },
      "execution_count": null,
      "outputs": []
    },
    {
      "cell_type": "code",
      "source": [],
      "metadata": {
        "id": "WsbSaOQT1bPn"
      },
      "execution_count": null,
      "outputs": []
    },
    {
      "cell_type": "code",
      "source": [],
      "metadata": {
        "id": "5hMBBKtm1bNu"
      },
      "execution_count": null,
      "outputs": []
    },
    {
      "cell_type": "code",
      "source": [
        "# 5. Discuss the role of random sampling in making inferences about populations.\n",
        "\n",
        "# Random sampling is a method of selecting a subset (sample) from a larger group (population) in such a way that every individual has an equal chance of being chosen.\n",
        "It is a foundational concept in statistics and research used to make valid inferences about a population without surveying every member.\n",
        "\n",
        "# Random sampling helps ensure that:\n",
        "\n",
        "The sample is representative of the population\n",
        "Inferences made from the sample are unbiased and reliable\n",
        "Results are generalizable to the broader population\n",
        "Statistical analysis (like confidence intervals and hypothesis testing) is valid\n"
      ],
      "metadata": {
        "id": "MmoSjRM51bLg"
      },
      "execution_count": null,
      "outputs": []
    },
    {
      "cell_type": "code",
      "source": [],
      "metadata": {
        "id": "bZLJtr5Z1syk"
      },
      "execution_count": null,
      "outputs": []
    },
    {
      "cell_type": "code",
      "source": [],
      "metadata": {
        "id": "09_Du4pv1swy"
      },
      "execution_count": null,
      "outputs": []
    },
    {
      "cell_type": "code",
      "source": [
        "# 6. Explain the concept of skewness and its types. How does skewness affect the interpretation of data?\n",
        "\n",
        "#  Skewness is a statistical measure that describes the asymmetry of a data distribution. It tells us whether the data is symmetrically distributed or leaning toward one side of the mean.\n",
        "\n",
        "\n",
        "Positive Skew:         Symmetrical:            Negative Skew:\n",
        "    |‾‾‾‾\\___                 |‾‾‾‾‾‾‾‾|               ___/‾‾‾‾|\n",
        "        ‾‾‾‾‾‾\\__          Mean=Median=Mode       __/‾‾‾‾‾‾‾\n",
        "\n",
        "\n",
        "# Skewness is vital in understanding the shape and behavior of data. It helps choose the right summary statistics, avoid misleading analyses, and apply appropriate statistical techniques.\n"
      ],
      "metadata": {
        "id": "jTN2P9kn1sup"
      },
      "execution_count": null,
      "outputs": []
    },
    {
      "cell_type": "code",
      "source": [],
      "metadata": {
        "id": "oGj2p-hS2FL1"
      },
      "execution_count": null,
      "outputs": []
    },
    {
      "cell_type": "code",
      "source": [],
      "metadata": {
        "id": "UBPrLRXq2FJ8"
      },
      "execution_count": null,
      "outputs": []
    },
    {
      "cell_type": "code",
      "source": [],
      "metadata": {
        "id": "CJnGHGcT2FIC"
      },
      "execution_count": null,
      "outputs": []
    },
    {
      "cell_type": "code",
      "source": [
        "# 7. What is the interquartile range (IQR), and how is it used to detect outliers?\n",
        "\n",
        "# The Interquartile Range (IQR) is a measure of statistical dispersion and represents the middle 50% of the data. It is calculated as the difference between the third quartile (Q3) and the first quartile (Q1):\n",
        "\n",
        "# IQR = 𝑄3 − 𝑄1\n",
        "\n",
        "# IQR=Q3−Q1\n",
        "\n",
        "Q1 (25th percentile): The value below which 25% of the data falls\n",
        "\n",
        "Q3 (75th percentile): The value below which 75% of the data falls\n",
        "\n",
        "# IQR is not affected by extreme values (unlike the range or mean).\n",
        "\n",
        "# It gives a robust measure of spread for skewed data.\n",
        "\n",
        "# It's used to detect outliers effectively."
      ],
      "metadata": {
        "id": "1Vf9c0F-2FF1"
      },
      "execution_count": null,
      "outputs": []
    },
    {
      "cell_type": "code",
      "source": [],
      "metadata": {
        "id": "0x7DjVno25I9"
      },
      "execution_count": null,
      "outputs": []
    },
    {
      "cell_type": "code",
      "source": [],
      "metadata": {
        "id": "rQRw24ZX25HW"
      },
      "execution_count": null,
      "outputs": []
    },
    {
      "cell_type": "code",
      "source": [
        "# 8. Discuss the conditions under which the binomial distribution is used\n",
        "\n",
        "# The binomial distribution is a discrete probability distribution that describes the number of successes in a fixed number of independent Bernoulli trials, where each trial has only two possible outcomes:\n",
        "\n",
        "Success (e.g., heads, win, correct)\n",
        "\n",
        "Failure (e.g., tails, loss, incorrect)\n",
        "\n",
        "# Conditions\n",
        "# Fixed number of trials:\n",
        "The total number of experiments or observations (n) is set in advance.\n",
        "\n",
        "# Two possible outcomes per trial:\n",
        "Each trial has only two possible outcomes — usually labeled as success and failure.\n",
        "\n",
        "# Constant probability of success (p):\n",
        "The probability of success remains the same for each trial.\n",
        "\n",
        "# Independent trials:\n",
        "The outcome of one trial does not influence the outcome of another."
      ],
      "metadata": {
        "id": "NLJ-_SPc25E-"
      },
      "execution_count": null,
      "outputs": []
    },
    {
      "cell_type": "code",
      "source": [],
      "metadata": {
        "id": "ThIeIzuk3aHu"
      },
      "execution_count": null,
      "outputs": []
    },
    {
      "cell_type": "code",
      "source": [],
      "metadata": {
        "id": "CbunwcK13aF8"
      },
      "execution_count": null,
      "outputs": []
    },
    {
      "cell_type": "code",
      "source": [
        "# 9. Explain the properties of the normal distribution and the empirical rule (68-95-99.7 rule).\n",
        "\n",
        "\n",
        "# The normal distribution is a bell-shaped, symmetric, and continuous probability distribution that is widely used in statistics.\n",
        "\n",
        "# Key Properties of the Normal Distribution:\n",
        "Symmetrical around the mean\n",
        "\n",
        "Mean = Median = Mode\n",
        "\n",
        "The total area under the curve = 1\n",
        "\n",
        "The curve extends infinitely in both directions\n",
        "\n",
        "The shape is determined by two parameters:\n",
        "\n",
        "Mean (μ) – location of the center\n",
        "\n",
        "Standard deviation (σ) – spread of the data\n",
        "\n",
        "\n",
        "# Empirical Rule (68-95-99.7 Rule)\n",
        "\n",
        "      -3σ  -2σ  -1σ   μ   +1σ  +2σ  +3σ\n",
        "       |----|----|----|----|----|----|\n",
        "        .1% 2.1%13.6%34%34%13.6%2.1%.1%\n"
      ],
      "metadata": {
        "id": "b6YjqkhL3aDt"
      },
      "execution_count": null,
      "outputs": []
    },
    {
      "cell_type": "code",
      "source": [],
      "metadata": {
        "id": "jwOhU2Mb3xL5"
      },
      "execution_count": null,
      "outputs": []
    },
    {
      "cell_type": "code",
      "source": [],
      "metadata": {
        "id": "HooYMo2V3xKE"
      },
      "execution_count": null,
      "outputs": []
    },
    {
      "cell_type": "code",
      "source": [],
      "metadata": {
        "id": "HYwwuWMW3xIb"
      },
      "execution_count": null,
      "outputs": []
    },
    {
      "cell_type": "code",
      "source": [
        "# 10. Provide a real-life example of a Poisson process and calculate the probability for a specific event.\n",
        "\n",
        "# A Poisson process models the number of times an event occurs in a fixed interval of time or space, assuming:\n",
        "\n",
        "Events happen independently\n",
        "\n",
        "The average rate (λ, lambda) of events per interval is constant\n",
        "\n",
        "Two events cannot happen at exactly the same instant\n",
        "\n"
      ],
      "metadata": {
        "id": "U9e1p-dZ3xGE"
      },
      "execution_count": null,
      "outputs": []
    },
    {
      "cell_type": "code",
      "source": [],
      "metadata": {
        "id": "Degn1ORb4GAW"
      },
      "execution_count": null,
      "outputs": []
    },
    {
      "cell_type": "code",
      "source": [],
      "metadata": {
        "id": "hvURxpZP4F72"
      },
      "execution_count": null,
      "outputs": []
    },
    {
      "cell_type": "code",
      "source": [
        "# 11. Explain what a random variable is and differentiate between discrete and continuous random variables.\n",
        "\n",
        "# A random variable is a numerical outcome of a random experiment or process. It assigns a real number to each possible outcome in the sample space.\n",
        "# Discrete Random Variable\n",
        "\n",
        "Takes on countable, distinct values (usually integers)\n",
        "\n",
        "Examples: Number of students in a class, number of phone calls in an hour\n",
        "\n",
        "# Continuous Random Variable\n",
        "\n",
        "Takes on any value within a continuous range (can be decimals)\n",
        "\n",
        "Examples: Height of a person, time taken to run a race"
      ],
      "metadata": {
        "id": "TfPwcCWD4F5X"
      },
      "execution_count": null,
      "outputs": []
    },
    {
      "cell_type": "code",
      "source": [],
      "metadata": {
        "id": "4hWPm3E64fEM"
      },
      "execution_count": null,
      "outputs": []
    },
    {
      "cell_type": "code",
      "source": [],
      "metadata": {
        "id": "A1DaMIfL4fCk"
      },
      "execution_count": null,
      "outputs": []
    },
    {
      "cell_type": "code",
      "source": [],
      "metadata": {
        "id": "tGHztUlT4fAb"
      },
      "execution_count": null,
      "outputs": []
    },
    {
      "cell_type": "code",
      "source": [
        "# 12. Provide an example dataset, calculate both covariance and correlation, and interpret the results.\n",
        "\n",
        "\n",
        "import numpy as np\n",
        "\n",
        "# Example data: Hours studied (X) and Exam scores (Y)\n",
        "X = np.array([2, 4, 6, 8, 10])\n",
        "Y = np.array([50, 65, 80, 85, 95])\n",
        "\n",
        "# Calculate means\n",
        "mean_X = np.mean(X)\n",
        "mean_Y = np.mean(Y)\n",
        "\n",
        "# Calculate covariance manually\n",
        "covariance = np.sum((X - mean_X) * (Y - mean_Y)) / (len(X) - 1)\n",
        "\n",
        "# Calculate standard deviations\n",
        "std_X = np.std(X, ddof=1)  # ddof=1 for sample std deviation\n",
        "std_Y = np.std(Y, ddof=1)\n",
        "\n",
        "# Calculate correlation coefficient\n",
        "correlation = covariance / (std_X * std_Y)\n",
        "\n",
        "# Print results\n",
        "print(f\"Mean of X: {mean_X}\")\n",
        "print(f\"Mean of Y: {mean_Y}\")\n",
        "print(f\"Covariance between X and Y: {covariance}\")\n",
        "print(f\"Standard deviation of X: {std_X}\")\n",
        "print(f\"Standard deviation of Y: {std_Y}\")\n",
        "print(f\"Correlation coefficient between X and Y: {correlation}\")"
      ],
      "metadata": {
        "id": "daiWfGmQ4e-J"
      },
      "execution_count": null,
      "outputs": []
    }
  ]
}