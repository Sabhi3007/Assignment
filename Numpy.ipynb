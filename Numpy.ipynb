{
  "nbformat": 4,
  "nbformat_minor": 0,
  "metadata": {
    "colab": {
      "provenance": []
    },
    "kernelspec": {
      "name": "python3",
      "display_name": "Python 3"
    },
    "language_info": {
      "name": "python"
    }
  },
  "cells": [
    {
      "cell_type": "code",
      "execution_count": null,
      "metadata": {
        "id": "8_ou3P0lHEtL"
      },
      "outputs": [],
      "source": [
        "#  Explain the purpose and advantages of NumPy in scientific computing and data analysis. How does it enhance Python's capabilities for numerical operations?\n",
        "\n",
        "# Purpose and Advantages of NumPy in Scientific Computing and Data Analysis\n",
        "\n",
        "**NumPy** (Numerical Python) is a fundamental package for scientific computing in Python. It provides:\n",
        "\n",
        "- **Efficient multi-dimensional array objects (`ndarray`)** for storing large datasets.\n",
        "- **Fast and vectorized operations** on arrays without the need for explicit loops.\n",
        "- A rich collection of **mathematical functions** to perform complex numerical computations.\n",
        "- Tools for **linear algebra, Fourier transforms, random number generation**, and more.\n",
        "- Integration capabilities with other scientific libraries like **Pandas, SciPy, Matplotlib**, and machine learning frameworks.\n",
        "\n",
        "---\n",
        "\n",
        "## How NumPy Enhances Python’s Numerical Capabilities\n",
        "\n",
        "1. **Performance:**\n",
        "   NumPy operations are implemented in C, making them much faster than standard Python loops or list comprehensions.\n",
        "\n",
        "2. **Vectorization:**\n",
        "   Allows batch operations on data without writing explicit loops, leading to concise and readable code.\n",
        "\n",
        "3. **Memory Efficiency:**\n",
        "   NumPy arrays consume less memory compared to Python lists because they store elements of the same type in contiguous blocks.\n",
        "\n",
        "4. **Broadcasting:**\n",
        "   Enables operations between arrays of different shapes in a memory-efficient way.\n",
        "\n",
        "5. **Comprehensive Functionality:**\n",
        "   Includes built-in functions for statistics, algebra, and random sampling which are optimized and reliable."
      ]
    },
    {
      "cell_type": "code",
      "source": [],
      "metadata": {
        "id": "21mh1AM8Hes3"
      },
      "execution_count": null,
      "outputs": []
    },
    {
      "cell_type": "code",
      "source": [],
      "metadata": {
        "id": "gd9A4D6_Heq9"
      },
      "execution_count": null,
      "outputs": []
    },
    {
      "cell_type": "code",
      "source": [
        "# Compare and contrast np.mean() and np.average() functions in NumPy. When would you use one over the other?\n",
        "\n",
        "# Comparison of `np.mean()` and `np.average()` in NumPy\n",
        "\n",
        "| Feature               | `np.mean()`                                      | `np.average()`                                   |\n",
        "|-----------------------|-------------------------------------------------|-------------------------------------------------|\n",
        "# Compare and contrast np.mean() and np.average() functions in NumPy. When would you use one over the other?\n",
        "\n",
        "# Comparison of `np.mean()` and `np.average()` in NumPy\n",
        "\n",
        "| Feature               | `np.mean()`                                      | `np.average()`                                   |\n",
        "|-----------------------|-------------------------------------------------|-------------------------------------------------|\n",
        "| **Purpose**           | Computes the arithmetic mean (simple average)   | Computes the weighted average by default, or simple average if no weights provided |\n",
        "| **Parameters**        | Takes an array and optional axis                 | Takes an array, optional axis, and weights      |\n",
        "| **Weights support**   | **No** — calculates unweighted mean             | **Yes** — can apply weights to elements         |\n",
        "| **Return value**       | Scalar or array of means along specified axis   | Scalar or weighted mean along specified axis    |\n",
        "| **Use case**           | When all data points are equally important       | When some data points have more importance (weights) |\n",
        "\n",
        "---\n",
        "\n",
        "## When to use which?\n",
        "\n",
        "- Use **`np.mean()`** when you want a simple average without weighting.\n",
        "\n",
        "- Use **`np.average()`** when you want to compute an average that accounts for varying importance or frequency of elements, by specifying weights.\n",
        "\n",
        "import numpy as np\n",
        "\n",
        "data = np.array([1, 2, 3, 4])\n",
        "weights = np.array([0.1, 0.2, 0.3, 0.4])\n",
        "\n",
        "print(\"Mean:\", np.mean(data))                       # Output: 2.5\n",
        "print(\"Weighted Average:\", np.average(data, weights=weights))  # Output: 3.0\n",
        "\n",
        "---\n",
        "\n",
        "## When to use which?\n",
        "\n",
        "- Use **`np.mean()`** when you want a simple average without weighting.\n",
        "\n",
        "- Use **`np.average()`** when you want to compute an average that accounts for varying importance or frequency of elements, by specifying weights.\n",
        "\n",
        "import numpy as np\n",
        "\n",
        "data = np.array([1, 2, 3, 4])\n",
        "weights = np.array([0.1, 0.2, 0.3, 0.4])\n",
        "\n",
        "print(\"Mean:\", np.mean(data))                       # Output: 2.5\n",
        "print(\"Weighted Average:\", np.average(data, weights=weights))  # Output: 3.0"
      ],
      "metadata": {
        "colab": {
          "base_uri": "https://localhost:8080/",
          "height": 106
        },
        "id": "lpi2miCvHehQ",
        "outputId": "4b496524-f39b-4769-d422-47ca1a1fef1c"
      },
      "execution_count": 5,
      "outputs": [
        {
          "output_type": "error",
          "ename": "SyntaxError",
          "evalue": "invalid character '—' (U+2014) (<ipython-input-5-ebe253f81a84>, line 15)",
          "traceback": [
            "\u001b[0;36m  File \u001b[0;32m\"<ipython-input-5-ebe253f81a84>\"\u001b[0;36m, line \u001b[0;32m15\u001b[0m\n\u001b[0;31m    | **Weights support**   | **No** — calculates unweighted mean             | **Yes** — can apply weights to elements         |\u001b[0m\n\u001b[0m                                     ^\u001b[0m\n\u001b[0;31mSyntaxError\u001b[0m\u001b[0;31m:\u001b[0m invalid character '—' (U+2014)\n"
          ]
        }
      ]
    },
    {
      "cell_type": "code",
      "source": [],
      "metadata": {
        "id": "pAwVeVHiHtsW"
      },
      "execution_count": null,
      "outputs": []
    },
    {
      "cell_type": "code",
      "source": [],
      "metadata": {
        "id": "Lb9SBPh7HtqW"
      },
      "execution_count": null,
      "outputs": []
    },
    {
      "cell_type": "code",
      "source": [
        "#  Describe the methods for reversing a NumPy array along different axes. Provide examples for 1D and 2D arrays.\n",
        "\n",
        "# Methods for Reversing a NumPy Array Along Different Axes\n",
        "\n",
        "NumPy provides multiple ways to reverse arrays along specific axes:\n",
        "\n",
        "---\n",
        "\n",
        "## 1D Array Reversal\n",
        "\n",
        "- Use slicing with `[::-1]` to reverse the entire 1D array.\n",
        "\n",
        "```python\n",
        "import numpy as np\n",
        "\n",
        "arr_1d = np.array([1, 2, 3, 4, 5])\n",
        "reversed_1d = arr_1d[::-1]\n",
        "\n",
        "print(\"Original 1D array:\", arr_1d)\n",
        "print(\"Reversed 1D array:\", reversed_1d)"
      ],
      "metadata": {
        "colab": {
          "base_uri": "https://localhost:8080/",
          "height": 106
        },
        "id": "eZTdUNIXHtoL",
        "outputId": "ec480e66-5d81-45b3-9dd0-757fd598fd1d"
      },
      "execution_count": 2,
      "outputs": [
        {
          "output_type": "error",
          "ename": "SyntaxError",
          "evalue": "invalid decimal literal (<ipython-input-2-e7c20ddcac5c>, line 11)",
          "traceback": [
            "\u001b[0;36m  File \u001b[0;32m\"<ipython-input-2-e7c20ddcac5c>\"\u001b[0;36m, line \u001b[0;32m11\u001b[0m\n\u001b[0;31m    - Use slicing with `[::-1]` to reverse the entire 1D array.\u001b[0m\n\u001b[0m                                                      ^\u001b[0m\n\u001b[0;31mSyntaxError\u001b[0m\u001b[0;31m:\u001b[0m invalid decimal literal\n"
          ]
        }
      ]
    },
    {
      "cell_type": "code",
      "source": [
        "arr_2d = np.array([[1, 2, 3],\n",
        "                   [4, 5, 6],\n",
        "                   [7, 8, 9]])\n",
        "\n",
        "# Reverse rows (vertical flip)\n",
        "reversed_rows = arr_2d[::-1, :]\n",
        "\n",
        "# Reverse columns (horizontal flip)\n",
        "reversed_cols = arr_2d[:, ::-1]\n",
        "\n",
        "print(\"Original 2D array:\\n\", arr_2d)\n",
        "print(\"Rows reversed:\\n\", reversed_rows)\n",
        "print(\"Columns reversed:\\n\", reversed_cols)"
      ],
      "metadata": {
        "colab": {
          "base_uri": "https://localhost:8080/",
          "height": 211
        },
        "id": "Pzl6ypHTH50N",
        "outputId": "4d1bf2e2-642c-4e48-fd84-6c5f3d94b969"
      },
      "execution_count": 1,
      "outputs": [
        {
          "output_type": "error",
          "ename": "NameError",
          "evalue": "name 'np' is not defined",
          "traceback": [
            "\u001b[0;31m---------------------------------------------------------------------------\u001b[0m",
            "\u001b[0;31mNameError\u001b[0m                                 Traceback (most recent call last)",
            "\u001b[0;32m<ipython-input-1-d23f27eab9cc>\u001b[0m in \u001b[0;36m<cell line: 0>\u001b[0;34m()\u001b[0m\n\u001b[0;32m----> 1\u001b[0;31m arr_2d = np.array([[1, 2, 3],\n\u001b[0m\u001b[1;32m      2\u001b[0m                    \u001b[0;34m[\u001b[0m\u001b[0;36m4\u001b[0m\u001b[0;34m,\u001b[0m \u001b[0;36m5\u001b[0m\u001b[0;34m,\u001b[0m \u001b[0;36m6\u001b[0m\u001b[0;34m]\u001b[0m\u001b[0;34m,\u001b[0m\u001b[0;34m\u001b[0m\u001b[0;34m\u001b[0m\u001b[0m\n\u001b[1;32m      3\u001b[0m                    [7, 8, 9]])\n\u001b[1;32m      4\u001b[0m \u001b[0;34m\u001b[0m\u001b[0m\n\u001b[1;32m      5\u001b[0m \u001b[0;31m# Reverse rows (vertical flip)\u001b[0m\u001b[0;34m\u001b[0m\u001b[0;34m\u001b[0m\u001b[0m\n",
            "\u001b[0;31mNameError\u001b[0m: name 'np' is not defined"
          ]
        }
      ]
    },
    {
      "cell_type": "code",
      "source": [],
      "metadata": {
        "id": "q5tVQXILH9Cq"
      },
      "execution_count": null,
      "outputs": []
    },
    {
      "cell_type": "code",
      "source": [],
      "metadata": {
        "id": "l4iQMAtFH9Ak"
      },
      "execution_count": null,
      "outputs": []
    },
    {
      "cell_type": "code",
      "source": [
        "#  How can you determine the data type of elements in a NumPy array? Discuss the importance of data types in memory management and performance.\n",
        "\n",
        "\n",
        "- The **data type** (or `dtype`) specifies the kind of elements stored in a NumPy array (e.g., integers, floats, booleans).\n",
        "- NumPy arrays are **homogeneous**, meaning all elements must have the same data type.\n",
        "- The `dtype` determines:\n",
        "  - How much memory each element occupies.\n",
        "  - How operations on the array are performed.\n",
        "\n",
        "---\n",
        "\n",
        "## How to Determine Data Type of a NumPy Array\n",
        "\n",
        "You can check the data type of an array using the `.dtype` attribute:\n",
        "\n",
        "import numpy as np\n",
        "\n",
        "arr_int = np.array([1, 2, 3])\n",
        "arr_float = np.array([1.5, 2.5, 3.5])\n",
        "\n",
        "print(\"Integer array dtype:\", arr_int.dtype)\n",
        "print(\"Float array dtype:\", arr_float.dtype)\n"
      ],
      "metadata": {
        "id": "_3oARBUPH8-V"
      },
      "execution_count": null,
      "outputs": []
    },
    {
      "cell_type": "code",
      "source": [
        "arr = np.array([1, 2, 3], dtype=np.int32)\n",
        "print(\"Original dtype:\", arr.dtype)\n",
        "\n",
        "arr_float = arr.astype(np.float64)\n",
        "print(\"Converted dtype:\", arr_float.dtype)\n"
      ],
      "metadata": {
        "id": "-Da0cXx9JAKl"
      },
      "execution_count": null,
      "outputs": []
    },
    {
      "cell_type": "code",
      "source": [],
      "metadata": {
        "id": "t49hZZbsJC2i"
      },
      "execution_count": null,
      "outputs": []
    },
    {
      "cell_type": "code",
      "source": [],
      "metadata": {
        "id": "5Cng2mmoJDLT"
      },
      "execution_count": null,
      "outputs": []
    },
    {
      "cell_type": "code",
      "source": [
        "# Define ndarrays in NumPy and explain their key features. How do they differ from standard Python lists?\n",
        "\n",
        "\n",
        "# 5. Define ndarrays in NumPy and explain their key features. How do they differ from standard Python lists?\n",
        "\n",
        "\n",
        "- `ndarray` stands for **N-dimensional array**.\n",
        "- It is the core data structure of NumPy designed for storing **homogeneous** numerical data.\n",
        "- Represents a fixed-size, multidimensional container where all elements share the same data type.\n",
        "\n",
        "\n",
        "\n",
        "1. **Homogeneous data type:** All elements have the same type (e.g., all integers, all floats).\n",
        "2. **Multidimensional:** Can represent 1D, 2D, 3D, or higher-dimensional arrays.\n",
        "3. **Fixed size:** Once created, the size cannot be changed without creating a new array.\n",
        "4. **Memory efficiency:** Uses contiguous blocks of memory for fast access and better cache utilization.\n",
        "5. **Vectorized operations:** Supports element-wise arithmetic and other operations without explicit loops.\n",
        "6. **Broadcasting:** Allows arithmetic operations on arrays of different shapes.\n",
        "7. **Rich functionality:** Includes many built-in methods for mathematical, logical, statistical, and linear algebra operations.\n",
        "\n",
        "---\n",
        "\n",
        "## Differences Between `ndarray` and Python Lists\n",
        "\n",
        "| Feature               | NumPy `ndarray`                    | Python List                      |\n",
        "|-----------------------|----------------------------------|---------------------------------|\n",
        "| Data type             | Homogeneous (single dtype)       | Heterogeneous (mixed types)     |\n",
        "| Memory efficiency     | Contiguous memory block          | Stores references to objects    |\n",
        "| Performance           | Optimized for numerical ops      | Slower for large numerical data |\n",
        "| Functionality         | Vectorized operations supported  | Requires explicit loops         |\n",
        "| Dimensionality        | Supports multiple dimensions     | Nested lists for multidimensions|\n",
        "| Size mutability       | Fixed size after creation        | Dynamic size (can grow/shrink)  |\n",
        "\n",
        "---\n",
        "\n",
        "## Example: Creating and Printing ndarrays\n",
        "\n",
        "import numpy as np\n",
        "\n",
        "# Create a 1D ndarray\n",
        "arr_1d = np.array([1, 2, 3])\n",
        "print(\"1D ndarray:\", arr_1d)\n",
        "\n",
        "# Create a 2D ndarray\n",
        "arr_2d = np.array([[1, 2], [3, 4]])\n",
        "print(\"2D ndarray:\\n\", arr_2d)"
      ],
      "metadata": {
        "id": "74jqL3fKJC0D"
      },
      "execution_count": null,
      "outputs": []
    },
    {
      "cell_type": "code",
      "source": [],
      "metadata": {
        "id": "Ut53cfK8Jk9a"
      },
      "execution_count": null,
      "outputs": []
    },
    {
      "cell_type": "code",
      "source": [],
      "metadata": {
        "id": "Mde3naKkJlOU"
      },
      "execution_count": null,
      "outputs": []
    },
    {
      "cell_type": "code",
      "source": [
        "#   Analyze the performance benefits of NumPy arrays over Python lists for large-scale numerical operations.\n",
        "\n",
        "# Performance Benefits of NumPy Arrays over Python Lists for Large-Scale Numerical Operations\n",
        "\n",
        "\n",
        "1. **Homogeneous Data Types**\n",
        "   - NumPy arrays (`ndarray`) store elements of the same data type in a contiguous block of memory.\n",
        "   - Python lists store references to objects which can be of different types, causing overhead in memory access.\n",
        "\n",
        "2. **Contiguous Memory Storage**\n",
        "   - NumPy uses contiguous memory allocation, which improves cache locality and speeds up access.\n",
        "   - Python lists are arrays of pointers to objects scattered in memory, causing slower access.\n",
        "\n",
        "3. **Vectorized Operations**\n",
        "   - NumPy performs element-wise operations implemented in optimized C code, avoiding explicit Python loops.\n",
        "   - Python lists require looping through elements explicitly, which is slower due to Python's interpreted nature.\n",
        "\n",
        "4. **Low-Level Optimizations**\n",
        "   - NumPy operations are backed by highly optimized libraries like BLAS and LAPACK.\n",
        "   - Python lists have no such optimizations and rely on generic Python code execution.\n",
        "\n",
        "5. **Reduced Overhead**\n",
        "   - NumPy avoids dynamic type checks and boxing/unboxing of data during operations.\n",
        "   - Python lists incur overhead due to dynamic typing and handling of diverse object types.\n",
        "\n",
        "---\n",
        "\n",
        "## Example: Timing NumPy Arrays vs Python Lists for Large-Scale Addition\n",
        "\n",
        "import numpy as np\n",
        "import time\n",
        "\n",
        "# Large size\n",
        "size = 10**7\n",
        "\n",
        "# Create Python lists\n",
        "list1 = list(range(size))\n",
        "list2 = list(range(size))\n",
        "\n",
        "# Create NumPy arrays\n",
        "arr1 = np.arange(size)\n",
        "arr2 = np.arange(size)\n",
        "\n",
        "# Timing addition with Python lists (using list comprehension)\n",
        "start = time.time()\n",
        "result_list = [x + y for x, y in zip(list1, list2)]\n",
        "end = time.time()\n",
        "print(f\"Python list addition took {end - start:.4f} seconds\")\n",
        "\n",
        "# Timing addition with NumPy arrays (vectorized)\n",
        "start = time.time()\n",
        "result_array = arr1 + arr2\n",
        "end = time.time()\n",
        "print(f\"NumPy array addition took {end - start:.4f} seconds\")"
      ],
      "metadata": {
        "id": "i3z55OM7Jk7C"
      },
      "execution_count": null,
      "outputs": []
    },
    {
      "cell_type": "code",
      "source": [],
      "metadata": {
        "id": "dHILjOOcJ1BI"
      },
      "execution_count": null,
      "outputs": []
    },
    {
      "cell_type": "code",
      "source": [],
      "metadata": {
        "id": "asAlo3-VJ0_I"
      },
      "execution_count": null,
      "outputs": []
    },
    {
      "cell_type": "code",
      "source": [
        "#  Compare vstack() and hstack() functions in NumPy. Provide examples demonstrating their usage and output.\n",
        "\n",
        "\n",
        "## Overview\n",
        "\n",
        "- `np.vstack()` and `np.hstack()` are functions used to stack arrays vertically or horizontally, respectively.\n",
        "\n",
        "| Function    | Description                                      |\n",
        "|-------------|------------------------------------------------|\n",
        "| `vstack()`  | Stacks arrays **vertically** (row-wise)         |\n",
        "| `hstack()`  | Stacks arrays **horizontally** (column-wise)    |\n",
        "\n",
        "---\n",
        "\n",
        "## `np.vstack()` — Vertical Stack\n",
        "\n",
        "- Stacks arrays along **rows** (adds rows).\n",
        "- Resulting array has more rows, same number of columns.\n",
        "- Arrays must have the **same number of columns**.\n",
        "\n",
        "import numpy as np\n",
        "\n",
        "a = np.array([1, 2, 3])\n",
        "b = np.array([4, 5, 6])\n",
        "\n",
        "result_v = np.vstack((a, b))\n",
        "print(\"Vertical stack (vstack):\\n\", result_v)"
      ],
      "metadata": {
        "id": "wGL23qpxJ085"
      },
      "execution_count": null,
      "outputs": []
    },
    {
      "cell_type": "code",
      "source": [
        "a = np.array([[1], [2], [3]])\n",
        "b = np.array([[4], [5], [6]])\n",
        "\n",
        "result_h = np.hstack((a, b))\n",
        "print(\"Horizontal stack (hstack):\\n\", result_h)"
      ],
      "metadata": {
        "id": "sZMITG2HJ_rt"
      },
      "execution_count": null,
      "outputs": []
    },
    {
      "cell_type": "code",
      "source": [],
      "metadata": {
        "id": "H4nMny_WKGEX"
      },
      "execution_count": null,
      "outputs": []
    },
    {
      "cell_type": "code",
      "source": [],
      "metadata": {
        "id": "Ke6-50ygKGBm"
      },
      "execution_count": null,
      "outputs": []
    },
    {
      "cell_type": "code",
      "source": [],
      "metadata": {
        "id": "xMErFDU0KF_I"
      },
      "execution_count": null,
      "outputs": []
    },
    {
      "cell_type": "code",
      "source": [
        "#  Explain the differences between fliplr() and flipud() methods in NumPy, including their effects on various array dimensions.\n",
        "\n",
        "\n",
        "# Differences Between `fliplr()` and `flipud()` Methods in NumPy\n",
        "\n",
        "- Both `fliplr()` and `flipud()` are NumPy functions used to flip arrays, but they operate along different axes:\n",
        "\n",
        "| Function   | Operation                  | Axis affected                 |\n",
        "|------------|----------------------------|-------------------------------|\n",
        "| `fliplr()` | Flip array **left to right** | Flips columns (horizontal flip) |\n",
        "| `flipud()` | Flip array **upside down**   | Flips rows (vertical flip)      |\n",
        "\n",
        "---\n",
        "\n",
        "## Behavior on Different Array Dimensions\n",
        "\n",
        "- Both functions primarily operate on **2D or higher-dimensional arrays**.\n",
        "- For 1D arrays:\n",
        "  - `fliplr()` raises an error because 1D arrays don't have columns.\n",
        "  - `flipud()` works by flipping elements vertically (reverses the 1D array).\n",
        "\n",
        "---\n",
        "\n",
        "## Example Usage\n",
        "\n",
        "import numpy as np\n",
        "\n",
        "arr = np.array([[1, 2, 3],\n",
        "                [4, 5, 6],\n",
        "                [7, 8, 9]])\n",
        "\n",
        "print(\"Original array:\\n\", arr)\n",
        "\n",
        "# Flip left to right (columns reversed)\n",
        "flipped_lr = np.fliplr(arr)\n",
        "print(\"\\nAfter np.fliplr():\\n\", flipped_lr)\n",
        "\n",
        "# Flip upside down (rows reversed)\n",
        "flipped_ud = np.flipud(arr)\n",
        "print(\"\\nAfter np.flipud():\\n\", flipped_ud)"
      ],
      "metadata": {
        "id": "Kt0j4ChbKF81"
      },
      "execution_count": null,
      "outputs": []
    },
    {
      "cell_type": "code",
      "source": [],
      "metadata": {
        "id": "LXBAIZZ3KTEJ"
      },
      "execution_count": null,
      "outputs": []
    },
    {
      "cell_type": "code",
      "source": [],
      "metadata": {
        "id": "G7bJSWa3KTB8"
      },
      "execution_count": null,
      "outputs": []
    },
    {
      "cell_type": "code",
      "source": [
        "#  Explain the concepts of vectorization and broadcasting in NumPy. How do they contribute to efficient array operations?\n",
        "\n",
        "\n",
        "## Vectorization\n",
        "\n",
        "- Vectorization means performing operations on entire arrays **without explicit Python loops**.\n",
        "- It leverages NumPy’s optimized, low-level implementations (usually in C) to apply operations element-wise efficiently.\n",
        "- This results in faster execution and concise code.\n",
        "\n",
        "### Example of Vectorization:\n",
        "\n",
        "import numpy as np\n",
        "\n",
        "a = np.array([1, 2, 3, 4])\n",
        "b = np.array([10, 20, 30, 40])\n",
        "\n",
        "# Element-wise addition without loops (vectorized)\n",
        "c = a + b\n",
        "print(\"Vectorized addition:\", c)"
      ],
      "metadata": {
        "id": "yqF0yXwUKS_y"
      },
      "execution_count": null,
      "outputs": []
    },
    {
      "cell_type": "code",
      "source": [
        "# 2D array\n",
        "A = np.array([[1, 2, 3],\n",
        "              [4, 5, 6]])\n",
        "\n",
        "# 1D array (shape (3,))\n",
        "b = np.array([10, 20, 30])\n",
        "\n",
        "# b is broadcasted to match A's shape (2, 3)\n",
        "result = A + b\n",
        "print(\"Broadcasted addition:\\n\", result)"
      ],
      "metadata": {
        "id": "kyURsPVrKjjQ"
      },
      "execution_count": null,
      "outputs": []
    },
    {
      "cell_type": "code",
      "source": [],
      "metadata": {
        "id": "DVnfbm3zKrlg"
      },
      "execution_count": null,
      "outputs": []
    },
    {
      "cell_type": "code",
      "source": [
        "##### Practical Questions ######"
      ],
      "metadata": {
        "id": "KzJiQw6LKrjD"
      },
      "execution_count": null,
      "outputs": []
    },
    {
      "cell_type": "code",
      "source": [],
      "metadata": {
        "id": "FEB8ZisoK31Q"
      },
      "execution_count": null,
      "outputs": []
    },
    {
      "cell_type": "code",
      "source": [],
      "metadata": {
        "id": "RnbShnppK3zN"
      },
      "execution_count": null,
      "outputs": []
    },
    {
      "cell_type": "code",
      "source": [],
      "metadata": {
        "id": "PHAn5oxgK3xD"
      },
      "execution_count": null,
      "outputs": []
    },
    {
      "cell_type": "code",
      "source": [
        "#  Create a 3x3 NumPy array with random integers between 1 and 100. Then, interchange its rows and columns\n",
        "\n",
        "\n",
        "import numpy as np\n",
        "\n",
        "# Create 3x3 array with random integers between 1 and 100\n",
        "np.random.seed(0)  # for reproducibility\n",
        "arr = np.random.randint(1, 101, size=(3, 3))\n",
        "print(\"Original array:\\n\", arr)\n",
        "\n",
        "# Interchange rows and columns by transposing the array\n",
        "arr_transposed = arr.T\n",
        "print(\"\\nTransposed array (rows and columns interchanged):\\n\", arr_transposed)\n"
      ],
      "metadata": {
        "colab": {
          "base_uri": "https://localhost:8080/"
        },
        "id": "8JciJLldKrgY",
        "outputId": "3d6b2ace-4c02-45d1-97d9-a3a0bf60891d"
      },
      "execution_count": 6,
      "outputs": [
        {
          "output_type": "stream",
          "name": "stdout",
          "text": [
            "Original array:\n",
            " [[45 48 65]\n",
            " [68 68 10]\n",
            " [84 22 37]]\n",
            "\n",
            "Transposed array (rows and columns interchanged):\n",
            " [[45 68 84]\n",
            " [48 68 22]\n",
            " [65 10 37]]\n"
          ]
        }
      ]
    },
    {
      "cell_type": "code",
      "source": [],
      "metadata": {
        "id": "ha1w5p-cLRJ2"
      },
      "execution_count": null,
      "outputs": []
    },
    {
      "cell_type": "code",
      "source": [],
      "metadata": {
        "id": "PpXjeRMLLRmy"
      },
      "execution_count": null,
      "outputs": []
    },
    {
      "cell_type": "code",
      "source": [
        "# Generate a 1D NumPy array with 10 elements. Reshape it into a 2x5 array, then into a 5x2 array\n",
        "\n",
        "import numpy as np\n",
        "\n",
        "# Generate 1D array with 10 elements\n",
        "arr_1d = np.arange(1, 11)  # Elements from 1 to 10\n",
        "print(\"Original 1D array:\")\n",
        "print(arr_1d)\n",
        "\n",
        "# Reshape into 2x5 array\n",
        "arr_2x5 = arr_1d.reshape(2, 5)\n",
        "print(\"\\nReshaped to 2x5 array:\")\n",
        "print(arr_2x5)\n",
        "\n",
        "# Reshape into 5x2 array\n",
        "arr_5x2 = arr_1d.reshape(5, 2)\n",
        "print(\"\\nReshaped to 5x2 array:\")\n",
        "print(arr_5x2)"
      ],
      "metadata": {
        "colab": {
          "base_uri": "https://localhost:8080/"
        },
        "id": "Kqe8QdIPLRHo",
        "outputId": "4bf72f79-e1a6-40f7-9455-2cc3c7fb0a56"
      },
      "execution_count": 7,
      "outputs": [
        {
          "output_type": "stream",
          "name": "stdout",
          "text": [
            "Original 1D array:\n",
            "[ 1  2  3  4  5  6  7  8  9 10]\n",
            "\n",
            "Reshaped to 2x5 array:\n",
            "[[ 1  2  3  4  5]\n",
            " [ 6  7  8  9 10]]\n",
            "\n",
            "Reshaped to 5x2 array:\n",
            "[[ 1  2]\n",
            " [ 3  4]\n",
            " [ 5  6]\n",
            " [ 7  8]\n",
            " [ 9 10]]\n"
          ]
        }
      ]
    },
    {
      "cell_type": "code",
      "source": [],
      "metadata": {
        "id": "4KTh-G2OLY-V"
      },
      "execution_count": null,
      "outputs": []
    },
    {
      "cell_type": "code",
      "source": [],
      "metadata": {
        "id": "X-nR3LmWLY7l"
      },
      "execution_count": null,
      "outputs": []
    },
    {
      "cell_type": "code",
      "source": [
        "# Create a 4x4 NumPy array with random float values. Add a border of zeros around it, resulting in a 6x6 array\n",
        "\n",
        "import numpy as np\n",
        "\n",
        "# Create a 4x4 array with random float values\n",
        "np.random.seed(0)  # For reproducibility\n",
        "arr = np.random.rand(4, 4)\n",
        "print(\"Original 4x4 array:\\n\", arr)\n",
        "\n",
        "# Add a border of zeros around the array to make it 6x6\n",
        "arr_padded = np.pad(arr, pad_width=1, mode='constant', constant_values=0)\n",
        "print(\"\\nArray after adding zero border (6x6):\\n\", arr_padded)"
      ],
      "metadata": {
        "colab": {
          "base_uri": "https://localhost:8080/"
        },
        "id": "I8sHLfczLY5P",
        "outputId": "a9f963a4-6dec-45af-becf-6f05b3b53f3c"
      },
      "execution_count": 8,
      "outputs": [
        {
          "output_type": "stream",
          "name": "stdout",
          "text": [
            "Original 4x4 array:\n",
            " [[0.5488135  0.71518937 0.60276338 0.54488318]\n",
            " [0.4236548  0.64589411 0.43758721 0.891773  ]\n",
            " [0.96366276 0.38344152 0.79172504 0.52889492]\n",
            " [0.56804456 0.92559664 0.07103606 0.0871293 ]]\n",
            "\n",
            "Array after adding zero border (6x6):\n",
            " [[0.         0.         0.         0.         0.         0.        ]\n",
            " [0.         0.5488135  0.71518937 0.60276338 0.54488318 0.        ]\n",
            " [0.         0.4236548  0.64589411 0.43758721 0.891773   0.        ]\n",
            " [0.         0.96366276 0.38344152 0.79172504 0.52889492 0.        ]\n",
            " [0.         0.56804456 0.92559664 0.07103606 0.0871293  0.        ]\n",
            " [0.         0.         0.         0.         0.         0.        ]]\n"
          ]
        }
      ]
    },
    {
      "cell_type": "code",
      "source": [],
      "metadata": {
        "id": "0hPSLZpiLjor"
      },
      "execution_count": null,
      "outputs": []
    },
    {
      "cell_type": "code",
      "source": [],
      "metadata": {
        "id": "wvMD97ugLjmk"
      },
      "execution_count": null,
      "outputs": []
    },
    {
      "cell_type": "code",
      "source": [
        "# Using NumPy, create an array of integers from 10 to 60 with a step of 5.\n",
        "\n",
        "import numpy as np\n",
        "\n",
        "# Create array of integers from 10 to 60 with step 5\n",
        "arr = np.arange(10, 61, 5)\n",
        "print(\"Array from 10 to 60 with step 5:\")\n",
        "print(arr)"
      ],
      "metadata": {
        "colab": {
          "base_uri": "https://localhost:8080/"
        },
        "id": "xTvygCTlLjkK",
        "outputId": "ed0791ce-7bb3-48a6-da2b-a6897aaaac3b"
      },
      "execution_count": 9,
      "outputs": [
        {
          "output_type": "stream",
          "name": "stdout",
          "text": [
            "Array from 10 to 60 with step 5:\n",
            "[10 15 20 25 30 35 40 45 50 55 60]\n"
          ]
        }
      ]
    },
    {
      "cell_type": "code",
      "source": [],
      "metadata": {
        "id": "d5x337fkLrYB"
      },
      "execution_count": null,
      "outputs": []
    },
    {
      "cell_type": "code",
      "source": [],
      "metadata": {
        "id": "w6gNPv9NLrVr"
      },
      "execution_count": null,
      "outputs": []
    },
    {
      "cell_type": "code",
      "source": [
        "# Create a NumPy array of strings ['python', 'numpy', 'pandas']. Apply different case transformations (uppercase, lowercase, title case, etc.) to each element.\n",
        "\n",
        "import numpy as np\n",
        "\n",
        "# Create NumPy array of strings\n",
        "arr = np.array(['python', 'numpy', 'pandas'])\n",
        "print(\"Original array:\")\n",
        "print(arr)\n",
        "\n",
        "# Uppercase transformation\n",
        "upper_arr = np.char.upper(arr)\n",
        "print(\"\\nUppercase:\")\n",
        "print(upper_arr)\n",
        "\n",
        "# Lowercase transformation\n",
        "lower_arr = np.char.lower(arr)\n",
        "print(\"\\nLowercase:\")\n",
        "print(lower_arr)\n",
        "\n",
        "# Title case transformation\n",
        "title_arr = np.char.title(arr)\n",
        "print(\"\\nTitle case:\")\n",
        "print(title_arr)\n",
        "\n",
        "# Capitalize first character\n",
        "capitalize_arr = np.char.capitalize(arr)\n",
        "print(\"\\nCapitalize first character:\")\n",
        "print(capitalize_arr)"
      ],
      "metadata": {
        "colab": {
          "base_uri": "https://localhost:8080/"
        },
        "id": "m9KrgrngLrTS",
        "outputId": "9c6c4460-40a7-47a1-ffb5-bf69825e0d3c"
      },
      "execution_count": 10,
      "outputs": [
        {
          "output_type": "stream",
          "name": "stdout",
          "text": [
            "Original array:\n",
            "['python' 'numpy' 'pandas']\n",
            "\n",
            "Uppercase:\n",
            "['PYTHON' 'NUMPY' 'PANDAS']\n",
            "\n",
            "Lowercase:\n",
            "['python' 'numpy' 'pandas']\n",
            "\n",
            "Title case:\n",
            "['Python' 'Numpy' 'Pandas']\n",
            "\n",
            "Capitalize first character:\n",
            "['Python' 'Numpy' 'Pandas']\n"
          ]
        }
      ]
    },
    {
      "cell_type": "code",
      "source": [],
      "metadata": {
        "id": "U4DAwlJzL1cx"
      },
      "execution_count": null,
      "outputs": []
    },
    {
      "cell_type": "code",
      "source": [],
      "metadata": {
        "id": "O2QxStb6L1aT"
      },
      "execution_count": null,
      "outputs": []
    },
    {
      "cell_type": "code",
      "source": [
        "# Generate a NumPy array of words. Insert a space between each character of every word in the array.\n",
        "\n",
        "import numpy as np\n",
        "\n",
        "# Create NumPy array of words\n",
        "words = np.array(['hello', 'world', 'numpy'])\n",
        "\n",
        "# Function to insert spaces between characters\n",
        "def insert_spaces(word):\n",
        "    return ' '.join(list(word))\n",
        "\n",
        "# Vectorize the function to apply it element-wise on the array\n",
        "vectorized_func = np.vectorize(insert_spaces)\n",
        "\n",
        "# Apply to the array\n",
        "spaced_words = vectorized_func(words)\n",
        "\n",
        "print(\"Original words:\", words)\n",
        "print(\"Words with spaces between characters:\", spaced_words)"
      ],
      "metadata": {
        "colab": {
          "base_uri": "https://localhost:8080/"
        },
        "id": "PU7kzFCEL1Xj",
        "outputId": "4c6e8ec5-d534-40ba-aef3-5e9609ba68da"
      },
      "execution_count": 11,
      "outputs": [
        {
          "output_type": "stream",
          "name": "stdout",
          "text": [
            "Original words: ['hello' 'world' 'numpy']\n",
            "Words with spaces between characters: ['h e l l o' 'w o r l d' 'n u m p y']\n"
          ]
        }
      ]
    },
    {
      "cell_type": "code",
      "source": [],
      "metadata": {
        "id": "DH1_iIb0L_8f"
      },
      "execution_count": null,
      "outputs": []
    },
    {
      "cell_type": "code",
      "source": [],
      "metadata": {
        "id": "Kfp6oFPbL_6I"
      },
      "execution_count": null,
      "outputs": []
    },
    {
      "cell_type": "code",
      "source": [
        "# Create two 2D NumPy arrays and perform element-wise addition, subtraction, multiplication, and division.\n",
        "\n",
        "import numpy as np\n",
        "\n",
        "# Create two 2D arrays\n",
        "arr1 = np.array([[1, 2, 3],\n",
        "                 [4, 5, 6]])\n",
        "\n",
        "arr2 = np.array([[6, 5, 4],\n",
        "                 [3, 2, 1]])\n",
        "\n",
        "print(\"Array 1:\\n\", arr1)\n",
        "print(\"\\nArray 2:\\n\", arr2)\n",
        "\n",
        "# Element-wise addition\n",
        "add = arr1 + arr2\n",
        "print(\"\\nElement-wise Addition:\\n\", add)\n",
        "\n",
        "# Element-wise subtraction\n",
        "sub = arr1 - arr2\n",
        "print(\"\\nElement-wise Subtraction:\\n\", sub)\n",
        "\n",
        "# Element-wise multiplication\n",
        "mul = arr1 * arr2\n",
        "print(\"\\nElement-wise Multiplication:\\n\", mul)\n",
        "\n",
        "# Element-wise division\n",
        "div = arr1 / arr2\n",
        "print(\"\\nElement-wise Division:\\n\", div)\n"
      ],
      "metadata": {
        "colab": {
          "base_uri": "https://localhost:8080/"
        },
        "id": "lw5kxQPKMAzf",
        "outputId": "fa2e8670-4102-453c-eae6-bbc7fc234488"
      },
      "execution_count": 12,
      "outputs": [
        {
          "output_type": "stream",
          "name": "stdout",
          "text": [
            "Array 1:\n",
            " [[1 2 3]\n",
            " [4 5 6]]\n",
            "\n",
            "Array 2:\n",
            " [[6 5 4]\n",
            " [3 2 1]]\n",
            "\n",
            "Element-wise Addition:\n",
            " [[7 7 7]\n",
            " [7 7 7]]\n",
            "\n",
            "Element-wise Subtraction:\n",
            " [[-5 -3 -1]\n",
            " [ 1  3  5]]\n",
            "\n",
            "Element-wise Multiplication:\n",
            " [[ 6 10 12]\n",
            " [12 10  6]]\n",
            "\n",
            "Element-wise Division:\n",
            " [[0.16666667 0.4        0.75      ]\n",
            " [1.33333333 2.5        6.        ]]\n"
          ]
        }
      ]
    },
    {
      "cell_type": "code",
      "source": [],
      "metadata": {
        "id": "mUS8g0dTMHMG"
      },
      "execution_count": null,
      "outputs": []
    },
    {
      "cell_type": "code",
      "source": [],
      "metadata": {
        "id": "1Mgz1LeGMHH7"
      },
      "execution_count": null,
      "outputs": []
    },
    {
      "cell_type": "code",
      "source": [
        "#  Use NumPy to create a 5x5 identity matrix, then extract its diagonal elements\n",
        "\n",
        "\n",
        "import numpy as np\n",
        "\n",
        "# Create a 5x5 identity matrix\n",
        "identity_matrix = np.eye(5)\n",
        "print(\"5x5 Identity Matrix:\\n\", identity_matrix)\n",
        "\n",
        "# Extract the diagonal elements\n",
        "diagonal_elements = np.diag(identity_matrix)\n",
        "print(\"\\nDiagonal elements of the identity matrix:\")\n",
        "print(diagonal_elements)\n"
      ],
      "metadata": {
        "colab": {
          "base_uri": "https://localhost:8080/"
        },
        "id": "_9ro_FyMMHBF",
        "outputId": "b980acc3-5bef-4694-b9ff-653e5c1daa72"
      },
      "execution_count": 13,
      "outputs": [
        {
          "output_type": "stream",
          "name": "stdout",
          "text": [
            "5x5 Identity Matrix:\n",
            " [[1. 0. 0. 0. 0.]\n",
            " [0. 1. 0. 0. 0.]\n",
            " [0. 0. 1. 0. 0.]\n",
            " [0. 0. 0. 1. 0.]\n",
            " [0. 0. 0. 0. 1.]]\n",
            "\n",
            "Diagonal elements of the identity matrix:\n",
            "[1. 1. 1. 1. 1.]\n"
          ]
        }
      ]
    },
    {
      "cell_type": "code",
      "source": [],
      "metadata": {
        "id": "ofWLd6-PMOfY"
      },
      "execution_count": null,
      "outputs": []
    },
    {
      "cell_type": "code",
      "source": [],
      "metadata": {
        "id": "piMPuGRmMOc0"
      },
      "execution_count": null,
      "outputs": []
    },
    {
      "cell_type": "code",
      "source": [
        "# Generate a NumPy array of 100 random integers between 0 and 1000. Find and display all prime numbers in this array.\n",
        "\n",
        "import numpy as np\n",
        "\n",
        "# Function to check if a number is prime\n",
        "def is_prime(n):\n",
        "    if n < 2:\n",
        "        return False\n",
        "    for i in range(2, int(np.sqrt(n)) + 1):\n",
        "        if n % i == 0:\n",
        "            return False\n",
        "    return True\n",
        "\n",
        "# Generate 100 random integers between 0 and 1000\n",
        "np.random.seed(0)  # For reproducibility\n",
        "arr = np.random.randint(0, 1001, size=100)\n",
        "print(\"Random integers array:\\n\", arr)\n",
        "\n",
        "# Vectorize the prime checking function\n",
        "vectorized_is_prime = np.vectorize(is_prime)\n",
        "\n",
        "# Filter primes in the array\n",
        "primes = arr[vectorized_is_prime(arr)]\n",
        "print(\"\\nPrime numbers in the array:\")\n",
        "print(primes)\n"
      ],
      "metadata": {
        "colab": {
          "base_uri": "https://localhost:8080/"
        },
        "id": "SOwMCHo_MOZR",
        "outputId": "2c8a15fd-7b41-49f2-a9fa-2dcf922d960f"
      },
      "execution_count": 14,
      "outputs": [
        {
          "output_type": "stream",
          "name": "stdout",
          "text": [
            "Random integers array:\n",
            " [684 559 629 192 835 763 707 359   9 723 277 754 804 599  70 472 600 396\n",
            " 314 705 486 551  87 174 600 849 677 537 845  72 777 916 115 976 755 709\n",
            " 847 431 448 850  99 984 177 755 797 659 147 910 423 288 961 265 697 639\n",
            " 544 543 714 244 151 675 510 459 882 183  28 802 128 128 932  53 901 550\n",
            " 488 756 273 335 388 617  42 442 543 888 257 321 999 937  57 291 870 119\n",
            " 779 430  82  91 896 398 611 565 908 633]\n",
            "\n",
            "Prime numbers in the array:\n",
            "[359 277 599 677 709 431 797 659 151  53 617 257 937]\n"
          ]
        }
      ]
    },
    {
      "cell_type": "code",
      "source": [],
      "metadata": {
        "id": "_-q6sXC2MWxz"
      },
      "execution_count": null,
      "outputs": []
    },
    {
      "cell_type": "code",
      "source": [],
      "metadata": {
        "id": "W4X9E3mBMWuk"
      },
      "execution_count": null,
      "outputs": []
    },
    {
      "cell_type": "code",
      "source": [
        "#  Create a NumPy array representing daily temperatures for a month. Calculate and display the weekly averages.\n",
        "\n",
        "import numpy as np\n",
        "\n",
        "# Create an array of daily temperatures for 30 days (random example data)\n",
        "np.random.seed(0)  # For reproducibility\n",
        "daily_temps = np.random.uniform(low=15, high=35, size=30)  # temps between 15 and 35 degrees\n",
        "print(\"Daily temperatures for 30 days:\\n\", daily_temps)\n",
        "\n",
        "# Reshape into weeks (assuming 7 days per week)\n",
        "# Since 30 is not divisible by 7, handle extra days separately\n",
        "weeks = daily_temps[:28].reshape(4, 7)  # First 28 days -> 4 full weeks\n",
        "\n",
        "# Calculate weekly averages\n",
        "weekly_averages = weeks.mean(axis=1)\n",
        "print(\"\\nWeekly averages for first 4 weeks:\")\n",
        "for i, avg in enumerate(weekly_averages, 1):\n",
        "    print(f\"Week {i} average temperature: {avg:.2f}°C\")\n",
        "\n",
        "# Handle remaining 2 days\n",
        "remaining_days = daily_temps[28:]\n",
        "remaining_avg = remaining_days.mean()\n",
        "print(f\"\\nAverage temperature for remaining 2 days: {remaining_avg:.2f}°C\")\n"
      ],
      "metadata": {
        "colab": {
          "base_uri": "https://localhost:8080/"
        },
        "id": "4RQjX8_HMWsW",
        "outputId": "6cf60fe9-429a-4d72-89fa-ab599fe02793"
      },
      "execution_count": 15,
      "outputs": [
        {
          "output_type": "stream",
          "name": "stdout",
          "text": [
            "Daily temperatures for 30 days:\n",
            " [25.97627008 29.30378733 27.05526752 25.89766366 23.47309599 27.91788226\n",
            " 23.75174423 32.83546002 34.27325521 22.66883038 30.83450076 25.5778984\n",
            " 26.36089122 33.51193277 16.42072116 16.74258599 15.40436795 31.65239691\n",
            " 30.56313502 32.40024296 34.57236684 30.98317128 24.22958725 30.61058353\n",
            " 17.36548852 27.79842043 17.86706575 33.89337834 25.43696644 23.2932388 ]\n",
            "\n",
            "Weekly averages for first 4 weeks:\n",
            "Week 1 average temperature: 26.20°C\n",
            "Week 2 average temperature: 29.44°C\n",
            "Week 3 average temperature: 25.39°C\n",
            "Week 4 average temperature: 26.11°C\n",
            "\n",
            "Average temperature for remaining 2 days: 24.37°C\n"
          ]
        }
      ]
    }
  ]
}