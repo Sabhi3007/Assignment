{
  "nbformat": 4,
  "nbformat_minor": 0,
  "metadata": {
    "colab": {
      "provenance": []
    },
    "kernelspec": {
      "name": "python3",
      "display_name": "Python 3"
    },
    "language_info": {
      "name": "python"
    }
  },
  "cells": [
    {
      "cell_type": "code",
      "execution_count": null,
      "metadata": {
        "id": "_PVxKz6Ls4e7"
      },
      "outputs": [],
      "source": [
        "#  Explain the key features of Python that make it a popular choice for programming.\n",
        "\n",
        "# Key Features of Python That Make It Popular\n",
        "\n",
        "1. **Easy to Learn and Read**\n",
        "   - Python has a simple syntax that resembles everyday English, making it easy for beginners.\n",
        "\n",
        "2. **Interpreted Language**\n",
        "   - Python runs code line-by-line, which makes debugging easier and development faster.\n",
        "\n",
        "3. **Cross-Platform**\n",
        "   - Python works on many operating systems like Windows, macOS, and Linux without needing changes.\n",
        "\n",
        "4. **Large Standard Library**\n",
        "   - Python includes many built-in modules and functions for tasks like file handling, web services, and more.\n",
        "\n",
        "5. **Extensive Third-Party Libraries**\n",
        "   - Libraries like NumPy, Pandas, TensorFlow, and Flask extend Python’s capabilities for data science, machine learning, web development, etc.\n",
        "\n",
        "6. **Supports Multiple Programming Paradigms**\n",
        "   - Python supports procedural, object-oriented, and functional programming styles.\n",
        "\n",
        "7. **Strong Community Support**\n",
        "   - Python has a large, active community, so help, tutorials, and resources are easy to find.\n",
        "\n",
        "8. **Dynamic Typing**\n",
        "   - You don’t need to declare variable types explicitly, which speeds up coding.\n",
        "\n",
        "9. **Automatic Memory Management**\n",
        "   - Python handles memory allocation and garbage collection automatically.\n",
        "\n",
        "10. **Integration Capabilities**\n",
        "    - Python can easily integrate with other languages like C, C++, and Java, and supports embedding."
      ]
    },
    {
      "cell_type": "code",
      "source": [],
      "metadata": {
        "id": "47islrCvtCvE"
      },
      "execution_count": null,
      "outputs": []
    },
    {
      "cell_type": "code",
      "source": [],
      "metadata": {
        "id": "Zn-9DojUtCtW"
      },
      "execution_count": null,
      "outputs": []
    },
    {
      "cell_type": "code",
      "source": [
        "#  Describe the role of predefined keywords in Python and provide examples of how they are used in a program.\n",
        "\n",
        "- **Predefined keywords** (also called reserved words) are special words in Python that have fixed meanings and cannot be used as variable names or identifiers.\n",
        "- They define the syntax and structure of the Python language.\n",
        "- Keywords are used to perform specific operations such as controlling the flow, defining functions, handling exceptions, and more.\n",
        "- Using keywords correctly is essential to write syntactically correct Python code.\n",
        "\n",
        "\n",
        "## Examples of Common Python Keywords and Their Usage\n",
        "\n",
        "1. **if, else, elif**\n",
        "   Used for conditional statements:\n",
        "\n",
        "   x = 10\n",
        "   if x > 5:\n",
        "       print(\"x is greater than 5\")\n",
        "   else:\n",
        "       print(\"x is 5 or less\")"
      ],
      "metadata": {
        "id": "iUBLcQ30tCrQ"
      },
      "execution_count": null,
      "outputs": []
    },
    {
      "cell_type": "code",
      "source": [],
      "metadata": {
        "id": "jAGouUqZtQ-p"
      },
      "execution_count": null,
      "outputs": []
    },
    {
      "cell_type": "code",
      "source": [],
      "metadata": {
        "id": "v2D4AP1otQ8o"
      },
      "execution_count": null,
      "outputs": []
    },
    {
      "cell_type": "code",
      "source": [
        "# Compare and contrast mutable and immutable objects in Python with examples.\n",
        "\n",
        "| Aspect                | Mutable Objects                            | Immutable Objects                         |\n",
        "|-----------------------|-------------------------------------------|------------------------------------------|\n",
        "| **Definition**         | Objects that can be changed after creation | Objects that cannot be changed once created |\n",
        "| **Examples**           | Lists, Dictionaries, Sets                  | Integers, Floats, Strings, Tuples        |\n",
        "| **Modification**       | You can modify their content directly     | You cannot change the content; create new objects instead |\n",
        "| **Memory**             | Same object in memory can change           | Changing the value creates a new object  |\n",
        "| **Use Cases**          | When data needs to be updated frequently   | When fixed data is needed, ensures data integrity |\n",
        "\n",
        "---\n",
        "\n",
        "## Examples\n",
        "\n",
        "### Mutable Object (List)\n",
        "\n",
        "my_list = [1, 2, 3]\n",
        "print(\"Original list:\", my_list)\n",
        "\n",
        "my_list[0] = 10  # Modify the first element\n",
        "print(\"Modified list:\", my_list)"
      ],
      "metadata": {
        "id": "jFU__wq4tQ6d"
      },
      "execution_count": null,
      "outputs": []
    },
    {
      "cell_type": "code",
      "source": [],
      "metadata": {
        "id": "UJFfp4MHtb46"
      },
      "execution_count": null,
      "outputs": []
    },
    {
      "cell_type": "code",
      "source": [],
      "metadata": {
        "id": "QmElIjY7tb24"
      },
      "execution_count": null,
      "outputs": []
    },
    {
      "cell_type": "code",
      "source": [
        "# Discuss the different types of operators in Python and provide examples of how they are used.\n",
        "\n",
        "# Arithmetic Operators\n",
        "print(\"Arithmetic Operators:\")\n",
        "print(\"5 + 3 =\", 5 + 3)\n",
        "print(\"5 - 3 =\", 5 - 3)\n",
        "print(\"5 * 3 =\", 5 * 3)\n",
        "print(\"5 / 3 =\", 5 / 3)\n",
        "print(\"5 // 3 =\", 5 // 3)\n",
        "print(\"5 % 3 =\", 5 % 3)\n",
        "print(\"5 ** 3 =\", 5 ** 3)\n",
        "print()\n",
        "\n",
        "# Comparison Operators\n",
        "print(\"Comparison Operators:\")\n",
        "print(\"5 == 3:\", 5 == 3)\n",
        "print(\"5 != 3:\", 5 != 3)\n",
        "print(\"5 > 3:\", 5 > 3)\n",
        "print(\"5 < 3:\", 5 < 3)\n",
        "print(\"5 >= 3:\", 5 >= 3)\n",
        "print(\"5 <= 3:\", 5 <= 3)\n",
        "print()\n",
        "\n",
        "# Logical Operators\n",
        "print(\"Logical Operators:\")\n",
        "print(\"(5 > 3) and (2 < 4):\", (5 > 3) and (2 < 4))\n",
        "print(\"(5 > 3) or (2 > 4):\", (5 > 3) or (2 > 4))\n",
        "print(\"not (5 > 3):\", not (5 > 3))\n",
        "print()\n",
        "\n",
        "# Assignment Operators\n",
        "x = 5\n",
        "print(\"Assignment Operators:\")\n",
        "print(\"Initial x =\", x)\n",
        "x += 3\n",
        "print(\"After x += 3:\", x)\n",
        "x *= 2\n",
        "print(\"After x *= 2:\", x)\n",
        "print()\n",
        "\n",
        "# Membership Operators\n",
        "print(\"Membership Operators:\")\n",
        "print(\"'a' in 'apple':\", 'a' in 'apple')\n",
        "print(\"'b' not in 'apple':\", 'b' not in 'apple')\n",
        "print()\n",
        "\n",
        "# Identity Operators\n",
        "a = [1, 2, 3]\n",
        "b = a\n",
        "c = [1, 2, 3]\n",
        "print(\"Identity Operators:\")\n",
        "print(\"a is b:\", a is b)\n",
        "print(\"a is c:\", a is c)\n",
        "print(\"a is not c:\", a is not c)"
      ],
      "metadata": {
        "id": "2oJYWk81tb0n"
      },
      "execution_count": null,
      "outputs": []
    },
    {
      "cell_type": "code",
      "source": [],
      "metadata": {
        "id": "6ZZ45tEOtxQY"
      },
      "execution_count": null,
      "outputs": []
    },
    {
      "cell_type": "code",
      "source": [],
      "metadata": {
        "id": "Z5Kj6YUdtxOE"
      },
      "execution_count": null,
      "outputs": []
    },
    {
      "cell_type": "code",
      "source": [
        "# Explain the concept of type casting in Python with examples.\n",
        "\n",
        "**Type casting** means converting a value from one data type to another. Python allows explicit type casting using built-in functions.\n",
        "\n",
        "- To convert data into the desired type for operations.\n",
        "- To avoid type errors in expressions.\n",
        "- To format output in a specific way.\n",
        "\n",
        "## Common Type Casting Functions:\n",
        "\n",
        "| Function | Description                   | Example                     |\n",
        "|----------|-------------------------------|-----------------------------|\n",
        "| `int()`  | Converts to integer            | `int(3.7) -> 3`             |\n",
        "| `float()`| Converts to float              | `float(5) -> 5.0`           |\n",
        "| `str()`  | Converts to string             | `str(10) -> \"10\"`           |\n",
        "| `list()` | Converts to list               | `list(\"abc\") -> ['a','b','c']` |\n",
        "| `tuple()`| Converts to tuple              | `tuple([1, 2, 3]) -> (1, 2, 3)` |\n",
        "\n",
        "---\n",
        "\n",
        "## Examples:\n",
        "# Converting float to int\n",
        "x = 3.7\n",
        "y = int(x)\n",
        "print(y)  # Output: 3\n",
        "\n",
        "# Converting int to float\n",
        "a = 5\n",
        "b = float(a)\n",
        "print(b)  # Output: 5.0\n",
        "\n",
        "# Converting int to string\n",
        "num = 10\n",
        "text = str(num)\n",
        "print(text)  # Output: \"10\"\n",
        "\n",
        "# Converting string to list\n",
        "s = \"hello\"\n",
        "lst = list(s)\n",
        "print(lst)  # Output: ['h', 'e', 'l', 'l', 'o']"
      ],
      "metadata": {
        "id": "oBo6D7LgtxL0"
      },
      "execution_count": null,
      "outputs": []
    },
    {
      "cell_type": "code",
      "source": [],
      "metadata": {
        "id": "O4lJ9v_Nt-Va"
      },
      "execution_count": null,
      "outputs": []
    },
    {
      "cell_type": "code",
      "source": [],
      "metadata": {
        "id": "yafFvtYit-Tt"
      },
      "execution_count": null,
      "outputs": []
    },
    {
      "cell_type": "code",
      "source": [
        "#  How do conditional statements work in Python? Illustrate with examples.\n",
        "\n",
        "\n",
        "Conditional statements let your program make decisions by executing certain code only if a condition is true.\n",
        "\n",
        "\n",
        "- `if` statement\n",
        "- `if-else` statement\n",
        "- `if-elif-else` ladder\n",
        "\n",
        "\n",
        "- The program checks a condition (an expression that evaluates to `True` or `False`).\n",
        "- If the condition is `True`, the indented block after `if` runs.\n",
        "- If `False`, it either skips or moves to `else` or `elif` blocks.\n",
        "\n",
        "# if-else statement\n",
        "x = 3\n",
        "if x > 5:\n",
        "    print(\"x is greater than 5\")\n",
        "else:\n",
        "    print(\"x is 5 or less\")\n",
        "\n",
        "# if-elif-else ladder\n",
        "x = 7\n",
        "if x > 10:\n",
        "    print(\"x is greater than 10\")\n",
        "elif x > 5:\n",
        "    print(\"x is greater than 5 but less or equal to 10\")\n",
        "else:\n",
        "    print(\"x is 5 or less\")"
      ],
      "metadata": {
        "id": "T1gua6A_t-Rp"
      },
      "execution_count": null,
      "outputs": []
    },
    {
      "cell_type": "code",
      "source": [],
      "metadata": {
        "id": "dM_JIv3RuXfh"
      },
      "execution_count": null,
      "outputs": []
    },
    {
      "cell_type": "code",
      "source": [],
      "metadata": {
        "id": "PJUc3NLKuXcI"
      },
      "execution_count": null,
      "outputs": []
    },
    {
      "cell_type": "code",
      "source": [
        "# Describe the different types of loops in Python and their use cases with examples.\n",
        "\n",
        "# For Loop: Used to iterate over a sequence (like a list, string, or range)\n",
        "print(\"For loop example:\")\n",
        "for i in range(3):\n",
        "    print(f\"Iteration {i}\")\n",
        "\n",
        "print()\n",
        "\n",
        "# While Loop: Repeats as long as a condition is True\n",
        "print(\"While loop example:\")\n",
        "count = 0\n",
        "while count < 3:\n",
        "    print(f\"Count is {count}\")\n",
        "    count += 1\n",
        "\n",
        "print()\n",
        "\n",
        "# Example use case for for loop: iterate through a list\n",
        "fruits = ['apple', 'banana', 'cherry']\n",
        "print(\"Fruits:\")\n",
        "for fruit in fruits:\n",
        "    print(fruit)\n",
        "\n",
        "print()"
      ],
      "metadata": {
        "id": "tdLAkE6quXZ9"
      },
      "execution_count": null,
      "outputs": []
    }
  ]
}