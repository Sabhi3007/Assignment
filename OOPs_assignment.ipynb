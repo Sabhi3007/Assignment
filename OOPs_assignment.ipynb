{
  "nbformat": 4,
  "nbformat_minor": 0,
  "metadata": {
    "colab": {
      "provenance": []
    },
    "kernelspec": {
      "name": "python3",
      "display_name": "Python 3"
    },
    "language_info": {
      "name": "python"
    }
  },
  "cells": [
    {
      "cell_type": "code",
      "execution_count": null,
      "metadata": {
        "id": "jAaEYJw-DzJL"
      },
      "outputs": [],
      "source": [
        "#  What are the five key concepts of Object-Oriented Programming (OOP)?\n",
        "\n",
        "# Five Key Concepts of Object-Oriented Programming (OOP)\n",
        "\n",
        "# 1. Encapsulation\n",
        "- Bundling data (attributes) and methods (functions) that operate on the data into a single unit or class.\n",
        "- Controls access to the data by restricting direct access and exposing only necessary parts.\n",
        "- Example: Using getters and setters to access private variables.\n",
        "\n",
        "# 2. Abstraction\n",
        "- Hiding complex implementation details and showing only the essential features of an object.\n",
        "- Simplifies interaction with objects by exposing a simple interface.\n",
        "- Example: A car’s interface (steering, pedals) hides the internal engine workings.\n",
        "\n",
        "# 3. Inheritance\n",
        "- One class (child) inherits properties and behavior from another class (parent).\n",
        "- Promotes code reuse and natural hierarchy.\n",
        "- Example: A `Dog` class inherits from an `Animal` class.\n",
        "\n",
        "# 4. Polymorphism\n",
        "- Ability of different classes to respond to the same method call in different ways.\n",
        "- Enables methods to have the same name but behave differently based on the object.\n",
        "- Example: Method `draw()` behaves differently in classes `Circle` and `Rectangle`.\n",
        "\n",
        "# 5. Classes and Objects\n",
        "- **Class:** Blueprint or template defining attributes and behaviors.\n",
        "- **Object:** An instance of a class with specific values.\n",
        "- Objects represent real-world entities modeled by classes."
      ]
    },
    {
      "cell_type": "code",
      "source": [],
      "metadata": {
        "id": "C833IO8FEF-T"
      },
      "execution_count": null,
      "outputs": []
    },
    {
      "cell_type": "code",
      "source": [],
      "metadata": {
        "id": "5juLGd8kEF6g"
      },
      "execution_count": null,
      "outputs": []
    },
    {
      "cell_type": "code",
      "source": [
        "# Write a Python class for a `Car` with attributes for `make`, `model`, and `year`. Include a method to display the car's information.\n",
        "\n",
        "class Car:\n",
        "    def __init__(self, make, model, year):\n",
        "        self.make = make\n",
        "        self.model = model\n",
        "        self.year = year\n",
        "\n",
        "    def display_info(self):\n",
        "        print(f\"Car Information: {self.year} {self.make} {self.model}\")\n",
        "\n",
        "# Example usage:\n",
        "my_car = Car(\"Toyota\", \"Corolla\", 2020)\n",
        "my_car.display_info()"
      ],
      "metadata": {
        "colab": {
          "base_uri": "https://localhost:8080/"
        },
        "id": "mU-1O7vbEF4J",
        "outputId": "be97e143-26a4-4e9f-b8cb-faebc28cb78b"
      },
      "execution_count": 1,
      "outputs": [
        {
          "output_type": "stream",
          "name": "stdout",
          "text": [
            "Car Information: 2020 Toyota Corolla\n"
          ]
        }
      ]
    },
    {
      "cell_type": "code",
      "source": [],
      "metadata": {
        "id": "YAB2gFzeEObr"
      },
      "execution_count": null,
      "outputs": []
    },
    {
      "cell_type": "code",
      "source": [],
      "metadata": {
        "id": "rRNNmQkmEOSh"
      },
      "execution_count": null,
      "outputs": []
    },
    {
      "cell_type": "code",
      "source": [
        "#  Explain the difference between instance methods and class methods. Provide an example of each.\n",
        "\n",
        "# Difference Between Instance Methods and Class Methods\n",
        "\n",
        "#- **Instance Methods**\n",
        "  - Operate on an instance of the class (an object).\n",
        "  - Have access to instance attributes via `self`.\n",
        "  - Can modify object state.\n",
        "  - Called on an object of the class.\n",
        "\n",
        "# **Class Methods**\n",
        "  - Operate on the class itself, not on instances.\n",
        "  - Take `cls` as the first parameter instead of `self`.\n",
        "  - Can modify class state that applies across all instances.\n",
        "  - Defined using the `@classmethod` decorator.\n",
        "  - Called on the class itself or on an instance.\n",
        "\n",
        "---\n",
        "\n",
        "## Examples\n",
        "class Example:\n",
        "    class_variable = 0\n",
        "\n",
        "    def __init__(self, value):\n",
        "        self.instance_variable = value\n",
        "\n",
        "    # Instance method\n",
        "    def instance_method(self):\n",
        "        print(f\"Instance variable: {self.instance_variable}\")\n",
        "\n",
        "    # Class method\n",
        "    @classmethod\n",
        "    def class_method(cls):\n",
        "        print(f\"Class variable: {cls.class_variable}\")\n",
        "\n",
        "# Using the methods\n",
        "obj = Example(10)\n",
        "\n",
        "# Call instance method on object\n",
        "obj.instance_method()  # Output: Instance variable: 10\n",
        "\n",
        "# Call class method on class\n",
        "Example.class_method()  # Output: Class variable: 0\n",
        "\n",
        "# Class method can also be called on instance (less common)\n",
        "obj.class_method()      # Output: Class variable: 0"
      ],
      "metadata": {
        "colab": {
          "base_uri": "https://localhost:8080/",
          "height": 106
        },
        "id": "ODdEcAM9EOKL",
        "outputId": "aa3c4b45-dcc9-4d57-f4c0-a5bb22dba4f8"
      },
      "execution_count": 2,
      "outputs": [
        {
          "output_type": "error",
          "ename": "SyntaxError",
          "evalue": "invalid syntax (<ipython-input-2-b6308da5566b>, line 5)",
          "traceback": [
            "\u001b[0;36m  File \u001b[0;32m\"<ipython-input-2-b6308da5566b>\"\u001b[0;36m, line \u001b[0;32m5\u001b[0m\n\u001b[0;31m    - **Instance Methods**\u001b[0m\n\u001b[0m      ^\u001b[0m\n\u001b[0;31mSyntaxError\u001b[0m\u001b[0;31m:\u001b[0m invalid syntax\n"
          ]
        }
      ]
    },
    {
      "cell_type": "code",
      "source": [],
      "metadata": {
        "id": "0BH7FMhNEiVu"
      },
      "execution_count": null,
      "outputs": []
    },
    {
      "cell_type": "code",
      "source": [],
      "metadata": {
        "id": "BU3zFuJmEiwB"
      },
      "execution_count": null,
      "outputs": []
    },
    {
      "cell_type": "code",
      "source": [
        "#  How does Python implement method overloading? Give an example.\n",
        "\n",
        "# Method Overloading in Python\n",
        "\n",
        "- Python **does not support traditional method overloading** (multiple methods with the same name but different parameters).\n",
        "- Instead, Python uses:\n",
        "  - Default arguments,\n",
        "  - Variable-length arguments (`*args`, `**kwargs`),\n",
        "  - Or manual checks inside a single method.\n",
        "\n",
        "This way, one method can handle different argument scenarios."
      ],
      "metadata": {
        "id": "JjEDan04EiS9"
      },
      "execution_count": null,
      "outputs": []
    },
    {
      "cell_type": "code",
      "source": [
        "class Calculator:\n",
        "    def add(self, *args):\n",
        "        \"\"\"\n",
        "        Adds any number of arguments.\n",
        "        \"\"\"\n",
        "        result = 0\n",
        "        for num in args:\n",
        "            result += num\n",
        "        return result\n",
        "\n",
        "calc = Calculator()\n",
        "print(calc.add(2, 3))          # Output: 5\n",
        "print(calc.add(1, 2, 3, 4))    # Output: 10"
      ],
      "metadata": {
        "colab": {
          "base_uri": "https://localhost:8080/"
        },
        "id": "9jNf010AE9to",
        "outputId": "5a769947-2cc4-4a72-d2c2-7905c4ab672a"
      },
      "execution_count": 3,
      "outputs": [
        {
          "output_type": "stream",
          "name": "stdout",
          "text": [
            "5\n",
            "10\n"
          ]
        }
      ]
    },
    {
      "cell_type": "code",
      "source": [],
      "metadata": {
        "id": "lT-oCoh0FAZl"
      },
      "execution_count": null,
      "outputs": []
    },
    {
      "cell_type": "code",
      "source": [],
      "metadata": {
        "id": "xhIm2eidFAXX"
      },
      "execution_count": null,
      "outputs": []
    },
    {
      "cell_type": "code",
      "source": [
        "# What are the three types of access modifiers in Python? How are they denoted?\n",
        "\n",
        "# Access Modifiers in Python\n",
        "\n",
        "Python has **three types** of access modifiers to control access to class members:\n",
        "\n",
        "1. **Public**\n",
        "   - Accessible from anywhere.\n",
        "   - No underscore prefix.\n",
        "   - Example: `variable`\n",
        "\n",
        "2. **Protected**\n",
        "   - Intended for internal use in class and subclasses.\n",
        "   - Single underscore prefix `_variable` (convention, not enforced).\n",
        "\n",
        "3. **Private**\n",
        "   - Restricted to the class only (name mangling applied).\n",
        "   - Double underscore prefix `__variable`.\n"
      ],
      "metadata": {
        "id": "nFlr4YysFAUd"
      },
      "execution_count": null,
      "outputs": []
    },
    {
      "cell_type": "code",
      "source": [
        "class Example:\n",
        "    public_var = \"I am public\"\n",
        "    _protected_var = \"I am protected\"\n",
        "    __private_var = \"I am private\"\n",
        "\n",
        "obj = Example()\n",
        "print(obj.public_var)          # Works fine\n",
        "print(obj._protected_var)      # Works but discouraged\n",
        "# print(obj.__private_var)     # Error: AttributeError\n",
        "\n",
        "# Access private variable via name mangling\n",
        "print(obj._Example__private_var)  # Works, but not recommended"
      ],
      "metadata": {
        "colab": {
          "base_uri": "https://localhost:8080/"
        },
        "id": "FBFo3juoFJF-",
        "outputId": "d5f8916d-db9f-4f06-87a9-7759ddb508a5"
      },
      "execution_count": 4,
      "outputs": [
        {
          "output_type": "stream",
          "name": "stdout",
          "text": [
            "I am public\n",
            "I am protected\n",
            "I am private\n"
          ]
        }
      ]
    },
    {
      "cell_type": "code",
      "source": [],
      "metadata": {
        "id": "ojBp4V2gFMOS"
      },
      "execution_count": null,
      "outputs": []
    },
    {
      "cell_type": "code",
      "source": [],
      "metadata": {
        "id": "lMdqybDCFMBB"
      },
      "execution_count": null,
      "outputs": []
    },
    {
      "cell_type": "code",
      "source": [
        "# Describe the five types of inheritance in Python. Provide a simple example of multiple inheritance.\n",
        "\n",
        "# Types of Inheritance in Python\n",
        "\n",
        "1. **Single Inheritance**\n",
        "   A child class inherits from one parent class.\n",
        "\n",
        "2. **Multiple Inheritance**\n",
        "   A child class inherits from more than one parent class.\n",
        "\n",
        "3. **Multilevel Inheritance**\n",
        "   A child class inherits from a parent class, which itself inherits from another class.\n",
        "\n",
        "4. **Hierarchical Inheritance**\n",
        "   Multiple child classes inherit from a single parent class.\n",
        "\n",
        "5. **Hybrid Inheritance**\n",
        "   Combination of two or more types of inheritance (e.g., multiple + multilevel).\n",
        "\n"
      ],
      "metadata": {
        "id": "Ajsj7tn1FL39"
      },
      "execution_count": null,
      "outputs": []
    },
    {
      "cell_type": "code",
      "source": [
        "class Mother:\n",
        "    def skills(self):\n",
        "        print(\"Cooking, Gardening\")\n",
        "\n",
        "class Father:\n",
        "    def skills(self):\n",
        "        print(\"Driving, Carpentry\")\n",
        "\n",
        "class Child(Mother, Father):\n",
        "    def skills(self):\n",
        "        Mother.skills(self)  # Call Mother skills\n",
        "        Father.skills(self)  # Call Father skills\n",
        "        print(\"Painting\")\n",
        "\n",
        "child = Child()\n",
        "child.skills()"
      ],
      "metadata": {
        "colab": {
          "base_uri": "https://localhost:8080/"
        },
        "id": "VE55cG1KFWnE",
        "outputId": "513ca217-bbb6-4be0-a4dc-d46af11cc954"
      },
      "execution_count": 5,
      "outputs": [
        {
          "output_type": "stream",
          "name": "stdout",
          "text": [
            "Cooking, Gardening\n",
            "Driving, Carpentry\n",
            "Painting\n"
          ]
        }
      ]
    },
    {
      "cell_type": "code",
      "source": [],
      "metadata": {
        "id": "zYHS9FK1FZvg"
      },
      "execution_count": null,
      "outputs": []
    },
    {
      "cell_type": "code",
      "source": [],
      "metadata": {
        "id": "PCS35G6pFZtk"
      },
      "execution_count": null,
      "outputs": []
    },
    {
      "cell_type": "code",
      "source": [],
      "metadata": {
        "id": "WHx53bC_FZr0"
      },
      "execution_count": null,
      "outputs": []
    },
    {
      "cell_type": "code",
      "source": [
        " # What is the Method Resolution Order (MRO) in Python? How can you retrieve it programmatically?\n",
        "\n",
        "\n",
        " # Method Resolution Order (MRO) in Python\n",
        "\n",
        "- MRO is the order in which Python looks for a method in a hierarchy of classes when multiple inheritance is involved.\n",
        "- It defines the sequence in which base classes are searched when executing a method.\n",
        "- Python uses the **C3 Linearization algorithm** to determine MRO.\n",
        "\n",
        "---\n",
        "\n",
        "### How to retrieve MRO programmatically:\n",
        "\n",
        "- Use the `.__mro__` attribute of a class.\n",
        "- Or use the built-in `mro()` method.\n",
        "\n",
        "Example below."
      ],
      "metadata": {
        "id": "hOUIAPrUFZps"
      },
      "execution_count": null,
      "outputs": []
    },
    {
      "cell_type": "code",
      "source": [
        "class A:\n",
        "    def method(self):\n",
        "        print(\"Method in A\")\n",
        "\n",
        "class B(A):\n",
        "    def method(self):\n",
        "        print(\"Method in B\")\n",
        "\n",
        "class C(A):\n",
        "    def method(self):\n",
        "        print(\"Method in C\")\n",
        "\n",
        "class D(B, C):\n",
        "    pass\n",
        "\n",
        "print(D.__mro__)\n",
        "print(D.mro())"
      ],
      "metadata": {
        "id": "opZese1bFjeL"
      },
      "execution_count": null,
      "outputs": []
    },
    {
      "cell_type": "code",
      "source": [],
      "metadata": {
        "id": "RBtvOiNmFk6M"
      },
      "execution_count": null,
      "outputs": []
    },
    {
      "cell_type": "code",
      "source": [],
      "metadata": {
        "id": "HqoI2RnjFk4S"
      },
      "execution_count": null,
      "outputs": []
    },
    {
      "cell_type": "code",
      "source": [
        "# Create an abstract base class `Shape` with an abstract method `area()`. Then create two subclasses `Circle` and `Rectangle` that implement the `area()` method.\n",
        "\n",
        "# Abstract Base Class Example in Python\n",
        "\n",
        "- Create an abstract base class `Shape` with an abstract method `area()`.\n",
        "- Create subclasses `Circle` and `Rectangle` that implement `area()`.\n",
        "- Use Python's `abc` module for abstraction."
      ],
      "metadata": {
        "id": "TyRihDAHFk2Q"
      },
      "execution_count": null,
      "outputs": []
    },
    {
      "cell_type": "code",
      "source": [
        "from abc import ABC, abstractmethod\n",
        "import math\n",
        "\n",
        "class Shape(ABC):\n",
        "    @abstractmethod\n",
        "    def area(self):\n",
        "        pass\n",
        "\n",
        "class Circle(Shape):\n",
        "    def __init__(self, radius):\n",
        "        self.radius = radius\n",
        "\n",
        "    def area(self):\n",
        "        return math.pi * self.radius ** 2\n",
        "\n",
        "class Rectangle(Shape):\n",
        "    def __init__(self, width, height):\n",
        "        self.width = width\n",
        "        self.height = height\n",
        "\n",
        "    def area(self):\n",
        "        return self.width * self.height\n",
        "\n",
        "# Example usage\n",
        "circle = Circle(5)\n",
        "rectangle = Rectangle(4, 6)\n",
        "\n",
        "print(\"Circle area:\", circle.area())\n",
        "print(\"Rectangle area:\", rectangle.area())"
      ],
      "metadata": {
        "colab": {
          "base_uri": "https://localhost:8080/"
        },
        "id": "Sowrn3bLFu57",
        "outputId": "4c5aa3a5-d1b7-4784-a8d8-76045492e272"
      },
      "execution_count": 6,
      "outputs": [
        {
          "output_type": "stream",
          "name": "stdout",
          "text": [
            "Circle area: 78.53981633974483\n",
            "Rectangle area: 24\n"
          ]
        }
      ]
    },
    {
      "cell_type": "code",
      "source": [],
      "metadata": {
        "id": "5pQgJDdFFyI4"
      },
      "execution_count": null,
      "outputs": []
    },
    {
      "cell_type": "code",
      "source": [],
      "metadata": {
        "id": "fqFn6-ZvFyGL"
      },
      "execution_count": null,
      "outputs": []
    },
    {
      "cell_type": "code",
      "source": [
        "# Demonstrate polymorphism by creating a function that can work with different shape objects to calculate and print their areas.\n",
        "\n",
        "# Demonstrating Polymorphism with Shapes\n",
        "\n",
        "- Define a function that takes any shape object (Circle, Rectangle, etc.)\n",
        "- Calls the common `area()` method without worrying about the specific class type.\n"
      ],
      "metadata": {
        "id": "lJ0Nq5dRFyq7"
      },
      "execution_count": null,
      "outputs": []
    },
    {
      "cell_type": "code",
      "source": [
        "def print_area(shape):\n",
        "    print(f\"The area is: {shape.area()}\")\n",
        "\n",
        "# Using the previously defined classes\n",
        "circle = Circle(7)\n",
        "rectangle = Rectangle(3, 8)\n",
        "\n",
        "print_area(circle)      # Works for Circle\n",
        "print_area(rectangle)   # Works for Rectangle"
      ],
      "metadata": {
        "colab": {
          "base_uri": "https://localhost:8080/"
        },
        "id": "xy-3gX5hF7mT",
        "outputId": "1ff0a1f1-3621-42d6-87a2-7e398fced94e"
      },
      "execution_count": 7,
      "outputs": [
        {
          "output_type": "stream",
          "name": "stdout",
          "text": [
            "The area is: 153.93804002589985\n",
            "The area is: 24\n"
          ]
        }
      ]
    },
    {
      "cell_type": "code",
      "source": [],
      "metadata": {
        "id": "PXCWgVx7F95H"
      },
      "execution_count": null,
      "outputs": []
    },
    {
      "cell_type": "code",
      "source": [],
      "metadata": {
        "id": "5WAEKAXGF9tb"
      },
      "execution_count": null,
      "outputs": []
    },
    {
      "cell_type": "code",
      "source": [
        "#  Implement encapsulation in a `BankAccount` class with private attributes for `balance` and `account_number`. Include methods for deposit, withdrawal, and balance inquiry.\n",
        "\n",
        "# Encapsulation in a `BankAccount` Class\n",
        "\n",
        "- Use private attributes for `balance` and `account_number` (with double underscore).\n",
        "- Provide public methods to access and modify these attributes safely.\n"
      ],
      "metadata": {
        "id": "NyttzNcOF9q-"
      },
      "execution_count": null,
      "outputs": []
    },
    {
      "cell_type": "code",
      "source": [
        "class BankAccount:\n",
        "    def __init__(self, account_number, initial_balance=0):\n",
        "        self.__account_number = account_number  # private attribute\n",
        "        self.__balance = initial_balance        # private attribute\n",
        "\n",
        "    def deposit(self, amount):\n",
        "        if amount > 0:\n",
        "            self.__balance += amount\n",
        "            print(f\"Deposited: {amount}\")\n",
        "        else:\n",
        "            print(\"Deposit amount must be positive.\")\n",
        "\n",
        "    def withdraw(self, amount):\n",
        "        if amount > 0:\n",
        "            if amount <= self.__balance:\n",
        "                self.__balance -= amount\n",
        "                print(f\"Withdrawn: {amount}\")\n",
        "            else:\n",
        "                print(\"Insufficient balance.\")\n",
        "        else:\n",
        "            print(\"Withdrawal amount must be positive.\")\n",
        "\n",
        "    def get_balance(self):\n",
        "        return self.__balance\n",
        "\n",
        "    def get_account_number(self):\n",
        "        return self.__account_number\n",
        "\n",
        "# Example usage\n",
        "account = BankAccount(\"123456789\", 1000)\n",
        "print(f\"Account Number: {account.get_account_number()}\")\n",
        "print(f\"Initial Balance: {account.get_balance()}\")\n",
        "\n",
        "account.deposit(500)\n",
        "account.withdraw(200)\n",
        "print(f\"Final Balance: {account.get_balance()}\")"
      ],
      "metadata": {
        "colab": {
          "base_uri": "https://localhost:8080/"
        },
        "id": "jFO9DLNCGEVZ",
        "outputId": "5ff8ac4c-6018-45bb-9852-cbb222f53ba3"
      },
      "execution_count": 8,
      "outputs": [
        {
          "output_type": "stream",
          "name": "stdout",
          "text": [
            "Account Number: 123456789\n",
            "Initial Balance: 1000\n",
            "Deposited: 500\n",
            "Withdrawn: 200\n",
            "Final Balance: 1300\n"
          ]
        }
      ]
    },
    {
      "cell_type": "code",
      "source": [],
      "metadata": {
        "id": "mtokUTyNGHTc"
      },
      "execution_count": null,
      "outputs": []
    },
    {
      "cell_type": "code",
      "source": [],
      "metadata": {
        "id": "-WwKrWg3GHE-"
      },
      "execution_count": null,
      "outputs": []
    },
    {
      "cell_type": "code",
      "source": [
        "# Create a decorator that measures and prints the execution time of a function.\n",
        "\n",
        "import time\n",
        "\n",
        "def timing_decorator(func):\n",
        "    def wrapper(*args, **kwargs):\n",
        "        start_time = time.time()\n",
        "        result = func(*args, **kwargs)\n",
        "        end_time = time.time()\n",
        "        print(f\"Function '{func.__name__}' executed in {end_time - start_time:.6f} seconds\")\n",
        "        return result\n",
        "    return wrapper\n",
        "\n",
        "# Example usage\n",
        "@timing_decorator\n",
        "def example_function(n):\n",
        "    total = 0\n",
        "    for i in range(n):\n",
        "        total += i\n",
        "    return total\n",
        "\n",
        "result = example_function(10**6)\n",
        "print(f\"Result: {result}\")"
      ],
      "metadata": {
        "colab": {
          "base_uri": "https://localhost:8080/"
        },
        "id": "fes-cixlGHC3",
        "outputId": "4439cdaf-4100-4836-9499-0a904182393f"
      },
      "execution_count": 9,
      "outputs": [
        {
          "output_type": "stream",
          "name": "stdout",
          "text": [
            "Function 'example_function' executed in 0.052948 seconds\n",
            "Result: 499999500000\n"
          ]
        }
      ]
    },
    {
      "cell_type": "code",
      "source": [],
      "metadata": {
        "id": "4PLgQVAKGP3B"
      },
      "execution_count": null,
      "outputs": []
    },
    {
      "cell_type": "code",
      "source": [],
      "metadata": {
        "id": "DCzFNdq3GP0a"
      },
      "execution_count": null,
      "outputs": []
    },
    {
      "cell_type": "code",
      "source": [
        "# Write a class method that keeps track of the number of instances created from a class.\n",
        "\n",
        "class MyClass:\n",
        "    _instance_count = 0  # class variable to track instances\n",
        "\n",
        "    def __init__(self):\n",
        "        MyClass._instance_count += 1\n",
        "\n",
        "    @classmethod\n",
        "    def get_instance_count(cls):\n",
        "        return cls._instance_count\n",
        "\n",
        "# Creating instances\n",
        "obj1 = MyClass()\n",
        "obj2 = MyClass()\n",
        "obj3 = MyClass()\n",
        "\n",
        "print(\"Number of instances created:\", MyClass.get_instance_count())"
      ],
      "metadata": {
        "colab": {
          "base_uri": "https://localhost:8080/"
        },
        "id": "mtfdb1nCGPxL",
        "outputId": "673db5a2-b589-4c01-91f8-4fa311b25974"
      },
      "execution_count": 10,
      "outputs": [
        {
          "output_type": "stream",
          "name": "stdout",
          "text": [
            "Number of instances created: 3\n"
          ]
        }
      ]
    },
    {
      "cell_type": "code",
      "source": [],
      "metadata": {
        "id": "HXmZM2u7GWL0"
      },
      "execution_count": null,
      "outputs": []
    },
    {
      "cell_type": "code",
      "source": [],
      "metadata": {
        "id": "3lcU44G3GXoY"
      },
      "execution_count": null,
      "outputs": []
    },
    {
      "cell_type": "code",
      "source": [],
      "metadata": {
        "id": "RBhy3iEmGXmi"
      },
      "execution_count": null,
      "outputs": []
    },
    {
      "cell_type": "code",
      "source": [
        "# Implement a static method in a class that checks if a given year is a leap year.\n",
        "\n",
        "class YearUtils:\n",
        "    @staticmethod\n",
        "    def is_leap_year(year):\n",
        "        \"\"\"\n",
        "        Returns True if year is a leap year, else False.\n",
        "        Leap year rules:\n",
        "          - Divisible by 4\n",
        "          - Not divisible by 100 unless divisible by 400\n",
        "        \"\"\"\n",
        "        if (year % 4 == 0) and (year % 100 != 0 or year % 400 == 0):\n",
        "            return True\n",
        "        else:\n",
        "            return False\n",
        "\n",
        "# Example usage\n",
        "print(YearUtils.is_leap_year(2020))  # True\n",
        "print(YearUtils.is_leap_year(1900))  # False\n",
        "print(YearUtils.is_leap_year(2000))  # True\n",
        "print(YearUtils.is_leap_year(2023))  # False"
      ],
      "metadata": {
        "colab": {
          "base_uri": "https://localhost:8080/"
        },
        "id": "fR7YVKGeGXkI",
        "outputId": "ed887a41-858a-4185-a58c-8103ca324119"
      },
      "execution_count": 11,
      "outputs": [
        {
          "output_type": "stream",
          "name": "stdout",
          "text": [
            "True\n",
            "False\n",
            "True\n",
            "False\n"
          ]
        }
      ]
    }
  ]
}