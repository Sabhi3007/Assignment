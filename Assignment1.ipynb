{
  "nbformat": 4,
  "nbformat_minor": 0,
  "metadata": {
    "colab": {
      "provenance": []
    },
    "kernelspec": {
      "name": "python3",
      "display_name": "Python 3"
    },
    "language_info": {
      "name": "python"
    }
  },
  "cells": [
    {
      "cell_type": "code",
      "execution_count": null,
      "metadata": {
        "id": "sj_MB1aHyviH"
      },
      "outputs": [],
      "source": []
    },
    {
      "cell_type": "markdown",
      "source": [
        "1. Discuss string slicing and provide examples.\n",
        "\n",
        "String slicing in Python is a way to extract a portion of a string by specifying a start and end index.\n",
        "Where,\n",
        "Start is inclusive &\n",
        "End is exclusive.\n",
        "Slicing is useful when we have to get a sequence of characters in a string.\n",
        "For example.\n",
        "\n",
        "---\n",
        "\n"
      ],
      "metadata": {
        "id": "OuaS3a8u0sTc"
      }
    },
    {
      "cell_type": "code",
      "source": [
        "A = \"Ronaldo is the greatest player of all time , But Messi is inhuman\"\n",
        "print (A[0:24])"
      ],
      "metadata": {
        "colab": {
          "base_uri": "https://localhost:8080/"
        },
        "id": "MQZ3F4aN1YTa",
        "outputId": "1dfdc215-fe39-4f10-a7db-b4bb0b9a50ae"
      },
      "execution_count": null,
      "outputs": [
        {
          "output_type": "stream",
          "name": "stdout",
          "text": [
            "Ronaldo is the greatest \n"
          ]
        }
      ]
    },
    {
      "cell_type": "code",
      "source": [
        "print (A[-17:]) >> Negative indexing."
      ],
      "metadata": {
        "colab": {
          "base_uri": "https://localhost:8080/"
        },
        "id": "riiWdeYG3YH2",
        "outputId": "fc3b22c1-d97d-4a6d-c29a-a52950235364"
      },
      "execution_count": null,
      "outputs": [
        {
          "output_type": "stream",
          "name": "stdout",
          "text": [
            " Messi is inhuman\n"
          ]
        }
      ]
    },
    {
      "cell_type": "code",
      "source": [],
      "metadata": {
        "id": "eEcQ7PUq4M3X"
      },
      "execution_count": null,
      "outputs": []
    },
    {
      "cell_type": "code",
      "source": [
        "\n",
        "\n",
        "\n",
        "\n",
        "\n",
        "\n"
      ],
      "metadata": {
        "id": "MLx7uVysv_ll"
      },
      "execution_count": null,
      "outputs": []
    },
    {
      "cell_type": "markdown",
      "source": [
        "2. Explain the key features of lists in Python.\n",
        "\n",
        "Lists in Python is used for data structure which allows us to store an ordered collection of elements. Just like our MOM's bag. Elements in the lists can be of any data type.\n",
        "Lists are created using square brackets [ ]."
      ],
      "metadata": {
        "id": "KErnwMen4ZoH"
      }
    },
    {
      "cell_type": "code",
      "source": [
        " # Order is maintained in the list, ie. first element has the index 0 and the second has 1 , and is continues.\n",
        "Balls_type = ['Nike' , 'Puma' , 'Adidas']\n",
        "print (Balls_type[2])"
      ],
      "metadata": {
        "colab": {
          "base_uri": "https://localhost:8080/"
        },
        "id": "mmZN9pCH53tM",
        "outputId": "5637e7ff-afaf-4dd5-c769-f3aa1c294354"
      },
      "execution_count": null,
      "outputs": [
        {
          "output_type": "stream",
          "name": "stdout",
          "text": [
            "Adidas\n"
          ]
        }
      ]
    },
    {
      "cell_type": "code",
      "source": [
        "# Add & remove the items in the list is one the key feature of the Lists.\n",
        "Balls_type = ['Nike' , 'Puma' , 'Adidas']\n",
        "Balls_type.append('Nivia') # nivia will be added to the list\n",
        "print (Balls_type)"
      ],
      "metadata": {
        "colab": {
          "base_uri": "https://localhost:8080/"
        },
        "id": "HHFBLBib6fuF",
        "outputId": "17a54fed-9d2c-44aa-e03c-4e6cffc966bf"
      },
      "execution_count": null,
      "outputs": [
        {
          "output_type": "stream",
          "name": "stdout",
          "text": [
            "['Nike', 'Puma', 'Adidas', 'Nivia']\n"
          ]
        }
      ]
    },
    {
      "cell_type": "code",
      "source": [
        "Balls_type = ['Nike' , 'Puma' , 'Adidas']\n",
        "Balls_type.pop() # using the pop function the last element is the list will be deleted.\n",
        "print (Balls_type)"
      ],
      "metadata": {
        "colab": {
          "base_uri": "https://localhost:8080/"
        },
        "id": "y22CqeCu7k_B",
        "outputId": "7f3e853f-ad0a-4b6f-9079-d27cee3912a1"
      },
      "execution_count": null,
      "outputs": [
        {
          "output_type": "stream",
          "name": "stdout",
          "text": [
            "['Nike', 'Puma']\n"
          ]
        }
      ]
    },
    {
      "cell_type": "code",
      "source": [
        "# Mutability, ie. Lists can be changed , updated , or deleted after is created.\n",
        "Balls_type = ['Nike' , 'Puma' , 'Adidas']\n",
        "Balls_type[1] = 'Nivia' # puma is changed to nivia using indexing.\n",
        "print(Balls_type)"
      ],
      "metadata": {
        "colab": {
          "base_uri": "https://localhost:8080/"
        },
        "id": "CeUXaDNm7xLa",
        "outputId": "4eeccd63-ba45-4b5a-95a7-ac477eeea1e2"
      },
      "execution_count": null,
      "outputs": [
        {
          "output_type": "stream",
          "name": "stdout",
          "text": [
            "['Nike', 'Nivia', 'Adidas']\n"
          ]
        }
      ]
    },
    {
      "cell_type": "code",
      "source": [
        "# Can Hetrogenous elements, ie. can store any element type like string, integer,other list etc.\n",
        "grocery_list = ['Namkeen' , '365blade' , 'fruits' , ['bread' , 'egg'] , 2]\n",
        "print(grocery_list)"
      ],
      "metadata": {
        "colab": {
          "base_uri": "https://localhost:8080/"
        },
        "id": "hKuWlsZK8-oP",
        "outputId": "0c80c349-a6a9-4fb6-9013-10467320c106"
      },
      "execution_count": null,
      "outputs": [
        {
          "output_type": "stream",
          "name": "stdout",
          "text": [
            "['Namkeen', '365blade', 'fruits', ['bread', 'egg'], 2]\n"
          ]
        }
      ]
    },
    {
      "cell_type": "code",
      "source": [
        "# Slicing is also supported by Lists\n",
        "Balls_type = ['Nike' , 'Puma' , 'Adidas']\n",
        "print(Balls_type[0:2])"
      ],
      "metadata": {
        "colab": {
          "base_uri": "https://localhost:8080/"
        },
        "id": "hPGpK1h3-Q5S",
        "outputId": "1de314c6-80f8-4c5c-dac4-ba6e015719c9"
      },
      "execution_count": null,
      "outputs": [
        {
          "output_type": "stream",
          "name": "stdout",
          "text": [
            "['Nike', 'Puma']\n"
          ]
        }
      ]
    },
    {
      "cell_type": "code",
      "source": [
        "# using loops like for loops we can iterate over the elements of a list which makes it easy to perform operations on each element in the list.\n",
        "for Balls_type in ['Nike' , 'Puma' , 'Adidas']\n",
        "    print(Balls_type)"
      ],
      "metadata": {
        "id": "DlUpIk1_-rPr"
      },
      "execution_count": null,
      "outputs": []
    },
    {
      "cell_type": "code",
      "source": [
        "# Flexible functions and comprehension methods like append(), remove(), pop(), sort()\n",
        "# we can add, remove specific element, remove last element, and sort the list in places respectively."
      ],
      "metadata": {
        "id": "K8f6UWue_pdv"
      },
      "execution_count": null,
      "outputs": []
    },
    {
      "cell_type": "code",
      "source": [
        "\n",
        "\n",
        "\n",
        "\n",
        "\n",
        "\n"
      ],
      "metadata": {
        "id": "2zEH6lVdv93W"
      },
      "execution_count": null,
      "outputs": []
    },
    {
      "cell_type": "markdown",
      "source": [
        "3. Describe how to access, modify, and delete elements in a list with examples.\n",
        "\n",
        "Accessing, Modifying, Deleting in the lists are the Fundamental Operations that can be performed using indexing, slicing and list method."
      ],
      "metadata": {
        "id": "IoazkdYOBhkn"
      }
    },
    {
      "cell_type": "code",
      "source": [
        "# Accessing in the lists\n",
        "Balls_type = ['Nike' , 'Puma' , 'Adidas']\n",
        "\n",
        "# accessing 3rd element\n",
        "print (Balls_type[2])\n",
        "\n",
        "# accessing first element\n",
        "print (Balls_type[0])"
      ],
      "metadata": {
        "colab": {
          "base_uri": "https://localhost:8080/"
        },
        "id": "xeI8uTdGCO89",
        "outputId": "6fa85c9c-01a8-469c-ce74-0ed94932fa8f"
      },
      "execution_count": null,
      "outputs": [
        {
          "output_type": "stream",
          "name": "stdout",
          "text": [
            "Adidas\n",
            "Nike\n"
          ]
        }
      ]
    },
    {
      "cell_type": "code",
      "source": [
        "# Modifying the elements in the lists\n",
        "Balls_type = ['Nike' , 'Puma' , 'Adidas']\n",
        "Balls_type[1] = 'Nivia' # puma is changed to nivia using indexing.\n",
        "print(Balls_type)"
      ],
      "metadata": {
        "colab": {
          "base_uri": "https://localhost:8080/"
        },
        "id": "8Oh_eEkfCexc",
        "outputId": "bb644512-7d8e-4509-92ec-4d3c9a1f6fcd"
      },
      "execution_count": null,
      "outputs": [
        {
          "output_type": "stream",
          "name": "stdout",
          "text": [
            "['Nike', 'Nivia', 'Adidas']\n"
          ]
        }
      ]
    },
    {
      "cell_type": "code",
      "source": [
        "# Deleting the elements in the lists\n",
        "fruits = ['Banana' , 'Apple' , 'Orange' , 'Grapes']\n",
        "fruits.pop()\n",
        "print (fruits)\n",
        "\n",
        "# using remove funtions\n",
        "fruits.remove('Banana')\n",
        "print(fruits)\n"
      ],
      "metadata": {
        "colab": {
          "base_uri": "https://localhost:8080/"
        },
        "id": "nK_1fzUDC9WF",
        "outputId": "6c6ececd-0b1e-415f-e1bc-b03e7342e234"
      },
      "execution_count": null,
      "outputs": [
        {
          "output_type": "stream",
          "name": "stdout",
          "text": [
            "['Banana', 'Apple', 'Orange']\n",
            "['Apple', 'Orange']\n"
          ]
        }
      ]
    },
    {
      "cell_type": "code",
      "source": [
        "\n",
        "\n",
        "\n",
        "\n",
        "\n",
        "\n"
      ],
      "metadata": {
        "id": "fZAR5zjSDLLU"
      },
      "execution_count": null,
      "outputs": []
    },
    {
      "cell_type": "markdown",
      "source": [
        "4. Compare and contrast tuples and lists with examples.\n",
        "\n",
        "Lists and Tuples are both data types in Python which stores the collection of elements in sequence. They both have difference and similarities which are used in different cases."
      ],
      "metadata": {
        "id": "vg9BvoyiFyjZ"
      }
    },
    {
      "cell_type": "markdown",
      "source": [
        "Parentheses"
      ],
      "metadata": {
        "id": "8j9mwyqJk9hs"
      }
    },
    {
      "cell_type": "code",
      "source": [
        "# Lists\n",
        "Balls_type = ['Nike' , 'Puma' , 'Adidas']\n",
        "\n",
        "\n",
        "# Tuple\n",
        "Balls_type = ('Nike' , 'Puma' , 'Adidas')"
      ],
      "metadata": {
        "id": "dJuFOCE0jRJ0"
      },
      "execution_count": null,
      "outputs": []
    },
    {
      "cell_type": "markdown",
      "source": [
        "Mutability"
      ],
      "metadata": {
        "id": "wlPXmUv9kdxN"
      }
    },
    {
      "cell_type": "code",
      "source": [
        "# Lists - Mutable- Elements can be changes, modified, update and we can add/remove elements after the list is created.\n",
        "Balls_type = ['Nike' , 'Puma' , 'Adidas']\n",
        "Balls_type[2] = 'Nivia'  # modifing the 3rd element.\n",
        "print (Balls_type)\n",
        "\n",
        "\n",
        "\n",
        "# Tuple - Immutable\n",
        "Balls_type = ['Nike' , 'Puma' , 'Adidas']\n",
        "Balls_type[2] = 'Nivia'  # It will throw an error as Tuples are immutable, ie. cannot be modified."
      ],
      "metadata": {
        "colab": {
          "base_uri": "https://localhost:8080/"
        },
        "id": "sYeA06NJjmHl",
        "outputId": "6be5f6fe-ac56-4c84-d9f2-ef183e7303aa"
      },
      "execution_count": 1,
      "outputs": [
        {
          "output_type": "stream",
          "name": "stdout",
          "text": [
            "['Nike', 'Puma', 'Nivia']\n"
          ]
        }
      ]
    },
    {
      "cell_type": "markdown",
      "source": [
        "Adding/removing elements ie. Size"
      ],
      "metadata": {
        "id": "6tJDcQWHk7mM"
      }
    },
    {
      "cell_type": "code",
      "source": [
        "# list - it can change their size.\n",
        "my_list = [1, 2, 3, 4, 5, 6]\n",
        "my_list.append(7)\n",
        "print(my_list)  # Output: [1, 2, 3, 4, 5, 6, 7]\n",
        "\n",
        "# tuple - they have fixed size\n",
        "my_list = [1, 2, 3, 4, 5, 6]\n",
        "my_list.append(7)  # it will throw an error.\n"
      ],
      "metadata": {
        "colab": {
          "base_uri": "https://localhost:8080/"
        },
        "id": "mjTk78JbkUIh",
        "outputId": "60287c1d-f82d-48cb-982c-ca6e149a859c"
      },
      "execution_count": 2,
      "outputs": [
        {
          "output_type": "stream",
          "name": "stdout",
          "text": [
            "[1, 2, 3, 4, 5, 6, 7]\n"
          ]
        }
      ]
    },
    {
      "cell_type": "markdown",
      "source": [
        "Tuples as Dictionary Keys - Lists are mutable, they cannot be used as dictionary keys or elements of sets. Whereas Tuples are immutable, they can be used as dictionary keys or elements of sets."
      ],
      "metadata": {
        "id": "lRbtNLzVmLrm"
      }
    },
    {
      "cell_type": "code",
      "source": [
        "# Tuple as dictionary key\n",
        "emply_id = {\n",
        "    (223445): \"Abhishek\",\n",
        "    (443225): \"Anshuman\"\n",
        "}\n",
        "print(emply_id) # output - {223445: 'Abhishek', 443225: 'Anshuman'}\n",
        "\n",
        "# Lists it will throw error because they are mutable."
      ],
      "metadata": {
        "colab": {
          "base_uri": "https://localhost:8080/"
        },
        "id": "xhEz1mOumZ5w",
        "outputId": "62447640-7dcd-4a56-d243-93220cb5b413"
      },
      "execution_count": 3,
      "outputs": [
        {
          "output_type": "stream",
          "name": "stdout",
          "text": [
            "{223445: 'Abhishek', 443225: 'Anshuman'}\n"
          ]
        }
      ]
    },
    {
      "cell_type": "markdown",
      "source": [
        "Both lists and tuples supports assigning multiple values to a single variable and extracting multiple values from a sequence."
      ],
      "metadata": {
        "id": "TtcfDsRsnZDP"
      }
    },
    {
      "cell_type": "code",
      "source": [
        "# Tuples\n",
        "A = (1, 2, 3)\n",
        "a, b, c = A\n",
        "print(a, b, c)  # Output: 1 2 3\n",
        "\n",
        "# Lists\n",
        "B = [4, 5, 6]\n",
        "x, y, z = B\n",
        "print(x, y, z)  # Output: 4 5 6\n"
      ],
      "metadata": {
        "colab": {
          "base_uri": "https://localhost:8080/"
        },
        "id": "aJJ7J79knigH",
        "outputId": "d76ae7a3-2c9b-4b6a-f1fe-6250dacf9fa8"
      },
      "execution_count": 5,
      "outputs": [
        {
          "output_type": "stream",
          "name": "stdout",
          "text": [
            "1 2 3\n",
            "4 5 6\n"
          ]
        }
      ]
    },
    {
      "cell_type": "code",
      "source": [
        "\n",
        "\n",
        "\n",
        "\n",
        "\n",
        "\n",
        "\n"
      ],
      "metadata": {
        "id": "Bdel6Dwhv32m"
      },
      "execution_count": null,
      "outputs": []
    },
    {
      "cell_type": "markdown",
      "source": [
        "5. Describe the key features of sets and provide examples of their use.\n",
        "\n",
        "A set in Python is an unordered collection of unique elements. Used in storing mainly non-duplicate items and perform operations like union, intersection and difference."
      ],
      "metadata": {
        "id": "7a2-V7mrn-EX"
      }
    },
    {
      "cell_type": "code",
      "source": [
        "# Sets do not collect items in the ordered form.\n",
        "#When you print or iterate over a set, the order of elements may not be the same as the order in which you added them.\n",
        "Num = {1, 3, 2, 4, 5, 8, 7, 6}\n",
        "print(Num)  # Output may be {1, 2, 3, 4, 5, 6, 7, 8} or in another order"
      ],
      "metadata": {
        "colab": {
          "base_uri": "https://localhost:8080/"
        },
        "id": "_Y4Oli_1lwUW",
        "outputId": "34364b1b-b906-4f0e-9ec3-a85744a70393"
      },
      "execution_count": 8,
      "outputs": [
        {
          "output_type": "stream",
          "name": "stdout",
          "text": [
            "{1, 2, 3, 4, 5, 6, 7, 8}\n"
          ]
        }
      ]
    },
    {
      "cell_type": "code",
      "source": [
        "# Sets automatically removes duplicate elements\n",
        "Num = {1, 3, 2, 4, 5, 5, 8, 7, 6}\n",
        "print(Num)  # Output may be {1, 2, 3, 4, 5, 6, 7, 8}"
      ],
      "metadata": {
        "colab": {
          "base_uri": "https://localhost:8080/"
        },
        "id": "VdJUAnyspS-1",
        "outputId": "81d258f0-e2a8-45ae-daba-86cc56c8238e"
      },
      "execution_count": 6,
      "outputs": [
        {
          "output_type": "stream",
          "name": "stdout",
          "text": [
            "{1, 2, 3, 4, 5, 6, 7, 8}\n"
          ]
        }
      ]
    },
    {
      "cell_type": "code",
      "source": [
        "# Sets are mutable ie. adding and removing items in set are possible.\n",
        "Num = {1, 3, 2, 4, 5, 8, 7, 6}\n",
        "Num.add(9)  # adding element\n",
        "print(Num)  # Output may be {1, 2, 3, 4, 5, 6, 7, 8, 9}\n",
        "\n",
        "\n",
        "Num = {1, 3, 2, 4, 5, 8, 7, 6}\n",
        "Num.remove(3)  # removing element\n",
        "print(Num)  # Output may be {1, 2, 4, 5, 6, 7, 8}"
      ],
      "metadata": {
        "colab": {
          "base_uri": "https://localhost:8080/"
        },
        "id": "tzxGG3xhphAO",
        "outputId": "427f8717-b614-46c5-b3c5-5e71bd656c00"
      },
      "execution_count": 9,
      "outputs": [
        {
          "output_type": "stream",
          "name": "stdout",
          "text": [
            "{1, 2, 3, 4, 5, 6, 7, 8, 9}\n",
            "{1, 2, 4, 5, 6, 7, 8}\n"
          ]
        }
      ]
    },
    {
      "cell_type": "markdown",
      "source": [
        "Since sets are unordered, you cannot access elements by an index like you would in a list or tuple. Attempting to do so will result in an error. Sst follow no indexing."
      ],
      "metadata": {
        "id": "ukdDoI1sqznV"
      }
    },
    {
      "cell_type": "code",
      "source": [
        "# Supports mathematical operations like Union, Intersection & Difference\n",
        "Fru1 = {'Mango' , 'Kiwi' , 'Grapes'}\n",
        "Fru2 = {'Banana' , 'Mango' , 'Peru'}\n",
        "\n",
        "# Union: combines elements from both Fru1 and Fru2\n",
        "print(Fru1 | Fru2)  # Output: {'Grapes', 'Banana', 'Peru', 'Kiwi', 'Mango'}\n",
        "\n",
        "# Intersection: elements common to both Fru1 and Fru2\n",
        "print(Fru1 & Fru2)  # Output: {'Mango'}\n",
        "\n",
        "# Difference: elements in Fru1 but not in Fru2\n",
        "print(Fru1 - Fru2)  # {'Grapes', 'Kiwi'}\n"
      ],
      "metadata": {
        "colab": {
          "base_uri": "https://localhost:8080/"
        },
        "id": "8RIs-Xtrq9jz",
        "outputId": "c7e9cda0-fa09-4f01-fdf2-60ccafa4841a"
      },
      "execution_count": 13,
      "outputs": [
        {
          "output_type": "stream",
          "name": "stdout",
          "text": [
            "{'Grapes', 'Banana', 'Peru', 'Kiwi', 'Mango'}\n",
            "{'Mango'}\n",
            "{'Grapes', 'Kiwi'}\n"
          ]
        }
      ]
    },
    {
      "cell_type": "code",
      "source": [
        "\n",
        "\n",
        "\n",
        "\n",
        "\n",
        "\n",
        "\n",
        "\n"
      ],
      "metadata": {
        "id": "sWK5RxfAvzpW"
      },
      "execution_count": null,
      "outputs": []
    },
    {
      "cell_type": "markdown",
      "source": [
        "6. Discuss the use cases of tuples and sets in Python programming.\n",
        "\n",
        "Use cases of Tuples -\n"
      ],
      "metadata": {
        "id": "CDNKl_BNtrj4"
      }
    },
    {
      "cell_type": "markdown",
      "source": [
        "1. Data Integrity: To ensure that data remains consistent throughout your program"
      ],
      "metadata": {
        "id": "seGidKDkuhkQ"
      }
    },
    {
      "cell_type": "markdown",
      "source": [
        "2. Function Return Values: When you want to return multiple values from a function."
      ],
      "metadata": {
        "id": "myRwvz8-um33"
      }
    },
    {
      "cell_type": "markdown",
      "source": [
        "3. Dictionary Keys: Tuples can be used as keys in dictionaries because they are hashable (unlike lists)."
      ],
      "metadata": {
        "id": "Xv17vcodurqO"
      }
    },
    {
      "cell_type": "markdown",
      "source": [
        "4. Immutable Data: When you need to store data that shouldn't be changed, such as coordinates or database records."
      ],
      "metadata": {
        "id": "kVH4S5-kux9F"
      }
    },
    {
      "cell_type": "markdown",
      "source": [
        "Use cases of Sets -"
      ],
      "metadata": {
        "id": "afODHO82u8NF"
      }
    },
    {
      "cell_type": "markdown",
      "source": [
        "1. Removing Duplicates: To efficiently remove duplicates from a list. unique_items = set()"
      ],
      "metadata": {
        "id": "bKNz8_euu_KU"
      }
    },
    {
      "cell_type": "markdown",
      "source": [
        "2. Set Operations: To perform mathematical set operations like union, intersection, and difference. print(a | b)  \n",
        "print(a & b)  \n",
        "print(a - b)"
      ],
      "metadata": {
        "id": "rcLNU8GwvK8V"
      }
    },
    {
      "cell_type": "markdown",
      "source": [
        "3. Membership Testing: To quickly check if an element exists in a set (faster than with lists)."
      ],
      "metadata": {
        "id": "AilYdnDkvcp-"
      }
    },
    {
      "cell_type": "code",
      "source": [
        "\n",
        "\n",
        "\n",
        "\n",
        "\n"
      ],
      "metadata": {
        "id": "nQkxa116wCUn"
      },
      "execution_count": null,
      "outputs": []
    },
    {
      "cell_type": "markdown",
      "source": [
        "7. Describe how to add, modify, and delete items in a dictionary with examples."
      ],
      "metadata": {
        "id": "dQum1YY4wDBG"
      }
    },
    {
      "cell_type": "code",
      "source": [
        "# Adding items in dictionary\n",
        "\n",
        "emply_info = {\"name\": \"Rakesh\", \"age\": 25}\n",
        "\n",
        "# Adding a new value-key pair\n",
        "emply_info[\"department\"] = \"HR\"\n",
        "\n",
        "print(emply_info)\n",
        "# Output: {'name': 'Rakesh', 'age': 25, 'department': 'HR'}\n",
        "\n",
        "# Using update() Method.\n",
        "\n",
        "# Adding multiple key-value pairs\n",
        "emply_info.update({\"country\": \"INDIA\", \"profession\": \"Management\"})\n",
        "print(emply_info)"
      ],
      "metadata": {
        "colab": {
          "base_uri": "https://localhost:8080/"
        },
        "id": "rDz9SyClwqnN",
        "outputId": "5d554a4f-2ff9-4d8f-8684-9cbd58ebe0d8"
      },
      "execution_count": 15,
      "outputs": [
        {
          "output_type": "stream",
          "name": "stdout",
          "text": [
            "{'name': 'Rakesh', 'age': 25, 'department': 'HR'}\n",
            "{'name': 'Rakesh', 'age': 25, 'department': 'HR', 'country': 'INDIA', 'profession': 'Management'}\n"
          ]
        }
      ]
    },
    {
      "cell_type": "code",
      "source": [
        "# Modifying\n",
        "\n",
        "emply_info = {\"name\": \"Rakesh\", \"age\": 25, \"department\": \"HR\"}\n",
        "\n",
        "# Modifying the value associated with the key 'age'\n",
        "emply_info[\"age\"] = 30\n",
        "\n",
        "print(emply_info)\n",
        "# Output: {'name': 'Rakesh', 'age': 30, 'department': 'HR'}\n"
      ],
      "metadata": {
        "colab": {
          "base_uri": "https://localhost:8080/"
        },
        "id": "VwoxMUsKxLqi",
        "outputId": "b0e8dab6-4143-46ab-9bda-a554b90411ed"
      },
      "execution_count": 16,
      "outputs": [
        {
          "output_type": "stream",
          "name": "stdout",
          "text": [
            "{'name': 'Rakesh', 'age': 30, 'department': 'HR'}\n"
          ]
        }
      ]
    },
    {
      "cell_type": "code",
      "source": [
        "# Deleting items\n",
        "\n",
        "emply_info = {\"name\": \"Rakesh\", \"age\": 25, \"department\": \"HR\"}\n",
        "\n",
        "# Deleting the key 'age'\n",
        "del emply_info[\"age\"]\n",
        "\n",
        "print(emply_info)\n",
        "# Output: {'name': 'Rakesh', 'department': 'HR'}"
      ],
      "metadata": {
        "colab": {
          "base_uri": "https://localhost:8080/"
        },
        "id": "-tAS_xgdyIKN",
        "outputId": "f46c5f86-8015-4432-de0d-6c2b539e83a4"
      },
      "execution_count": 17,
      "outputs": [
        {
          "output_type": "stream",
          "name": "stdout",
          "text": [
            "{'name': 'Rakesh', 'department': 'HR'}\n"
          ]
        }
      ]
    },
    {
      "cell_type": "code",
      "source": [
        "\n",
        "\n",
        "\n",
        "\n",
        "\n"
      ],
      "metadata": {
        "id": "WdvU_YT1yz-r"
      },
      "execution_count": null,
      "outputs": []
    },
    {
      "cell_type": "markdown",
      "source": [
        "8. Discuss the importance of dictionary keys being immutable and provide examples.\n",
        "\n",
        "Dictionary keys in Python must be immutable because they serve as unique identifiers for accessing values within the dictionary. Immutability ensures that keys remain constant and hashable, allowing Python to quickly locate and retrieve values associated with those keys. Here's a detailed discussion on why immutability is important for dictionary keys."
      ],
      "metadata": {
        "id": "OjY8IpNny-uQ"
      }
    },
    {
      "cell_type": "code",
      "source": [
        "mdict = { [1, 2]: \"example\" }\n",
        "\n",
        "\n",
        "\n",
        "# Attempt to access the value using the key\n",
        "\n",
        "print(mdict[[1, 2]])\n",
        "\n",
        "\n",
        "\n",
        "# This might not work as expected because the list key could be modified\n",
        "\n",
        "[1, 2].append(3)\n",
        "\n",
        "\n",
        "\n",
        "# Now the key is different and the lookup will fail\n",
        "\n",
        "print(my_dict[[1, 2, 3]])\n",
        "\n",
        "#he immutability of dictionary keys is fundamental to ensuring the integrity and efficiency of data retrieval within a dictionary.\n",
        "#By using immutable data types as keys, the dictionary can reliably locate values based on their unique hash values, making lookups fast and predictable.\n"
      ],
      "metadata": {
        "id": "ewlfuylmzRZI"
      },
      "execution_count": null,
      "outputs": []
    }
  ]
}