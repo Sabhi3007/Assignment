{
  "nbformat": 4,
  "nbformat_minor": 0,
  "metadata": {
    "colab": {
      "provenance": []
    },
    "kernelspec": {
      "name": "python3",
      "display_name": "Python 3"
    },
    "language_info": {
      "name": "python"
    }
  },
  "cells": [
    {
      "cell_type": "markdown",
      "source": [
        "1. What is the difference between a function and a method in Python?\n",
        "\n",
        "Function in Pyhton are reusable, neat, clean and organised and save time.independent blocks of code that can be called from anywhere.Functions are generally used for more general purposes where the operation does not rely on the state of an object.\n",
        "\n",
        "\n",
        "While Method is similar to a function but is associated with an object (ie, it belongs to a class). Methods are defined inside a class and are called on instances (objects) of that class.Methods are used when you want to perform operations that are related to the object and its internal attributes."
      ],
      "metadata": {
        "id": "9u6NUvmsFful"
      }
    },
    {
      "cell_type": "code",
      "execution_count": 3,
      "metadata": {
        "colab": {
          "base_uri": "https://localhost:8080/"
        },
        "id": "RqhF8Ij2EnPI",
        "outputId": "bb661f46-a350-486b-eff1-2e94115a29d1"
      },
      "outputs": [
        {
          "output_type": "stream",
          "name": "stdout",
          "text": [
            "Welcome to the office, Abhishek\n"
          ]
        }
      ],
      "source": [
        "# Function\n",
        "\n",
        "def greeting(name):\n",
        "    print(\"Welcome to the office, \" + name)\n",
        "greeting(\"Abhishek\")"
      ]
    },
    {
      "cell_type": "code",
      "source": [
        "# By Method in Python\n",
        "class Office:\n",
        "    def greeting(self, name):\n",
        "        print(f\"Welcome to the office, {name}!\")\n",
        "office_instance = Office()\n",
        "office_instance.greeting(\"Abhishek\")"
      ],
      "metadata": {
        "colab": {
          "base_uri": "https://localhost:8080/"
        },
        "id": "d-2BD9e5HGkI",
        "outputId": "4d81aadf-44dd-4678-8cad-1bafc0dbdd2d"
      },
      "execution_count": 4,
      "outputs": [
        {
          "output_type": "stream",
          "name": "stdout",
          "text": [
            "Welcome to the office, Abhishek!\n"
          ]
        }
      ]
    },
    {
      "cell_type": "code",
      "source": [
        "\n",
        "\n",
        "\n",
        "\n",
        "\n",
        "\n",
        "\n"
      ],
      "metadata": {
        "id": "H2ceXZZuH-_M"
      },
      "execution_count": null,
      "outputs": []
    },
    {
      "cell_type": "markdown",
      "source": [
        "2. Explain the concept of function arguments and parameters in Python.\n",
        "\n",
        "\n",
        "Parameters - Parameters are the variables listed in the function's definition. They act as placeholders for the values that will be passed to the function when it is called. It allow a function to accept inputs and work with data that will be provided later.\n",
        "\n",
        "Arguments - Arguments are the actual values or data that are passed to the function when it is called. These are the real values that get substituted for the parameters when the function runs. It provide the necessary data for the function to execute its logic."
      ],
      "metadata": {
        "id": "BkLcDluVIRgL"
      }
    },
    {
      "cell_type": "code",
      "source": [
        "# Parameters\n",
        "def greet(name, message):\n",
        "    print(f\"Hello, {name}. {message}\")\n",
        "\n",
        "# Arguments\n",
        "greet(\"Abhishek\", \"Welcome to the Pwskills\")"
      ],
      "metadata": {
        "colab": {
          "base_uri": "https://localhost:8080/"
        },
        "id": "Uj5Qy3rqJEe1",
        "outputId": "a8508866-2c1f-4ef2-e15e-bb7eb6260e0c"
      },
      "execution_count": 5,
      "outputs": [
        {
          "output_type": "stream",
          "name": "stdout",
          "text": [
            "Hello, Abhishek. Welcome to the Pwskills\n"
          ]
        }
      ]
    },
    {
      "cell_type": "code",
      "source": [
        "\n",
        "\n",
        "\n",
        "\n",
        "\n",
        "\n"
      ],
      "metadata": {
        "id": "SCwP_5H2JkyV"
      },
      "execution_count": null,
      "outputs": []
    },
    {
      "cell_type": "markdown",
      "source": [
        "3. What are the different ways to define and call a function in Python?\n",
        "\n",
        "\n",
        "In Python, there are several ways to define and call functions, each serving different purposes."
      ],
      "metadata": {
        "id": "BV74LQxgJltj"
      }
    },
    {
      "cell_type": "code",
      "source": [
        "# Standard Function Definition\n",
        "\n",
        "def add(a, b):\n",
        "    return a + b\n",
        "\n",
        "# Calling the function\n",
        "result = add(7, 8)\n",
        "print(result)"
      ],
      "metadata": {
        "colab": {
          "base_uri": "https://localhost:8080/"
        },
        "id": "U9oEiE0nLMvx",
        "outputId": "ba89e641-c423-4984-8786-415e49ef03b9"
      },
      "execution_count": 7,
      "outputs": [
        {
          "output_type": "stream",
          "name": "stdout",
          "text": [
            "15\n"
          ]
        }
      ]
    },
    {
      "cell_type": "code",
      "source": [
        "# Argument Function\n",
        "\n",
        "def greet(name, message=\"Hello\"):\n",
        "    print(f\"{message}, {name}\")\n",
        "\n",
        "# Calling the function\n",
        "greet(\"Abhishek\")            # Output: Hello, Abhishek\n",
        "greet(\"Pwskills\", \"Goodbye\")   # Output: Goodbye, Pwskills"
      ],
      "metadata": {
        "colab": {
          "base_uri": "https://localhost:8080/"
        },
        "id": "2QzBr_UlL2gA",
        "outputId": "071aa8e8-79db-4a04-a8b2-d42bc8f34e14"
      },
      "execution_count": 8,
      "outputs": [
        {
          "output_type": "stream",
          "name": "stdout",
          "text": [
            "Hello, Abhishek\n",
            "Goodbye, Pwskills\n"
          ]
        }
      ]
    },
    {
      "cell_type": "code",
      "source": [
        "# Lambda Fucntion\n",
        "add = lambda a, b: a + b\n",
        "\n",
        "# calling the function\n",
        "result = add(3, 4)\n",
        "print(result)"
      ],
      "metadata": {
        "colab": {
          "base_uri": "https://localhost:8080/"
        },
        "id": "Ey6ApVVLMQff",
        "outputId": "5458f91d-e1f5-41a2-c7ae-1cbc884186cd"
      },
      "execution_count": 9,
      "outputs": [
        {
          "output_type": "stream",
          "name": "stdout",
          "text": [
            "7\n"
          ]
        }
      ]
    },
    {
      "cell_type": "code",
      "source": [
        "# Function inside Function\n",
        "\n",
        "def emply_id(**info):\n",
        "    for key, value in info.items():\n",
        "        print(f\"{key}: {value}\")\n",
        "\n",
        "emply_id(name=\"Abhishek\", age=27)"
      ],
      "metadata": {
        "colab": {
          "base_uri": "https://localhost:8080/"
        },
        "id": "OYZQW7tYMxBH",
        "outputId": "d109af22-64e2-4ee5-f55d-c085fa3eb213"
      },
      "execution_count": 14,
      "outputs": [
        {
          "output_type": "stream",
          "name": "stdout",
          "text": [
            "name: Abhishek\n",
            "age: 27\n"
          ]
        }
      ]
    },
    {
      "cell_type": "code",
      "source": [
        "\n",
        "\n",
        "\n",
        "\n",
        "\n"
      ],
      "metadata": {
        "id": "EEjdpORtNfKZ"
      },
      "execution_count": null,
      "outputs": []
    },
    {
      "cell_type": "markdown",
      "source": [
        "4. What is the purpose of the `return` statement in a Python function?\n",
        "\n",
        "The primary purpose of the return function is to give output of the function, anythinf can be returned. It can perform operations and return the result to where it was called."
      ],
      "metadata": {
        "id": "UzzQLIMYN5De"
      }
    },
    {
      "cell_type": "code",
      "source": [
        "def add(a, b):\n",
        "    return a + b\n",
        "\n",
        "result = add(7, 8)\n",
        "print(result)"
      ],
      "metadata": {
        "colab": {
          "base_uri": "https://localhost:8080/"
        },
        "id": "H_BkNPkFOjAt",
        "outputId": "79cf872e-a8e0-42ab-cacf-2f81f9d59f43"
      },
      "execution_count": 15,
      "outputs": [
        {
          "output_type": "stream",
          "name": "stdout",
          "text": [
            "15\n"
          ]
        }
      ]
    },
    {
      "cell_type": "code",
      "source": [
        "\n",
        "\n",
        "\n"
      ],
      "metadata": {
        "id": "xGhXWnx4OqjR"
      },
      "execution_count": null,
      "outputs": []
    },
    {
      "cell_type": "markdown",
      "source": [
        "5. What are iterators in Python and how do they differ from iterables?\n",
        "\n",
        "Iterators is an object representinga stream of data, return the data one by one.Iterators are more memory efficient when dealing with large datasets since they yield one item at a time and do not store the entire sequence in memory.\n",
        "\n",
        "Whereas Iterable in any python data structure that is capable of returning its memberes one at a time.Permitting it to be iterated over in a for loop."
      ],
      "metadata": {
        "id": "19GeCA8KOxgU"
      }
    },
    {
      "cell_type": "code",
      "source": [
        "s = \"PWskills\"\n",
        "for i in s:\n",
        "  print (i)\n",
        "\n",
        "a = iter(s)\n",
        "next (a)\n",
        "next (a)"
      ],
      "metadata": {
        "colab": {
          "base_uri": "https://localhost:8080/",
          "height": 174
        },
        "id": "xPlcBjNdQNtb",
        "outputId": "7241c791-e6c1-44ed-8839-1fbf7046f9ef"
      },
      "execution_count": 21,
      "outputs": [
        {
          "output_type": "stream",
          "name": "stdout",
          "text": [
            "P\n",
            "W\n",
            "s\n",
            "k\n",
            "i\n",
            "l\n",
            "l\n",
            "s\n"
          ]
        },
        {
          "output_type": "execute_result",
          "data": {
            "text/plain": [
              "'W'"
            ],
            "application/vnd.google.colaboratory.intrinsic+json": {
              "type": "string"
            }
          },
          "metadata": {},
          "execution_count": 21
        }
      ]
    },
    {
      "cell_type": "code",
      "source": [
        "\n",
        "\n",
        "\n",
        "\n",
        "\n"
      ],
      "metadata": {
        "id": "g87cWuBsQedp"
      },
      "execution_count": null,
      "outputs": []
    },
    {
      "cell_type": "markdown",
      "source": [
        "6. Explain the concept of generators in Python and how they are defined.\n",
        "\n",
        "Generators in Python are a special type of iterator that allow you to create iterators in a more concise and memory-efficient way. They are defined using a function that contains one or more yield statements."
      ],
      "metadata": {
        "id": "M9kIdT2iRAbN"
      }
    },
    {
      "cell_type": "code",
      "source": [
        "def fib(n):\n",
        "  a=0\n",
        "  b=1\n",
        "  for i in range (n):\n",
        "    yield a\n",
        "    a,b = b, a+b\n",
        "\n",
        "\n",
        "f = fib(10)\n",
        "next (f)"
      ],
      "metadata": {
        "colab": {
          "base_uri": "https://localhost:8080/"
        },
        "id": "yYoh3aHPRUZb",
        "outputId": "01de1bfb-c279-4269-932c-08c633044603"
      },
      "execution_count": 23,
      "outputs": [
        {
          "output_type": "execute_result",
          "data": {
            "text/plain": [
              "0"
            ]
          },
          "metadata": {},
          "execution_count": 23
        }
      ]
    },
    {
      "cell_type": "code",
      "source": [
        "\n",
        "\n",
        "\n"
      ],
      "metadata": {
        "id": "asqxqPuUTHVV"
      },
      "execution_count": null,
      "outputs": []
    },
    {
      "cell_type": "markdown",
      "source": [
        "7. What are the advantages of using generators over regular functions\n",
        "\n",
        "Generators offer several advantages over regular functions, particularly when it comes to managing memory and working with sequences of data.\n",
        "- Memory Efficiency\n",
        "- Improved Performance\n",
        "- Infinite Sequences\n",
        "- Simplified Code\n",
        "- Pipelining Generators\n",
        "- Error Handling and Control Flow"
      ],
      "metadata": {
        "id": "HQL-8UkhTUGh"
      }
    },
    {
      "cell_type": "code",
      "source": [
        "def fib(n):\n",
        "  a=0\n",
        "  b=1\n",
        "  for i in range (n):\n",
        "    yield a\n",
        "    a,b = b, a+b\n",
        "\n",
        "\n",
        "f = fib(100000)\n",
        "next (f)"
      ],
      "metadata": {
        "colab": {
          "base_uri": "https://localhost:8080/"
        },
        "id": "v_JTz45QT-1f",
        "outputId": "e9f6d2c8-e50c-4675-89a7-49a2dd51ff72"
      },
      "execution_count": 25,
      "outputs": [
        {
          "output_type": "execute_result",
          "data": {
            "text/plain": [
              "0"
            ]
          },
          "metadata": {},
          "execution_count": 25
        }
      ]
    },
    {
      "cell_type": "code",
      "source": [
        "\n",
        "\n",
        "\n",
        "\n",
        "\n"
      ],
      "metadata": {
        "id": "6jjZPKdiULQg"
      },
      "execution_count": null,
      "outputs": []
    },
    {
      "cell_type": "markdown",
      "source": [
        "8. What is a lambda function in Python and when is it typically used?\n",
        "\n",
        "Anonymous Function.Unlike regular functions defined with def, lambda functions can have any number of input parameters but can only contain a single expression. No need of return statement and def statement.\n",
        "\n",
        "Syntax -  lambda arguments: expression"
      ],
      "metadata": {
        "id": "vAXxIO7kUMS2"
      }
    },
    {
      "cell_type": "code",
      "source": [
        "add = lambda x, y: x + y\n",
        "result = add(8, 7)\n",
        "print(result)"
      ],
      "metadata": {
        "colab": {
          "base_uri": "https://localhost:8080/"
        },
        "id": "8Yj-aur2XGPD",
        "outputId": "c537a3ff-218e-45b7-b6a8-c3c97487a08c"
      },
      "execution_count": 27,
      "outputs": [
        {
          "output_type": "stream",
          "name": "stdout",
          "text": [
            "15\n"
          ]
        }
      ]
    },
    {
      "cell_type": "code",
      "source": [
        "\n",
        "\n",
        "\n"
      ],
      "metadata": {
        "id": "pTC2TCBuXN6L"
      },
      "execution_count": null,
      "outputs": []
    },
    {
      "cell_type": "markdown",
      "source": [
        "9. Explain the purpose and usage of the `map()` function in Python.\n",
        "\n",
        "Executes a specified function for each of item of an iterable.\n",
        "It promotes a functional programming style by allowing operations to be expressed in a way that separates the application of the function from the data being processed.\n",
        "\n",
        "Syntax - map(function, iterable, ...)"
      ],
      "metadata": {
        "id": "VqmDznu1XU0L"
      }
    },
    {
      "cell_type": "code",
      "source": [
        "numbers = [1, 2, 3, 4, 5]\n",
        "squared_numbers = list(map(lambda x: x ** 2, numbers))\n",
        "print(squared_numbers)"
      ],
      "metadata": {
        "colab": {
          "base_uri": "https://localhost:8080/"
        },
        "id": "6IJOa_YTYCRD",
        "outputId": "e92edc91-5ae9-44df-e9c5-f6365ea1663a"
      },
      "execution_count": 28,
      "outputs": [
        {
          "output_type": "stream",
          "name": "stdout",
          "text": [
            "[1, 4, 9, 16, 25]\n"
          ]
        }
      ]
    },
    {
      "cell_type": "code",
      "source": [
        "\n",
        "\n",
        "\n"
      ],
      "metadata": {
        "id": "OaLueSJ7YEVV"
      },
      "execution_count": null,
      "outputs": []
    },
    {
      "cell_type": "markdown",
      "source": [
        "10. What is the difference between `map()`, `reduce()`, and `filter()` functions in Python?\n",
        "\n",
        "\n",
        "The map(), reduce(), and filter() functions are all built-in functions in Python that allow for functional programming techniques, enabling you to process iterables in a concise and efficient manner.\n",
        "\n",
        "- MAPS >> Executes a specified function for each of item of an iterable. It promotes a functional programming style by allowing operations to be expressed in a way that separates the application of the function from the data being processed.\n",
        "\n",
        "Syntax - map(function, iterable, ...)\n"
      ],
      "metadata": {
        "id": "MSHih1ncYGrr"
      }
    },
    {
      "cell_type": "code",
      "source": [
        "numbers = [1, 2, 3, 4, 5]\n",
        "squared_numbers = list(map(lambda x: x ** 2, numbers))\n",
        "print(squared_numbers)"
      ],
      "metadata": {
        "id": "zoP8DkV6YqQx"
      },
      "execution_count": null,
      "outputs": []
    },
    {
      "cell_type": "markdown",
      "source": [
        "- FILTERS >> he filter() function creates an iterator from elements of an iterable for which a given function returns True.\n",
        "\n",
        "SYntax - filter(function, iterable)"
      ],
      "metadata": {
        "id": "vEzhI9R6YtkR"
      }
    },
    {
      "cell_type": "code",
      "source": [
        "numbers = [1, 2, 3, 4, 5]\n",
        "even_numbers = filter(lambda x: x % 2 == 0, numbers)\n",
        "print(list(even_numbers))"
      ],
      "metadata": {
        "colab": {
          "base_uri": "https://localhost:8080/"
        },
        "id": "XiklZ5-0Y6pZ",
        "outputId": "18a5c9a2-d654-4e13-a170-9df3aa0a838b"
      },
      "execution_count": 29,
      "outputs": [
        {
          "output_type": "stream",
          "name": "stdout",
          "text": [
            "[2, 4]\n"
          ]
        }
      ]
    },
    {
      "cell_type": "markdown",
      "source": [
        "- REDUCE\n",
        "The reduce() function is used to apply a binary function (a function taking two arguments) cumulatively to the items of an iterable, reducing the iterable to a single cumulative value. It is used for aggregating or accumulating results from an iterable.\n",
        "\n",
        "Syntax - from functools import reduce\n",
        "\n",
        "reduce(function, iterable[, initializer])"
      ],
      "metadata": {
        "id": "ZniSVLrpY_OB"
      }
    },
    {
      "cell_type": "code",
      "source": [
        "from functools import reduce\n",
        "\n",
        "numbers = [1, 2, 3, 4]\n",
        "result = reduce(lambda x, y: x + y, numbers)\n",
        "print(result)"
      ],
      "metadata": {
        "colab": {
          "base_uri": "https://localhost:8080/"
        },
        "id": "Fb_MZWyPY9Na",
        "outputId": "d9033209-92b7-4cee-8a39-fed2612abfad"
      },
      "execution_count": 30,
      "outputs": [
        {
          "output_type": "stream",
          "name": "stdout",
          "text": [
            "10\n"
          ]
        }
      ]
    },
    {
      "cell_type": "markdown",
      "source": [
        "11. Using pen & Paper write the internal mechanism for sum operation using reduce function on this given list:[47,11,42,13]"
      ],
      "metadata": {
        "id": "94SXiQybcHT2"
      }
    },
    {
      "cell_type": "code",
      "source": [],
      "metadata": {
        "id": "-2OK859-ZTl_"
      },
      "execution_count": null,
      "outputs": []
    },
    {
      "cell_type": "markdown",
      "source": [
        "![Solution.jpg](data:image/jpeg;base64,/9j/4AAQSkZJRgABAQAAAQABAAD/2wCEAAYGBgYHBgcICAcKCwoLCg8ODAwODxYQERAREBYiFRkVFRkVIh4kHhweJB42KiYmKjY+NDI0PkxERExfWl98fKcBBgYGBgcGBwgIBwoLCgsKDw4MDA4PFhAREBEQFiIVGRUVGRUiHiQeHB4kHjYqJiYqNj40MjQ+TERETF9aX3x8p//CABEIBkAEsAMBIgACEQEDEQH/xAAuAAEBAAMBAQAAAAAAAAAAAAAAAQIDBAUGAQEBAQAAAAAAAAAAAAAAAAAAAQL/2gAMAwEAAhADEAAAAvlikWACwAKEAAAEBQQAAAoAAAWAspAVYTKUY5QzSyY568jPBgbctNMrrG7GImWG41TdrKzGnbhsGvZqNlxGOeqm1rzi8+/RpgNVYOm6tmJY1pskq447Fam2mrLOEMDPHBSzIxmzMwueUaHRTmvVTkduR519DNfMnsZniT6DOvnn0mR82+lyPmcvpafN36QfO5fQVfBy9weLn648vZ6A4sutHPd9PL8/6PVHguzz5mbebZW3XYVMjCbNZpG6AAAsFQCFQUhUFQVBURUFQVBUFQVBlILcRlIMmItxGUQyKY0LMoNmrOLjcU2yQm3TsMtWcMpnkc2W7aceHpDz76WR5V9SnnX1Nh42r6DJfmn02dfL36mnzG/6Gx89j9GPn8vfp4GfuDxsvXHlZemPPvfThz6hzXoGjLaXXcxjaAAoABYAAABCoKgsBYKgqWFgx8z1sY+Yz6uRnOWGOerMuvLWabG6AAAAAAAQVBQFpi2ZGl0ZHK7MjhejnHlvWzPGe3meC+gyPnb9JkfM5fTZHzGX02R8zl9JT5zP6AeFfdHi5ewPIy9Uebl6A4Mu0cl6hz5bhquwYXKmKiUFgqFsAAEAqFWAAAAAgqUEKgqCoKgqCoAAKgAAAAAAAAAAqUqWOP576b5xLcrJp2TIYbMDQ+obvzF+msfMvpx8zfpafN36OnzmX0I+fy98eHfbHkZ+oPOz7hyZdI0XcNeWQxtKAABUFQLBUFQWABUFQVBUFQVBUFQVBYCwVBUAAAAAAAFgAAAAAAAFgAAAAAAAAAAAAAAAAsFssa/m/p/mUt1WRcaXHOH07Fu1EVBUFQVBUFQVBUFgALBUKAAAAAAsAFQVBQAAAAAAAAACkAAAAAAAAAAAAAAoQAFAlEKShAFgAAAAAAAAAAABbKPnvovBk5M9WyRhlrrbJI+mRu1BUsABQQFBAAAAAKAAAAAAAAAsolgoAAAAAAAAAAAAAAAAAAACkAAAsoAlgABUAFAlhYAAAAAAAAAAAAFspfE9vyY8bZhuZxx26zIsv0Y2AACFlAAoAAAAIBQAAAAAAAAABQEBQAAAAAAAAAAAAAAAABQBLBZQAABKIAACgAASiAKIsAAAAAAAAALZR53o8MeDt0Zs7MLBZlH0g3QAAAKlAACUGo2gAACAAUAAAAAABZUChzHS5ugolAAAAAAAAAAAoEutMzFckoshkmmzfJYmOHDp6eHN1Rsl5zoa8Dea4zcm2twlFAOfdzb7M7xdhz9HFuszy1b5cNnF1Gc4e0rkwO4SgAAAAAAUF5erTHza4M7UizLCp9LZdUAQoAFgqUuNHnd3LdSa7ss62PFnXoMZGbDIrk6waTc17AAaDenMb8+ToNjTrOlydBmJVlsFNF5+uyZyyk0m8SgDGyuTebWnMzSymvOyuXpKJUsJxdGGph068zZ5Pr+XZ2ad2qNmWyy82enurjnRLOTr2a5dTq1lm2Rlp3DhdmVc+rpxObdlpOwZtSgGnDolnJu34mnDqhzdNHPr7Bow68TztXrc+pvy5+jGgAAAAAALZRr2Yx8tr6dCZ2jXnKn0ll1QICgAAWUsDj7OTrpydfIbOXq0WdvL080dU14LpmW6zZz3AvX5/TGMyxrPPm2y9XD1ctnVnz9ObyXotczbDcJVlRp3DzNnRhuasui5cfTo6zMZ0A17NFl28PVWjDfjZv5Nm2Xiz7cDh39chkSpYa8OiWTZKTh7uOuqVm0EyBZSSwWUllAQCiseHv4a7LLm1KAAAIAFQUJdecrh7eLtKJQAAAAAKCiPm+bq5E2XXkXHLFPp7LqgAAAAUAgso4+yEZBhmNO1QDC5DFkAgFACgMMqAFhLYNM3jVso599ASgJQAAAAAAlAFA4u3h1Oyy5oFSgCWCygAACiTh7uHTssuaBQASwAAALKgHn93F21RKAAAAUAAUR4XD6fmJM9eaXC4n1FNUAAAACoAAAFgoJZSUAAgFAAAAKqBDVmZgEKJQAAAAAAACiKIAoAatsJQLBZQAAAAABZScHfy2dJZQAAAIolQFJQA8zvw22KSgAAVKAAAUseV4vv+HZhnjnJJnifTjVAAAAAAAAAFBqNs5Ma7MubbGy6tpNO3jO1jZaAogAKKnP0c9mbbIyAEAoAABKCkWAAAAAoAABKCURRKAAABKAAAQFSgAAAAAAACWAApACgAACyiynJ879N8uluNMpZH1A0AAAACAAoIAWUcvUrVxderU6eTq5o2bsuddbfrsyzklx6fM7zJwdJr7PM9EyGbRZOTf5Op7Th3y7NnJvjY5Mjpa+Y7Y4zt05aqjR2mvo598cnPu6dTRdG6XrunfmxRAAKAAAAAAAAAAAAAAEoEoAAAAAAAAlgAsoAAAAAsosph8x9T8zJpiVmI+nGgAKEAAAAAALBQmvT1SktMclJ5/oaaz5uxHNOqnJOwaNmYSyW6N6zTw+rwanVlr3ZvHd6uG9uZwZdw5MujKOLb0Q5emjDZLKlEUSgBAAUAAAEUAAAAAAAAAAAAAAAAAAAAQpKAAAAAACgso+a+l8WTynVrTVRfqBoCgBAAAAAAAAAFAAAAsFIVKJQBdO1WGZAAAAAAAAFgLKAQAoAAAAAAAAAAAAAAAAAAAAAAAAAAAAAAAAAsoso8j1/Kk4Jr25nLZNvqhaEoAAAAAAAAAFQUAAAAACwVKAAAAAAAAAAALKAARYUAAAAAAAAAAAAAAAAAAAAAApAAAAAAAAAAFAAF8/0OY+f2y4zz4569PqhrQQAAAAAAAAAAoSygAACyiWACygAAAAAAAFBKCUAAAAAAAAAACgCAKQAAAAAAAAAAAAAAAAAAAAAAFAABdW3GPnNHTrmeZnhp9WGgABCgAAAAAAAAWCgAAUEsAFlAICgAAAAAoAAAAAAAAAFlIUgBRKIBZSAKIoiiLAAACywAoIAAAogAAAAAAAFlAALKPnsGvOdmjfjH0I3oCKIBZQAQqUAAAAAAoAAFgsABZQAAABQgAFlAAAAAAAAABQACLBZQBKJQiwoAAAIAACyiUAIABZQCAAAAAAAELcMwAUA+f8AP9XyU260PrAoAEBUCyiAsoAAAAsFAAAAAAAoAAAAAAAKEKCkUQABYAAALKAAAAACFSkUAAAAQBRKAAAEspCkBUolgWAFBAAAJRhsxpQAWB5fhfR/OJSn1YVKIAAolgKJZQAAAAUFJhs8+zuuOUpRAACgACgl5K6cfP6rN+WGzNiiKAAFlAIsFlEsKCKICgALAAYGZTm0dujUz269mbZQAAABFAAAhQASyksFBLBZRFEBQJRFgWACwUAAHP8ALfW/JoSn1gUBLACoLAFJYKAAABZRZRw93Dqddx54u7l22ZXGLs283TKEVzZ1uLApNO7TZp6+foWiGN8uz1HHmdDjp2iVZRJy12OXpKISwoJr1atTuY8svbeXqEykMM9def6fn99nPo7uKuvbp3ZOfo0jZq2yrKAAAAAAAAAAAAAAAAQFAAABFgBQAUGPyf13yqc9lPrAoCUQAAAACgAAAsoA1bVmrm7ho25YnH047K4e/VvgYLM+XpTOyyrKOXq47Nu3HKWyyuB069Zx7dG7N5c+ftrK4M3YCc3Tps09fL1lVLJYXVswrn5O7m1ns2NGbOvzO6tuvPgj0DWvL18HZZu4+xL53og1ZcybN2vZLQAAAAAAAAAAAAAACkAlAAAACWAFABQPmvpvnk80V9aJQIAAAAAUAAAAAoAFgqUgAFgoFlFlHF28Gp15ef1y7rLDm6FYZkY2jRdyqIssMMwWUa9nHXTlo3xeboVMc0TKUcHfKoiAqCpRKIAACwACwWUgAAAAAAAAAAAAAAAEsFQoFlAL4nt+SeELPrUsqWAAAAAAFAAAAAsoAAsAABQAsFAlEUAAAAAUAACyjXshjkAAFAABFgWCgAlgABUoAlgsoAlgAAAAAAAAAKRYAAAAAAAUF8/0OQ+WpZ9ZZZUsAAAAAAKAAAABZQAAAACgAFAAAAAAAAKAABZRKIABQAAAAAEKlIsCiKAAAAAAAIsAAAAAABSUAIogAACUAAqUundgfITLCz62xLYAAAAAAFAAAABQCkAABQSgAsoAAAAsolgABQALKAAShFBKAAAAAAAAAAACAFAAAAlgAAoAAAAAGGFm41xsY0oWc3V5up6F155tAAspQfJaOzjs+tEoAAAAAAFSgAAAoAAAKAAAAKAAAACyiUQAFQUFAAUQAAAAAAAAAolEWBRAJYCgFSFKRYARKAVq0Wdjhwr0cZyR3YuE9DB49e1l5g7OfHjs9rxu7Sbd2gdGfndcvVq2645uvk6yiUBQoPnfN9fyLPrRKAAAAAAAsFAAAsoAsok0V0sbFvN01OXdwWelZc0YmVxyAACwqClGGeiy7ebpUIAFAJydPNZ2VZcMdWdbSxFEoDRW9LE0ZcWp6THTL0CFlJrx06nVl4ftxlFl5enj2amezz/Qlc/RxHblhnGHF6HBqT0PG9gcmzgOw1WY+hwd+aEstWeX3zdXKy6DincjldQ1NtOXX3DTtCc/SNU3QvJlay2GbQALKVKeP4f0Xztn1olAAAAAAAAoAAKABZTlmerctwJo9Th7ZebT06bO2y41jz9Ous8yAFDRo7dGpo383eab5/pG3lcFnpzLml7b5/dLjn5vRZv2+d3y5XHKOfLHbZnZZePfpupq7PM7CbPJlnr4+LsPe87r4V9KebnGvfzd2o5ejkj08+Duxq2UeZ6eNnj+ps01r6sNsTT0YnD28HRXRz7+KXtyxyicnYs4OnaLhnSY5ctaO/z/AEIcXbzm7OWVYFgsAAsAAAHN0yzXsJQAAFBZTi+Y+s+TT60KAIUAAAAAoAAKAWWCymOvcrmx6yass6uvl7sRSGGdAAKC6NyuPro03cNXP2yzTz9yPM3dqvOw9OHnbezKMNhLqzuqzfccpebV24anJs6keZ2bxyYdw5+X0hw9WwuGroGnbZEoLBQAVKNefHqcfqcfcUZqygAFIcmWLcnVq3ZoRKAAAAAAAAAEAAAoJQspr+Q+y+QT6kKBCkoAAAACgACygFlEsoAABYACwUCglhQALKAAAJYAVKCgABBUoIUAgsAAAFAAspr0dXnamfZydcUSrKEFAspwY+hjqTIzQAAAAAAAAAAEogAKABZR8n9Z8wnvhbAAUAAAAAKAUlAAUAMcTYAoiiAWUWUWUk0bazRFSgoAABGjRXclhZQCgQAKCUJQSwAAFJZQAAC4ZDDIAFgsoAASwAAAAAAAAAAAAAgLAqCpRZR859H4KesFAAAqUAAAAoFlAAKAsrz8sGp2bfPuXXlzbzZePM6ZhpXpa9B13i6DcsOHt5eoFiXTprtYZwOCvQlxF4uwujfTh6+boMrLAFSkUSgAAAlgAUAAAAAAJRAAVBQAJYAAAAAAAAAAASgBFCWAFAsF8X2vKTtCgAALBQAACgAFABQUWebv1ddOL0MS6tyOXT3WuLT6MNG/V1S2yxccpXPv07yCOLbjluY9PNsjTp256nXy7NEur0vP9DK2WXRlhsrKxFAoRYKAAACUSygAAAAAAACUQpLBSFAlEKSwAAAAAAAAAEoAAAAAA4O/kTYFAAAFAAAFlABSUAKlArz+7l6i2WKlAEDHILZRYNWO/VZllo3LaRqx6FYM6aW6Hn9+OYNRhvwzFIAoAAAAAAJZQAAAAAAQqUAASwsoASiWUiwAAAAAAAASwWUAAAAAAc/RqMQAAALKAAAUACygACwUEAsoAAAsosFAAAAsoBYAGGrblVEAAVBQAAAAASgAAAAAAAAAAIUAAhUolEAAAAAAAAlgsoAAAAAAxyhoAsoAAsoAAAoALBQAALAAsoAsoBKAFAAAAsoAAAAAAKQoAAAAAAAAAAAAAAAAAAAAAABFgAAAAAAKQAAAAAAAAHOBZQABZQAACpQACgAAKICgAWUAAAWUAAAAAoAAAAAKlAAAAAAAAAAAAAAAAAAAAAEoAAAgAAAAAAAAAACUAAA5wLBQALKAAALKAAUAAChALKCkoAAAAUAACwAUBKAAAAKAAACykWAAApAACkAAAAAAAAAAAAABKCUSykWBRAAAAAAAAAAc4AKABYKlAABQABZQAAUiwoFlAAAAAKBZQCJQCywWUAoIAUAAAAWUSjGygCykWBQABAAAAAAAAAAAAAAAARYUEAAAAAAAAABzgAWCgAWCpQBZQABZQABYLKJZRZQAAAACgWCgxsoBZRLKAUEAsoAAAAsoBJYUCyiUAAEpACkWABRFEAAAAAAAAABFgAAABYAAAAAAHOAACpQBYKAACoKABZQABZQACgAAAFAFgoMSgFAAAAAoAAAALKAQAFAAAAQWWCyhBZYKACUQAAAAAAAAAgAAAAAAAAAABzpQAAUAAWUAAWCgAWCgAWUAAoAAAFgoAKgAAoAAAAKAAAAUlABLACpQAACAFIoAAASwAAAAoJQShKIABLAAAAAAAAABQhDQlAAFlAAFgoAAFlAAKlAAKABZQAAACgAAAAoAAAAKAAABQAShLAACgAAiwWUAAAAAiiKIABZQABLyWdV4e4a9nMat1011jNAAAAAAAAASw57KAALKAALKAAALKAALKAALBQLKAAAAUAAACwUAAACwUAAAFAOOuxMYznJr1O9r2ZqygChHPsrNp3RQAAAKEwx8zU9hLm44adWp3sNmalEsFAA4+3Gzi7eTrqiPPx7eTU689W3NCUAAAAAAABLDQAAACgAAqCgAWUAAAoAFgoAAKAAUlAAACywoAACwAoAAFgpjWribN57NnP0Y04u3js3bcM81ZQCg4t+GzU5+vn6JVlgAAUY5abObVt1bnoZ69mLOTs46nVo6IyEujLVs1NwzQGOWuzh9Dn6aCNDeIJQAAAAAAChLCA0AAAAoAALAoAAKAABZQACpQACgAWUllAAFgssFlAALAAqUAAAoJr2yzn6dexdXn+rpsbZc1WJkwzFg0bbbNWwlUGOXHZ13XslWCgaN8swziWwFgoMMqAAAoE15+d3mQlgBSAAAAAAWUS4gGgAAAFAAABUFABUoAAKAALKAALKAAVKAAAAVKAAAACgAACwUACABcM8a0dOGYEAQFA5OvGxkSgUCXGzh7vK9WgzQFgqUAACgTzuzTurZDNFJZSLAAAAAABLADQAAACpQAUgAKAACgAAqUAAoAFlAAKlAAAAFlAAAAAKAAACpRLgZAAoAABAwzKAABYFALPP7ePsqjNAAUAAAAs57lqroGaAAAAAAAAKSUQGgAAACwUCykWAFAXEoBQAUAAFAAAFlAFlEsKAABZQAAAQoFlAAAKBydfLqb8jNWUAAAYZyzy/U830S2WUABZQALOHr5eqqM0ACoKAAALMOXt4a7BmgAAAAAAALABAaAAAAAUCykWAFBccoAAUCwUBBQVBQALBQLKJYUAACwUAAEBQLKAAAVKOfo5dTpunGOhyw63JlW/DDMwx35HLOunn95KssAALBUoFcm7HGzeM0lAAKAAALHB38Fdpc2AAALAAAAAACA0AAAAAoFgAsoAssJZQBZQCgiwFAKAAUAAsBZQAABZQAQAWUAoAAFguvO2aLuLhlQspNefnWekjNqUgKAABYKlArXz9XHZ2DNAAAoAAAscHfwV22WWCAAFQAAAAAEArQIAAAFAAALKAAAAFlAKBLBZQBZQABZQAACpQABZQBLABZQACgAAAoCUqWnn+hxWdaXNAAVCgAAAoqcXbxWdgzQAAKlAAoBxdvHZ05a9kQKAEAAAFgAAgAaEoAAAsoAABUoAAAAsFAAsoAABQAAUAACgAAsFSgESiwUCwUhQAAKEoLKa+Xf428+r0eH7ktGaBYCygAAUA4u3is7BmgAAKAUAA5erRY3c++AUAAAIAAAIAAOeygAAAFlhQAAUAAAAFAAsoSgCygACwUAACyhBQAFEAAKALBZYVKAAAKAU1bSaNwoQAAsFAAFLCOLt4q7BmpYLKAUAUACNezA5uvk6yBQAgKCAAAJZSAA57KAAACkABUoBQAAAAUAACygAFAAAsoAAspALKAUGIKlFlAAAFlAC4lBRQBKkYch3NeyUBZQAAKAAcXbxWdgzUsFlApZQQoARKOHs4u2gzQoICggABLAAAK57LAAAAAACyiygCWFAABUoAAAsoBQJQAsoAAsACygFBiQtlFgoAAFlFlGOWBbKUGnj6buYdWnfHn7+fdZvzxyzoIWUACgAFlJxd3FZ1DNACqBZRLBQBAODt4u2gzQoAIAAASwACgjnKASygAAhSkoAVKAAAAVBQALBQAUAhQAUAAAACygElCygFQUACyiyjHLEWUqWtfP2Szm36N5yXerDowyzaIAWCigAFhHF28ddNmWbABVAABUJUoBwdvF20EoAAQAAAlgBZYAc4AKlAAAFgoAAFlAAAAKABYLAoAFgoAAAKAAACpSAWCgAqUAAtguOWIsFA5OtZp3WBMTIS0ABVAAAgDl6ues8+XriBQAKAAEAoOLq599ZCUEBQgCCqiAAqwAOcQAsoAAABSFAAAsFAABQAALBUFAAAsFAAsFSgAAACgQUCwLKALBZYAUAFllYaN+izpGbUVUxTY04nQ5ZXXOSHXhozGO3M5tHo08r1FhLJQAqgABABTmyStwgAFSwFIqSLFACgAOcQABQAAAAVKAAAVBUoBUoAAKQFAAABUoABQAACFsFBALKAALBQAAAVKWFYcHo42cd7KcV7ByZ9I0Z7EYZZCIKJagsKSyAKgWKoAAQADVhnrroSwIoIAsoItgAgAAHOJQAFlAAAAFgoAAFlCCpRZQUgACwoAAAKgoAKBAqUSwqUqUgKAAABYLAoAAKgsKAAoASlOTK4V0jNCgIAIAWKqUBAAAMNHRzV1SyAAUEBQQAUgAAOdLKAAsoAAABYCygAAAFAsFAAABUpLBUoAKAEoAAsoAAABQAAACFBUoAAAAFALBQlMDDn0ebufR5atuLUKAAEABQJUoAABOPs466xAAAAACwAAAAc1llAAoAEsKAABZQAAABYKCoLAoAAAAKACwFgoAFgqUEKACkKQAoICpRYKlAAAAoACgWEnB6AixQAAKiAoAEAqUJQBxdvDXYIAAAACAAAoBLDnssoAFAIWBQAAAUAAAAFAAsFIUAAFgLBQFgSlSgACwWWCygAAAFBALBRQRUFILKBQAFCCFSgEQUKABZYAAgACwUDg7+Cu0QAAAEoIFBAUAlRzWFoAAAAKAAACoKlAAAKlAALLCpQAsLLBZQCwJZQCgAAAAqWgAAKiAAKKAAAAoAAFEaN/nV6KcsdN83ps4OjD0a1b+DuzaFAsEBQQABYKBw93DZ13HKUFBAAAgKCAAoI5gtAAAAABYFAAAsFAAAsFAAAUAWAABUoBLKAVBUoAAFLBYFAAAABUFAAAAsoAAsqOTr0Vs07oYacNtmE68ZdXSRZQAAAAAAAso5erTU28vVAAABAsoEAAABXLZZVlAAAAAAKQqUAWBYKAABZQABYqiAAAFgoICgACqAAAAsKlCUEKAACywqCgAWCgABLjQBKxMphmALKAAAAAAACjHIed3eX6lUQAlgABQBAAAVy2WUCgAAAAAsCoKlAAFlAAFlAAoAIoAAoIsACgCgKlBCpQAACoLAWUAAAAqCgAWChALEKlGrbrrm7OPsFIiwoABCoKxxNjThXS5Idk46dOlsPN6euixFBcbABYKAAAIA5bC0AFAAAAAAAsoAAsVUFELFVBQAAUAAhQAALEVFVKAAAUAAAACygAAAAAFABUqAQLQjDPE5evzWno48W2NmOWw0OjI5Z1043YOR1w5r0DVnlYxtgBSAEAsolhKAAFSgACWRzWVQAKKCAAAAFlAAAoACpQICqlAAFgoEsFlAAABSFAAAKlJYKAAlAKlABCgAAoAASkEuEuWWndZAJQAAsFAKc2WOFdSWAAAABABYAAAAFgqCggOYS0AUBUsAAAAALAFUAACygAAFAAAsolgsCgAAAAsoAAsoSgAAACwVBZYLBUoAsoAABKRUWAAAAALKLIateOepvsuaAAAIFgAAAAAKQAAAHMlloAAFloICpZYAAWKAoAAAKAACgAAWCywllAKlBCgAWCkKlABQBAoAAAAAKAABYKgoJYKEAgKAABYLp3DwtXveZuepVxZUKgqACwAAAAAAFgAAA5bLLZQAFLEVKCAVRAUABUFSgACwVKAALKAAWBAUCwWAsoAAABQAAAVKIFAAABUoSgAAFgAiwVABUoKRYAAJQa9B1wAAAAAAAAAAAAAAOYSqBKAABQAFAAAAAsFAAAAoAAVBQCAoAAAsoAAABUoAAAsAFAAAABUFAAAACALAAsoso5t/iWe3cM5dWfm91btWyHLp7uGz0UuaAAAAAAAAAAAAAlkcuWjeLKohUoAFAAAVKAAAAVBUoAAAsoAKSyiWCygAAAAFAAAsFgUAACwVBUoCAAoAFQVKAgKACAAWymPH36LG3RvXj2XWnVYl0ef6GWph0GaAAIVKAAAAAAAAAQRyZyrSAAFS0CAAoCwUAAAAFQUAACwUAApALKAAAAAAUAAAFQUEsoBZYAVCUhQoAAIsAACygAAFsF5Onjrn9PDaedl3AIAAAASwWCgAAAAAAAEAOa45SgBQBQQlACgAVKAAAALBQAAAUAAAAFAAAAAAsoAAAAsCoUFgAAAlAAlgooIAAABUoBQEFa8K3zlHVjz5GendmcGPpE4+2WUQsAAUgKAAACWUAQAPO6eXqlACgLLAEWCgBQFgoAAAAKAAAACpQACwAKQqUAAAAAoAABSAoALLCWUWEoFgQWhAEsKAACgAc/Qrz8+2nPs2DDKCsMTc5sTrx5hvwxzNXJ6Q4+7HKAAAFlAAIsAAAAOTOWUAKBAAAWhAAUBZUBQCUAFCCpQABZQlALLAAABYKAAACgAAAAUAS42KAsqUAEBQAJQIVKADEzcMrtx5thZszNE6oct6Roy2oxyAAAAQoAAFlBCpQQFIAADnatsAoAWAAALBQAALBQqUSyoAAKAAoAAFAAAAAAsFSgIBYAKoAgAFAligiygFgALKJYLBSCygAACgAlgSgAAAAhZYVKAAAWAAAsAAAHkd/H2QCgBYAACgLKgAAFSgEsFCgiyiWFCgALBQAAAAAAAUIAAKAAAAUCXEoFlAABCgAAAAUAAAAEuJQVKAAAJQlgsFAAAAAAAAAIc2URQssWVKAAAAAVKAAAALKAALAABUqgAUAABCUAAKCAUACwWBZYLBQLBcbBQWUAJSAoAEsKAACwKgpCoEoAApCgAAlgoBCoKAAAAACUEsOa8fYUEBQAASygACyghQAALBQAAAALBQAUKACQCwUAAFlhYCygAFQAAUBBQLKJYAAVBQIoAABZYAUEAAAABUoQUEAsFQAVKAAAAAQAR4Hr8fZVlgBUoBKhQAAAAALBQALKAAAALKJQBYCygEABUoAAABQFgAAABYCygAFgAAAAAUAAFgAWWAAAAAAACykAAAAABQABAEWAHOKAAAsAABQAAAAWCpQACgAAAAAAoFgoIABZQAAACoLAoAAAAAKlAAAAAAAFgoAAAAAAAAAAAAAAAAAAFgpCiBCwAOXLyPXoAAAAAABZQBYAAFlAAKAAQoAAAKACoAAFgoAAAAALAUCUAAAAWUAAAAAAAAWCpQAQoAAEsKAlAAAAAJZQsAAAKSAACD5z2+PtoAICgAAAFlAAAAFlJQAWUAQFlAAAKlAAAAABQAAAAUSwqUllAABCgWCoKBLBZQAAlAAAFgsCpQCAAAAAqUEKgAWZCWAAQAAABAc9gooAAAAAABYFlCUAAWUAAAAWUAAAWUSwqUAAAAqACgAWCwAFgoAEsKlAAFgsACpQCWUAAAAAWAACwAAAAAAALZSAACLAAAAgPP6PE9sWWgAAAAAAAAKgoAFgoAAAFAAQoAAFAQqUAAAAoBCgAAWUAASwWUAAAAAAsABZQAAAAAAAAAAAAAAC2UgAglAAAEsAPnfa5ukCqlAAAAAAAALLBZQACgAAAWCwAKAABYKgqUAAAAAAqUIKBZQgqCwFlAAAAAAAAFlAAAAAAACCgAAAAEFlKBLIWAABYKgAEOegFAAUEAsFAAABYCygAFSkUSgAAABQAAAAAALBQAAWAABUoAAAAABQCFAAAAAsFlgABSFAABJQBUolhUoQALKUARAAAAAAIHl9vhe4UUABUAAFgUEsoAAsFAAAspLBQAAAFCUACFAAABUFAAAAAsoAAAAABQRYVKAAAAAALAAABUoBAAAAVAAAqgQIAAAAAARYfO+1z9FWBSFAAAAAsFAAAAKAALABUoAABUAFSiWFAAAAABQAAAAVBQAAAALAAsFAIVKAAAAAAWABYAAAAAAAFsRUAAAhUoAAIAc9loAAAAAAACoKAAABZQAABZQlAAAAFlAAAAAAAFgssKAAACoKAAAAQoAAAAKlAAAAAAAAAAAAALAAtiAAIAsAALAAEPM7PD9uqBZQAAAICgAAKAAAUAAAAAqCpQABZQAAAAAAABYKAQoAAKCWUAAllAAAAAFlAECpQBLCgAAASwWUAAACKlABACyiAAAAgPnfa076AWUEKIAAAKqAAoCCgAWUAJQAAACgAWUAAAAAAAAAoICpQAAACgEFlAAAAAFgoEBZQCAoAAAEsFlAAAAFlglIAABYAACAQ0XG1QAUAQAABUUABZYAVKAAWAsoIVKALKAEosoAAAAAASgAAACygAAAFAgALKCFQUEsoBUACwUEAsoABAAAVKACFIUCxFgCFQVAsABAgf/EAAL/2gAMAwEAAgADAAAAIeNIBNIKAAMoPvvtsq+0moqlJGG5x6XTmuqkxoOlkfLPF/iW5WUT+ax547nvAXcdeHKEOyXinKxB/OFOLDJDBDDHLjnvvvvnhivttgBNLs7Wx4y91zyaktxni7z3277/AL757zCCzDDCQwxyw1ue+HCiKDDDDDAAAwwQQAAQooo+f/uP9F3011212l320xDDHECDDDDDzgQwwwwwzzwzzzyxThRzxxh9kncNC8NNucN89/8Afv8AgksjioggEMADDDDDDDDHLDDPMOPPPPHPPPPPPPNPPPOPPPPPPOAEPPPLPtxa7zbzzzzzzzz397zusvvutrvjjggggktqlPPOPPPPPPPPPPPPPPIPPAEOIPNPPHPPKAAPMPPAN5ddTTSwwUwQwwww0ggggtqhvvqlogggghlkspvvvvvvvutvuvvvqglPPDPAFHPPPPPCAAPPPPABmZSgdff6wwRTQQQwggggkggvvvugwgggthgggtvusvvvqtuglqgggmvvvgggkssNPPKOEPPPPALoVQwUcffSQfdZTQQQwwghjnvjtqxRTQglkrihjvrgthlwkptW1C7Wb/furhjYbg2QtAPAPPPPFOhZNKQRRfbSWfieLXQ9VfaY5wwUqef6QQljV4WuefljLpV8rvPNJYahrlivnwktfkrSgADPPPPAP3oI6QfQfffSdGLY2D2W7UEWzsBKQsFy3li2Kavt/hsUXPlsqsqqk/weNikggnvjlzdQEPPFPPVR+rk6QQQffUZeU8eSYecc/nvPGFLZUhQYkqnutvtvklnkIkikhqggvo/Lvggrvvvq/wDoBzzxzAFVfLv+EEEF3033322GmE0MJbb77DnkEUIIII745b7LI7JLabaoYIYIL6ptgACgLKbqIJnTzTwgABxtg+MFGGn333333kFCeXo77L74Tw8EMIb7b7rb7777oIIqJLLIJaop7qLwgCAAAAAABTzjzgADyiFVTYEH2X3/AP8Af/63ff4HfCMCPlfbLwl/4Kp8RusvvogggAAAninrgNLAICAADAADAAFPKAAAFPKAE/MgQYAuvvsvvrsx6WWD+wxVhQUTPECxzakgohqvgoAAMABPPPOALECAAABPDAFAAOIAAAAPLIAC6dgQAAqvuggvkvvgsstrhikkmAggvvvtnvnqFrOFgBDAAAFPPKAOAAPPDPPPLOBDAAAAAAPPKIO3DQQggusqgkvgtjggglvurigggggAlvvvvKAFNAFIPPAJPPPPPLPPLPPPPPPOPDPOFKAAAPMAFOMMwAgggkgggggvoqggvqhvqgggABDgPgIEAAEAAFPPPFOAHOPPPPPHPPPPPPPPPIPFAAAAPAAFOjbQkghgggggggnvrglvolnqgvAAPPkPAAAADLDjvPKOPOEvKPMMMNPPPFPAPPPMPPBABKCNKAFEQXwgsvqghigghvvvglnrnvqggivoPKKABDHPPPvvuECNKgkINAADCPPPEICPPKAPPPPPOIBNKEAChAggvjqnqggslrgglvvsvonvvvvvvIOGsvvtvvvqjrgnvriMADPKPMKAAKKOPCFNPAPPHGIPHHO0gkvvsrsqgnjhukt9svtugvohBWssggqgtqlgtvnvtvvslNkGPPPMAMBAKKLALEMPAENNKBNPPF2gglvjnurgvolqghCy1MOhMmq6Bt011riAFkkhUPEuBaEb9qEPPPCAAAFKAAAAAAPAAAAIFFPAB6ggkvvvvvosggqlrYrzt7Daqv5lKZ3clh/8qjO44b4BUID1gHPPPLPPLHPDAAAGLEACELFPFPFM0AgvvPvvugghlvgvrmovrhqokZAiIktFlvvLHjMvmAvjikjHPHPNqPPPPOPFKhvPBgAlvFJAKFAgClvPPOlvgguNvqvvrgvMlrkulnvglfVvvaQtvvAggttogFPPCAFKAFPPPPHKvvvutvoggAANFDIKFPPPPFvgAAtvqlvvlvANOlinvvPHfQXfKEPvIAgEAABCNMMgAgghjgNPOPPvvuogsjnqiPEHBDLHPPIEdPAgAHPguvvvgIFKFPvvqlvfQVagCI8CAAAAAADvhvghvgvqglPPpjjjjntewwkJlCOBPPPPIAAUXSAAPOgvvuhigFIFvvvqmvfTVQgsigCDjnigEOktsrlunjutqvvg+Fz7LOvwRrlVIIFHFPPIEbTfbAAPKvqmDqFYtqlvthui6AgUVr8nusJgDkbALrU2i/LCohLot/sTtXn+Y7fY0NkDKHNVPHKEVfffQBPgvqpIXtw6JnpseSs7SrZKp/l+p4xHsA4qq9azwSIvTzbf+8rrnvtugglSgHPIPPwABQQQVfeRVOFFqkIyAhalvkiMFGYyf31g6tU53+wMJn7slnreQigggoEAosPvgvggggvnPIEPPwAOYQQcfeQfKPEKggvnUbVolggqgggFPW63YTSRYRbfffAAvtnwqjgqtYAAEvPqgghggkvPAAPA/HfYQQQffQeYfOAhhsMfaaqlDimjjhOAafQXfQYZWdfeaQQliqhrkgslLDDDHPKpgggggvnjCKM/fffSQQffQQQfBpLL551NBODupHplJCPqfScYVQVaVcQRQePIEPPDAAFPPLPLPrkvqgogslvAhF0cffbQRfeQXQXFgZoZ0gvvtMpqMvZF/qBdYdYVQVeaYQQQTPAFEOLBAEOLPjvuKgvogigggiglL1effeQUfaQeYdWvFvy4jn6ru/BtiDsMBIdQQQUQUQaQQQTCIBGAAFEAEKNPvuvqgnulqgggvvnugQffaQQVQQaQXbQvafff6bEggFakmQVAVXTQQQQQQYQQTfPHAFIABAABDEPvvtrgvrlqgigogsqPaffaQQVYQbQdfbfaf6wYfQQRQaQQQQRXeeQQQQRQQTQfPPPDPDDAAAAgANvvrvvvuighqghggqvaQfaQQXSQfQVfcfQf6wwUaQfbffQVffffSQRTSQQffTUPPPPPPPAHhAEAggvvvrlvokvrgihngvbQdaQQfaQfQVfYfaeYRaVfQ/fbfQWdfffZQVfaQQfefPOPPPPPPAFggglqgokqtsvrgsuqghgrkfQUbSQdeQda1/8AvUGkFWlXVWk2n1Wn0H3lWlX2lGlWnTAADTzzzwb54oLaoIIILYL77766ILL6oF20He0lOsFesHe9OmMNWlFVW30H1Gn0H2lG132kF32hEAAjzrb7LL5777654oILb7775764476oH38lW0EP89f+tP8ApB9BVBF5VtxZ9BB999hB919pAp9ACCCOWqOWiCS++++++uGOO++++++++++qI9/7V/rD/vT/ALw/6QfwwQRbQfTQfQQfffQQff8AqIIXwoIIL7rIIIJb7774KJJL757577777776K4pBesFe8NP+tf8AL3/BBrBBB9BV999BR999BBF/iCSW9+CKC2qCCCeKyy++qCW9pTi+++++++6++Sq++rD/AKww161/61/7w6wQVfQUf/7QUfebQQU91pBicqlpoPgglvpqAtMkrgvt3Qe1fvvvvvqvvggnvvw63zw16x1vkvrw/wD8N3uMPP8AVBX9h1BBDO41MZiqWWrgqCS6DUBxvCZCWvV9D++++++++yWqCqy/DD/fDD/Sy+qW+L//AA166w9716wXSVSQwngm+LZomrs3pqarghZnrgoghtBQwvuuvvvvvqhlhog1ww//AI5f8oJbpLarP+tX8sMf/wDLD99V5DC2uCCe+U0+i+S5G+CVB++uKCCU9ye6q2u++++++WGqC3LD76+X72CW+KW/D3rT/KDDT/rT7xF9DCS2KW2+Ce+O2CyyuiBVy2+iCC29E++++++++266GW++/vCuiWWnC6S6C67DX/r3qWDDvrDDBF3ruCeGN2qW62t/qCGqCFRCCeOCCe9y++++++++emqqW2//AP1uonlkw/hrgjlzwvrlqlgww7ggw/16ogligaQzTWebKgsrigJQiuvglvvbuvvvtvvvsqgqglvvvgrvkkgqvuvgtuvgsuglnqwwlqghvuvggkrmcBKHTivgggrigLAggvgklvfoPuvpvvvgohqAkvvugkvkgogvqvglq76wvqgtvigtqsvoqtvggvvgmiBnvvpgsvvgCAggvigkPKCfPPvvvtogmrigvvqggviggtnrlvqg/wD4L74IL6IIK4qIu4K4ZLb6KKquXb56qL7zyoIIJ6IATyy3zzzyJboI76qoL775YJL8IILb5L6opaoJK4IL6o4JbLJbpa5YrbLaLSnhL764J6i24JarYIBD2+Pzz6wJKoKr6qoLLbr74r4YIJL4LL6oL4ILaoL6qqpYbJqJb7qr6ZYBCmdraoIJyDz4JaoCgQDGtz7x7yoIJb77yoIJ7776qpZ4JL4qrb6rYJJKoJa6qpZYeq4L76oob4KDmchaoIAACibb7wChSAEPz6BT4IIJb7z7oKrL77KLYoIIJ44Ja4JYIYLYILb76rJqpY4LaqoLIjX6ixL64AAC37L7wDzw0lHjwBDJKIJb5b5b4oLa64Jb6oILb4L655L64Jb74L774r64L4oLaYIZZ9WX4J7AAAHWjnzzxTz30FwAEAILw77xxxb6oJaL4Zb764IL4L7647b7K7b64qpbb6I5K6oK6JZL4B/YzUMF02kllb7wBT3nlIEEBTjPb7zzwL74JL774r7744pY777r4IJb5oL4IJIaYL6r765LJL5oj0EWW+dH45xb46wBDWnV4kT32kRz330EL76oLJL64Lb6o4qrqL7YIJLY4JYJ4pZor4IJLK54L745zzwDVEYLDDz76whHUFUJX3z3z33n10Er76oIIJZ6pL774KbYLL4q4pboJrL6oIL5YIIIIZYpb76pzSxVPnUzTz7rT0kEF1733333233XkGrb4IJYJLKoLb765Y55Lb775b565Ka4obYIYb4Z5qZrLKpBTxS1tTwDw6hB30klULnH32HPesV1Wob4IZ4IIJYJLbr5La4YL756b6JorLa5arbr74Lq5D44apBDwEWUn2DzwQDX3W1ULmGEEINUsHVO5bb774IIJY4oJ74rb5YpbZYLIqpYJb7b5iDDw6b4CzzTwABSEReNc+jRkQUX21W+kAEEEMEMNW9YIL77754JLa4IJK5Lb7IJ75YqqpY4oJbyxwDDhTwwDhDygBCmiT951EGkEEEHGkQMEEE2kMMNen6oIJb774YoK64Jb6oLqwLa5KYL4LLwRBDzQggRDzxQwDSwAD130tX2kGUEEEFXkLwEFX30EMNemr4IIL77544pb6pL6oIBT4KIBZ74IDQgQjzzwxyhDzzwwDywFU00xyHUHEUkMwB5Li1UkG0EEFOu774K7777r6pLIQzawwADwAAQBDy4whSjzQDzTyhTzzzjxTwlXxXcCighiARWvX0WG2nGFX0kEHcILYAJ4JbaoIIBTwjLwgDSwBSgBDTjhBTwizQAjQhCwSzxTz0Vbn1FX20Tp5333XkX22EU3200Hn4IDQpKJIL67wBTygDDwBSigASAADzygDiggAABSwxSyhCjDCiI1UEGn2mqmkHFGXX30133n332lYILagICoL6zwBDDwADQABSyTjQgQBSwQjDgBwBDzzzwADSwyCzkH0H303JhmU0311X3l33233kF5IJS4obwLzjQwhACwjDCgDQjxSxyhTzTwDDDwhwDDzwghDDxz2030nnXHII533330H0EFHX3WkFKIoL7zzwDCjTywABTyADQxSzgTzygABzwgADCzwAADzwwAADCHW1WmlP5Ij5X330EG0EEFX1EFduoYpLyTzwggBTwwhDzyhDihShTzDzyAASxwABSwwgFWjzwwgECDHH20OCe7FX320kEEEEEGkEH8Ib74jEXDywABTzwwDzyxDzjygDDDzTwATjwwChRTw0XTzDG330kEH2b4Ax6jGEHEUEEEEEEEEX3r7zzA0ETzwgBTwCQBDTwDDTzwAAABDyhCizyyRBzhD1X1WAEEFHUn1LqhI57eoVHnn0EEEGkF32LJDxT20EhSwBDwBQAABDQhTxzwQgADTzwDDDjwDwCiVW1wElUEFUH3woizgxwwSunn2kEHX3336oID333wEFDykCAhTgwhDyghRTzwCwBTzwAADzyBVzTkGH0GFEUlH4KzyAAbz32EWEn2kUkXnnGMMIIH1HW0EEG0BClX3kEDDTwDDzwDywgV13yAHH1XBG31lWlGUWkU56ADghHHHkVUkHHV3322kEEMIIH0lDykEH0kG1T2lUARSwBjSgDTzwGH3kEEHFUUGnEEXXlH32GHXHXXUkEElFW0EFXV3H2EEUcK0lGEHH0kFXn2lX2330hDQCAA0F3z30FG11W0GV2GkEn0ElVX3100U3F30UEEG0EU0EFUH0GFX0H0EEGkF2kVGFW1Xn3120FEAAH20EH1V2mnE3X0E0GlVFU0FlGHVX0HknHHUk0H2030kFEH0H3/wBV9JBlBB1999tB1pBxx1pRBdpBh1JR199RhBBR9dpB9JBR199VBVd9V9BBBR19p999919BBfD3/d999d99hR999tJBVBBBB999FtBB9pBV99NdBBBd99JRhBBR99tBVpRxxBBBBV9999h9R9tFDHfL99199999p1t99pBVBBFBV99BxNB1tBBRV99dhJB991pBFBBR919tpBFBBBVBZR9hBBp1999H/wCzwac9ffffaQQUcaYUaQXaQQfSQcQdeeQQVceVSaQRbVbTQVaQcSVffbXSQfffffeRTffVff8A/v8AL6PBBBxx199tpJB9pB999pBB1pVJBBh9N9BFtZVtBBVJR9td9JBpV9599t99d99991pBdpVXfDPD6zpBBBBBB999NB9tB19VhBFR19hFJB919BFVlJpBBVpB51999d9pBBV999xx1519dpEohDL/AAw1qi/SQQQQQUffVadfQQQUbXfQUdbTSQYQdffSTQaQTXaQYQRecffaQQQcdfQRUQQcYZffV7/9rz+ho0ffQfbQQUfXaUdScYRQYfQQVffffbQQfXffSQQUcdfQRUYQVebVffRQcQGUSVSDNPPQ/wDtf/MNqMFX03310GnX20EHWm0EEFXFEGUHX300HH332kEEEFX0HUkEEEFHyz3zwgCjDzQzxzDMcOf/APDDjtdF19999tBBF95BBl5JBBRN9JVBV9999BxxB1NBBBR1t9sAEIAQAQ4Uc0coAQ0880HPrDHLDDH7BBBB95x99NBV99pBVBpJBBV9pBBVpV99tVBBV9NhBBREwB988IQAAgAAQ8oAAA0c0H/j/wB/93/59faQUaV/fffVQNOQVcffTSFfaAADAFfffbQBAffQaQAKAAPPPKAHCAFAAAAFKAIAQn4x/wBP8Pf/ADx9pFDXT/x88QMU4oBJAc88A0oAU8AU98A8B9J9888AEgAAAQwsAcos8AAAAUoAsMBrL/T/ALwwzwzYfQQww/zPPFPCAOHKBGPKACKAAPAAFCAPPNKYfMFAHFKJDAKPDNLMIKAAPPPCPRRcZyxz37+7/wD/xAAC/9oADAMBAAIAAwAAABBjBywiF31091esN+FQTW1nyab5V301g+uc3auovobyz6026gKJzEuT7wvpc1jh4MxJKHSEj3dRn7CSlQC1X3X2m3POMOOMOutbhyjKYhql5h1E9N2skptDs/IY76v98La67AxyDgCBHX1GEyqyBtU+8SgDBCDDDwwAAgkEs8carqj13+c+8v8APv75lrSaC/8AzrvjggjiNLLFPLAMMDMQYUaRaYQdSenBPDhWkqqjlh/ww048nrvghrDDnvjksokvolvkojjojtsssvntvqvrgvtvvrBAPSQdSxf7QQfbQwKOEKc9/wD/AP8A/wCsNPuMKZ7LLZizwwwDzzywhSpYJr76YoIIJaLLb756L74JLqL7b6uNONetUE0H31XrF4EEvP2/3/8Azz3u++++KW6y2qWiCw884osMY00wQ8MAkYAII08gAW++O+CWeOuDzD3/APRQQdSQLRXPSUf69/ecWXc/ggtvrvvggtuvwostiuvvvCgBDtvilCkjlqhjDMIKFDDDEMEtjw1x7wQQVacSyegbTUfWVXPFsedQz/rmsonsiq+QjQlqrktusgEvngl/pqjA9Gig77oOEj5l4THoi/w/wQaVfVX/ABWlHXn2114l0B6rg6gEPYITubFBGlXarHLnr3m5KrQ6keT+oY45wTTYwIzE97ukjjf/ADBBp1pGyeYpB91B1pOk+CHFEsTcK1Qh3QhvQ/fiqwD5Qk62WyEyWe2yOquDX1wYKuyie+uzeyXvDDpJUUq+cdJFNVB9FE8kmGSdmpPGO4AcotJzq7euW+GeOa/S+2qIGameKS+C3VZ90As486/6JXjDvv1AAWDNBhV9d19N99htdJ1xLyqKCCwN+RFSi+uyCy5xTz2SuedFrT+6KSC+wTD+CEwk4s+SjDL/AC1/dUkb9VbXVVffdQQWQlZIn/hgjjkP9vSziijjutgVeceVfZYUcZcbDCINCf3/AM57+76odd+s/stcOkjnzgX0FlHvNGMO/b/X4rl2ZerGhl4eAwXIF/DHGFWF33sNNWHWHEctO+NuP/P/APzrXX/r3HvrDtpbAwV9c+GCCOCCGLEZN90I+5OJofHK960fjTdBJ1VVf3rzT7DDDHXTv3/frTDz/rPf/jDDD/XRhpQFmd84+WCG++Cuy+Ce+KmmaSWce15xFzLhpZrpT7J/bzf/AP8AsMMdcf8A/DDzfjDfH7zfHLDD/TxpJnjNd+++GOW+mC+KOD7/AKhrhyUYSRb/AGlU33+sPvcOt8MP9s98Mc9sMNPMNP8AvD7rzjHLXvPXDTB9Atn0++62u62W++CgrB9Bp5BBJBDD7x/FHjTfvvfrrD/DrTDf7/8A6xw46wyw7z/6x3y++/8A/wDDXtdnUD+uymS6iSy++z/vDpBhthBJ/wBz16b1wwy9808YQww+z+0b6/8AONPeu8df8Pv+9Mevv/tfcv8App86y++y+qzHbj/7H/8A46dbW9abTdRYw1ww884wwwVcex9/7TW49ww84/8A/wDTjj/frDbDPPDHf/HHpxby+qC6PrfrFdPrHOqDSjP1lhBBJ99vj7x5N91tXFdxRthBFLzH7XX/AM9//wCcvv8AbD3/AAyw78+69SRlvmv3878/148+0+hEsqi0nw4yiG+cQVQTdbVT2/xQZZ86y9k5w1y8wzx/067w7w8/w019yy+1aXVkg1/T3879yX6y6pRO77Onm46en6rdwW+jLbR4spUQOiTaK67ww+5z/wA8tcMcMMd/9eucuevP0VNJftHHG1X3E338PP1tqDmgd1sJOz9HDN1NdV1oaMr1C5Jbw4+M/wDrXDDTjDzf/wD800/47013y/wRRF6fawaUeQfeafUQRTXUbUf28jqaF3aURwaxY3ny9nfTSQc4x3/9Y7y9wxx61eU6uPrKC/5/96REHff/ANOWl0H0c320EG30/Em//fGEE2pYHGLrE1kf32nVWENPf8sNcsd/+88PNUEQhAQxzysP9u/ODvf/APTjpdD/APSXfbSUSfwy8YdYQRy4vtojy0/V5/f7zxxy51/SwQQecf8Af8cMUjxqYrL65h8O9/8AMvf7zfuL3p3fn9FRpV9DjrvLBB1pVK+WqpHDgzfzr/rDHBB5BpF9VJV9XzBgSSCymPDPO9FrXHrez/jf/wChti8/08TU7WywU78yQSXb07vnghTQbT90cZZTz0VRcWVeZT+ZQSQARfMhjjHHmKf6399la8wz7ksgpw91/Qa1E1PnSdaRZy35TDTujd9eEd6SUfHNyWF4qEjLcKWoYWoeGM3qqqU3Pbb883vK04xzqggnl+1Vaf3sfvfLkdY+murbjOgoQwbkwWAKrcj2UouUOEl33eYOLZpLEMopsslTn5zoqvs89tkvqhumi+y0cTFVHEibXZ1IgufwNO31UYT165dgB7LTbS7PEYc91juDPDgAPIPHDKKI3okrsgw+sg/z0uvh6106SQUQrhvb0w1cd6Q18jMEmzutgx7kuv49QUIVQTQerJ3/AOwIATz7jwhAJ4Iarrd76Mf/APT++SiX7PP1ziKOdLcNJ9zxrq2zX3f/AD484yx+rjnadRWRUQWYw8884wkGvPAAAEHDitiwtvvy19w/vqhh0ULv0zTHlsIkcl9ETYmAwz856w1/69ymvhwyx3/zw7wwx2w0wELAVANAMFPgLlbjlv73+x+1thtwQdhBgVxCXGG6WW8g6Xry49466y4636ovswyw3+7x80277cUR1OQXQHCAhhDOuahg/wBt+8P/AOSmKdgM4YRt8RnVBvQ40xpVnLDDDHvvDr+++z3fHP8Aw10w069/TRQVaIBENKHtkgIHUsg96/8A+tP6veK7U/vb7y4e2kOrnVarEMOM8MP/AL3Dj+OyHDjHLLDHLDHbT95BJx+TRUsGmCW+On+qDX73/rj+GeK+u/8AwKA4lgguvqggz+wz2+zw/wD/ALP+6+D/AAw8w86y97yU45fQUYQwiNjulvunvhvq817w/wCMsddar/P9MCwEO+94Jv8A/DrDDv8Ay6289/31qsr7z8ww04/we503fQbzT+qunpgkvmuovtp024wvww11wy446+0/2z49/Bv61w7y/wAf/OsMq6IILrsdusMMMOP+n0km12ONOvbKpJ44YJLr5K5MOcctctNcumEHmMMv++cNuooJsf8AXXDH7DDDqSqqqqjzDDLHfLD5Bh1dNX/jDD3COOCqSSeOCXWinXJvftpDppXJkQrJRjXPrjvDjX//AFw06x2otqtlhq0gwyy+dSccSYQQX24pggtukvnmgnsskg1gvW650/VDafeZRKg1ww/+0w5z0wx13/z4xgivqg7lg3aSTVaTVbQw3SRfzznmspgktuqlvogtrnwoGI9aNBLJUbFAAhwQUx+w91z6913wz9w0wwOYQUlyQQQfecRz3l9fw1x61unrtqoknotqgkosib6KP+TQdcebVHCEEv6Q8/716/w/x7/8/wANPoCW9EFb13c/WkN/6a7LMNfrKpcNqL4Yr7pY4YL660EEBUGEBSiqhCqgSzQkM+v9e/V29e+MecMMQwNqtFWGkJbMNesbK87dJK5ZLJyFZUZLq7574Z5ZWEFTRTQxDijivcUGxTX3SPCDAz0cOkPdtMpydClLbekELxa9c9KkenhcLgKqzgHloIapb5L7J7Z1U1ZDxBwB3yE9PGkEgDxTiigQgQGj/d+srDXfdG6JOc66EfNc4br4bq4KJLojkYp6o6pLJIKLKrl3zwTwTc+pZv8ArTlJJMVoi0IE4UsM8TjrzARZvTz/ADyIvnyxh0vgt1gsriutqFcXuqolvjggvlquVf3GllBUSFi069y6/AHKBACWNLKOJBD+11PbWy14/wBaL7KNc56b7548tKIJYrEP7r6IJL4orprqkMNa5fuP/wDm3TvzDFyAw86Iv/Q8wA042+YoR7jTgPu+ua1P736CWZSj/mOGOiVx+O+SuCW6iOqUpLCiSjvnX/SWTTPHLyMV1HhrfA88FVcA4Apf/rfiHJ5pN5KvXOGa8WDPG+WCCRIy6GO2CSqOWC+/rD/HXnnTnD/XvXDj7DXP7T5Bq+/7r/tht/jzvH5CcM0HL/DX+GK0bDD+SSuq9tE+W2mCGq+eG4XvLzTD/wBUUz3w89w1/kvl86/y9Xfy4z1Sd29w/wAvYM5z0P8A3nXOe2A3DCCCKWsUPD8E+uCSieyeqL73DrD1VJBxLjPr/rWC3/D/AP8A8OGNcd8kw/8AHHHLfjySZALXH6eS48ZGCCmiEY0RnsU8AeKGqu++r3DD/XRtUFB9LXHXrLjDDnnzXHrP3rzpB7jvXfLPbnYXEvDPO+y0tNW66KCQsBEi8MCQ+uCCq++rXPL7/wD3126w719z/wCtddPN+9cOvv8ArTRNrDXvrHDjUAVLnbqCWgc8RaCi0gE0NU/+4iEW2CWOqADT3zx3/rDD3LvHfTD/AL200x8067906wxgx10y66/53u2P8K6gsPPKMXjnBAFIIbO/mKCvvhlvqAkw7zw1+4204y/4zwy706wx13w8yw0+38w83/z645z2EiZjpkrgEPJeevvEEPDSb7wKLDrlrlvlgv8A8vctMcOtesPctdcM9+/e8Pvf+MMPMOs9MMNf8Me/pXM3YaLAADl3tvyzyigH/ZvwnBLKw6YhiQvetOt9ccP/AHvfTXXX/vPLTP8Ayw731/296zxw4013yx1lEHnMyzFigum1rnPKBT+mNfQFOM9liCEPw/w7w883w09zy22/w07196/y/wANfu9c+MOsNOeMe/esirO6i5zfILzb46zywkF9wkTXGkRz22Hnb76v8+9O/cves9//ADfX3DXnfPDjDfLXfLDX/HPvfXX/AL2MMMHe0QhCNHvrCLSbSlFecPeNfeYYdXvvqv4g6365w8/wz26zwy/248wz306w1/y040//AOs/vPfaAiwHBh+zzz65jV333JD0EF0lW3FkXvLr4ZJb+8+NcsNe8tf88rP/APDXfnnbvLLb/HH37zPrLPOWso8onW0I80O8Eh1JJeAlNpRdvLX5h+C6+SmeDTz/AAxyx/72pxsg/wB+9PM9s88+Pt+/9fcce387bqyzBX1GW1ADBDwkF2f44VlH37uHf0nsaorqL4MOP88tePt8t5YqvdOsc/8AbT3rLXpNNxXbXxYQ4U08o1f6XJuUIF455VPiBhgFtBD5z/tf2y2CC+/fzvbvDXvum6yy+frXfDjrPb/rxldVNFhUMAEsQoAk5jOVK2x1V5953O6+IdRBNpPr/wD8Iqgtqtvvx+t57kq/6shpPi8qiw393/eaZUdSSLBFPFKFHLMFEbztPfaQWSaQVrki01XWcddf/wAMDJYIb4Lb544qpKKfeobzj556iJ/4KBRwRwhDwxzyzDzgxAChXlHuH2HTwz7KzXezwW2knUVH0FeMYL5JIJL6b6oY6hwqQzQxRTyxCxD4xijTQDRzjCigDCATSjxmmAl4B8McNdehq5WVnHknXnGkEFOr54DaLrIqoILyjAg7BgwizTCBCxjDiygBizyjhjixDBBQDBXGK1FyqI7NkClHkm0UW0lHEG00HVbbxhq4qZba7zyiCjQxxShRSySDzwBSjwQAhABCgARSxyzgxyjJ2EFVUBb1DXk213UEXGEnn33lfbL4qjICpYITzSwxBTBxBCgRiBRzzTywTgTABwSgDDhQDBjQxiyXn10f+YuXmU0302n0XG323kX7pJbiYobxYARwwgzyQgwyhRzxwCRyihCjwBADwhzwwJZgiwxBzGU0F1Lb7k893333H0H323nllXIaIoJLjDxAxQjSRTyjyBBwyCThBQCjDzTwiBQybzyD5bAyjDAxEm2nOJcmwULTn3n3FH01Unm3lceoYq7BjDhzTygAwgTyAgzChSgDwwDwDzgRwSjIQ4o/9ZLAQgEBw0NdLN28PZ6HH0EH2l1X1WEHv4aLYg3kyATDygDwzzQw4RDCiDwgwAjTzgbIyD7pZZcco4wWXGGGENN3YtKFd/X220EHXVX1WEWo7IAjA3XgAQjygDSwCwhBQxyjzAJbK6DAZZKK6YZ66bf/APT275xvDfCx/NJRKbrQNF51BBBxpRdu6Os0U9t90osQsAU8Ac8scI40c+GKCqcO++OOy+S2a6Hr/KXj/X/DWedoBQQeCO24V1RhBB199gRC28BxR0x1sQp0IIA4ueuAo46Wiq2GQoCyS2CS+iraavz/AA0y0xyxkdf4z9Wz/NHTXdQQRSRebT2E/tvQbTbUffRUMKaf0w1jCNsjgolhrms83+ov39zzh+/04617x60pTc0425DBRRdXfTXSUdbcfawwttQcZEKdfcWQbaNw91uqJlpitvmnvt348w0x3470334985z4192nimrjnPXdeVbdfaSYVcSdZz+rTbWQRQWdadUacQ7/ANPa5rZ549eNL/8A/nDfXvDPX37rDrXzXjD3L3HcZl5ld99tFFNVVpVBphC1J9V5B99hpFhRptDHDHjvDjS+7rH/AP8A9dP988N/fO9ePcfc8Nsd98NcOXU03kF3H2031kG30GnnMTVUmmVHEFX3m1Fnv889utMNOO99t89ve8ff/sddsNddtedvf+P+1mNUG1X0FnGn3331nUFWP+cFX1H10HWEVX32Enf9OMf/AP737Hj/AA//AMNuM/8ADX/zjTTnLXTvTX3ThdvNNtdBBpR9x5Zht0t1/nf3QhZh9BV95Zh1ppX/AAQx/wDuN/8AfD/PvDTvrDXLjf8Awy3762y/46281WYReQQUQTZfXfQfRPMPJvpvmFTyfQQQaQcaTadb6w3++9/y/wA/dsfsNOs/MMPvftfO+/8A/r/Lb7l1ldJB99199JFIwY4gCeuS3uP9pRNNJBxtpJV1rf3LTrDXfrX/AA/300/38xz+xw/6y7w5y/m44g8ZVfbcfXQeUeeFNIMIKiusurKuQQfbefQffTUVQ1+w64wx7+69xy1wy1wx6296w0649xy4ytmtuqNOMEILLCJCKAAEeSEiggulxxkQQcQQfbUUVaSfQ08752817y/zyw29y9/+z94zxwolilu7jolggEMCCEMDIPOLPDPPPruu7jp5d7UfQfbUcZQXYbeSc4+8lw064+w//wC5P8N/vd/ve457IJa5oKrYRTyyRQynSxBQk2n2ArK6oI748N2n03310G0lGXF1mu/MNevNNNfdr7I5Y7asPq444ooILao57bK4GXDH12nU1Ek3mXEqb5oLL6rYx1UnWkHG0HXmnkFUwYoJe4f4pYOppKLZMu7Z75K4K4qb6vM9ke/3UWlnl1X2Un2l247bLfrOKa6AAH1UUwz0wCiDSgCj4ooKa76oJapKoJa5ZKKoJ4oLK6c/7Lvku/0V3HGWFX0H0l1m4I77b/t8lbz0HGxSqzzjSjlnBSgxII4uIIsNfOuoL7K4sfYL6KoP+v8A/T/hp9ddpVBd9pVp9d8zqe2H7/V5ht8sBFWqu2wtVpNp114Y937/AFy6/wCsOuNLP9cL4oIPsMMMuP8AzjDF9J5RhB99BRp9RxE6Kqm/n5hNF9dVFO+2WNhVV9RXFdRz/wC6w26/9w//AOv/APDz/qaTvrDb/rPDDnRNJlJd19px515AgUMOeH9NhAEI/8QAMhEAAgIBAgQFBAEDBAMAAAAAAQIAEQMSMRAhMEETIDJQUSJAYHEzQmGAI0NicBRSgf/aAAgBAgEBPwD7qoBzmmEfTBGqzAeR5QEiNFHAqdIlETFvxZaJgFyoGaa2hZoATNMNSwOF+W5ZlmWZZlmWZZ4VNAjKagEcbGLtwG32tcK4Vw7cCOcrkYBGWzFSrmkQgUIKHaG7hsrNBiipcuMLMAqUJQlSvLUqV9gwPac9Ighii/sLly5cuXL9y7HgYPwit4RznaA/hBh3lcvwnvGgPvlHq94w2gh6VH7AITGWutR8gVjsOC47S4VAF7xV1GppPOu0AJMZCB5CBSxl0tUZBS0IbHKMnpruIyFaueEdN30+3Ag9AbxlRiBdGMUCMq/EXGWuaTKN1GUqaMCk7CEVwAuKmoxlUcgZ4b/EKMNx5H5Ktd4ZpPEC4UAG/OFSDUqEEdoVIq+OPSBZjaSDtMXoaLpFmahquOQu0XIgAMZ0bnU1jQRL+mopo3BlA2HKK2MG+ccgoSPIH5DltC98yJ4h01C11BkoDlA9ijFyWQKjCmI6V78L6AmQ84mzfqIaxmY/6oAbswsmqzzirWoR1siHwjGCaeRmIAXcag3IzxeYjElOKlRuLhYELyhZf/WZTSiuKbxxRu4GS7vtFKKTZniKRzEbIG3HENyqXFP+m/TX0MOkhoiZRTnomV1FarlmAkQknhZlnzX5NfIQtGYt1U5q4/t019L/AK6QmXdf10TwMH3FH7EEjpgjQw6bsGC10zB1ACZ4TQr8QgiBQVY+dKon4hYm79yPVUkbRTSTHQYkwfW9mOQcZhFoP3HStIAnh0yiZgA3IcBMaEqwM00RzhX66E0HVUGNiCYi6jUQfXCqA7bmN6qhOIACrhXHdQij7t4hqpcuKwCkGDIQJ4jTxWhYnc8FNGYXJYgmHkxmtLujc8UA2BPGN7cp4lbCeIYWJN8b9oLaRFyA/cBipsQmz7iV1WJs1Tl+E3UPMxRaj8JO0UgE2ICK/CsiEEmIxG34UaIgUDt+FD0j7BE1dFV1GoUVdzD9jRPbghSwKjVqP3i7fYYvUYqWYUXWPiBQcldowpjwK1xx+oR/UeGPHrmj6iCY2MBbB4hbUmMpWvJ4f0E94qFowKmjwXcTMBakTGb5DsIwIYzH6hG9R+8XY/YAkGLkC9pqtozrYImRraDeMF7HjiH1Q7mCr5xXQkARzbmZKCqBNJq+AP8ApmZTyXilahcBQ6qMUamoTKB8xUBRj8RRZEy6aFHaIxU3HYsbiDvG9R+8Xv8Ac4u/6jLXfgraTc7y5rOnTxJvggtqh5ExWK3UsjbgGoEfPsS7+ybezruPwsciPwLSdOqAE8caqwI79oRXlPva4yRdzwWipd/2ipasYmLULhwNZqLjvHRmMBC4jqDj5b3HQLjU95j9azJ62/f2oRj24FSKuLjOgkjooAWAjgBiB5VA0EmCMoCA9z5ApO3BcYOMsYEYiwOKIpHMzJj0HgU1FaHKOoViIoB34YeZqpmADAATGg0EmKuKlmX1ngDGy2y1sIX05CRPFI2EOVqqa3+YMrwkk3A7DYzUxFQUgs79oTZ8o2H2Cn0xQNRNTKbcSzpb4rgpIBryY9BoVMlA6QJkRFQfMxYhWowAEOYUoiHF9QAmRApocG/jUQRhbIJkxjkQIMCmp/460ZiUgPFwcxcy0MdCJQxiMtHhjcKSTHdXEYgqIjkETKp1ExADvwVyoNRn1AWOcBMRSWEy/wAhmMqCb6QNQknzDb7AOQKuDI1QsYMho3ws+RWKm4zFjcLsRUXKwqzyi5NJJqeN3KwZhd1zjZbN1Lsw81HAZByJHMQ5nuNmcgTxnveDMwhyuTvA7fMLE9/NiQE2dhM7W9eUbzZwB2jm2P2Q29xx80rvcy+s+bxuW3P7Md/sKPQZSoHn8MlbH2VkfdDrjeMNh2qeH8GMlCHE3KoEYmqgQmMoA3i7iZjzHAY2PbgqEgmAWYy6TUVipmUCwR39rHXXeZmoARXAUiaxpqeKAoEGRe3eMxsjgu4mX1QQHmDfKaQckcgYyBMSCgSJm9Z4P6V9rG/XG8ykEjynjqBFGEAd+AyETW13cGRuUdtTXFFmObP4Vqof9hD/AB3HvqrqIEZSpqIATzjBChIHuSoW2gFmeCT3hFGvJoPL+8Io0fMuK1J4DGtDnzMIokeXGaaZfWeCFWAWo1ajXuAFkCKAvIRuTGYr1Q7nyE8scyes+VKJFwFbIB7Q7mYyA1kxypPLgwHhqeK1qFzIVJscNbVXuStzBMcgsSJjyAciIdzAOLNYUfEJs8EXUah4qxU3D5L8roAqn593U0Y5Bbyo2k35BuJmABH66L/xJ7pXVEzf0/ronnh/R90x94fKNxMoph58uy9FeeJh7og+lpob4nhmeGO7SkE1oP6Z4v8AxEdyx87c8Q6OLZv17oGI2mtvmWeCoGVj0l5426OHc/r3jF3/AF0k9L9HD64dz7viVdN3MiqKrop6W/XRxesR/UfdwxGxhJJ59HHs366KeoTJ6z7wMbNCKNdDH/V+uiJm9fTHtagBBQsx7vmIRSj4h36GLv8ArpZvUP17srsBQmT0rc8T6VjG2voYt4d+jl/p/Xuytp7QsWNmEcujj5MI4pj0cnpQ/wBveP8AaPCppPxBjb4nhtPC+TNOMbtNWIdp4gGyxms9Fv4l/fvCuAKImteyzxP7CeK01t8zUfmG+qf4v/vvx/iHV/2j76osgRkAQAnvG5E9QfxN0x7mHIFdVf436YPutdNPQ/vqKGDRV1GocVbGMVFLUyKFbpY+eof299xmmmM089IY3vPEXlY5iMxY30sZphHFMR75fDeEV013Ey+vpD3RPUJl9Z8tSjNJ+Job4nhn5E0KN2l4x/eM4bt78u4jqGYnVNOMd5eP4mpeyzX/AMRNZ+BPEM1t8zU3zL9/PRYDwwfwoAkxwRiFjv8AhSnSwMbIHUH7Ae+eG1XXXB94x4wwJPB1AVTFIBgJKMfwfETqAhFMY3PEsEGUKtRjZJ/BkKjmTGIJhckV+E0Zpb4mgyl+ZaDtNY7LHbUdvwRTU1mFm+eFGUZS9zPomtRssYgnbpj3UCBB3M+gd5afE1jsJrM1N8y+uD/juf8AC3v/ANLD/pUfhY/wsE//xAApEQACAgAFBAICAwEBAAAAAAAAAQIREBIhMDEgQFBgMkEicANCUROQ/9oACAEDAQE/AO9exWmCxa16LxrGimUzKyjKyjKZTKZUZUUikVjKNoaa8E8KKKKKKZTMrFEooyGRGVGVGVGVFFFdo0mqJKsfreplMplMoylGUopFIopFFFFYVhXhp9FFFFFFIpFL0CS09Lnx6XPjFekS+OL2rXYN0J3vWuhtLBzqVCdjdFobFJPoTdsTtClzYhPkUkz/AKK62nxjLYZckhKWZNjlWKaaLS6G6E39mZCafRHWTwtdClZeFoTTxlb4FZPlDt0VpRG2tRwk7Ixa0sUPys+xq0ZRqQudejKZa4FHUSoy6lDhWouNx7DIkuUNXIl9DdISdEnwRboWcTlepOxXRl0EvyxabMr11FF/6QWrxYmNSrgak1oZXfIo1941h/Zbb+S2nwz+N/jtPca7DLqyhKt2XMdt8rb/AI+HtS58XW3X5LbhFpvanzvN0ZkXhf5JdcivIz3mrHySTaPjHQimpF/kyMtGOWjZBtrGcqaLL0szKrMyG6Vjegm2hcCU9W2Jy5F4ee/lV3hQ07RlTMqMiElg1Z/JHRC4HF1RkdU2ZEZb5MqFGvFzL7irK8jNaely4f6XaF6U+fS5c9g3Wy3QpNi7N2LjvJdhMcqFJ0y3lIu0sLxfAuMJSymbSxSbfGNid9GbVDdCd4MjepIXBIXC7yXYNWONlaCi6ZFUhivGQhkkyPBG7eP2R+8ZXQ09BkGN6jI2NWJUiQuO8l3MvoTwavGteliGrxa8FLj0t8elvj0K1ddEm1TL81fU3RnQ3VDlTRKdGdDnUidtIi2pClcmS4ZD4rpfYWixNMctVsti46XysE9ei8HJ5ki1i20RlYy6RF2h4T4IO0Sk8yHKepD44qNJlWjIZEZV/hkRSKRSOdOqXO+x/Y26RBVFlK1g10O0R4sTk5Ep60XVGYzaEXawXLwX2RkP+Wj/AKNsk+Bz0IXmtjtyE8JRtCjRQ0mRaHg42JUUNqmQ+I72q65dhSMiKMq6mrEqRQ4ocTIZBRw4eDizIhQSMkTImKCRlQlXVJn8a06uULhdlLyMuSHx6snZy7C9hPrza+MfG+yzMJiki0WhDIYWsMxYnY1ZHxb432QjqxxdlOzI8xlYlgyPGN6CuybZDjBcvxb432QWxTQsMqKRlQlSGxeLXf1r4xP/AMSm6QnaGxN5vJXWGddN9blTWGZi6ZEfjg7TbFx5Bj1FwMXHSuOljT0PokmRvBXeLI2lhS8k0LgcelLFuuitpPy7Fx0tdMNdmPL9Chsr5eUfXHrjsM/t5R8lllmpTMolXWvlsy+vKUVu/ezLzDFsvlbMuBceXk3aIu9l8rZlwLjy9IWy+Vsvgjx5jMkLYeyyHHlnyIXLFxsPaj5ZoRl1YtiW1H78s1ZVbT4FwtmOl+Y+8bLLLw1KEq2V8vMUUyiit9fLzy53f7eeUtRbn9l56lu/2W2/QHyvOt00N0KYrepFutqX151kuDmimLjafBHhelMjx558EeFtW/8ADUSrzzI8ddFegvYXPpcWnL0pqxQp+mZl6PKVVhF3Yx1mS9HkvsXAtJPBxti49Gd4Vr6dT/0Xpf5GV/6JV6DfsP1+4V+4V6U36W/S3+4l+ll6XVfpb//EADkQAAEDAQUFBwMEAgIDAQEAAAEAAgMRBBASEzEgITJAURQiMDNBYHAFI1AVUmFxNEIkgENygUSw/9oACAEBAAE/Avy7kLnJp3KqJTXUCxqpTVhWBAb1S463vQ02H67I2sCwLCVgKwLCNn12BdTwqXYSsBWU/osmT9q7PL0XZpOi7JIuxyIWGTquwuXYP5K/T/7X6eh9Pb0Q+nt6IWFi7GxdlYuztWQ1S2MUWS5l/wDte5AqqKH5L1vKqsSJQKqbgqKiZeOK88QvfdVOKDtyxXv12WG8lDwareqFYT0WWVllZZ6IRu6LKf0WQ/8AauzSdF2WTouxyLsb12Jy7A5dgKFgQsIQsTF2Ri7MxdnYsliymdFltWBvRYW9FQKg8V8YKms5G9VRQrcQhoqIhD8jVVVVvuoqIhNuKbe3W/8A2VViTjvWNYijVAFYUWpuw+6h6LC7ost/7SmxyV4Ssp/RZL+iNmkPohZpOi7LIuySIWJ67E5dhK7CuwhdiauwsXY2dF2VnRdlj6Ls0ayGdFks6LKZ0WBvRYWrCOioFQc+5ocp7LTeE9tE3S4pt/r+VKF7bxrdv6IB1dFSX9qypeiyJeiFmk6Lsr+i7JJ0Qsj+i7HIuwvQsLl2Fy7AU36fRCwhCxNXY2Lsca7JH0XZo+iyI+iymdFls6LA3osDeiwhYQqD8o4VCtUWHemXVVd6qqon8RQ9Fhd0WW/osqT9qyJf2rs0vRdkl6LsUq7DIhYHr9Pcv05fp6/Tgh9OC7A1dgYhYI12ONdjj6LssfRdmj6Ls8fRZLOiymdFlt6LA3osLVQKgVPZNrb3Chqt6oqb1RUTuWoVQ9Fgf+1ZUn7VkS/tXZZei7JN0XYpV2GRfp7uq/Tj1Q+nL9OC/TmL9Pj6LsEfRdij6LskfRdmj6LIZ0WUzostvRYG9FhCoPcM4qwr/a83uWB37SsD/wBpWXJ+0rKk/asmT9qyJf2rs8v7V2aXouyyrskq7HKuxSLsL12By/Tyv05D6cF+ntQsDOiFij6LskfRdmj6Ls7OiyWdFlM6LA1YQqBUHvKQd0qTdJe4oFVRKyGLJYslqymrLastqwNWBqwtWEKgVAqfATuEq0bpShVURagFREfCFsHfKbpePhK28aaVVEoHeqqvwhb+JBUVFTeqKnwhbxvX+17vhK3jcjrdVEoFV9615u3eUjVBURCAVPbpNEHgrEFiNbiaeLLLgogdyBBudNhfS56DaLMGKmzXlLWPtFOTdLxyVReJATT8A57iaNTS8Hfzoe03VAQN+IKqz21oqg3SuowqFziKBOY5orVRmoutHCmHuhZzceG57sIWOQ6BRvxa7c7auav9VZ3d5wumH3AUZKBNlqd90opK0ouoE6d1f4VdykfV+EJri2SleUn8sopqqqqqryBWYWyoPFFLaPQKCuO6vI4x4krqBMbQKnhVVfFJT5nf6pmdqmPruKdosL8biCo3nAj3zqoRRS1w7lHJ3d6a0u3lSEt3IhuFBzmuFdFmhOBerOwBP4SoeG6YVYmvJFE6HD3hqmTj1U79EbSANFBvGLblGhWOoWWWd4LNqEW1FSoW9VKKOaQhopmncV33/wBJ8XcomSUFCnBxfVqkY+N7XFNNQOTl8sp1alDVUVERyWEGQp8TgNyis3q5AUkRNAsTi6qbonOwprqopkpMhF7pQE14dsyh3om6KZ50CZCf9loFmUQn37060UKa7ENuWuYEL6rOFabRNF3pD/CY3CEJe/hReBe6Ro1QNVJNhcAm7MvCmRAsQY8eqDDWqIWI43JraMQamjcqIMOZT0QCkixpsPVOYCKIQtComsobgKXhoFxiYVkMUkTcJ3KyndTwMIuwi4CipsljT6INAVqbWNWd1Yxyb+EqTjcvW88kPNv/APKpT3SoziQ3BO70lEBRO0UfmOKfK7FuQNWpgBcaonDLuuM1H0XaRjopbQGBRSY21ukOGSqY6ouw1kU7e6mxgMUHrtPkI0CkMjiE4vaAs17Bog+V3onvkG4qOMU2n6KKlLh5pU57zU3RTzUcKItMu9Mmo2idG499Mn9KJprsPFQmOoKIVNx0UQGY66gvoNg+IdFDukcOUkFWlWX1H88mdFP5jkVVVRQ5ENObW8n7qkbVpUPcGiBqnd2SqzWqrnowOruQi7qY7DuKdUnuosc1wcVmV0RgDtU6zNpu1Qsv7ioGFlUXp7HvOiiiLdbg3eqKR1Aohu2qBTeid/qiAhopBVyZptPkp6L7hO4JmL1T4iTUI2fd/Kax/VZTUGgBZTa1oqBYR02sIvKi43csPPdyhUW6Zw5S1j7pW9BUVEOUew5gN2EXOaChC1AUvLAUGgIgFBoGzTaLAT4Eo3ItJAQafW7K723QcmUzdKeWHnnldLRyluH3bm+1Tun5UpvnO5WTzxyn1Ad4XBVVfaZjBNeVKi3yO5WeQZrU3Qcn9RG4X0VEfx5laE1wd+XKjiLHk8q+BjjVAUHJ28fb2TzdRsiSrqeNI41oE2IAICjvcNsFYTcbq8y+VrFmvOgXaK7vVBh1VaDemyBxuOih8xyrTxW75DdTxaj2paBWJyNaqiCpzMkGNwKNGtWDfjQ0Vof6KBlBVPfhCdmEVVm9VNwqPgCfKQ8C7EE51AmzkuptFNeBIRcSmPDtut0xIaVFJ3KlZ/8AC46G6WYg0CE81dELUKJtpBNPZ8nAVIKONw5ubRHhCHCjH38RQ0UoNQgNyh1cpOEqM0Yi+swReAEH4pgpj3CoN+qDhsukaE95zqhfeO9d7L3qzaFPNArPIXVU0uCixjDVCeslLrQ5R8IVoIwlR8LVhAboofVFCBxeSsAaFHBWUqePu7lDXAK+zjoVaN0jrvXm5G1CZEfW4iqAIuKD8MpCpULKfp6IwDDRCDqVJDphQgceIrIagwDYkxk7k2EeqtAwvCj4QjomOwEgqSWooFC/AN6ex0qZG924qSPDQgISPd6J0OIb0GSjchF1TIyDcxuHYoqe0LW05xWEqn4LJGLF41rbuBUPALnRtKEbQstvRUF9B7btY+6qJ7d35CRmIJjcLae47dueLjp8KfUh3QVGbnDvfCf1AViTLn6/CdrFYjfJr8JzCsZTkXOR+E38JTuIotTmn4TOil8x17mfCdsq2cpj63FwHwn9RH3UFjRNfgv18D6mOE/Bx8D6kO4Pg8bdvFYT+BLgEOSxBY2oOB/DPmoaJ8klK0UTiW/mLUKwu/A2niam8I5G0uc0blFmyeqEHUprA38HmNvy21qrRwKLcwfmJR9t39J2p/AWgbwm6BEpshzKJ78IqopMalfhCjdibXw5uEqzcOyXAKqqsQVdqvgk0CZKHHwHGgTJ3GanpdI41oFJHRta71FwC+fhUfD+YdwlSikjvwFoO8JvCFK8hwVML6qSpaoqBqkFWqA93YL3VTcW1NwqDg2CaK0yOOisry5qe2QncnRvA1VmrTZdorOTVyfIQ8Ibcz67grP3XEJx3ImX0CilJNDsyNqE+MMcxDRYfVSu7+/RRyNOl83CouH8zahSZ34B8YchuCkDiQUzenUAQrWvojvaomPKaKC/GwIOrtT6KMd0Xk0T5quoE/DlqyDu3TvFFAO5su0UGrlNxtQ02pHUCjpqU6Sk+5MOIXCmYhcHgml8zhjamEEXTt/hQQvDq3y8BUPD+Zt4pOfwVBc5tQhFRYdyY0gm9wJCFn6lNaG7U2oTdLyKrIYpmNa1QCjBdJH300UCc7CEx2K92iiGqk8xqG09mIIWf+UY2iYIKWSgTBIVE1zRvR0UXnOukrTcuyvcakqOPANl1U5zzuooxRv5n6kPu/kn+YNqYEpgo24tBulFQoWYW7OAVrsudhTTW8x/crcWAql7GHOcfYn1QcJ/JTh+IEIGZyjaRrylp4VBwDwaexPqg7gPshzQ5NFB7N+oj7HwtbRWB3wtOKxO/pHU/Cr+AqQUe7+/gopk4Ly3wjorQKTP/v4CkdhaSoZMba3Ola3VYhRA12LVHgcJGqN2JoPhW4UtDvfeIXBwJpdjCBBun8sqzSNbGFWoqpDjlKl3QKzH7YU8mBtVG7E0G6YVjKsh7nhfUh9/3XUbddiR+EKsvRdppuOqzZRvI3JjsTap9ROFXcoX/ecnnulB7i4tChkLNzk60ux7tFaZcUdAoonOaaqy1wUWAskJwp0bnirlZ3hrCCp3ukaaaKyuxRi6XgKso7vhfVR32n8MU2X7mHknmgUb8Q8PNObS9xoE12LwymzAupt1os1qDwdjMOZS5sgcb32hrHYSgai52ikD4+9VR2nG+l7ZfulpU0uFPmpHVWORz612C2txGO0qRgLKKzcNFOw7nBVkduouzlu9qy5HaqOztY6qdE1yMLKUohZ2hZT/AP4oo8AVFRdmbWqMYw0UUQjF0zsRwhMbhbTwvqo7rT+ALqLPFUDW7OGPDc94CDgZq7GIIGviz8Csw7nhPNAoG1JN853KJtGeAZaPpfMaMKsw7xKJohMCabMzXEbllNa3vFNmOfhbom6C+UYZKp8owKx76m+Wyh7w5NFBS+0yV7gVkjwSG6XH6JkUjpaqSCrVkHCcSsfrtNiAdVFRtLXHkHyejdVHHTedfD+pj7P4CbopGtbHorM6rVJIdAo65u9HRBuNxWWBNuvKy3kpraDakkwrPI1WaX6KNrhqpJgxQzZiqpntIoo9zE2SrqKt2MVoq0QkBOxNwqEUbfLveEThas/vIGoT5qPDU6ZrdUJWkVTbQwmlbnb7QgU51FabRu3KycNVOdyOFhammo2bSXuOEIWfLo5RvBCncW0omcIRaCnxNwlWX1vkmDHAIXHRMg7+IqVpZJiCjeXXBgBrc/hKsx3m+Z7muHRNNQOTfjcaBMjDfEt4rZ3fgJBvqpnVZRWfc2iqA4qPfJVO0TDSqrWXYzBWm2WgqYDCoBhKOieC+XeomNaFaH0CLTiCbwKPzHIvOcAvRCpnVofhaoGGtVVA3TJul581TaKY0YKKKQYFaJaTBOxShBz29xNYY3NchIMKzAJCUZnk7lK92EJ7C5uis9GsVo3jcjA9wqonSaIbGBtU5ocE2Gh1Tow5AUudoVG8Nc5RvLjdNAXyNPRN02KBUvJUsu40VkbqbzEXO3ofgLUKwP8A6/AObVCIJ0ZruWRU1Ky+iFVlhPH3BTYy21r4EzcTVDGfW50VU1hCfFiU0dG7lFvYnhwduWS8HGsTymh0bqq0Ynjco3vAVJHKNpA33SJul8goaqR2JqZBi4lkKay4nBRwhoXZW46qeHFRMh3KWyYnVTLPostpWAUospCPqqKnhyPACibjlKAp4cjnOdhCe0MjKsw7v4SUVjd/SOp/DUHJFtUBRUuoiAVhHRYR02CKhNq1C4iqwNHMnReYT0UI758M6KHicrSd1FEKNH4R2ilFJHj+fYlOdl4CouBQcTvEc17H1CAdI+pQ/C2kUnk/v3C4VCLnR1Vn37/Fp+Gt4/5L/cTmtKDQPyf1If8AI/8AnPk0QeD48klChp4s2OndUc5rRyBr7X+qj7jD/HPySVfhRjweqY8EXPJCYd2/bqEDee9L4lb5YQ4KJxBwn2v9WG6M88U9v36qRxcaBCKQCtVn+nqqydEx2IJ7nNeE6cNTHhwqpZwxY91U6UnRYJHKJhbqbnaKIVeTsPkwrPTHYhcVmnOw3O0UTyZCNiVtHVQ09rfVB9kf3z8/mBRN9UdFGPvJ2ii1KtXBVRR5jalNdlkhPjdJ3uiiFWUTIg3YdootTsUxSKXCG6KynVOdQJznmtFAKyVRNAnz7irK6rzsS6Jmntb6iP8Ajnn5d8oTRQXBgBqi2qa2iezEKJjMIonRBxT20YrONdobn7Dqhyw4lF3X0U57qaSW0ChZgcpjuW7ArM2jjsSpunta2/40n9c/J53gkINptPahJ1WIXUFzmVWAnVNYGosRjqhGAFH5x2OJ3te1f48n/qefewmQHkXRgoREeqA8HAK1vkcmDd7XnFYZP/U/nXOomtqa+2H8J/r86W19snT/APhZOeG6p1o6BQy4/hC1S4GblY5TIypvkjL3DonhrGFWUan4AxitLyQEJG+JJHmO36KzChcNi1P3gLPwjRRuxNr7jfaAJMKGidWixSdE+WRvoozVvgPlo8BPdRtVE/EPElfhChc7ONb5Wuc7+FJFl7wozVvhnQqDV2w5rfVTubTC0KFuFg9xSyUCMX+5UZ7ovtXoo+EeBaB32p3lqz+vhucGhD7j6nRTlrZGph7ovtTwBRMmaGhNdUXzPwNUbsTa7T3UaoZ24ihvvkY53qmQtb7iedyBeX71JjLVBwX2jUJnCPAm9EeBQjXw5mF4omWZ49VPBTCVHwC+Wz5h3plmY1AUvtPAoR3BtPZjCZZY2n3Rhb0UvCoNLpMXopmy1Cj4fAk1XomCmyXAeBMzEmig8BzaoCngl4B9zkVCYzDfIzEgKC8mia6uwRt2mvdTOEeBXkrXulZ/abp7ucNyh8OfUJug8DMOfh5K2jgP8qPhHu5wqmtp4ZbXwDomV7SeStfCFHwD4Dd5/JWny1Ce4PdBcB4h3Jsgdp4z/P5KYfbKs/B7om1CboPDkFWlWMFr3D+fGf53JP4SrN6j3Q7e/wAQod20eNNxhDTkTood0jh7oHHt4gjK1ZyzXdFik6L7qbA7MxHxrR6FM4RyQ3Wg+6K4XrNajOFnrNf0VZSsEiyf5WU1YG9FQcjOO4oT3eSf/kD3QWArJaspqwN6Kg2GvB5OThKs/ryU3nN93u0UO6Zw5M6KHjPJWjzGIae7yKT8mVH5p5K1atTeEe75fMCHJt848la9Ao+Ee7nvDVKQXNTpg2gQO7km+ceStXAouAe7pYw8KaSSM6KzufPKK+nJjzjyU/llQcHu90TXeiZC1h3cn/5uSl4CrNw/Af8A5uSfwlWf1+Az53JFQ+Y73dUXPeGhZ7joEx1RyLvO5OPdO72seWlfgbVB8z9EyJ/qbpu/IGrugUCYN3IyeaOTH+Qfax5adtaLG1jUyYOumOCRRj/YoHkZfMCHJf8A6Pax5Z4qEyDqpGBu8Jpq1TsxuCwPAUNeRn42oackf8j3dK+u4Jgo1PbVCqaKcjaOJqboOSd/ke7CjmEpkVN/K2nQKM90clN5rfeBNEHV5K0+WVZn1ZyVo1aU3T3fJwlQaeLiCMrUbQ1do/hZz/RqkM7xSiskEsZNTyVp4VEe4Pd7+EqDTYqsQWNvVZzFntXaP4WeeizJOi+8VkuOpQs7VksWBvRYRyk/lqHg93u0QkdGaUWe/wDas2XoqzFYJeqyXdV2f+VkNWU1ZbeiwhU5qbyyoOD3hhCwhUHgucAga8zLwFQcHvu1cCgP2xzMnCVZ9PfdoFYyrPwcy7hKs/r77n8sqJ4azemuDhUcw7Qqz6u99PrTcpM8ArNkc4RqFuFg5g6KDid77ITbN97FzJ0UHG74Wg8x3wtHumd7/J5cbpz76EwL8N+IdVVWmaR8mBiaZmBRy4+Vdun99Sd2cfyhorVIWM3KGN7m1qo3He0qNgFocqKPzjTlZ90jShp75tI4SmcIVpFWKHgCr97cpRgeHJ9o3UbqoI8IqdeVtI7tVEas98z6JnCpBVtEDK0YQFDGRvOqLQUI2j05aYVYVZz3ffJFb6cy7hKs57zh79caCqY8PG7mGGlpcPfs3llWTg5WoWY3qnWhqeXYsTWb1Z3yu4h78k4CrLp4lVULEOqzG9VnMRnCzn+jVWYrDN1WS46uQs4QiaPRYQqbR97O4SrP63VCMjB6rtDF2kLtH8LOf+1Y5ei+8VhmWXL+5ZUn7lku/csj+VkNQhasDVQeKfexT4pQ+rUGWlCCT1chZupQgZ0Qjb0WEKip8E1QI5C0OLWVCidiYD8COFU1lOQtI+2VZfL+FZ/LKs/B8KOcG6qWZhYd6g4PhSZmNtFJG5noorTIZGtCbp+AHvRzQVFBW0F1PwI96gAfC7ntbqU20Aup8HPna14be+VrNUDW6V+EJkJd3nogZ9B8GuOFpKdidMHlN0utx7zVFwC7CCpHYWFQPYKuOpTXBw3c801Hu5zcQop46MUXCLrVGC2qg4BfMWEUJUgjG5uqswIZv56Dyx7vn8sqDgutHllWdwLBe6BrjUpsTG6Dn2ig932mVjWaqO17qAJp3K0RSyncdys9mMfr8InRdkBNXGqZExug+G8bUZmo2joEbTL6MWK0n0UTZq9484Pd1ViHVZjOqz2Izn0CrMVlyHUrIHVZTOiwhYQqc7Z3YowfdszZHcKybR+5dmedXIWdiETB6Kg26hF7eqMzQjaB0T3Tl24KF81aOHMWVuGMD3nULG3qs5qzx0Wa86BUmKynerlktWWzosIVFTmAKe7MTeqMrOq7Q1do/hZsn7V94rBIfVZJ/csgLKb0WEdPglxoFmzE91qwTu1KFmPq9CzMQiYPRYR8I0/GRPxsB+FrCSY/hayMws+FgKf9wrLLjaPhaw1qfhayxYG/9wmuDhu+FrHKa4fhayj7iHwrZ4cA/wC4UMwf8LWQ0k+FrIyr6/C0UYZ/3Cgnx/C1mdSRD4VszO/VD4VjjDf+4Vnnx/C1mdSRDT4Vs0ZLwUPhWNmH/uF//8QAKxAAAgECBQQDAQEBAQADAAAAAAERITEQQEFRYSAwYHBQcYGhkbGAkPDx/9oACAEBAAE/Ic6u2upKpBBqLB3FhoHoiRqFCQFwUw+g9sRzBPcabkERJhbYsNDLHYVQai6WhoNsY+2FGLZIlEmpZ0F11JEPY4xNshM1k+rAro2AtdsTgiXF4oSQthC2kJIycYqaN84t3EolDFDC7aH+JWDFjri7BEjVEkEBDKJIORW8LQQhEdKEMawmQFtXEpEfUTp1uhi5DSsJ6WOw3knkcLEJCthnKN2OeJuoTCugHpmrQtSTcRshbRC4hbaEjQStMNHoIXEOM4CFt3EtFUUtENpaHqUEJPDWREoP4jOE4Sakk4TgYmSHImeFCxWMfBsukkkwYkNxMIPoPaJrjyuT3IERgSjFHMwQzkHNxRhb/D6gIYTcco0KbcQcQthCXoEvQcA4BLCAkYJxHCOJHAim2eSQyY1YCxhYasbN8PPROE9SFgemDtibL1CXsz7BOUybUS6ydndBDb7COFsDaRcBs1Nwap4NHwiToEkJWHLa4gcZwHAQtvk1uRXIhqYNIFDH1J65+Ah7HOFvBO1idqE8J5QkKDcCdqJtxGbViIjQIaC2sEjLbCRpEvT0BbiOI4CGxCKeDzO4HdGCRQI4EjLcDOcJ2o5gnBNwxNFvCEtwcrFzi2BASdAk6RI0CRoEnSJWgWCHCcRC2IRTx+UQ/wB43issLD/8TGK5wn6jkYBBW0fVhI1ui3RbjE27ERbOBIaRI0C2ghJQQOI4ziOAhbFCnl8xVi5EyUIExhkOA4jhOE4zgOI4DiOE4jgIbEL0Cs/QK/skiExQFekQ7PBrWDH9JJVhQEEPpJrBnLE2FxCT0ipGKgWGk09I0LKQnQgKKPk599ohNO2aWokqxG1jVEPHUpIrlM5C1SwRcXxfaqdWWBjIkpypEbhG9IEe/Q2kJHk0SAlxsDLsknO+DcD7nzaWKgBZt2GkTXB3jEOzJRJBqNUhpBKXwUzwbgGao0KW8P8ApgSvFcFheUB8lcuuD8kJQ4GzXqMhElCVRS0mISpBBWtQpKxk0Kb5Ssnex4wMX5KbXaRmUi0yvWSQ370rBuBrdxOe3QMJc32miuJHZ92BD7hP0lQdQVQwTIhUYqJOsQySkeXUalUqoRk7i/IZkjRoKXsIWLKMZ7IE5VUbCsg2ooYl0VU4HN9zrbQ0G0SQ3F+gvsEoC3LDUosDiRoJQqwU4EU/sRouMC1Jlk1n6Rf3CMLAgaIyDsJUZWMg3hUKJhjrykjSolKkUaEOASsH8dWNwZRkl67LhqimAcTktKBMCUi5OtEndCELCRww5V6YkjTFYFLkmYP1InNSUhqpCUlEIajSl03z7KU9UlbMoCQpK7HwNXQvWgpUDLDAhKBUBS3EkI0IhEQMdsNSLswiSzIgey0LYKGSxA+3rakSLIaEvQaTQu0aPTBqRJK2DSWLMiWe2UIk/ULH2DCxq2QY+FrBCVAkJAie2QpIWBBSDiqK7wNcJUtRNCpnQUYzSai1YI5hOE5exKiSqVwqwTSTnqojGySlFStReGbFUqA03hRaV6lbeB0VajKXi2hbjJKMV3H1xUKlujnxSUskKcHhPorgdgsJ5jWuHERgppyBZY/XZSBcDQtvJq2+hYVzhQgMoyJ2LWoIZApFiMVw9S7WZTuOkVi5qCVAgs1k6yqrDJrClUuNs7iSsg3TQiolgle2CFIaO4iIjnv1VLCQvsK20I9hYUQ7gt9T6UzFWQC6ZIQU7hZugb1VEASwRQiDjYvHhFhYf1dl9xlJLJ2YKWSdhyNoKIvJELBjKQlQW2QkLYYgIsxuSNCElSxLph1ThiUdbmkbkIYVBKsShdXAQu4+qwaH2X3HgVlLosnEHboa5SF0PNuueZ/uFlVeVqDWTr+DVIEBuuYfzSjsyto8tb5X9gNLuMm6YqJVEICfHSkNoksny6SmTio3lUJlUWhLJzYWK2CZvm6GJZt7ziaxVili6PkiSdME5hRUv6Y2E+pMQ0cWDqQksGlwnPbZ+Bgqp8hI1wJKJhBiMxKDsUNbEkvIeUZVS6leaiwd5HAruJh5BB9RWGpwKeym1NxW6bB5riaIFI0cdbRXE0x7IuwfNBonqWRrhFHuL3cSWUCaanw5J+k/ZYX5xdQC0IjXcLBIoG3lP3CyCUkk0RWj0G7QXe0HTLYN2fRKRrpGp1GlJGL7ECf6E6yoz/QKVmP25I5Qk9SmYhQkqKbsL15FlDACjUhjDVJFunVHMPDqySFySSJJzMmhdqdsE4AhFg9ArsYZpkKUvuPesNqoaGN4SbdPpAsEVqYtpIeSWWFb0EPTJNJKlaiEQVgfp4pCHKi8CVayH6SNSoE9BIrDRiUeHOwrRwWyYkRn3VC5bvfsT+DBrLRakSuQkKiEhpMSLLxtaDFxsL4+nkRmD8LWQJyLUToT6Tgy2FQR6T1MEj0pXEYWifSUR4JKYwTt3fpNZVwLR5EMWqL0lUxQrnBpNENV6S0GhxF2F49Fz2I0Y0CaBjT6LdnYr+jhbCt1Ir3Po5o29f1rBZ97VjSpyLY0ajVqWz4alLlGBTb+Y/Pju/gGcHOSjayqpdGEWD4CVg3BA4kTTqsGyhUSIIX5gTL5CQrn4Cp8n8xAh5jMhyVKiiM7jK11YSMaI5RK7PpYkdn0voVIOSWnYn2P7hOg6KqHE6mKyLPzCz9BE+fgKLyfyCWJIhckkQQ5xFFsWDsURIR6sXTfEhOiNhWvTZAcWyzs2+hF8YmeohdxpSxeMwM3QkxcgoG23QIB1F0OjRASLRCQ2KSgVw2KS49HzDsyF8/AVpkoCMlEK3TaJAWXcKmBg60kYhYMbAq3qe0iwkRJw6eZJVI54LXiEnTcEj7j+otYvGvjVuqcaLoiiRJMZMdh4wSiHN6lEYMdpyOTWx/g8bkQiTQSSsUodRJREnK2NMDW5JZC6q1ciQixgQKaRxhYYalFNL1FrSFSCUldA9Te4klZi8VxCEI0QiSQ6kT73K4l4eE4K7hB6kTPSyKgpcg9U/Mxq+PkrcTSQmn0LYIBYNE3g6FDEp9EIbOiYhJYlZWLmmBlVCRWWDsK6TtQvmqvyIxZWMLCuroaT6Y7d3taE+CfrvkmkQllVkMSpLw2dnt6W/F+lo3yFhHPpVZTwQD0UsGYuuwsLhEvQTgQg8LCGQ6zQQkrGD/UgnhOtYaFkebyTjUjB4kOgnzWxbCUP/mSAyMIZwHQZrTdYJK3QySO8Fht2o5ceVpzv1pHbpCVSgoGkaSBKEGqFBogqGdRKqaF5VyT5xEPuJkasni1Azu2hcJIz0KWGoWZEmg+tYNH1kDPd9r8V8NYSM2Sq4ubtNwieEWCZhaSu20IZldetolRqLe8WKtjcIfEnbFdZVkQ8JWGxBEIIdh5EZQIrqwSToIapZCbFEMMNBqtg07hEexuxuK4JCHoPWsbS0MUhV7je2lQIjIbDR4M+yoiCJHI/YjPiilLUtBaSNiiYtjLUWLRqIs7EoTT6LxB2kySLja7kV2FoKtjz76KTCJPogZrLJI5mBSsGoKzRsM+U8dtzkgsDEpqMZK1EMlo4s4KTdiltCEj94zg0PWtiSmijVCBJLutwPm93AE89n8AzbQ+hBrtiQ6hKsKyNAqiw0UKCwnBcnCKVPU7QXiMkwakFtWISg0SqPMilJ/aRJwxoIp0OIUWFL5EBOK0IBid8EEsRsyA0NBGgQklIlZHOIWSeoIeq1ZE9Ol3Ua0Qm1PvoaQW1E6GgkR5xbO7GlJ4TlBVCmINFIHnB/AK/XGHtRMsmlgLcW8/GLpBMJsV7XFMxagui1CiN9DVMKq6rghRqH7o8CFWIpKBsSJpNy39FLCMGNnW6LAIh3ciriHbBJgWFFgtA5RrRA/RKBOMTNY8jdyG+hvQUHYRHcSI+zIRWFiCc7sJQ6ZKOi4gjDKmIiSIljvuAZNsN9qRIRdDZdCRWWKEil7C4XnGdvTYSFGfRAfgCFhiFxSRTAUJDQaKkjFCFi3SKoutrEhGNhAtpVGXpiIyKpqk0yPb1YCs4JaVyGgReK4eqmC0THlBYRJbElUdUFG1hFMJw2UR0KshCWSlB6qshxJRo1Cc0YnUQSiCC07bnJJdJFokl2/9Hs+giCYvg4ByEhHPwz2skq8QkDTYhENi6ISQtt0UgZkDTghKi02MLLNDMac6wUlLft0sRbHco9/wvkl1wcCP4JBiUZxgvlTue26ka6CImiEhfBLB2ZEvIcmhmkUJo2V+4yC0+DWMHJX51/C3VCmEvk4pb58sat33rSHbR91KlwrAgQkrxf8AWM86IpUgSUCpIkoMcxK6mrUQ7YOwsK5LdiVjDC5sRm0Dxf8AQxnrBCX6MVigT8CcledAgakUk1ojZjeolahhAXG6WCR4rCdOomTBkkOMgi4OlZYwQKjyni1d2z+aCSpYUjtrUZJhPqEdDQ4RGf5Iw2Bi5WNKqLG4LBPB2HTuwjKEqTCk7B84XJhE3Fios+LTO2eeZFMgCJWHEWBC0wog0kYhiWw5dN2K4eDsJLRO8SYQSEtBcNSM7Kqc0Fi2gkJ4ss54MpX8F2JEKt6tZGkE/UTkbLogvlchQmHTOVcYsPBTtIgWDcIs+Lon/wDUpnnhkWR1wINew7CXuY6KI5PXxeAb/wDD52IOmeMLK9/nhSSULxi96Wf/AMlDyz/8IPqfpB51+cvOvzl++H/4QdBOcVMsNuxoQvpBz3cIlzGYrChSsQrcfoBPrY3wacT3Gt0BazfoZsRR0nghvIjELcNKM0hziMlh6m+w3CbV/uLfuIu1sWCepgUT2Rvb/mP7uh9ygzVGyEPyKgK4+VdJsKEWJyLH1diqCy30UrtpgyM1QR0SMwhCazE5JWsXyET1FOnYRVOo8Jxe0giqa+RMTwPjSg9qPR3KFqP+JF2zSjKBaJdjmvQI9iIoISFiswIuqXAyQRUSSUeTNTcSglZfwoliUVpZ7CyhFK4Gs+m4Cc9bIkSuwi8QkLsxZsnLPxCkEDGUiIWMaRHRS79cDZPXsRkMk7dQt5Z+MKbyLDfbVtYsK62KVKmSqAb/AC8ugC+3U09ichFaxZFJZz6EiwVkVlib4efgNwE5Urtskljppu8lAsjML/Dn4DNqQsK7cCGGfeUoxWyKyrgaPs+HfgNKLt2FTz3qXlrI3B/tPh34A7Fb9Uoa9RAewlsxOKyv/eQnnJX6nk7sKZOEiPYiSzC0AmXZVcJAkDgyMzE2S0ArL41/OeJegkBbQlg3CG7SyaSsazJUGrLy5JYZ85k7xQnnJUu5LXl9e3FbJWMaE85JKvJ/J5esHYskz+jJJX58YTy8PLHkip1yZHkXkwk/sefFx5eIsV02YwlhBKFGReTyyDyvl9+QkiZJio+SX/Mf0FZryST9BTHnxZ3+f7GPCefFnfLyc2E6ZPqwOneRtCyLKB4tdlksFnNImpkqIlog4RQZJlZZJ/LBE+wlowjCq7kiBDyXsWSVH8sTqK0uQlAiCAFFmgiUeSVr5VYvknl5gQyKAROlCRh5JJUP4sktHllgkbQW8r5VKnJJkihwrLy+JIpaZJJ4Bd7JIBpXy9P8i/3JQ16iOpoR7WG64O6Qkr9J5JKXySeXn8Be6IbkGo1Bo1GTTQPScnsY1YEQ1AkaCUEjQhEZK8PKeX3x8lJ7MSWc2RKE+5SasJJwiBxkNs3bHmHGcJwELsXESkrNd/O060TZk/jLvnkrWZX/AAP+/ndX0kzYUGUzH8RYc+dKz6hlDUjjRqtiJ8Zi8f2edqaESdCUZi4f2+Rv5J2ZR9vkb+SZSufI3mKz0IV2Snll8ET+VY4Yq4aRIl6bqIsqRSciylKLwl/ILNDyg/ifzuCjkwaH0WWI8p5zV2GNOBMUUHEQrbUli1D9QZWl2MiPOUlfstEsGT9JO3xeUNrMt+KJ4ecruEophDMrP0EXI89S5icZc7D/ANzz1P8AHK0kWo1hOiqS7AcNR+eLKeCh/vtyiG5yDXoGsNGpokxsuG0gkKug1LnAnCJFbzc+qOlAlbjXqjQI06j0UT0MtmJ8NJqSYhubiBHQSNBK0IXU/OzKkPzbjF2NijVYgEdBxkNiBGWffXkLwaJVGLPpj0d4weEKBuvISHY8QYvBasL4g/BE0sLxBlDxB+Cok02ZYCklCfgLfj34KqcotmSFb4CzzR1LIvgV5v5TUXo17bsTnBwlqIkrCz3dis34NLZQrejOMEaPJHpwh+8acBsVJpwPGQkGeLS/LpkJVCsxp6KJLEGQXeAnrPZVfL1BqMHSnIoeNbBbDPxC8kr2Fi+p1FI2xjVsjkAi59I1bZIqwCWjhHXJK9ISkNF2I6m/jFA0sSoZwZNSvLZIbkIag9AbHSqBAVqMxKCXojgXSkn0LgghoFJUoCtepYEFtEdT3hPQalJoGJ06ByQzDG3iLzsYslHINYa9R6WBr1sEwLWqRaRL0IYFl4keIvsPJShougmXyjlZyRUDekRgtcLVbYlhLshHmD7DyEsxtrBtkZuCF5ZokSbJED82fYeQakSLrfwvKfpaqNLelmrnxB/AP4aJHiD+AeC9dJz6WZK9LMNelb96WSj/AMWJjafSyk9vQqyL6vQpZGAlC9KpR6EXpZZJB/z0s2AVvQSybKCgvQSyaxU81n4GPNH64X6WOQlqWL0q9ppLPSq5Qv8AxYmnb0siXpaOWjLXpWHlEWelVp6UeC9LJ+lv/8QAKBABAAICAgIDAAIDAAMBAAAAAQARECAwMSFBQFFhcZFQgaFgwfGx/9oACAEBAAE/ECfWvvQI4dzdx2j5hGMOskI5MMIsTwg51lUZTDospRBj8RYy+pT7l3+0IB9R+6PZfZAsHuP0l54pGq0F7BFeXygmoKJUuehF4JcJUHf8ZgYs7dEoT1Lmv1i5cuWxvm2E8jjE+oOi4p+54HiD4ydzH7oiPnwnRGJW2PUCQnqMSMb+oH0Zb0Tz9ofbJ36zoInWgN1LwukFL8H+o+uI7H9R7UXsQ6W1D/GdJX9wPrACF7mXoIZ1HHgJ6pv2RWEn0MiS8R5ng7heIXpGPKvMoudupDHm8GPPwTBLwZGDGdp4nSUvNxcuKCiJVABaRD3DPDEAT0hhZcv/ADUH7Y86hq2HcD6IioQZBi+IwguopQuDQ3Evcop5WTzssIJe08Bizt1dPxL8RY6VPKS46K94JI8YRX1D4bghCx+pEdD/AKJ7H9MPX/XEv3/jBvdhkayH9iP4kGDz/wAg8S8yXASYPsZ7c9LAR1Ag/wDwhlU/qN2GAesBeJF6sA8kPywAoMA6Eo+su6D4SPUCOlt6hYGq+YGkWe4r5v1DCEBKvqCrIa14x6yZY4I7XFM3Lgy5cuXBly4PnBYQMYHAVl+ZWJllQjZ7h9oAQFee4BAJB8SiX5O6L4lBHRQh+rKq/bEDufmiEV1B1CepXmHiA2D2QUin4O4HQhEfqUNkE6GD9f0QXr+uCdf1QQ8UTD9Uq4ABYnpIN9xPc9xYh9x3ce8Q94hHNRwQAujOkED2GdQYD0YXdcYCeP6p5P8A1SvogErFYMXm5eLl4uXLw8NZYEQ8z7GO2THZDTDOyFCly5fiXLlzqXLJcuXLlxZcuXLl4uXLly5bi5cuXLlwZcuDhcuXh7lsh7lRj8RT1wLndE0wWJXuFPIjR/6IjPH9MWH+uHVrnpQoFcb3BftFhogRLCSUhCMH9walRbR7TBnmB9E+wx25eo/1PVIF0YCAfrPoE/DAfWBdCfigH0cF8Fy5cuXLly9Lgy5cuXtcuOjLwQYRWEdeJgL/ACKHuNRcJKYioo9ShUly5cvBouXLxcvgv4B61/UE6/oiOv650X9c6aHWPCWyr1HBcWeY7RzqLnttnsS9/BSr5J0ZguzAXrBekB4l0UOigH0YD6QDoQDowPow+tPpE/CV9CUZ8cFy5ebly8XLly9WXi5cuXi8Xpeb4fPIQg4Cm8xf/pgJg8VT6hRKwaJteLzfEWz/AOFB/B/ROn/pg/UfbJRJA3pPrCK7l3anuSH3L32CdwX0cRdZhq6CXTf0YaHXjAOhAujKa8Z+aH0Eoep4IYuXLl5vS4MvF5JeLlxcXLzcvFy9rxePPGfJ98BgwAn6YH+egQuCXaS55x6f+if/AAIN1/RmyhGR9qLCF+sH9CD/AFPYSL7/AOYvtz2pe5MDzbC9yPszp8OQoD6E6YQFUJ+OA+sD9J9AlfpK+krReLly83Lly5eLxcuXm5cuXLly5cHKy+S/hvwT4hoQhKNAFFdISDKPcLTcrY/UjCp+eflgM/jn44esyr1n54F6wP1lPrPyT8UPqJR9ZvF5uXLlwxcvFy5cuXLzely5ebl/BcnDfx642GD4hqQlIgQ+oB6PETFEypAfUBGiXLly5eLl+JeLzcuXm5cuXLzely5ebysv47uSof4N3Ya+vikITz/ilHgr3Oh9EqVBv6ly4rzLly5cuXi9r+Je58w/y1cRwEJ6lf8AFKrFjLpXCSP5ni4XUl/4E+TeTc/yD8EhCICYJ55WXYUqEoy5fxziPgn+EOQyan+BIQltOC4nQx28oNiHGf8AghwhzPyXmIYt9YjBYFLSMKj7rAH/AJA/wpkxUfgjDv2DO1ae9XlIQhEsD1BQDCjBe4OI/wCAD4Bo/DPgmXDBdE6wJ6wRpsRh0Tt1QQCdQ4Bhl72VqG37JaeadJ4D7lRCoNW+YbUtHvE607RnRJqch3DAvE9M8RhMD1K1KiI8ZkwtRAGBCAx8mXkOUhGCWxSC+e4OK0yyDyMOAzZ9wTCq0Wk0Z2RzwEH8DE+2pSKqYsiyxmCEEuIiLWPkiwPsplAS0hEhp9IQy+o6/AoVnvWDwV3aGGEh1KAPUesF1F4hA/Zc8uquiVJWMYclkPioBKUFz9rLiyknbLzVnVy9zhIQhlT04opLgMKDxglycZCdJ54fcQhTVT3dfETXtgAlb5E8OnjesIduA8pVkwgJDD3L0MMsA+WED7e5UMDxo69+hdg8psr1Hvhj2iMkqupfUpUqu4nJCYaX5DzFZsGK3EndcL9R3BFgPUCZUguBaLfTEiEWlVtQKSqymOxZ4k9MCHFSrTyRKx0ZVV8phbxv3A0wBcApQCB93zhtUFdoWdaVPP2nmADxFf8AzXiUOvz4lvPz5CNUe6ht+XHVEu/2LRFHiULB8Y1d+oslUXBvbsIfAISs/qAO/FoCjH9sYGl7gDVhwEJ3QrO4yH/iOlLh30EBX0Q6KCLvLopbNURnZ6gp+8s7nv8AYJ4xePUv79+YCPeoUzKlhipHqFeeSW0Kelg1B9oQodCGO8CxgoMpACs8EisYBlYMXMUcwY/kH+YFV5IQPuEAdMfcg4BcCpYwHQqqK5y4SU/UoT37SrsYaAFf1PO7QI98pJf7KDCCRuPA7XAYIEvYxcVFAKRiyOupGMfJuCETxA6wQKSIL5ZVPJKgbgWaX5Cn6ISDsARLJ5sRgJSRKwyseoMglFYYFEEUzpEq5RBcA8JCGPPlCXdoQ4jDkhCVH9SmfuVDOk9TrH4w1MHB1Y1yAIQgh4m7P1L4/fmfmhKRsAoRArYWA8LHmjd5fuKBe47mxjneOwdQ8L+S0oQgj4fc8HG3UJvuPUIBdkDNkTxEN37Q/AZ9T31dmfQAsEMXUdlTX4cNHmsCRlKNxBXhYTGy8rAoyYtd6ngwR1YbT68RbvMWmnUsAb8qh75BI9e9VTpahsIgihENFaHG+oBB5IKfU8Cd0AwvSPRC26QB0SiCdPOTYaGCVqW9DJDa9WGBhBwP3Sl/dpDiNDBCCn+oRhUHph0YmQ+7Ybmpm6odKAKJ1hA+4x/sguFDFSNAP0iHhditNST2HcTsFSUESlp+yKLB7S+KCmb5O5TNUq8VHkhWoUW/v4i+YWJ18PUSVU+oniLvdj9gY5HdRLh9oaAM7lLhIDzWesV+YvzC1iiuvnrBV/1sxCDxH/ZRqFiAvcRN37Q9TBQa/cPGAi7QueoVAWy6UGRKnmusIdEJ5KKpmGCGLhOu5r1YdAM3l1cmCLIQD23OnEbGBaPzFze+u49Jc+5n0ylw52AN1CdYVfg7louWbrAFBRKcXEvJcPoVhLiFwE8RSBc9aQxRKJ57qAHo1JedIAo0IYq4tQzdiOpUfGiLq/hhAHRoYWbRAOg0MVuMDCE7IH62g/AE6sH9RB4lfAMPknn9xOkNjJsQhBu+4C/8ReoR/mHcIfBuLPJdaekHZ0OB2MAFJAADgHJpfA5IQnkQoP0nQyd4MsqVwEJ0jvfVQNk4yEYb/wBk6kN3gMEQhU8whSiMqNFfPHDWDJxuAxepitHIQy2+4CioSuF1NFTYU5IZOYYvhgHLsgyPpk5K0cf7gMiHnFxAJwnKQj18Z8hYwV2HF/hHKYYwhqc1C+yPK1qBh1YcbCh0nQkHiVwHCTyFdQjBGPwZcu2MnwbCINIIdEMeAsP3cHA6PidmkXAk7ueNaOE+Behkw7m7kwS8MJ74PHCbHCYMGCfsKYtNXOpPGiCJd/WDn8wl/UPOsJFKXr3Dq7Z5xHiNnusE8vqDTe52yoAscGbhghjrAOfNJ6lehWyh3BHCTSwrkv4PnVnvdxXyawamDBglFd2hB+mJPOK6HBqHN6h+NldQIAAgZz0n6ITyP5UUxphM+/RKXBPBPJd1Z5NKR0P1OjCH4LLafMRPog20b4h2I4Md0aryfEQHmAluoOO6e8CPTqf5VABG47fRLj50rfDfapYUioPDfoiDzQILB7J5nr7IpO/SkNDp0cmrDV43J8Z4nc2JX67UEf6wkXmX8cykbKH7ajnsVOwx/wASng6qNIkuLsa8dQAPpypfkaF9QqJsq5ax8R4OQ9QvgXC8gIICDglC1gyIfHUu1KFXAYHjqEPz80IT3aMe9Ee+liuj2BgQTqGAPn3KV3DquwS9pbRPerUX1q+YiUV2honR4RFCLDYscBWvLEHd8vtPlEjdRKQy6kMMNDhMuTjrBl0PhmpCGl9jPsS8DPCQRPyUJ7SMbsABUEqp4z1PuIS/8RRi2R/N7IOVloojQ6hAWlT5ahRUfU6ZU6ojCeoE8a7ZYxZ9yu0QH16gg+yeIjyjSEkFNLy+uDyDDnoPDBUlfmADTxFvXWyBAdE7FZ+5eXVVjACHvKXH2lQCkggA8aOteIZIw0OJ4XmOc3MEIbZ+Ss+zCzyVAVs/a5R3MnNehDAsINqA9YDH1o5CMtAeSHf8aJOzKdCxuQuViggHRDESydaHwHQ1I6PG4Mnwj4oaEYpa7IMNq7jrscHrivcjpeL194MA33l9etD5Ayw+C4Pk1n18EhCF0dwBcs/ghRV6Yiu+Z0OQZfKaPKmxo6GhwHGbnLWEwZrhMG5gj0j3FimNUxjywq3g2PkG5/gE86GlaO9bvIcXvJj3oBzmCeQ+mVFz1Ll+/hmxPXwL5X4LocZxuzD4D1wHJWSEIRPdMB4VBiDDIc/vc+I8hg1cG5k4HJ8I3MujxHAZNSE/nZGlUE1VRO0YdXsfMNPbocHWKw4MHO4rBky4NHnOUjhhi4chghqY/SlKvoOetgj6XOnwDkNzLoYcGpl3OY3rQ2OZ4XBl0OT3k1IQ0fyVL9ODKgkvPwE0OA4nQ4TL8A46756xXwHJxPIamHtHT28ynPBlndyiF8H3xnMcJ8Mlbh8atDgNEhk4XFaXpQdTLffGAOsap+IYMEPkm5ochqap8A5TmM1q6MYahGXh5CPwDg9Qh882I8JoG3rBDlOA3YcDk4HRgqvqKxoR6wZ+pAwuI18AjDirnM1zmCo7keL3wWcJl1N347i4SFLWhHqEJfvyhFPXCfFOFVwAHUMVzAdsC6TvBF6UMM9ctRy/AfBBqLixWB7Z3I1scbsw4vOpu4IbEpNdOf8ARB4T4RCEepTqlx/yQgmi8YVM8d0L4VZ+9hh5iOhh7hDbyUJgR5Y2iTRPEq5bBYBvZBB+ZOF2fgHI6ENfFHcPB3ShBhq/DqGCMdnf8SArccXUb6SPERn9URjQ2qAS/I4uGDFBbCRGdkxLszqxhDBEHll+dGhFRoiTKFm1RfMEhAiVCeoSXohgJ6MuLDgtsUvLvuH72oRjf7Y4nG98JzvExhCGhGV/9REPTwcJua+tDJiurKt4CfS1EwtCeHhIqarjq9U1BAHcQ4dKFb5WDUFBmsKv4Y8hDAKsHR0D5ZQ+5E9kirKhGxvmGi3+mD7tKF3pRFfZgxGEQLYl7XiX/wDJuIz6YATxUDBPEMLvdHTzX5Z5/wAUTdPM8SjdwWTP8T8yzEQ5K0cHO8FYdTU+L8hfscGhwOpwmBwqD5OpVP1LC7J4059x2RRUKBgz8CBRUKMRtwgPLPOKuHSQzUU/RlE/IYCqho3vywVsR5Z+sYoCsWnbqUL7Id4IT/mgoD2hunxUf8sqE64IDJoh/LLqCPkoj3wqUVNFdwzw3ECWG5LGXEBtjSviBV+o9RkFUWtD9Q6MGJXB/gKcvE6mhEsYzfuHyDBkyp2RJ5EMoVEaAvRAuWVa8mBh0OmMU5WGCPTH++J/A0IQnXuGdJ3V9QP3EuSK2iMAd4CIH0GPhCBUEJ9hRiV03BQME6whEbgXlUTzmHu4LBRG9VfRBgEX2xR5VxHUfZCeyscOG4JW4UPYSj6xeis7yUEBSkPh+9zb1HDxOhDQx4q7+cNvUcm5CPTGP6oItnWOhgnbPxswRHkYURKXZPEwwhKgVhAi7IYIPEvgEPt4wmLYUBASTDwAIQ2yNQ8qhk28l0SoaVD4ZxMdzhMmKvhQ+G96GxjoxFDXcBFwnfZcGOwMmKewgZNCEZfwkCC/WwQwAkPMNRyRlcpxmTU1rYw6mDJi/wClkYY8Dg5jdhpW7EdhBngOMl7GWZz1hah8BhxmK+PWDiMmSfvDJn3wOh8N7hk2MvB4NDcykNTiNmHGa1HJxGp8IhPslQ+HBwkdTjMGzDlrZNjc3rh9cDDQhxVhP8GYI1VD8EfIamt8Bq8ZwnCcpxuhElQlR5H4NcFasWGpDH62yJ9IuF4DjMHMYNDU3MG1anPUNTlWHDUqVpUJWtSs1hU2KtTcIhsfyeG/bieY2OY5HnrV75z4Zl1IcVT8pXGQKuPggUpgQ3y9wAlkvDYqKaREn3OQuDFaCJ5E8VpfLeXgNjnMGhoR4CGpHc+BWa5nclPuUlk6j25cui4OPIiosfoPtBbRDoshDv2g0cHlEqHra0iU9II9t4iOYrvaYNL7RW/2qGxDFEPfLSGTYycYYvBDJyO5DUjKjxVKxXAnCZsJTAXgxY+41GgVnZp7y3gFXoMBAcgdE8V6s9ihPKK0Yq+onqOkVKdo+rYoStv0ss6lvMeQQ4g0vxGdVsXC7jXhqXzA8ILiMGpTzrUCj2KYQ7n2j+ugQyYIYc1R/wAATvj2KHWXjqBg2+pKF2NLhlASk6kqOlgpW1aCywmCHyahCXRURqrgXhuGR2VEuGXLFU4WiFpHoIBPSYLR3ip5m+Yvq/cVhF5QagB1Df52zvMvAiL/AGwwQIiIdHU6D7YxhDWH6S1iFEWOoNF+540/oQxHlKv7ngQI4gt6uN+Mp4ld2sVRpcESKpe20hkAY6fwxBEC8sEV6IbEIS/6bk3PgmTDRgWAMQQYBD5XxCDttQynhRQjO7Oee9ku2dY4DCr+GKbsQwQlQD1t+IFQGV/6Uqv2bVGXJ8sVhhLx+R13alrYvD7gIODFwEX3BR6trPJrfyxKj3US9yoBzx7ih2hF/FrCdxG9mGfmxCeBHBXIC7q54EOq5YjqApWPuWAWyiDSdXhikGWCSj4w/XCDlhPcQlJOkCMAyO7BCsX3T69TslrysIGDJCEIpk+L++EwHPbFihff2M+s3UMCqFbwPInkX6hO8xB6nw8fUNAYsYS/ts8QSsX7wQlYL8JlKiIlPaxu0qPECo+beJdoEAtgvn1PtaKWlLjSJebzDLepTjDNaIHg9wYt6ntBD9EooNmrhi+yeRlvxKmCVypFaDcW7H1EU9RKC4nTEhKRyfuFWq/EWuzSwF/ZghHpnnOLtH773AXtUe+0kVy+alSMQfJtUHxOlLwuNLQT98IQr2Knt5X3PAz9zvGRL6go7YEIfzoEz7wjPOC1JfvaaHMy/D74K+L9mIQMmTBCNUOi9veXe9zcwp6Y1B8xWLj6tcsQLLkvFzz/AIJZPcqh4uEOo2eYK8CxgODNSj8kLq9Qh8SyJ3ULk3QX2JLgVbCLbYuCq4CsR3g/slXb1LZEpPCXXiXQr5xGWCD+WPA/pKD+YPTLLeopWHwPIYt180nnfwRU2lfARcW3qebANx1TD2Uk9jLuKqPkQ9QPEAhRBPJloxg1vwRVpXuJG+4QweZuxCXiHRVfUZ+qAJ0GBZfkJFptGSmrgRrQx+PkIY8SDOrCGLExqm36RUX5KEeoQ8S+IMx65zBGIGHhMP55a3F5jJuZCfZpUalPJDfgYn3BA6g8z3YfeCdSHUq4GsQAAMGTHbLUYQSKJLNwW8E/GJZrTFU68QmUBEHzX6gOrim/CZ91wEn9oLKEnchcdQ6YOE7iFHU8U0Hen0QmiqBs8BthdRYRGxHTonqEjXxHtEPolE8YEDoj4UkJdMhqbIUgVDrCVghmoZT16jsrKvgGSEHQi0QUtHX0T3w2tgoDvJ4hw6uXYwYIQn7XBnPSOU4jJh3MMW2mVCGDdgQhDBVDxBIPBEtouKFIQN8CCeBnSCBbP6oAdQwbKIXBglQFkcskAOoRRz4cMo1dCGhCH9QRCUx88EDDBsR2/wAj9kGVm7dSlQ164XmMGTH60vj0AyYI7HCbGhDF8j2i4PSXHe8OHBsZMHcIgh9Sovvys/2TDqGDYgAn3HSFPmoy06SUoeiGxucbwGRuX89Nz4RsbsMGDBoOLhzGDBoYNmG5qQYa/sly6oaAWWGCDsS4RKYdIErD8J2dTU9MV3qnGOF4TUOAwEMOpj1k0QdoS9CGl71DD1L2DgGXOl2eHIlYMG1xjxHyTP8AFPc5h4WD2saoMGE9Q1IZIw1vMV3aQ0IG5kFxb+oISGDirX1g4zBLw5PgGfWrzG45q+0HxTQwYI7GMLor5lLcvue3wVAJHL5pA/gYM0Ooh2zthO3DCOlGI6IoAeiGSGfJV4YJ0wYh2jZAHpI77YMHwHvBiuD3gzRKlZPg+ofDrJkyL7V9Bow5CGpDAtRPNUwKFbgu2nmK4rB4T3c8G7HhJSR27x4h4oqDhVAl/FwrvhLI4O2eZVgJ8lwI6X8SxsDHivcAUagQYUeSeMNWXOpPBorHkYQYhJ03bplw/NTgTBqHAYN2Gpq/MNzNvvj8UhkwQhHqNYnnQGlRPP3FgHio4p6dQ6PzAVfSKE7hy/cw2+UEqhUEITzzfk8VEtPBgoHgjueuoSMALwR2do+YiTGKOgn2e24GCfKeGMhPfC4M+8HK8/rlfg1K0M/n06mhwGhCGDBgnSflEEhE0SkguEiZX4vV0waYY7SDv3AIb7IesEuG1PAemeZC4LUBl4ZTfKpfnglgGeSAxkPFi38xfCaieZeFPSE9S6pUf5CGTgdzled4A0OM3OBxBacQ4K4TPSBhdSHiGxMMOQYIY9Rn7yHXUk6iQ6M6UYAACiXjxmHloQ3wFyq8AxlT+0J1aK4EvGefqDAohDJHmMP+OdDY4CV+7+oOU5TPSEsfENBCHCYMIJLJCme6CUzI0uC0SjjKgl4684HyTndCPxnQ5nD7Ff8AMGxk4zhYh9RhDZwYMuxi8XHN2HbPVk2OM4jirDwG3vU4jDoYONn6+Gh8E1IbkNyGRjw3owV56hoOAxe58MNjivFR534Qs/s1NDgNDYychDjMGpoYJWDhNXc2rWtTNbvC71zmOjzmDU5DhMmhHlMPKf4O/gEMvMcPndyamThOI1MMOQw8ZynwKlfBrBoZfgOt4ND4Bz18I+FWx8a8EcsMHwDW/gGpznKZNK5vrLDi98BKNzheU+I6Gx842OBlamTDDBDgZcNDY3MODCWStTD8Q3MeuE0Inwj4h8E3dDPvLLyZEPHG4Nxu/AP8N64X57khu4MGhKj1gwYYcBk4DDPcOc4vPJXG7GjF4WXsbGhyGCVk4TBoQwYZMCGDHrgrYy8zw1nxqHGauF46lcDDlMnCZNjZ1IZITpPcIYIz3khh5TIhDkcGpo8frgrFcxHUy4OQwaHGcZvcITo4Mm9x+CIaH+ENCPKZcmXBscxwnMYMkJ0lQIYrJ8Qj1g4zhOQ5niONwQ+QQ+D1k0ZUNiHxj5DuaVGG1R4TjOUYMG5DQwfAMEP8H74Kx6wT65GHG8Ds8Tq4dzgOK4YNDnMnxTU2eX3wmWGXjR2gDwy8VWBEWOewiFhklfAY98hxHEfEec+D64jkcvL6tKzvJ9kHBlay0leFLrlCJzuDRjg29aGDgNzgPj+tjkvNxcmTLk4alR8SiAuCC2ggIG4NwwmxCNI8DAZoEEIY7M8vNQygfcMn3o7vC4IanKcBDYwRnrkNj4ioVli/K8Q/uCVJMoXzEt9JZ7bzBkhhme4yn0XFZfcGuAhjy15HglkweKOwcClg+Z9iXkitfrW8GSEEr2hLP1DNHXiGyK9Ru0VqcTkw8RqZMGTiMmD4xk1OAnUBu9B3kAwfU7n5TojsShwQyQxaH7lW+5uD9hDcw7eLtP6i6wn8EQY9lQFHlhOus6rmsSOl7NklB5Sne1wRHvIwf2RKxf3YAbOTiYxwcp1zGTDDBznEYc+tjBGbtHN0fBD3mBEbOyEUJRK/cr/ohDQ6hL3vpguklVCG5itlZPLmQ0BEH+mEYKjwQFNkgAKMvWO2MZ2uskGG4godcbyuTlMmpg4D4RocSw4DBANCyIWCCmHrEIf0RCfuX680Qhs0ZeRaR4hmo/SggTBDQQnpjfTwjseHpAIeDgqGSWwsD8Zw+IQ3Nz5Bzmlw2gmhi6nqfkhknXqH+IZTGKArbxJQl/i36Ty1cI89RJkuFf8AGfFWLzDhNCGx8IwQ1NTiNHJymhgn+kQPqGXQyTxS5+OGpjox3WmHwWqHRiL/AI3cnCYYkMG5xHB61N/cvBk+OfDSkhr9w3Mj12QKKhsxUWz2EvidD4JrejHf8PwjR4jU2MGTBufIJ6j80w5cGpskEUCdDkNGWv68y6GpwOxhjj1g2NTHhyENDjHjMnEZNjSpFBLo43PgIGBSMNh3DobnFVK9S0H1xMN70cnIQ0EJUZepqcZoS/jGxlienufw5xBEA+pc98nBuYM+ZTyGHBsYNfH3tKH1co3I6nGZmCEMe9zU2MXm8nCauo8JgjBTrpngHBeLPuUUX2SpRgfBwGDJaaK3/ONhkwLD84Rpqbmjg4zIwQhj3xDgYamTBg5DZycJDEZCErAhEvZL+zPaQb8Fj4kSPwo0UCRtjDwBj1wEJcMfYMtmTY4HqXH6Fw8m5qcLh1rBoaMJWCGEhoYNGGLl5OQ5UhxmDalo6rEPeCt7Ypm6Vk9akGrZldZc6AQLowD0Ga5Vf9eZXH1xE60M/wC4J/wbHMd4eQwbmRgwbOfcOK5cviNniMjLncEPPdxLrKajAdCAYJFisFnw/wCPJSW+9DY1M+Sn/Np7wcPvdwcJxGGEOM0PiGzyGxklC/I/+lJ8M2f5P94Q5TDmZ259fGeA5TDKhxmah8cwsYODc2MmCPTPE/pOiHKR9Z8v4oH2G42dTPqmO/iJwz3CXwGpymDLmtjJDc3NGMMGSGpHJkwRlgi/qhwG5jow1VsMmTb+IGNf4zivQ3BvJwmpwGpg+CbHI9Q1OEnvQhFBVcUPxGU8o/SDQyQ4ek/6tjJw/wA5H+p6nAfENTkOL3k2IbHEM6RhzGpCMbL9MIQDQhHaU6GV/wBDF8Jm89GP+yHCaGn8Yg8pNb2MmgcxsQ1NjJk5zFy8EMHEwl6jEsncz+SVinOZ6MP+zDoyy9TgsH9RlC9LzeuIycD8AwQ5yHMRJcvBk+CYfgGiq/khlwarvR/1GL6VzeuF5zBxEIamh8FhCGhHoHQ4EhkyZYuhrfAywf5hlhDBxGy+yJ+z+G+skeR1OM2OU0MkeoQhkzDBwd4OJ6h3CEM0O2P0MJnqpaP7ENBTDBxHcHPi06G5DvgueRA/ZPxiPP7waPAQ4zDPWCGTVhCGCGQycBknpl+YQhhUeo8qjqBlRQfRHfPGVWOvM/20MHCwyxJF/wBU94dTheogZ7NHJwmDQjCHOaM95NTDDidvWzm8jjvCGDgIZeo9wYZ8m6AsOyrD1PDVR8kT7viQ7WH+MnEQyQSf8W5wGEgP4MPgnCw4yGSM97mhuQlR4iOxi8CGCHAZY9sNG9wkTzSD4ICewy4v1E+kYKetA3iTJljqVv8AXwG5nwa/UPgO5sapOpavOpn1DguGDBoZNjiNhgwYNiGGOB0R5KRsrblhd1FLuI3zoN/tzfEZYhW9xW34194MmDapfwh1o8F8Zx+Iamh8j3sZNTL8F7hCGE3ruPQpJby7DQ4yPriWY+iGDnHiI7/iOAy9zzcZehhyPAfFOc4DBsaGCXk0vBl70J4gGQVepfsjY2Mi/wClwMA8Q0dTW8mUumWH85vW3vJ8EybnKdaX8YwYMXqOHvW4T1i7+VGgZN7lxL3O5M7cwHa56FYUFKAik6odcTun5BERxHAakNjBubkI4ME963lwZvBwkMmTBqQzWpL1MGnUiYsn4o94wbyJ2kl6nTSIIuq09yidswFWWdSZ1QnRCP1EoYcVp6wRhoYN/IQnIaXxmCG5rfL4yTzLhgy5NiDgcGLhgY4Cn9kSXd48XZD/ANcyvQoeD4Q7crF8BVqPXUDkvpA/WA9DYjuw1NDBv+H4TMOpscJymDdwbmL3djRyGxk0MjhlD3F+ywDowLoQD1sYFFwknjN5dDlJcNh+SwHCYeJybnFfGMIZYTzDiOO9DR7wQyYdXHvkuGDBglpVJGattRhgwvwGGBZSn/ZwnJfwDJgycBgw5NXHvJg0IZMvG6EJcv4BLhghCC/UFF9bPEaGKuGGf5UXgZO97esmhzGpxkMsMmCfXAaEuGDQwZ96uruavAQhLDtgrx45CXsF06DH4Jj/ALkVccGTR1IcZucnrLCXobmDhI6GL5zF8ZkyNOqeIvM09S2ASMWr3TPrF8fvBoQn/Ow+X98t8R8M287kGPvBj64DJqaGt7Ohm3Bi5cOQ18RRZ6jw8AAdcbg3MGD/AEsTR9LHve8HC5IfAOUwbm5uQ0NHBn3h37YNRwZNTJDBGUfWXcjyEJ/zRU/3hwaL4zeCG7ghepxmpxGxg3GGXBwEd1hHQ1GpxENL4zDpeGDoY6uJjJk+AaHOZOX3xOz3keC7wZMnGNDmYH8OlOgQNY4OD1wEMMD9bqsNXJu4Ib38QwQ5xi8EYZHkvJsytDV0NDJOk9gjFhOkG5Y28RmE8jIbvU8+9+BwVDBoVH2ReDUycZPWD4ZyHEQwRhkhqMnwDg75vUIniKb4O0sH5FgtpUs2F8ko94SM1eUeZR6hA/ZDDxGpPGC/c+Ib/wA+GbuDl6yfHckMPF62uXg5Lhh5ifbj/qENRPcIX5G5L+5Sxt4i6S+CfpdYZN3Ny9WXk7Jlpu/GpqcTLgwh8A0OIwcF5cmX4ZubHKYudX9IK/jgveydIjqHfLgRVhLABArr4tVhvwujscTgh8E0NzJgh3xOCXl1Ph3sZuXxkuXAwgiDoiXC3oxe5v60IaVH9S73p+IfCI4OobGTjIanGQhgcuhrWR4Thri85OfpYDzEjeOAwwwYI4MmCLPyfd9IGw0IkvlcHEZOAywcGDF8F5MuhxGnvUeE+Ab3m4f1PFH0ujFhg47lI94n+535iCCpeMXuLSMMkfMfDysdDQyaHKYOFhBwZeE1uXDDi+QycZi9bhp+kOGjBwWRT7iXufiiXZnYQ7s4QM8p+gicFXx/ui3zSDdCeDdHRCflnRqwODHaGpwMIYHQ3OUwcLCHEYOL1oOPeD4pwDQqH4x68sWH1p2ku0i7VmWvOxTtx8m8Vl+oI9is7SoJ2oJ2oJbdDd2wPrOkM6QT8JRDDqIbjiIYPgMNDJi8HAfC8cJsy+cyZuGWGDAWkINSuoD4T/c8+8PD9ef5gpX9UA9YD0J+Ep9QJUaIM9yoZcEuLhyYWeXK46Q+AcBg2MEOcg63n1sS8mHgM3Dc26YfPSE2DCPeEJSAQ0NTi1T5iXF2ZNTDLnrJhwZOMhoZNWGT4BgeAYZuEMHAYMGTQw6m5uRyQYsW8MHlUOo94cGtwhlTH0xNbwHEw5iENLwfFIcLqZ7aDcyYHnMXrcvQw6uCGHjMep/wazNDDwMO93RyYNDgMnEYMGDU2IY7Ql8Jk1NnJqc15cDi57w8IwiEgTy7EneYMvgX447GTRhymhPexkY4IavUMHGOCXD4ZghgfOrg1dDUwi2SVTB0y+o8ST9NXG4OEz63VhhyPF42OG9iGwdTgO5cNHf3yGw6EJeWGTYY1Ke0p7nfNUP3BQM++I2OUgD5LzmL1Y6nGaFYuXB43Yhqa3i8MMmXS4AIzoIw6nPfwTzPOaHA/LNmG7DYhwe8GDLLc3kx8D9QXYRWD8S+BiwYR+ecZl1OIwZNzkMmHiNTBnyDTqDhnQtUEOhw9/l4gfcWtNtkgbQ+ahonxThIbENT4hxmXivJg47g8pL0I4cEYbmDBwRFLXxhLn1hv4Gf6TBhhN1D+rjzDyBGscvwjS9QS2PuG5xmprdQcm5i9zmMmHlOM1I6XL1IQkOkpjbVQztXqETI8j4Yv6MFlHAPZEYrdEeHxrrQysvdhqcL+083g3OI5jY4HdhoS8nGfEOIhkhCEjLJkWkQ2G66hGKbT9XOnUACt/c9wjq8xAMK/wAWaj5z7xceD1g3vS4PDfCZvKLph1wCWQlb9CVefMPqlLjebtzvjqHCYYQyZeE2IGh8k4DBqaHEakMkNjdhk0ZfCOpkw1FKRX8r6ZTi/wCpRgw0uUn1JpccXyjwEPkGg4NzBwnKcptehDRlwhj3qYWGDBDRyz3knUs6+0suxGlT9M/aJ4QVDrRhxEvJo49YFJ4YfAOJya3wnwTJL5DR1IZZ7wcRoQlT3PtEewJf2fEOeSxBGZ+kffiH0R/DcveYjPS4NR/VK2VCVCLK33HccbsBV+SHF1r6+IamDYjxXkhxmTLg0MPg6jg1c1k3CzvS/mNeeEllVPK2oLowAeJWi1AWoJ28gLILG4xMSp4jx7SHWSLyrDJCdloMPkGxxHEZvQ0eG4cBO2bg5Iy8GrDUwaJKQhF4lHaES9Z3Ill2ljzMVeYJQKCwe3J+TxrsHUhSUCMgnyBCPnmTF7HAw1NDY2OHti4QyTpk4DW4Mq9kVaU9Ch1AUTwdOyoZ0J3Ff9xh5jDSuaP8xsQP8QB6OD3qZDidSHNepzXwGDBg1cmhqcBsbDJzTBDd6IeIeqkCXCB5rO4fysCAh1KgfRCXDJn3o/GMux8gwaeuUeU4L4TDoIS8GRg3MGKg+CXOgAlQK1784wyZMOWHAw/rHKcY8ZqcBwGb3OZjoZcmWMvkZei263s6nxGAB+LkHMcJysMuhwPCZYZOAyxx71cjoxhxrouTY09x2Mutwy6sKu1sM3xmhxmpk+D63PgEJ4cguXiXzDC4MLxLhg1OM4ThExDhdjJoYuXn1DhGHJcv4BvcMEWDgeUyZYYfwzB1MEYZckcEMsOA2MGDc4HBhl5OA4TLDA+Z74bi4MGp1GEMPMZuODPvJsw1OE4QAjYw5DYz6hF09YIcRHI8NwdDT3i9fWzCXoYIYcXghqZuXo6OL0uPEw0ce8sMsNnJp2p8fSQ2OE3vJzk8ZIcRk2IcBrfA9c5l4j4l4NDZyQjoZ0NDT3/hPeGENx0MX8l196PUIYdL4L+FfxEtHlhh4L+VeDe8GXJg4zQjzsMjucN7ml878EBRDYdzY+GbGDRyYI7EckWGxg3NCet3BqfAMHFeHleM4zZnnnNTJl1NTrQyuTT1g1HJh5l3vR3NDQ1HDA5mFnDze9DZ3OI0OEyaHAbHEZNja8GL3dDe4Ycsda4nVl/L7EHxucRgyZOQww+cwycJDJuavwTI5HDzHBqy5cI0V8dReCHyDQ4x+MObyavEGF6xfC8hu4uOph3Erc3cH2Q8rPCetj4RD4Jk4HmI4vI8J8VwcRwXquAvidmMHhPOcBm8G58EjsQw6nEcJoYOI5Xgvhjk7w7PGOXnOQ5GDxD/AIM195v5V58DD8Cx2eQUfKPjsI8TDHrI8AcxL1OM+J7hqYYw5HAwPhqydEPkHyD4JDY0dDV+GYPhVwHBoR4Qr9HmdTF7scHIQ0M3ByfBMmLyYNCXqbsP8A6HBZWXU4MeMXLhwCB6w3NTQ0OE3MHEZvBg+CZYPw7hobHCtMAkOJyZYw5WAOA2NTBkwcZm/gGXJxGxoYcHEQ0NCMMmwuBULly8OtxcEMvFerBE8cTyG1y/iHKc9YvJoa3hhuasMmzoYdnAQ4jgZQBf0jDriPjvGfBIcZsYMkN3c4L096PKQho5vVjqxPPEO/hRDQxexi8G5D4p8EyQ4jU53U2vJDReWox9nhBR0GXxEIcpDhMHzzlvPnjMmpu73owwavMwXgdbHwzUh8i5fGbXyDqPxF0vBxOSHXB1peWXxmH4N8JwnKfKMXLysMXobsMMNCGDkcm/viYRgFodLwYPgXyHAQ5TB8Ewy9XFXocBzHM4MuXBrcMkYy5RL99QfEsyZPmGTUhynwDV2cHIcDx3LybjDD1DQlZcGrPcW+qFlHc6joYdzDwe+A1OU571OE4L0PnEOA09w1cKChLLhH61dzhMODNy+E2PhXoZeM0dzlPkne5k4GXBEMnxjX1sw4SHwzY0NDe93A6uCe/kkdhycK5QhqaGHhOIdDDLz7waENTmPhOzL1O9jgNHgMvjJCK5cncuLi/E95WXGXcYFw1JWjg2cGt7GPebwcJo/AN75jQ1HBkzeFwQ0dHQl+MLDHuGjw31hglsYNRn/9k=)"
      ],
      "metadata": {
        "id": "pWqBhRuKZZYf"
      }
    }
  ]
}