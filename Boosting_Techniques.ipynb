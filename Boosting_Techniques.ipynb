{
  "nbformat": 4,
  "nbformat_minor": 0,
  "metadata": {
    "colab": {
      "provenance": []
    },
    "kernelspec": {
      "name": "python3",
      "display_name": "Python 3"
    },
    "language_info": {
      "name": "python"
    }
  },
  "cells": [
    {
      "cell_type": "code",
      "execution_count": null,
      "metadata": {
        "id": "zfFdYTVTEdwr"
      },
      "outputs": [],
      "source": [
        "# What is Boosting in Machine Learning?\n",
        "\n",
        "\n",
        "Boosting is an ensemble learning technique that improves the performance of weak classifiers by sequentially combining multiple models. It focuses on training models iteratively, where each new model corrects the errors of the previous one.\n",
        "\n",
        "1. **Weak Learners**: Simple models that perform slightly better than random guessing.\n",
        "2. **Sequential Learning**: Each model is trained by emphasizing misclassified instances from the previous models.\n",
        "3. **Weighted Predictions**: Higher weights are assigned to instances that were previously misclassified.\n",
        "4. **Final Strong Learner**: The combination of weak learners forms a robust predictive model.\n",
        "\n",
        "## **Types of Boosting Algorithms**\n",
        "### 1. **AdaBoost (Adaptive Boosting)**\n",
        "- Adjusts weights of misclassified samples.\n",
        "- Builds weak learners sequentially, emphasizing difficult examples.\n",
        "\n",
        "### 2. **Gradient Boosting**\n",
        "- Minimizes a loss function by optimizing weak learners sequentially.\n",
        "- Popular variants include XGBoost and LightGBM.\n",
        "\n",
        "### 3. **CatBoost**\n",
        "- Optimized for categorical features.\n",
        "- Reduces overfitting through efficient encoding strategies.\n",
        "\n",
        "## **Advantages**\n",
        " Improves prediction accuracy significantly.\n",
        " Works well with diverse data distributions.\n",
        " Reduces bias by focusing on misclassified instances.\n",
        "\n",
        "## **Disadvantages**\n",
        " Computationally expensive due to sequential training.\n",
        " Sensitive to noise and outliers."
      ]
    },
    {
      "cell_type": "code",
      "source": [],
      "metadata": {
        "id": "achglWqaE5YM"
      },
      "execution_count": null,
      "outputs": []
    },
    {
      "cell_type": "code",
      "source": [],
      "metadata": {
        "id": "uzxhoGG2E5WF"
      },
      "execution_count": null,
      "outputs": []
    },
    {
      "cell_type": "code",
      "source": [
        "#  How does Boosting differ from Bagging?\n",
        "\n",
        "Boosting and Bagging are both ensemble learning techniques but they work differently to improve model performance\n",
        "\n",
        "## Boosting\n",
        "Boosting combines multiple weak learners sequentially where each new model focuses on correcting the errors of the previous one\n",
        "Each instance is given a weight and misclassified instances get higher weights to be learned better in the next iteration\n",
        "It reduces bias and can improve prediction accuracy\n",
        "Common Boosting algorithms include AdaBoost Gradient Boosting and XGBoost\n",
        "\n",
        "## Bagging\n",
        "Bagging stands for Bootstrap Aggregating and builds multiple models in parallel\n",
        "Each model is trained on a different subset of the dataset created by random sampling with replacement\n",
        "Results are averaged or majority voting is applied to make final predictions\n",
        "It reduces variance and prevents overfitting\n",
        "Common Bagging algorithms include Random Forest\n",
        "\n",
        "## Key Differences\n",
        "- Boosting is sequential while Bagging is parallel\n",
        "- Boosting focuses on reducing bias while Bagging focuses on reducing variance\n",
        "- Boosting assigns weights to misclassified instances while Bagging randomly samples data\n",
        "\n",
        "Boosting is useful when weak learners need improvement and Bagging is effective when reducing overfitting is important"
      ],
      "metadata": {
        "id": "Sk2Cu2LpE5tY"
      },
      "execution_count": null,
      "outputs": []
    },
    {
      "cell_type": "code",
      "source": [],
      "metadata": {
        "id": "fXQsshkhFFJU"
      },
      "execution_count": null,
      "outputs": []
    },
    {
      "cell_type": "code",
      "source": [],
      "metadata": {
        "id": "jtlRiOuEFFHQ"
      },
      "execution_count": null,
      "outputs": []
    },
    {
      "cell_type": "code",
      "source": [
        "#  What is the key idea behind AdaBoost?\n",
        "\n",
        "AdaBoost short for Adaptive Boosting is an ensemble learning technique that improves the performance of weak classifiers by combining multiple models\n",
        "\n",
        "## Core Concept\n",
        "AdaBoost works by assigning weights to data points where misclassified instances receive higher weights\n",
        "Each new weak learner focuses on improving the classification of previously misclassified instances\n",
        "The final model combines all weak learners into a strong classifier by giving more influence to better-performing models\n",
        "\n",
        "## Steps Involved\n",
        "1 Train a weak classifier on the dataset\n",
        "2 Calculate errors and update weights giving more importance to misclassified instances\n",
        "3 Train another weak classifier on the adjusted dataset\n",
        "4 Repeat the process multiple times to create an optimized final model\n",
        "\n",
        "## Advantages\n",
        "- Improves model accuracy over weak learners\n",
        "- Reduces bias by focusing on difficult instances\n",
        "- Works well with decision trees and other simple models\n",
        "\n",
        "## Limitations\n",
        "- Sensitive to noise and outliers\n",
        "- Computationally expensive for large datasets\n",
        "\n",
        "AdaBoost is widely used in tasks like image recognition text classification and fraud detection."
      ],
      "metadata": {
        "id": "p8g9u-zDFFFU"
      },
      "execution_count": null,
      "outputs": []
    },
    {
      "cell_type": "code",
      "source": [],
      "metadata": {
        "id": "TB8PXgi6FNhO"
      },
      "execution_count": null,
      "outputs": []
    },
    {
      "cell_type": "code",
      "source": [],
      "metadata": {
        "id": "KUf-jAdqFNfs"
      },
      "execution_count": null,
      "outputs": []
    },
    {
      "cell_type": "code",
      "source": [
        "#  What is Gradient Boosting, and how is it different from AdaBoost?\n",
        "\n",
        "Gradient Boosting is an ensemble technique that builds multiple weak learners sequentially to minimize errors using gradient descent\n",
        "It optimizes a loss function by adjusting predictions at each step\n",
        "Each new model is trained to correct the residual errors made by previous models\n",
        "\n",
        "### Steps Involved\n",
        "1 Train a weak learner on the dataset\n",
        "2 Compute residual errors which are the difference between actual values and predicted values\n",
        "3 Train a new weak learner on these residual errors\n",
        "4 Repeat the process for multiple iterations until the error is minimized\n",
        "\n",
        "## AdaBoost\n",
        "\n",
        "AdaBoost assigns weights to data points and focuses on misclassified instances\n",
        "Each new weak learner gives more importance to difficult examples\n",
        "Final predictions are made by combining all weak learners using weighted voting\n",
        "\n",
        "### Key Differences\n",
        "- Gradient Boosting optimizes a loss function while AdaBoost adjusts instance weights\n",
        "- Gradient Boosting minimizes residual errors AdaBoost focuses on correcting misclassified points\n",
        "- Gradient Boosting is more flexible and powerful while AdaBoost is simpler but sensitive to noise"
      ],
      "metadata": {
        "id": "QOkrdTKOFNde"
      },
      "execution_count": null,
      "outputs": []
    },
    {
      "cell_type": "code",
      "source": [],
      "metadata": {
        "id": "h6WpSaVqFYwM"
      },
      "execution_count": null,
      "outputs": []
    },
    {
      "cell_type": "code",
      "source": [],
      "metadata": {
        "id": "U_0dUa9eFYuQ"
      },
      "execution_count": null,
      "outputs": []
    },
    {
      "cell_type": "code",
      "source": [
        "#  How does XGBoost improve over traditional Gradient Boosting?\n",
        "\n",
        "\n",
        "XGBoost short for Extreme Gradient Boosting is an advanced implementation of Gradient Boosting that enhances efficiency speed and performance\n",
        "It is optimized for high-dimensional datasets and large-scale machine learning tasks\n",
        "\n",
        "### 1 Regularization\n",
        "XGBoost includes L1 and L2 regularization which helps prevent overfitting unlike traditional Gradient Boosting which lacks built-in regularization\n",
        "\n",
        "### 2 Tree Pruning\n",
        "Instead of growing trees greedily XGBoost uses a depth-wise pruning approach to remove splits that do not improve performance making the model more efficient\n",
        "\n",
        "### 3 Parallel Processing\n",
        "XGBoost enables parallel computation making training much faster compared to traditional Gradient Boosting which builds trees sequentially\n",
        "\n",
        "### 4 Handling Missing Data\n",
        "XGBoost automatically learns the best way to handle missing values while traditional Gradient Boosting requires manual preprocessing\n",
        "\n",
        "### 5 Optimized Loss Functions\n",
        "XGBoost supports customized loss functions with better approximations leading to improved accuracy and robust model training\n",
        "\n",
        "### 6 Scalability\n",
        "XGBoost is highly scalable and efficient for large datasets thanks to its optimized memory usage and faster computations\n",
        "\n",
        "## Use Cases\n",
        "\n",
        "XGBoost is widely used in applications like fraud detection recommendation systems and predictive analytics due to its superior speed and accuracy"
      ],
      "metadata": {
        "id": "jMN9P61gFYsN"
      },
      "execution_count": null,
      "outputs": []
    },
    {
      "cell_type": "code",
      "source": [],
      "metadata": {
        "id": "W8DbMtuPFkD9"
      },
      "execution_count": null,
      "outputs": []
    },
    {
      "cell_type": "code",
      "source": [],
      "metadata": {
        "id": "y0e1FN-QFkBs"
      },
      "execution_count": null,
      "outputs": []
    },
    {
      "cell_type": "code",
      "source": [
        "#  What are some real-world applications of Boosting techniques?\n",
        "\n",
        "Boosting techniques are widely used in various fields due to their ability to improve prediction accuracy and handle complex datasets effectively\n",
        "\n",
        "### 1 Fraud Detection\n",
        "Boosting algorithms help identify fraudulent transactions by analyzing patterns in financial data banks and credit card companies use them for security\n",
        "\n",
        "### 2 Predictive Analytics\n",
        "Companies use Boosting for forecasting trends in customer behavior sales and demand optimizing business strategies based on data-driven insights\n",
        "\n",
        "### 3 Image Recognition\n",
        "Boosting techniques enhance image classification models making them more effective for applications like facial recognition medical imaging and autonomous vehicles\n",
        "\n",
        "### 4 Natural Language Processing\n",
        "Boosting helps improve text classification sentiment analysis and spam detection enabling better communication tools and content filtering\n",
        "\n",
        "### 5 Recommendation Systems\n",
        "E-commerce platforms and streaming services like Netflix and Amazon use Boosting techniques to enhance personalized recommendations based on user preferences\n",
        "\n",
        "### 6 Healthcare and Disease Prediction\n",
        "Boosting aids in diagnosing diseases analyzing medical records and predicting patient outcomes to improve healthcare decisions and treatments\n",
        "\n",
        "### 7 Cybersecurity and Intrusion Detection\n",
        "Boosting models help detect anomalies in network traffic identifying potential cyber threats and enhancing system security"
      ],
      "metadata": {
        "id": "nqbwBD0HFj_x"
      },
      "execution_count": null,
      "outputs": []
    },
    {
      "cell_type": "code",
      "source": [],
      "metadata": {
        "id": "WV8_BIOhFw7W"
      },
      "execution_count": null,
      "outputs": []
    },
    {
      "cell_type": "code",
      "source": [],
      "metadata": {
        "id": "H8cibYZVFw5Z"
      },
      "execution_count": null,
      "outputs": []
    },
    {
      "cell_type": "code",
      "source": [
        "# How does regularization help in XGBoost?\n",
        "\n",
        "Regularization is a key feature in XGBoost that prevents overfitting by controlling model complexity and ensuring better generalization on unseen data\n",
        "\n",
        "## Types of Regularization in XGBoost\n",
        "\n",
        "### 1 L1 Regularization\n",
        "Also known as Lasso regularization it adds a penalty based on the absolute values of the weights\n",
        "It encourages sparsity by pushing some coefficients to zero making the model simpler and reducing unnecessary features\n",
        "\n",
        "### 2 L2 Regularization\n",
        "Also known as Ridge regularization it adds a penalty based on the squared values of the weights\n",
        "It prevents extreme weight values which helps maintain stable predictions and reduces sensitivity to noise\n",
        "\n",
        "### 3 Tree-Based Regularization\n",
        "XGBoost applies regularization directly to decision trees by penalizing complex tree structures\n",
        "It discourages deep trees and excessive splits ensuring a more interpretable and efficient model\n",
        "\n",
        "## Benefits of Regularization in XGBoost\n",
        "- Prevents overfitting and improves model generalization\n",
        "- Helps create a more stable and interpretable model\n",
        "- Reduces unnecessary complexity by pruning irrelevant features\n",
        "- Ensures better performance on unseen data"
      ],
      "metadata": {
        "id": "KCnzgkCuFw3S"
      },
      "execution_count": null,
      "outputs": []
    },
    {
      "cell_type": "code",
      "source": [],
      "metadata": {
        "id": "k1wxYdg4F6uf"
      },
      "execution_count": null,
      "outputs": []
    },
    {
      "cell_type": "code",
      "source": [],
      "metadata": {
        "id": "k7y1EYf9F6sx"
      },
      "execution_count": null,
      "outputs": []
    },
    {
      "cell_type": "code",
      "source": [
        "#  What is the concept of Feature Importance in Boosting?\n",
        "\n",
        "Feature importance in Boosting helps identify which variables contribute most to a model's predictions\n",
        "It allows better understanding of data and improves decision-making for model optimization\n",
        "\n",
        "## How Feature Importance Works\n",
        "Boosting algorithms like XGBoost Gradient Boosting and AdaBoost rank features based on their contribution to improving predictions\n",
        "The importance is calculated based on how often and effectively a feature is used in decision trees\n",
        "\n",
        "### Types of Feature Importance Metrics\n",
        "1 **Gain**\n",
        "   Measures how much a feature improves splitting in decision trees\n",
        "   Higher gain indicates a more important feature\n",
        "\n",
        "2 **Frequency**\n",
        "   Counts how many times a feature is used for splitting across all trees\n",
        "   Frequently used features are considered more relevant\n",
        "\n",
        "3 **Coverage**\n",
        "   Measures the percentage of data affected by a feature when used for splitting\n",
        "   Features impacting more instances are given higher importance\n",
        "\n",
        "## Applications of Feature Importance\n",
        "- Helps in feature selection by removing irrelevant variables\n",
        "- Improves model efficiency by focusing on the most influential features\n",
        "- Enhances interpretability making machine learning models more understandable\n",
        "- Used in domains like finance healthcare and marketing for strategic decision-making"
      ],
      "metadata": {
        "id": "Q-lwrU73F6qq"
      },
      "execution_count": null,
      "outputs": []
    },
    {
      "cell_type": "code",
      "source": [],
      "metadata": {
        "id": "itT7kD79GD__"
      },
      "execution_count": null,
      "outputs": []
    },
    {
      "cell_type": "code",
      "source": [],
      "metadata": {
        "id": "ohQqtsrNGD-V"
      },
      "execution_count": null,
      "outputs": []
    },
    {
      "cell_type": "code",
      "source": [
        "# Why is CatBoost efficient for categorical data?\n",
        "\n",
        "CatBoost is a powerful boosting algorithm designed to handle categorical features efficiently without requiring extensive preprocessing\n",
        "\n",
        "## Key Advantages for Categorical Data\n",
        "\n",
        "### 1 Automatic Encoding\n",
        "CatBoost automatically transforms categorical variables into numerical values using efficient encoding techniques eliminating the need for manual one-hot encoding or label encoding\n",
        "\n",
        "### 2 Ordered Target Statistics\n",
        "It applies a unique approach to encoding categorical features by considering historical data in an ordered manner reducing bias and improving generalization\n",
        "\n",
        "### 3 Handling High Cardinality\n",
        "CatBoost efficiently processes features with many unique categories without causing performance degradation unlike traditional methods that struggle with large categorical sets\n",
        "\n",
        "### 4 No Need for Preprocessing\n",
        "Unlike other boosting models CatBoost does not require users to convert categorical variables manually reducing preprocessing time and minimizing human errors\n",
        "\n",
        "### 5 Improved Accuracy\n",
        "By handling categorical features natively CatBoost preserves important information in the data leading to better predictions compared to standard boosting methods that use generic encoding\n",
        "\n",
        "### 6 Efficient GPU Support\n",
        "CatBoost supports parallel computation and GPU acceleration making training faster while managing categorical features optimally\n",
        "\n",
        "## Applications\n",
        "- Customer segmentation in marketing\n",
        "- Fraud detection in financial transactions\n",
        "- Recommendation systems in e-commerce\n",
        "- Risk assessment in insurance models"
      ],
      "metadata": {
        "id": "vswowy6bGD8P"
      },
      "execution_count": null,
      "outputs": []
    },
    {
      "cell_type": "code",
      "source": [],
      "metadata": {
        "id": "0kWyMFR0GOzt"
      },
      "execution_count": null,
      "outputs": []
    },
    {
      "cell_type": "code",
      "source": [],
      "metadata": {
        "id": "Mv6vcppvGOl7"
      },
      "execution_count": null,
      "outputs": []
    },
    {
      "cell_type": "code",
      "source": [],
      "metadata": {
        "id": "7LyPdAKCGOkQ"
      },
      "execution_count": null,
      "outputs": []
    },
    {
      "cell_type": "code",
      "source": [
        "## Pracrical Question ###"
      ],
      "metadata": {
        "id": "lG2Mx9fBGOiG"
      },
      "execution_count": null,
      "outputs": []
    },
    {
      "cell_type": "code",
      "source": [],
      "metadata": {
        "id": "mihnqWuiGSmD"
      },
      "execution_count": null,
      "outputs": []
    },
    {
      "cell_type": "code",
      "source": [],
      "metadata": {
        "id": "a8R933nDGSkQ"
      },
      "execution_count": null,
      "outputs": []
    },
    {
      "cell_type": "code",
      "source": [
        "# Train an AdaBoost Classifier on a sample dataset and print model accuracy?\n",
        "\n",
        "!pip install scikit-learn\n",
        "\n",
        "from sklearn.ensemble import AdaBoostClassifier\n",
        "from sklearn.datasets import make_classification\n",
        "from sklearn.model_selection import train_test_split\n",
        "from sklearn.metrics import accuracy_score\n",
        "\n",
        "X, y = make_classification(n_samples=1000, n_features=20, random_state=42)\n",
        "X_train, X_test, y_train, y_test = train_test_split(X, y, test_size=0.2, random_state=42)\n",
        "\n",
        "model = AdaBoostClassifier(n_estimators=50, random_state=42)\n",
        "model.fit(X_train, y_train)\n",
        "y_pred = model.predict(X_test)\n",
        "\n",
        "accuracy = accuracy_score(y_test, y_pred)\n",
        "print(f\"Model Accuracy: {accuracy:.2f}\")"
      ],
      "metadata": {
        "colab": {
          "base_uri": "https://localhost:8080/"
        },
        "id": "kZ-MTiqRGSiK",
        "outputId": "e36c6470-250b-4016-9625-c14aae53974a"
      },
      "execution_count": 1,
      "outputs": [
        {
          "output_type": "stream",
          "name": "stdout",
          "text": [
            "Requirement already satisfied: scikit-learn in /usr/local/lib/python3.11/dist-packages (1.6.1)\n",
            "Requirement already satisfied: numpy>=1.19.5 in /usr/local/lib/python3.11/dist-packages (from scikit-learn) (2.0.2)\n",
            "Requirement already satisfied: scipy>=1.6.0 in /usr/local/lib/python3.11/dist-packages (from scikit-learn) (1.15.3)\n",
            "Requirement already satisfied: joblib>=1.2.0 in /usr/local/lib/python3.11/dist-packages (from scikit-learn) (1.5.0)\n",
            "Requirement already satisfied: threadpoolctl>=3.1.0 in /usr/local/lib/python3.11/dist-packages (from scikit-learn) (3.6.0)\n",
            "Model Accuracy: 0.88\n"
          ]
        }
      ]
    },
    {
      "cell_type": "code",
      "source": [],
      "metadata": {
        "id": "kz8MH10IGm-1"
      },
      "execution_count": null,
      "outputs": []
    },
    {
      "cell_type": "code",
      "source": [],
      "metadata": {
        "id": "DfxMKqXsGmwZ"
      },
      "execution_count": null,
      "outputs": []
    },
    {
      "cell_type": "code",
      "source": [
        "# Train an AdaBoost Regressor and evaluate performance using Mean Absolute Error (MAE).\n",
        "\n",
        "from sklearn.ensemble import AdaBoostRegressor\n",
        "from sklearn.datasets import make_regression\n",
        "from sklearn.model_selection import train_test_split\n",
        "from sklearn.metrics import mean_absolute_error\n",
        "\n",
        "X, y = make_regression(n_samples=1000, n_features=20, noise=0.1, random_state=42)\n",
        "X_train, X_test, y_train, y_test = train_test_split(X, y, test_size=0.2, random_state=42)\n",
        "\n",
        "model = AdaBoostRegressor(n_estimators=50, random_state=42)\n",
        "model.fit(X_train, y_train)\n",
        "y_pred = model.predict(X_test)\n",
        "\n",
        "mae = mean_absolute_error(y_test, y_pred)\n",
        "print(f\"Mean Absolute Error: {mae:.2f}\")"
      ],
      "metadata": {
        "colab": {
          "base_uri": "https://localhost:8080/"
        },
        "id": "GitYBDCUGmtg",
        "outputId": "a823e8d9-8779-4362-b8a7-fe168e3209f8"
      },
      "execution_count": 6,
      "outputs": [
        {
          "output_type": "stream",
          "name": "stdout",
          "text": [
            "Mean Absolute Error: 78.62\n"
          ]
        }
      ]
    },
    {
      "cell_type": "code",
      "source": [],
      "metadata": {
        "id": "ENfJR4CcGwRI"
      },
      "execution_count": null,
      "outputs": []
    },
    {
      "cell_type": "code",
      "source": [],
      "metadata": {
        "id": "CVm4MzLiGwPW"
      },
      "execution_count": null,
      "outputs": []
    },
    {
      "cell_type": "code",
      "source": [
        "#  Train a Gradient Boosting Classifier on the Breast Cancer dataset and print feature importance.\n",
        "\n",
        "from sklearn.ensemble import GradientBoostingClassifier\n",
        "from sklearn.datasets import load_breast_cancer\n",
        "from sklearn.model_selection import train_test_split\n",
        "import numpy as np\n",
        "\n",
        "data = load_breast_cancer()\n",
        "X, y = data.data, data.target\n",
        "X_train, X_test, y_train, y_test = train_test_split(X, y, test_size=0.2, random_state=42)\n",
        "\n",
        "model = GradientBoostingClassifier(n_estimators=100, random_state=42)\n",
        "model.fit(X_train, y_train)\n",
        "\n",
        "feature_importance = model.feature_importances_\n",
        "sorted_indices = np.argsort(feature_importance)[::-1]\n",
        "\n",
        "print(\"Feature Importance:\")\n",
        "for idx in sorted_indices:\n",
        "    print(f\"{data.feature_names[idx]}: {feature_importance[idx]:.4f}\")"
      ],
      "metadata": {
        "colab": {
          "base_uri": "https://localhost:8080/"
        },
        "id": "cz36kcx4GwNE",
        "outputId": "f9fb4894-4030-435a-ceff-546764c98c6f"
      },
      "execution_count": 5,
      "outputs": [
        {
          "output_type": "stream",
          "name": "stdout",
          "text": [
            "Feature Importance:\n",
            "mean concave points: 0.4505\n",
            "worst concave points: 0.2401\n",
            "worst radius: 0.0756\n",
            "worst perimeter: 0.0514\n",
            "worst texture: 0.0399\n",
            "worst area: 0.0382\n",
            "mean texture: 0.0278\n",
            "worst concavity: 0.0187\n",
            "concavity error: 0.0131\n",
            "area error: 0.0084\n",
            "radius error: 0.0069\n",
            "worst smoothness: 0.0048\n",
            "fractal dimension error: 0.0042\n",
            "texture error: 0.0036\n",
            "mean compactness: 0.0030\n",
            "compactness error: 0.0025\n",
            "mean smoothness: 0.0025\n",
            "concave points error: 0.0020\n",
            "worst symmetry: 0.0015\n",
            "perimeter error: 0.0012\n",
            "mean concavity: 0.0009\n",
            "symmetry error: 0.0007\n",
            "smoothness error: 0.0006\n",
            "mean symmetry: 0.0005\n",
            "worst compactness: 0.0005\n",
            "mean area: 0.0004\n",
            "mean perimeter: 0.0002\n",
            "worst fractal dimension: 0.0002\n",
            "mean fractal dimension: 0.0001\n",
            "mean radius: 0.0000\n"
          ]
        }
      ]
    },
    {
      "cell_type": "code",
      "source": [],
      "metadata": {
        "id": "CaWH4NfbG3fn"
      },
      "execution_count": null,
      "outputs": []
    },
    {
      "cell_type": "code",
      "source": [],
      "metadata": {
        "id": "ZTvePmpaG3dw"
      },
      "execution_count": null,
      "outputs": []
    },
    {
      "cell_type": "code",
      "source": [
        "# Train an XGBoost Classifier on a dataset and compare accuracy with Gradient Boosting.\n",
        "\n",
        "from xgboost import XGBClassifier\n",
        "from sklearn.ensemble import GradientBoostingClassifier\n",
        "from sklearn.datasets import make_classification\n",
        "from sklearn.model_selection import train_test_split\n",
        "from sklearn.metrics import accuracy_score\n",
        "\n",
        "X, y = make_classification(n_samples=1000, n_features=20, random_state=42)\n",
        "X_train, X_test, y_train, y_test = train_test_split(X, y, test_size=0.2, random_state=42)\n",
        "\n",
        "xgb_model = XGBClassifier(n_estimators=100, random_state=42)\n",
        "xgb_model.fit(X_train, y_train)\n",
        "xgb_pred = xgb_model.predict(X_test)\n",
        "xgb_accuracy = accuracy_score(y_test, xgb_pred)\n",
        "\n",
        "gb_model = GradientBoostingClassifier(n_estimators=100, random_state=42)\n",
        "gb_model.fit(X_train, y_train)\n",
        "gb_pred = gb_model.predict(X_test)\n",
        "gb_accuracy = accuracy_score(y_test, gb_pred)\n",
        "\n",
        "print(f\"XGBoost Accuracy: {xgb_accuracy:.2f}\")\n",
        "print(f\"Gradient Boosting Accuracy: {gb_accuracy:.2f}\")"
      ],
      "metadata": {
        "colab": {
          "base_uri": "https://localhost:8080/"
        },
        "id": "PM2KEjgzG3bm",
        "outputId": "82f952c9-54ff-46af-e7aa-09fd9d452817"
      },
      "execution_count": 4,
      "outputs": [
        {
          "output_type": "stream",
          "name": "stdout",
          "text": [
            "XGBoost Accuracy: 0.90\n",
            "Gradient Boosting Accuracy: 0.91\n"
          ]
        }
      ]
    },
    {
      "cell_type": "code",
      "source": [],
      "metadata": {
        "id": "iDts55Y2HIRf"
      },
      "execution_count": null,
      "outputs": []
    },
    {
      "cell_type": "code",
      "source": [],
      "metadata": {
        "id": "Dzd_KKQMHIP9"
      },
      "execution_count": null,
      "outputs": []
    },
    {
      "cell_type": "code",
      "source": [
        "# Train a CatBoost Classifier and evaluate using F1-Score.\n",
        "\n",
        "!pip install catboost\n",
        "\n",
        "from catboost import CatBoostClassifier\n",
        "from sklearn.datasets import make_classification\n",
        "from sklearn.model_selection import train_test_split\n",
        "from sklearn.metrics import f1_score\n",
        "\n",
        "X, y = make_classification(n_samples=1000, n_features=20, random_state=42)\n",
        "X_train, X_test, y_train, y_test = train_test_split(X, y, test_size=0.2, random_state=42)\n",
        "\n",
        "model = CatBoostClassifier(iterations=100, verbose=False, random_state=42)\n",
        "model.fit(X_train, y_train)\n",
        "y_pred = model.predict(X_test)\n",
        "\n",
        "f1 = f1_score(y_test, y_pred)\n",
        "print(f\"F1-Score: {f1:.2f}\")"
      ],
      "metadata": {
        "colab": {
          "base_uri": "https://localhost:8080/"
        },
        "id": "UDfH0U1pHINk",
        "outputId": "aa4dbb26-a92e-40ea-ca8f-23a1255e3d80"
      },
      "execution_count": 9,
      "outputs": [
        {
          "output_type": "stream",
          "name": "stdout",
          "text": [
            "Requirement already satisfied: catboost in /usr/local/lib/python3.11/dist-packages (1.2.8)\n",
            "Requirement already satisfied: graphviz in /usr/local/lib/python3.11/dist-packages (from catboost) (0.20.3)\n",
            "Requirement already satisfied: matplotlib in /usr/local/lib/python3.11/dist-packages (from catboost) (3.10.0)\n",
            "Requirement already satisfied: numpy<3.0,>=1.16.0 in /usr/local/lib/python3.11/dist-packages (from catboost) (2.0.2)\n",
            "Requirement already satisfied: pandas>=0.24 in /usr/local/lib/python3.11/dist-packages (from catboost) (2.2.2)\n",
            "Requirement already satisfied: scipy in /usr/local/lib/python3.11/dist-packages (from catboost) (1.15.3)\n",
            "Requirement already satisfied: plotly in /usr/local/lib/python3.11/dist-packages (from catboost) (5.24.1)\n",
            "Requirement already satisfied: six in /usr/local/lib/python3.11/dist-packages (from catboost) (1.17.0)\n",
            "Requirement already satisfied: python-dateutil>=2.8.2 in /usr/local/lib/python3.11/dist-packages (from pandas>=0.24->catboost) (2.9.0.post0)\n",
            "Requirement already satisfied: pytz>=2020.1 in /usr/local/lib/python3.11/dist-packages (from pandas>=0.24->catboost) (2025.2)\n",
            "Requirement already satisfied: tzdata>=2022.7 in /usr/local/lib/python3.11/dist-packages (from pandas>=0.24->catboost) (2025.2)\n",
            "Requirement already satisfied: contourpy>=1.0.1 in /usr/local/lib/python3.11/dist-packages (from matplotlib->catboost) (1.3.2)\n",
            "Requirement already satisfied: cycler>=0.10 in /usr/local/lib/python3.11/dist-packages (from matplotlib->catboost) (0.12.1)\n",
            "Requirement already satisfied: fonttools>=4.22.0 in /usr/local/lib/python3.11/dist-packages (from matplotlib->catboost) (4.58.0)\n",
            "Requirement already satisfied: kiwisolver>=1.3.1 in /usr/local/lib/python3.11/dist-packages (from matplotlib->catboost) (1.4.8)\n",
            "Requirement already satisfied: packaging>=20.0 in /usr/local/lib/python3.11/dist-packages (from matplotlib->catboost) (24.2)\n",
            "Requirement already satisfied: pillow>=8 in /usr/local/lib/python3.11/dist-packages (from matplotlib->catboost) (11.2.1)\n",
            "Requirement already satisfied: pyparsing>=2.3.1 in /usr/local/lib/python3.11/dist-packages (from matplotlib->catboost) (3.2.3)\n",
            "Requirement already satisfied: tenacity>=6.2.0 in /usr/local/lib/python3.11/dist-packages (from plotly->catboost) (9.1.2)\n",
            "F1-Score: 0.89\n"
          ]
        }
      ]
    },
    {
      "cell_type": "code",
      "source": [],
      "metadata": {
        "id": "1N-j8IgdHcQe"
      },
      "execution_count": null,
      "outputs": []
    },
    {
      "cell_type": "code",
      "source": [],
      "metadata": {
        "id": "UGlUX5fDHcOp"
      },
      "execution_count": null,
      "outputs": []
    },
    {
      "cell_type": "code",
      "source": [
        "#  Train an AdaBoost Classifier and visualize feature importance.\n",
        "\n",
        "from sklearn.ensemble import AdaBoostClassifier\n",
        "from sklearn.datasets import make_classification\n",
        "from sklearn.model_selection import train_test_split\n",
        "import matplotlib.pyplot as plt\n",
        "import numpy as np\n",
        "\n",
        "X, y = make_classification(n_samples=1000, n_features=20, random_state=42)\n",
        "X_train, X_test, y_train, y_test = train_test_split(X, y, test_size=0.2, random_state=42)\n",
        "\n",
        "model = AdaBoostClassifier(n_estimators=50, random_state=42)\n",
        "model.fit(X_train, y_train)\n",
        "\n",
        "feature_importance = model.feature_importances_\n",
        "sorted_indices = np.argsort(feature_importance)[::-1]\n",
        "\n",
        "plt.figure(figsize=(10, 6))\n",
        "plt.bar(range(len(feature_importance)), feature_importance[sorted_indices], align=\"center\")\n",
        "plt.xticks(range(len(feature_importance)), sorted_indices)\n",
        "plt.xlabel(\"Feature Index\")\n",
        "plt.ylabel(\"Importance Score\")\n",
        "plt.title(\"Feature Importance in AdaBoost Classifier\")\n",
        "plt.show()"
      ],
      "metadata": {
        "colab": {
          "base_uri": "https://localhost:8080/",
          "height": 564
        },
        "id": "KAAljkh3HcMV",
        "outputId": "ee3ecc85-ceec-4e16-8dbf-b89c2570ff27"
      },
      "execution_count": 11,
      "outputs": [
        {
          "output_type": "display_data",
          "data": {
            "text/plain": [
              "<Figure size 1000x600 with 1 Axes>"
            ],
            "image/png": "[encoded data removed]"
          },
          "metadata": {}
        }
      ]
    },
    {
      "cell_type": "code",
      "source": [],
      "metadata": {
        "id": "xdpmTyiqHof2"
      },
      "execution_count": null,
      "outputs": []
    },
    {
      "cell_type": "code",
      "source": [],
      "metadata": {
        "id": "f1KxvAX2Hod-"
      },
      "execution_count": null,
      "outputs": []
    },
    {
      "cell_type": "code",
      "source": [
        "#  Train an XGBoost Classifier and visualize feature importance.\n",
        "\n",
        "from xgboost import XGBClassifier\n",
        "from sklearn.datasets import make_classification\n",
        "from sklearn.model_selection import train_test_split\n",
        "import matplotlib.pyplot as plt\n",
        "import numpy as np\n",
        "\n",
        "X, y = make_classification(n_samples=1000, n_features=20, random_state=42)\n",
        "X_train, X_test, y_train, y_test = train_test_split(X, y, test_size=0.2, random_state=42)\n",
        "\n",
        "model = XGBClassifier(n_estimators=100, random_state=42)\n",
        "model.fit(X_train, y_train)\n",
        "\n",
        "feature_importance = model.feature_importances_\n",
        "sorted_indices = np.argsort(feature_importance)[::-1]\n",
        "\n",
        "plt.figure(figsize=(10, 6))\n",
        "plt.bar(range(len(feature_importance)), feature_importance[sorted_indices], align=\"center\")\n",
        "plt.xticks(range(len(feature_importance)), sorted_indices)\n",
        "plt.xlabel(\"Feature Index\")\n",
        "plt.ylabel(\"Importance Score\")\n",
        "plt.title(\"Feature Importance in XGBoost Classifier\")\n",
        "plt.show()"
      ],
      "metadata": {
        "colab": {
          "base_uri": "https://localhost:8080/",
          "height": 564
        },
        "id": "SqyqDLJmHobv",
        "outputId": "183c4098-9bbc-40fb-91c2-1916bc1a3fa4"
      },
      "execution_count": 12,
      "outputs": [
        {
          "output_type": "display_data",
          "data": {
            "text/plain": [
              "<Figure size 1000x600 with 1 Axes>"
            ],
            "image/png": "[encoded data removed]"
          },
          "metadata": {}
        }
      ]
    },
    {
      "cell_type": "code",
      "source": [],
      "metadata": {
        "id": "T3UA5vEnHxLJ"
      },
      "execution_count": null,
      "outputs": []
    },
    {
      "cell_type": "code",
      "source": [],
      "metadata": {
        "id": "3HHEkMNSHxJv"
      },
      "execution_count": null,
      "outputs": []
    },
    {
      "cell_type": "code",
      "source": [],
      "metadata": {
        "id": "l0dGH2XpHxHo"
      },
      "execution_count": null,
      "outputs": []
    },
    {
      "cell_type": "code",
      "source": [
        " #  Train an AdaBoost Classifier with different numbers of estimators and compare accuracy.\n",
        "\n",
        "from sklearn.ensemble import AdaBoostClassifier\n",
        "from sklearn.datasets import make_classification\n",
        "from sklearn.model_selection import train_test_split\n",
        "from sklearn.metrics import accuracy_score\n",
        "\n",
        "X, y = make_classification(n_samples=1000, n_features=20, random_state=42)\n",
        "X_train, X_test, y_train, y_test = train_test_split(X, y, test_size=0.2, random_state=42)\n",
        "\n",
        "estimators = [10, 50, 100, 200]\n",
        "accuracies = {}\n",
        "\n",
        "for n in estimators:\n",
        "    model = AdaBoostClassifier(n_estimators=n, random_state=42)\n",
        "    model.fit(X_train, y_train)\n",
        "    y_pred = model.predict(X_test)\n",
        "    accuracies[n] = accuracy_score(y_test, y_pred)\n",
        "\n",
        "for n, acc in accuracies.items():\n",
        "    print(f\"Estimators: {n}, Accuracy: {acc:.2f}\")"
      ],
      "metadata": {
        "colab": {
          "base_uri": "https://localhost:8080/"
        },
        "id": "1Y4BS1EuHxFb",
        "outputId": "8e728f75-768d-43e7-b8e9-2f2e2a9cac19"
      },
      "execution_count": 13,
      "outputs": [
        {
          "output_type": "stream",
          "name": "stdout",
          "text": [
            "Estimators: 10, Accuracy: 0.86\n",
            "Estimators: 50, Accuracy: 0.88\n",
            "Estimators: 100, Accuracy: 0.86\n",
            "Estimators: 200, Accuracy: 0.86\n"
          ]
        }
      ]
    },
    {
      "cell_type": "code",
      "source": [],
      "metadata": {
        "id": "iWQubsdfH5-Q"
      },
      "execution_count": null,
      "outputs": []
    },
    {
      "cell_type": "code",
      "source": [],
      "metadata": {
        "id": "k52a3Ya0H58C"
      },
      "execution_count": null,
      "outputs": []
    },
    {
      "cell_type": "code",
      "source": [
        "#  Train an XGBoost Regressor and tune the learning rate using GridSearchCV\n",
        "\n",
        "from xgboost import XGBRegressor\n",
        "from sklearn.datasets import make_regression\n",
        "from sklearn.model_selection import train_test_split, GridSearchCV\n",
        "from sklearn.metrics import mean_absolute_error\n",
        "\n",
        "X, y = make_regression(n_samples=1000, n_features=20, noise=0.1, random_state=42)\n",
        "X_train, X_test, y_train, y_test = train_test_split(X, y, test_size=0.2, random_state=42)\n",
        "\n",
        "param_grid = {'learning_rate': [0.01, 0.05, 0.1, 0.2, 0.3]}\n",
        "\n",
        "model = XGBRegressor(n_estimators=100, random_state=42)\n",
        "grid_search = GridSearchCV(model, param_grid, scoring='neg_mean_absolute_error', cv=5)\n",
        "grid_search.fit(X_train, y_train)\n",
        "\n",
        "best_model = grid_search.best_estimator_\n",
        "y_pred = best_model.predict(X_test)\n",
        "\n",
        "mae = mean_absolute_error(y_test, y_pred)\n",
        "print(f\"Best Learning Rate: {grid_search.best_params_['learning_rate']}\")\n",
        "print(f\"Mean Absolute Error: {mae:.2f}\")"
      ],
      "metadata": {
        "colab": {
          "base_uri": "https://localhost:8080/"
        },
        "id": "wDLxqCMXH55j",
        "outputId": "3dad920f-1239-4338-ca43-d12bc5c44a33"
      },
      "execution_count": 14,
      "outputs": [
        {
          "output_type": "stream",
          "name": "stdout",
          "text": [
            "Best Learning Rate: 0.1\n",
            "Mean Absolute Error: 54.84\n"
          ]
        }
      ]
    },
    {
      "cell_type": "code",
      "source": [],
      "metadata": {
        "id": "_4aUS036IBPO"
      },
      "execution_count": null,
      "outputs": []
    },
    {
      "cell_type": "code",
      "source": [],
      "metadata": {
        "id": "VQ1Hb9TfIBNC"
      },
      "execution_count": null,
      "outputs": []
    },
    {
      "cell_type": "code",
      "source": [
        "#  Train an AdaBoost Classifier and analyze the effect of different learning rates.\n",
        "\n",
        "from sklearn.ensemble import AdaBoostClassifier\n",
        "from sklearn.datasets import make_classification\n",
        "from sklearn.model_selection import train_test_split\n",
        "from sklearn.metrics import accuracy_score\n",
        "\n",
        "X, y = make_classification(n_samples=1000, n_features=20, random_state=42)\n",
        "X_train, X_test, y_train, y_test = train_test_split(X, y, test_size=0.2, random_state=42)\n",
        "\n",
        "learning_rates = [0.01, 0.1, 0.5, 1.0]\n",
        "accuracies = {}\n",
        "\n",
        "for lr in learning_rates:\n",
        "    model = AdaBoostClassifier(n_estimators=50, learning_rate=lr, random_state=42)\n",
        "    model.fit(X_train, y_train)\n",
        "    y_pred = model.predict(X_test)\n",
        "    accuracies[lr] = accuracy_score(y_test, y_pred)\n",
        "\n",
        "for lr, acc in accuracies.items():\n",
        "    print(f\"Learning Rate: {lr}, Accuracy: {acc:.2f}\")"
      ],
      "metadata": {
        "colab": {
          "base_uri": "https://localhost:8080/"
        },
        "id": "SfusjzqTIBK4",
        "outputId": "8ada1508-f51b-4c13-f690-2eb9e23e05ee"
      },
      "execution_count": 15,
      "outputs": [
        {
          "output_type": "stream",
          "name": "stdout",
          "text": [
            "Learning Rate: 0.01, Accuracy: 0.86\n",
            "Learning Rate: 0.1, Accuracy: 0.86\n",
            "Learning Rate: 0.5, Accuracy: 0.86\n",
            "Learning Rate: 1.0, Accuracy: 0.88\n"
          ]
        }
      ]
    },
    {
      "cell_type": "code",
      "source": [],
      "metadata": {
        "id": "MSwyNctvIPbB"
      },
      "execution_count": null,
      "outputs": []
    },
    {
      "cell_type": "code",
      "source": [],
      "metadata": {
        "id": "JgwD2EPsIPY6"
      },
      "execution_count": null,
      "outputs": []
    },
    {
      "cell_type": "code",
      "source": [
        "# Train an XGBoost Classifier for multi-class classification and evaluate using log-loss\n",
        "\n",
        "from xgboost import XGBClassifier\n",
        "from sklearn.datasets import make_classification\n",
        "from sklearn.model_selection import train_test_split\n",
        "from sklearn.metrics import log_loss\n",
        "\n",
        "X, y = make_classification(n_samples=1000, n_features=20, n_classes=3, n_informative=10, random_state=42)\n",
        "X_train, X_test, y_train, y_test = train_test_split(X, y, test_size=0.2, random_state=42)\n",
        "\n",
        "model = XGBClassifier(n_estimators=100, random_state=42)\n",
        "model.fit(X_train, y_train)\n",
        "\n",
        "y_pred_proba = model.predict_proba(X_test)\n",
        "\n",
        "log_loss_value = log_loss(y_test, y_pred_proba)\n",
        "print(f\"Log Loss: {log_loss_value:.4f}\")"
      ],
      "metadata": {
        "colab": {
          "base_uri": "https://localhost:8080/"
        },
        "id": "44T1PivHIPWs",
        "outputId": "5b904abf-4c5b-4815-c88a-f6219fd83e6f"
      },
      "execution_count": 16,
      "outputs": [
        {
          "output_type": "stream",
          "name": "stdout",
          "text": [
            "Log Loss: 0.4031\n"
          ]
        }
      ]
    },
    {
      "cell_type": "code",
      "source": [],
      "metadata": {
        "id": "or67Xrs1IYBD"
      },
      "execution_count": null,
      "outputs": []
    },
    {
      "cell_type": "code",
      "source": [],
      "metadata": {
        "id": "FQmPHc4QIX_K"
      },
      "execution_count": null,
      "outputs": []
    },
    {
      "cell_type": "code",
      "source": [],
      "metadata": {
        "id": "yM96nZ0fIX87"
      },
      "execution_count": null,
      "outputs": []
    }
  ]
}